{
  "cells": [
    {
      "cell_type": "markdown",
      "metadata": {
        "id": "view-in-github",
        "colab_type": "text"
      },
      "source": [
        "<a href=\"https://colab.research.google.com/github/sipocz/Zindi_plastic/blob/main/Zindi_Plastic_Cover.ipynb\" target=\"_parent\"><img src=\"https://colab.research.google.com/assets/colab-badge.svg\" alt=\"Open In Colab\"/></a>"
      ]
    },
    {
      "cell_type": "code",
      "execution_count": null,
      "metadata": {
        "id": "RvYh5dZOLEeQ"
      },
      "outputs": [],
      "source": [
        "import ee\n",
        "import geemap\n",
        "import PIL\n",
        "import pandas\n",
        "from google.colab import drive"
      ]
    },
    {
      "cell_type": "code",
      "execution_count": null,
      "metadata": {
        "colab": {
          "base_uri": "https://localhost:8080/",
          "height": 17
        },
        "id": "4jD3OtPx1S2G",
        "outputId": "579c3650-feb9-4fbe-d585-a67ca522f894"
      },
      "outputs": [
        {
          "data": {
            "text/html": [
              "\n",
              "            <style>\n",
              "                .geemap-dark {\n",
              "                    --jp-widgets-color: white;\n",
              "                    --jp-widgets-label-color: white;\n",
              "                    --jp-ui-font-color1: white;\n",
              "                    --jp-layout-color2: #454545;\n",
              "                    background-color: #383838;\n",
              "                }\n",
              "\n",
              "                .geemap-dark .jupyter-button {\n",
              "                    --jp-layout-color3: #383838;\n",
              "                }\n",
              "\n",
              "                .geemap-colab {\n",
              "                    background-color: var(--colab-primary-surface-color, white);\n",
              "                }\n",
              "\n",
              "                .geemap-colab .jupyter-button {\n",
              "                    --jp-layout-color3: var(--colab-primary-surface-color, white);\n",
              "                }\n",
              "            </style>\n",
              "            "
            ],
            "text/plain": [
              "<IPython.core.display.HTML object>"
            ]
          },
          "metadata": {},
          "output_type": "display_data"
        }
      ],
      "source": [
        "_DEBUG_=False\n",
        "_PROJECT_BASE_='/content/drive/MyDrive/Zindi_Plastic_images/'\n",
        "_IMAGES_='images'\n",
        "_TEST_IMAGES_='test_images'\n",
        "\n",
        "_ORIG_='orig'\n"
      ]
    },
    {
      "cell_type": "code",
      "execution_count": null,
      "metadata": {
        "colab": {
          "base_uri": "https://localhost:8080/",
          "height": 54
        },
        "id": "Cu87LL_rqqZv",
        "outputId": "fdbf0f0e-f508-4daf-9fa2-aa9b64f7c193"
      },
      "outputs": [
        {
          "data": {
            "text/html": [
              "\n",
              "            <style>\n",
              "                .geemap-dark {\n",
              "                    --jp-widgets-color: white;\n",
              "                    --jp-widgets-label-color: white;\n",
              "                    --jp-ui-font-color1: white;\n",
              "                    --jp-layout-color2: #454545;\n",
              "                    background-color: #383838;\n",
              "                }\n",
              "\n",
              "                .geemap-dark .jupyter-button {\n",
              "                    --jp-layout-color3: #383838;\n",
              "                }\n",
              "\n",
              "                .geemap-colab {\n",
              "                    background-color: var(--colab-primary-surface-color, white);\n",
              "                }\n",
              "\n",
              "                .geemap-colab .jupyter-button {\n",
              "                    --jp-layout-color3: var(--colab-primary-surface-color, white);\n",
              "                }\n",
              "            </style>\n",
              "            "
            ],
            "text/plain": [
              "<IPython.core.display.HTML object>"
            ]
          },
          "metadata": {},
          "output_type": "display_data"
        },
        {
          "name": "stdout",
          "output_type": "stream",
          "text": [
            "Drive already mounted at /content/drive; to attempt to forcibly remount, call drive.mount(\"/content/drive\", force_remount=True).\n"
          ]
        }
      ],
      "source": [
        "ee.Authenticate()\n",
        "ee.Initialize(project='zindiplasticproject')\n",
        "drive.mount('/content/drive')"
      ]
    },
    {
      "cell_type": "code",
      "execution_count": null,
      "metadata": {
        "colab": {
          "base_uri": "https://localhost:8080/",
          "height": 17
        },
        "id": "byHkxVztmmtG",
        "outputId": "b8b1024b-77f6-42ae-da0e-f50dccf01f58"
      },
      "outputs": [
        {
          "data": {
            "text/html": [
              "\n",
              "            <style>\n",
              "                .geemap-dark {\n",
              "                    --jp-widgets-color: white;\n",
              "                    --jp-widgets-label-color: white;\n",
              "                    --jp-ui-font-color1: white;\n",
              "                    --jp-layout-color2: #454545;\n",
              "                    background-color: #383838;\n",
              "                }\n",
              "\n",
              "                .geemap-dark .jupyter-button {\n",
              "                    --jp-layout-color3: #383838;\n",
              "                }\n",
              "\n",
              "                .geemap-colab {\n",
              "                    background-color: var(--colab-primary-surface-color, white);\n",
              "                }\n",
              "\n",
              "                .geemap-colab .jupyter-button {\n",
              "                    --jp-layout-color3: var(--colab-primary-surface-color, white);\n",
              "                }\n",
              "            </style>\n",
              "            "
            ],
            "text/plain": [
              "<IPython.core.display.HTML object>"
            ]
          },
          "metadata": {},
          "output_type": "display_data"
        }
      ],
      "source": [
        "def add_time(image):\n",
        "  return image.addBands(image.getNumber('system:time_start'))"
      ]
    },
    {
      "cell_type": "code",
      "execution_count": null,
      "metadata": {
        "colab": {
          "base_uri": "https://localhost:8080/",
          "height": 17
        },
        "id": "si4K6NmZpOSr",
        "outputId": "d6dd98cc-6f17-460d-8543-97d38eafb63a"
      },
      "outputs": [
        {
          "data": {
            "text/html": [
              "\n",
              "            <style>\n",
              "                .geemap-dark {\n",
              "                    --jp-widgets-color: white;\n",
              "                    --jp-widgets-label-color: white;\n",
              "                    --jp-ui-font-color1: white;\n",
              "                    --jp-layout-color2: #454545;\n",
              "                    background-color: #383838;\n",
              "                }\n",
              "\n",
              "                .geemap-dark .jupyter-button {\n",
              "                    --jp-layout-color3: #383838;\n",
              "                }\n",
              "\n",
              "                .geemap-colab {\n",
              "                    background-color: var(--colab-primary-surface-color, white);\n",
              "                }\n",
              "\n",
              "                .geemap-colab .jupyter-button {\n",
              "                    --jp-layout-color3: var(--colab-primary-surface-color, white);\n",
              "                }\n",
              "            </style>\n",
              "            "
            ],
            "text/plain": [
              "<IPython.core.display.HTML object>"
            ]
          },
          "metadata": {},
          "output_type": "display_data"
        }
      ],
      "source": [
        "def conditional(image):\n",
        "  return ee.Algorithms.If(\n",
        "      ee.Number(image.get('SUN_ELEVATION')).gt(40), image, ee.Image(0)\n",
        "  )\n"
      ]
    },
    {
      "cell_type": "markdown",
      "metadata": {
        "id": "O4Q69aPvpvrd"
      },
      "source": []
    },
    {
      "cell_type": "code",
      "execution_count": null,
      "metadata": {
        "colab": {
          "base_uri": "https://localhost:8080/",
          "height": 17
        },
        "id": "jTM22ri_ctu6",
        "outputId": "6195a787-4ef1-4409-dd44-4c12bc065afc"
      },
      "outputs": [
        {
          "data": {
            "text/html": [
              "\n",
              "            <style>\n",
              "                .geemap-dark {\n",
              "                    --jp-widgets-color: white;\n",
              "                    --jp-widgets-label-color: white;\n",
              "                    --jp-ui-font-color1: white;\n",
              "                    --jp-layout-color2: #454545;\n",
              "                    background-color: #383838;\n",
              "                }\n",
              "\n",
              "                .geemap-dark .jupyter-button {\n",
              "                    --jp-layout-color3: #383838;\n",
              "                }\n",
              "\n",
              "                .geemap-colab {\n",
              "                    background-color: var(--colab-primary-surface-color, white);\n",
              "                }\n",
              "\n",
              "                .geemap-colab .jupyter-button {\n",
              "                    --jp-layout-color3: var(--colab-primary-surface-color, white);\n",
              "                }\n",
              "            </style>\n",
              "            "
            ],
            "text/plain": [
              "<IPython.core.display.HTML object>"
            ]
          },
          "metadata": {},
          "output_type": "display_data"
        }
      ],
      "source": [
        "def gamma_correct(gamma, path):\n",
        "    \"\"\"\n",
        "\n",
        "    Args:\n",
        "      gamma: selected gamma value\n",
        "      path: the path of the image\n",
        "\n",
        "    Returns: gamma corrected image\n",
        "\n",
        "    \"\"\"\n",
        "    im = PIL.Image.open(path)\n",
        "    gamma1 = gamma\n",
        "    row = im.size[0]\n",
        "    col = im.size[1]\n",
        "    result_img1 = PIL.Image.new(mode=\"RGB\", size=(row, col), color=0)\n",
        "    for x in range(row):\n",
        "        for y in range(col):\n",
        "            r = pow(im.getpixel((x, y))[0] / 255, (1 / gamma1)) * 255\n",
        "            g = pow(im.getpixel((x, y))[1] / 255, (1 / gamma1)) * 255\n",
        "            b = pow(im.getpixel((x, y))[2] / 255, (1 / gamma1)) * 255\n",
        "            # add\n",
        "            color = (int(r), int(g), int(b))\n",
        "            result_img1.putpixel((x, y), color)\n",
        "    #show\n",
        "    return result_img1"
      ]
    },
    {
      "cell_type": "code",
      "execution_count": null,
      "metadata": {
        "colab": {
          "base_uri": "https://localhost:8080/",
          "height": 17
        },
        "id": "8F2tFq3IevNF",
        "outputId": "7f54e278-bcb0-479b-f0bd-93e4985d1392"
      },
      "outputs": [
        {
          "data": {
            "text/html": [
              "\n",
              "            <style>\n",
              "                .geemap-dark {\n",
              "                    --jp-widgets-color: white;\n",
              "                    --jp-widgets-label-color: white;\n",
              "                    --jp-ui-font-color1: white;\n",
              "                    --jp-layout-color2: #454545;\n",
              "                    background-color: #383838;\n",
              "                }\n",
              "\n",
              "                .geemap-dark .jupyter-button {\n",
              "                    --jp-layout-color3: #383838;\n",
              "                }\n",
              "\n",
              "                .geemap-colab {\n",
              "                    background-color: var(--colab-primary-surface-color, white);\n",
              "                }\n",
              "\n",
              "                .geemap-colab .jupyter-button {\n",
              "                    --jp-layout-color3: var(--colab-primary-surface-color, white);\n",
              "                }\n",
              "            </style>\n",
              "            "
            ],
            "text/plain": [
              "<IPython.core.display.HTML object>"
            ]
          },
          "metadata": {},
          "output_type": "display_data"
        }
      ],
      "source": [
        "def image_download(index=int,longitude=float,latitude=float,place=str,sat=None,band=None,sdate=\"2024-04-15\",edate=\"2024-04-17\"):\n",
        "    from math import gamma\n",
        "    import geemap\n",
        "    import ee\n",
        "\n",
        "    # Google Earth Engine inicializálása\n",
        "    ee.Initialize()\n",
        "\n",
        "    if sat==None:\n",
        "        sat='COPERNICUS/S2_HARMONIZED'\n",
        "    if band==None:\n",
        "        band=['B11','B12','B8']\n",
        "\n",
        "    # 1000 méteres körzet létrehozása Budapest középpontjában\n",
        "    point = ee.Geometry.Point([longitude, latitude])\n",
        "    buffer = point.buffer(10).bounds()  # 1000 méteres buffer\n",
        "\n",
        "    # Sentinel-2 műholdkép lekérése nappali időszakban\n",
        "    collection = ee.ImageCollection(sat) \\\n",
        "        .filterBounds(buffer) \\\n",
        "        .filterDate(sdate, edate) \\\n",
        "        .sort('CLOUDY_PIXEL_PERCENTAGE')  # Legkevésbé felhős kép kiválasztása\n",
        "    first_image = collection.first()  # Az első legkevésbé felhős kép\n",
        "\n",
        "    # Ellenőrizd, hogy az első kép érvényes\n",
        "    if first_image is None:\n",
        "        raise ValueError(\"Nem találtunk érvényes képet a megadott időszakban.\")\n",
        "\n",
        "    # Kép RGB sávok kiválasztása\n",
        "    image = first_image.select(band)  # Red, Green, Blue\n",
        "    import matplotlib.pyplot as plt\n",
        "\n",
        "    aoi=ee.Geometry.Rectangle(longitude-0.005,latitude-0.005,longitude+0.005,latitude+0.005 )\n",
        "\n",
        "\n",
        "    rgb_img = geemap.ee_to_numpy(image,region=aoi)\n",
        "    if _DEBUG_==True:\n",
        "        print(rgb_img.shape)\n",
        "\n",
        "    rgb_img_test = (255 * ((rgb_img[:, :, 0:3] ) / rgb_img[:,:,:].max())).astype(\"uint8\")\n",
        "    img=PIL.Image.fromarray(rgb_img_test)\n",
        "\n",
        "    img=img.resize((192,192))\n",
        "    return img\n"
      ]
    },
    {
      "cell_type": "code",
      "execution_count": null,
      "metadata": {
        "colab": {
          "base_uri": "https://localhost:8080/",
          "height": 17
        },
        "id": "0FzftTv-gvec",
        "outputId": "8f7d2e80-52bf-4f5c-ce2f-0f242cec8b51"
      },
      "outputs": [
        {
          "data": {
            "text/html": [
              "\n",
              "            <style>\n",
              "                .geemap-dark {\n",
              "                    --jp-widgets-color: white;\n",
              "                    --jp-widgets-label-color: white;\n",
              "                    --jp-ui-font-color1: white;\n",
              "                    --jp-layout-color2: #454545;\n",
              "                    background-color: #383838;\n",
              "                }\n",
              "\n",
              "                .geemap-dark .jupyter-button {\n",
              "                    --jp-layout-color3: #383838;\n",
              "                }\n",
              "\n",
              "                .geemap-colab {\n",
              "                    background-color: var(--colab-primary-surface-color, white);\n",
              "                }\n",
              "\n",
              "                .geemap-colab .jupyter-button {\n",
              "                    --jp-layout-color3: var(--colab-primary-surface-color, white);\n",
              "                }\n",
              "            </style>\n",
              "            "
            ],
            "text/plain": [
              "<IPython.core.display.HTML object>"
            ]
          },
          "metadata": {},
          "output_type": "display_data"
        }
      ],
      "source": [
        "pil_image=image_download(20,37.05635887,0.053674338,\"Kenya\",sat=\"COPERNICUS/S2_HARMONIZED\",band=['B11','B12','B8'],sdate=\"2024-04-14\",edate=\"2024-05-04\")"
      ]
    },
    {
      "cell_type": "code",
      "execution_count": null,
      "metadata": {
        "colab": {
          "base_uri": "https://localhost:8080/",
          "height": 209
        },
        "id": "P3DCtIJQz21B",
        "outputId": "2fd70f7c-cfc6-401a-bf04-9ade11fa6b9c"
      },
      "outputs": [
        {
          "data": {
            "text/html": [
              "\n",
              "            <style>\n",
              "                .geemap-dark {\n",
              "                    --jp-widgets-color: white;\n",
              "                    --jp-widgets-label-color: white;\n",
              "                    --jp-ui-font-color1: white;\n",
              "                    --jp-layout-color2: #454545;\n",
              "                    background-color: #383838;\n",
              "                }\n",
              "\n",
              "                .geemap-dark .jupyter-button {\n",
              "                    --jp-layout-color3: #383838;\n",
              "                }\n",
              "\n",
              "                .geemap-colab {\n",
              "                    background-color: var(--colab-primary-surface-color, white);\n",
              "                }\n",
              "\n",
              "                .geemap-colab .jupyter-button {\n",
              "                    --jp-layout-color3: var(--colab-primary-surface-color, white);\n",
              "                }\n",
              "            </style>\n",
              "            "
            ],
            "text/plain": [
              "<IPython.core.display.HTML object>"
            ]
          },
          "metadata": {},
          "output_type": "display_data"
        },
        {
          "data": {
            "image/jpeg": "[encoded data removed]",
            "image/png": "[encoded data removed]",
            "text/plain": [
              "<PIL.Image.Image image mode=RGB size=192x192>"
            ]
          },
          "execution_count": 41,
          "metadata": {},
          "output_type": "execute_result"
        }
      ],
      "source": [
        "pil_image"
      ]
    },
    {
      "cell_type": "code",
      "execution_count": null,
      "metadata": {
        "colab": {
          "base_uri": "https://localhost:8080/",
          "height": 198
        },
        "id": "ToaYYQH_yS89",
        "outputId": "29b4be60-2c03-4cc4-f955-023459f76419"
      },
      "outputs": [
        {
          "data": {
            "text/html": [
              "\n",
              "            <style>\n",
              "                .geemap-dark {\n",
              "                    --jp-widgets-color: white;\n",
              "                    --jp-widgets-label-color: white;\n",
              "                    --jp-ui-font-color1: white;\n",
              "                    --jp-layout-color2: #454545;\n",
              "                    background-color: #383838;\n",
              "                }\n",
              "\n",
              "                .geemap-dark .jupyter-button {\n",
              "                    --jp-layout-color3: #383838;\n",
              "                }\n",
              "\n",
              "                .geemap-colab {\n",
              "                    background-color: var(--colab-primary-surface-color, white);\n",
              "                }\n",
              "\n",
              "                .geemap-colab .jupyter-button {\n",
              "                    --jp-layout-color3: var(--colab-primary-surface-color, white);\n",
              "                }\n",
              "            </style>\n",
              "            "
            ],
            "text/plain": [
              "<IPython.core.display.HTML object>"
            ]
          },
          "metadata": {},
          "output_type": "display_data"
        },
        {
          "data": {
            "image/jpeg": "[encoded data removed]",
            "image/png": "[encoded data removed]",
            "text/plain": [
              "<PIL.Image.Image image mode=RGB size=181x181>"
            ]
          },
          "execution_count": 42,
          "metadata": {},
          "output_type": "execute_result"
        }
      ],
      "source": [
        "pil_image.crop((0,0,181,181))\n"
      ]
    },
    {
      "cell_type": "code",
      "execution_count": null,
      "metadata": {
        "colab": {
          "base_uri": "https://localhost:8080/",
          "height": 564
        },
        "id": "KeyhEEwXq7EJ",
        "outputId": "667bd296-2294-4da1-e69b-ae530a92d5c0"
      },
      "outputs": [
        {
          "data": {
            "text/html": [
              "\n",
              "            <style>\n",
              "                .geemap-dark {\n",
              "                    --jp-widgets-color: white;\n",
              "                    --jp-widgets-label-color: white;\n",
              "                    --jp-ui-font-color1: white;\n",
              "                    --jp-layout-color2: #454545;\n",
              "                    background-color: #383838;\n",
              "                }\n",
              "\n",
              "                .geemap-dark .jupyter-button {\n",
              "                    --jp-layout-color3: #383838;\n",
              "                }\n",
              "\n",
              "                .geemap-colab {\n",
              "                    background-color: var(--colab-primary-surface-color, white);\n",
              "                }\n",
              "\n",
              "                .geemap-colab .jupyter-button {\n",
              "                    --jp-layout-color3: var(--colab-primary-surface-color, white);\n",
              "                }\n",
              "            </style>\n",
              "            "
            ],
            "text/plain": [
              "<IPython.core.display.HTML object>"
            ]
          },
          "metadata": {},
          "output_type": "display_data"
        },
        {
          "ename": "Exception",
          "evalue": "Image.select: Parameter 'input' is required.",
          "output_type": "error",
          "traceback": [
            "\u001b[0;31m---------------------------------------------------------------------------\u001b[0m",
            "\u001b[0;31mHttpError\u001b[0m                                 Traceback (most recent call last)",
            "\u001b[0;32m/usr/local/lib/python3.10/dist-packages/ee/data.py\u001b[0m in \u001b[0;36m_execute_cloud_call\u001b[0;34m(call, num_retries)\u001b[0m\n\u001b[1;32m    405\u001b[0m   \u001b[0;32mtry\u001b[0m\u001b[0;34m:\u001b[0m\u001b[0;34m\u001b[0m\u001b[0;34m\u001b[0m\u001b[0m\n\u001b[0;32m--> 406\u001b[0;31m     \u001b[0;32mreturn\u001b[0m \u001b[0mcall\u001b[0m\u001b[0;34m.\u001b[0m\u001b[0mexecute\u001b[0m\u001b[0;34m(\u001b[0m\u001b[0mnum_retries\u001b[0m\u001b[0;34m=\u001b[0m\u001b[0mnum_retries\u001b[0m\u001b[0;34m)\u001b[0m\u001b[0;34m\u001b[0m\u001b[0;34m\u001b[0m\u001b[0m\n\u001b[0m\u001b[1;32m    407\u001b[0m   \u001b[0;32mexcept\u001b[0m \u001b[0mgoogleapiclient\u001b[0m\u001b[0;34m.\u001b[0m\u001b[0merrors\u001b[0m\u001b[0;34m.\u001b[0m\u001b[0mHttpError\u001b[0m \u001b[0;32mas\u001b[0m \u001b[0me\u001b[0m\u001b[0;34m:\u001b[0m\u001b[0;34m\u001b[0m\u001b[0;34m\u001b[0m\u001b[0m\n",
            "\u001b[0;32m/usr/local/lib/python3.10/dist-packages/googleapiclient/_helpers.py\u001b[0m in \u001b[0;36mpositional_wrapper\u001b[0;34m(*args, **kwargs)\u001b[0m\n\u001b[1;32m    129\u001b[0m                     \u001b[0mlogger\u001b[0m\u001b[0;34m.\u001b[0m\u001b[0mwarning\u001b[0m\u001b[0;34m(\u001b[0m\u001b[0mmessage\u001b[0m\u001b[0;34m)\u001b[0m\u001b[0;34m\u001b[0m\u001b[0;34m\u001b[0m\u001b[0m\n\u001b[0;32m--> 130\u001b[0;31m             \u001b[0;32mreturn\u001b[0m \u001b[0mwrapped\u001b[0m\u001b[0;34m(\u001b[0m\u001b[0;34m*\u001b[0m\u001b[0margs\u001b[0m\u001b[0;34m,\u001b[0m \u001b[0;34m**\u001b[0m\u001b[0mkwargs\u001b[0m\u001b[0;34m)\u001b[0m\u001b[0;34m\u001b[0m\u001b[0;34m\u001b[0m\u001b[0m\n\u001b[0m\u001b[1;32m    131\u001b[0m \u001b[0;34m\u001b[0m\u001b[0m\n",
            "\u001b[0;32m/usr/local/lib/python3.10/dist-packages/googleapiclient/http.py\u001b[0m in \u001b[0;36mexecute\u001b[0;34m(self, http, num_retries)\u001b[0m\n\u001b[1;32m    937\u001b[0m         \u001b[0;32mif\u001b[0m \u001b[0mresp\u001b[0m\u001b[0;34m.\u001b[0m\u001b[0mstatus\u001b[0m \u001b[0;34m>=\u001b[0m \u001b[0;36m300\u001b[0m\u001b[0;34m:\u001b[0m\u001b[0;34m\u001b[0m\u001b[0;34m\u001b[0m\u001b[0m\n\u001b[0;32m--> 938\u001b[0;31m             \u001b[0;32mraise\u001b[0m \u001b[0mHttpError\u001b[0m\u001b[0;34m(\u001b[0m\u001b[0mresp\u001b[0m\u001b[0;34m,\u001b[0m \u001b[0mcontent\u001b[0m\u001b[0;34m,\u001b[0m \u001b[0muri\u001b[0m\u001b[0;34m=\u001b[0m\u001b[0mself\u001b[0m\u001b[0;34m.\u001b[0m\u001b[0muri\u001b[0m\u001b[0;34m)\u001b[0m\u001b[0;34m\u001b[0m\u001b[0;34m\u001b[0m\u001b[0m\n\u001b[0m\u001b[1;32m    939\u001b[0m         \u001b[0;32mreturn\u001b[0m \u001b[0mself\u001b[0m\u001b[0;34m.\u001b[0m\u001b[0mpostproc\u001b[0m\u001b[0;34m(\u001b[0m\u001b[0mresp\u001b[0m\u001b[0;34m,\u001b[0m \u001b[0mcontent\u001b[0m\u001b[0;34m)\u001b[0m\u001b[0;34m\u001b[0m\u001b[0;34m\u001b[0m\u001b[0m\n",
            "\u001b[0;31mHttpError\u001b[0m: <HttpError 400 when requesting https://earthengine.googleapis.com/v1/projects/zindiplasticproject/image:computePixels? returned \"Image.select: Parameter 'input' is required.\". Details: \"Image.select: Parameter 'input' is required.\">",
            "\nDuring handling of the above exception, another exception occurred:\n",
            "\u001b[0;31mEEException\u001b[0m                               Traceback (most recent call last)",
            "\u001b[0;32m/usr/local/lib/python3.10/dist-packages/geemap/common.py\u001b[0m in \u001b[0;36mee_to_numpy\u001b[0;34m(ee_object, region, scale, bands, **kwargs)\u001b[0m\n\u001b[1;32m   3133\u001b[0m     \u001b[0;32mtry\u001b[0m\u001b[0;34m:\u001b[0m\u001b[0;34m\u001b[0m\u001b[0;34m\u001b[0m\u001b[0m\n\u001b[0;32m-> 3134\u001b[0;31m         \u001b[0mstruct_array\u001b[0m \u001b[0;34m=\u001b[0m \u001b[0mee\u001b[0m\u001b[0;34m.\u001b[0m\u001b[0mdata\u001b[0m\u001b[0;34m.\u001b[0m\u001b[0mcomputePixels\u001b[0m\u001b[0;34m(\u001b[0m\u001b[0mkwargs\u001b[0m\u001b[0;34m)\u001b[0m\u001b[0;34m\u001b[0m\u001b[0;34m\u001b[0m\u001b[0m\n\u001b[0m\u001b[1;32m   3135\u001b[0m         \u001b[0marray\u001b[0m \u001b[0;34m=\u001b[0m \u001b[0mnp\u001b[0m\u001b[0;34m.\u001b[0m\u001b[0mdstack\u001b[0m\u001b[0;34m(\u001b[0m\u001b[0;34m(\u001b[0m\u001b[0;34m[\u001b[0m\u001b[0mstruct_array\u001b[0m\u001b[0;34m[\u001b[0m\u001b[0mband\u001b[0m\u001b[0;34m]\u001b[0m \u001b[0;32mfor\u001b[0m \u001b[0mband\u001b[0m \u001b[0;32min\u001b[0m \u001b[0mstruct_array\u001b[0m\u001b[0;34m.\u001b[0m\u001b[0mdtype\u001b[0m\u001b[0;34m.\u001b[0m\u001b[0mnames\u001b[0m\u001b[0;34m]\u001b[0m\u001b[0;34m)\u001b[0m\u001b[0;34m)\u001b[0m\u001b[0;34m\u001b[0m\u001b[0;34m\u001b[0m\u001b[0m\n",
            "\u001b[0;32m/usr/local/lib/python3.10/dist-packages/ee/data.py\u001b[0m in \u001b[0;36mcomputePixels\u001b[0;34m(params)\u001b[0m\n\u001b[1;32m    951\u001b[0m   \u001b[0m_maybe_populate_workload_tag\u001b[0m\u001b[0;34m(\u001b[0m\u001b[0mparams\u001b[0m\u001b[0;34m)\u001b[0m\u001b[0;34m\u001b[0m\u001b[0;34m\u001b[0m\u001b[0m\n\u001b[0;32m--> 952\u001b[0;31m   data = _execute_cloud_call(\n\u001b[0m\u001b[1;32m    953\u001b[0m       \u001b[0m_get_cloud_projects_raw\u001b[0m\u001b[0;34m(\u001b[0m\u001b[0;34m)\u001b[0m\u001b[0;34m\u001b[0m\u001b[0;34m\u001b[0m\u001b[0m\n",
            "\u001b[0;32m/usr/local/lib/python3.10/dist-packages/ee/data.py\u001b[0m in \u001b[0;36m_execute_cloud_call\u001b[0;34m(call, num_retries)\u001b[0m\n\u001b[1;32m    407\u001b[0m   \u001b[0;32mexcept\u001b[0m \u001b[0mgoogleapiclient\u001b[0m\u001b[0;34m.\u001b[0m\u001b[0merrors\u001b[0m\u001b[0;34m.\u001b[0m\u001b[0mHttpError\u001b[0m \u001b[0;32mas\u001b[0m \u001b[0me\u001b[0m\u001b[0;34m:\u001b[0m\u001b[0;34m\u001b[0m\u001b[0;34m\u001b[0m\u001b[0m\n\u001b[0;32m--> 408\u001b[0;31m     \u001b[0;32mraise\u001b[0m \u001b[0m_translate_cloud_exception\u001b[0m\u001b[0;34m(\u001b[0m\u001b[0me\u001b[0m\u001b[0;34m)\u001b[0m  \u001b[0;31m# pylint: disable=raise-missing-from\u001b[0m\u001b[0;34m\u001b[0m\u001b[0;34m\u001b[0m\u001b[0m\n\u001b[0m\u001b[1;32m    409\u001b[0m \u001b[0;34m\u001b[0m\u001b[0m\n",
            "\u001b[0;31mEEException\u001b[0m: Image.select: Parameter 'input' is required.",
            "\nDuring handling of the above exception, another exception occurred:\n",
            "\u001b[0;31mException\u001b[0m                                 Traceback (most recent call last)",
            "\u001b[0;32m<ipython-input-43-6bc54cde75d2>\u001b[0m in \u001b[0;36m<cell line: 1>\u001b[0;34m()\u001b[0m\n\u001b[0;32m----> 1\u001b[0;31m \u001b[0mimage_download\u001b[0m\u001b[0;34m(\u001b[0m\u001b[0;36m20\u001b[0m\u001b[0;34m,\u001b[0m\u001b[0;36m37.05635887\u001b[0m\u001b[0;34m,\u001b[0m\u001b[0;36m0.053674338\u001b[0m\u001b[0;34m,\u001b[0m\u001b[0;34m\"Kenya\"\u001b[0m\u001b[0;34m)\u001b[0m\u001b[0;34m\u001b[0m\u001b[0;34m\u001b[0m\u001b[0m\n\u001b[0m",
            "\u001b[0;32m<ipython-input-39-8f22c91ac5c7>\u001b[0m in \u001b[0;36mimage_download\u001b[0;34m(index, longitude, latitude, place, sat, band, sdate, edate)\u001b[0m\n\u001b[1;32m     34\u001b[0m \u001b[0;34m\u001b[0m\u001b[0m\n\u001b[1;32m     35\u001b[0m \u001b[0;34m\u001b[0m\u001b[0m\n\u001b[0;32m---> 36\u001b[0;31m     \u001b[0mrgb_img\u001b[0m \u001b[0;34m=\u001b[0m \u001b[0mgeemap\u001b[0m\u001b[0;34m.\u001b[0m\u001b[0mee_to_numpy\u001b[0m\u001b[0;34m(\u001b[0m\u001b[0mimage\u001b[0m\u001b[0;34m,\u001b[0m\u001b[0mregion\u001b[0m\u001b[0;34m=\u001b[0m\u001b[0maoi\u001b[0m\u001b[0;34m)\u001b[0m\u001b[0;34m\u001b[0m\u001b[0;34m\u001b[0m\u001b[0m\n\u001b[0m\u001b[1;32m     37\u001b[0m     \u001b[0;32mif\u001b[0m \u001b[0m_DEBUG_\u001b[0m\u001b[0;34m==\u001b[0m\u001b[0;32mTrue\u001b[0m\u001b[0;34m:\u001b[0m\u001b[0;34m\u001b[0m\u001b[0;34m\u001b[0m\u001b[0m\n\u001b[1;32m     38\u001b[0m         \u001b[0mprint\u001b[0m\u001b[0;34m(\u001b[0m\u001b[0mrgb_img\u001b[0m\u001b[0;34m.\u001b[0m\u001b[0mshape\u001b[0m\u001b[0;34m)\u001b[0m\u001b[0;34m\u001b[0m\u001b[0;34m\u001b[0m\u001b[0m\n",
            "\u001b[0;32m/usr/local/lib/python3.10/dist-packages/geemap/common.py\u001b[0m in \u001b[0;36mee_to_numpy\u001b[0;34m(ee_object, region, scale, bands, **kwargs)\u001b[0m\n\u001b[1;32m   3136\u001b[0m         \u001b[0;32mreturn\u001b[0m \u001b[0marray\u001b[0m\u001b[0;34m\u001b[0m\u001b[0;34m\u001b[0m\u001b[0m\n\u001b[1;32m   3137\u001b[0m     \u001b[0;32mexcept\u001b[0m \u001b[0mException\u001b[0m \u001b[0;32mas\u001b[0m \u001b[0me\u001b[0m\u001b[0;34m:\u001b[0m\u001b[0;34m\u001b[0m\u001b[0;34m\u001b[0m\u001b[0m\n\u001b[0;32m-> 3138\u001b[0;31m         \u001b[0;32mraise\u001b[0m \u001b[0mException\u001b[0m\u001b[0;34m(\u001b[0m\u001b[0me\u001b[0m\u001b[0;34m)\u001b[0m\u001b[0;34m\u001b[0m\u001b[0;34m\u001b[0m\u001b[0m\n\u001b[0m\u001b[1;32m   3139\u001b[0m \u001b[0;34m\u001b[0m\u001b[0m\n\u001b[1;32m   3140\u001b[0m \u001b[0;34m\u001b[0m\u001b[0m\n",
            "\u001b[0;31mException\u001b[0m: Image.select: Parameter 'input' is required."
          ]
        }
      ],
      "source": [
        "image_download(20,37.05635887,0.053674338,\"Kenya\")"
      ]
    },
    {
      "cell_type": "code",
      "execution_count": null,
      "metadata": {
        "colab": {
          "base_uri": "https://localhost:8080/",
          "height": 17
        },
        "id": "tmE8sddw5Zmb",
        "outputId": "db8ebf25-b670-41aa-b53c-43e813b44d2f"
      },
      "outputs": [
        {
          "data": {
            "text/html": [
              "\n",
              "            <style>\n",
              "                .geemap-dark {\n",
              "                    --jp-widgets-color: white;\n",
              "                    --jp-widgets-label-color: white;\n",
              "                    --jp-ui-font-color1: white;\n",
              "                    --jp-layout-color2: #454545;\n",
              "                    background-color: #383838;\n",
              "                }\n",
              "\n",
              "                .geemap-dark .jupyter-button {\n",
              "                    --jp-layout-color3: #383838;\n",
              "                }\n",
              "\n",
              "                .geemap-colab {\n",
              "                    background-color: var(--colab-primary-surface-color, white);\n",
              "                }\n",
              "\n",
              "                .geemap-colab .jupyter-button {\n",
              "                    --jp-layout-color3: var(--colab-primary-surface-color, white);\n",
              "                }\n",
              "            </style>\n",
              "            "
            ],
            "text/plain": [
              "<IPython.core.display.HTML object>"
            ]
          },
          "metadata": {},
          "output_type": "display_data"
        }
      ],
      "source": [
        "\n",
        "df_kenya=pandas.read_csv(_PROJECT_BASE_+_ORIG_+\"/Kenya_training.csv\")\n"
      ]
    },
    {
      "cell_type": "code",
      "execution_count": null,
      "metadata": {
        "colab": {
          "base_uri": "https://localhost:8080/",
          "height": 226
        },
        "id": "TcFVu1Ry520_",
        "outputId": "1adc8712-a0c4-4927-a8bb-21c04a9d0e64"
      },
      "outputs": [
        {
          "data": {
            "text/html": [
              "\n",
              "            <style>\n",
              "                .geemap-dark {\n",
              "                    --jp-widgets-color: white;\n",
              "                    --jp-widgets-label-color: white;\n",
              "                    --jp-ui-font-color1: white;\n",
              "                    --jp-layout-color2: #454545;\n",
              "                    background-color: #383838;\n",
              "                }\n",
              "\n",
              "                .geemap-dark .jupyter-button {\n",
              "                    --jp-layout-color3: #383838;\n",
              "                }\n",
              "\n",
              "                .geemap-colab {\n",
              "                    background-color: var(--colab-primary-surface-color, white);\n",
              "                }\n",
              "\n",
              "                .geemap-colab .jupyter-button {\n",
              "                    --jp-layout-color3: var(--colab-primary-surface-color, white);\n",
              "                }\n",
              "            </style>\n",
              "            "
            ],
            "text/plain": [
              "<IPython.core.display.HTML object>"
            ]
          },
          "metadata": {},
          "output_type": "display_data"
        },
        {
          "data": {
            "application/vnd.google.colaboratory.intrinsic+json": {
              "summary": "{\n  \"name\": \"df_kenya\",\n  \"rows\": 998,\n  \"fields\": [\n    {\n      \"column\": \"ID\",\n      \"properties\": {\n        \"dtype\": \"number\",\n        \"std\": 288,\n        \"min\": 1,\n        \"max\": 998,\n        \"num_unique_values\": 998,\n        \"samples\": [\n          454,\n          793,\n          210\n        ],\n        \"semantic_type\": \"\",\n        \"description\": \"\"\n      }\n    },\n    {\n      \"column\": \"lon\",\n      \"properties\": {\n        \"dtype\": \"number\",\n        \"std\": 0.11206765076160381,\n        \"min\": 37.02689413,\n        \"max\": 37.49806049,\n        \"num_unique_values\": 837,\n        \"samples\": [\n          37.29243613,\n          37.13981236,\n          37.18823155\n        ],\n        \"semantic_type\": \"\",\n        \"description\": \"\"\n      }\n    },\n    {\n      \"column\": \"lat\",\n      \"properties\": {\n        \"dtype\": \"number\",\n        \"std\": 0.03486646800897548,\n        \"min\": 0.005794134,\n        \"max\": 0.172880776,\n        \"num_unique_values\": 734,\n        \"samples\": [\n          0.079815313,\n          0.024568923,\n          0.084217058\n        ],\n        \"semantic_type\": \"\",\n        \"description\": \"\"\n      }\n    },\n    {\n      \"column\": \"blue_p50\",\n      \"properties\": {\n        \"dtype\": \"number\",\n        \"std\": 691.2459286751322,\n        \"min\": 1253.5,\n        \"max\": 6130.0,\n        \"num_unique_values\": 814,\n        \"samples\": [\n          2653.0,\n          2307.0,\n          2394.0\n        ],\n        \"semantic_type\": \"\",\n        \"description\": \"\"\n      }\n    },\n    {\n      \"column\": \"green_p50\",\n      \"properties\": {\n        \"dtype\": \"number\",\n        \"std\": 651.3999838880973,\n        \"min\": 1381.0,\n        \"max\": 6066.0,\n        \"num_unique_values\": 811,\n        \"samples\": [\n          3127.0,\n          1962.5,\n          2998.0\n        ],\n        \"semantic_type\": \"\",\n        \"description\": \"\"\n      }\n    },\n    {\n      \"column\": \"nir_p50\",\n      \"properties\": {\n        \"dtype\": \"number\",\n        \"std\": 880.8745865923812,\n        \"min\": 2061.0,\n        \"max\": 9248.0,\n        \"num_unique_values\": 887,\n        \"samples\": [\n          4708.0,\n          3697.5,\n          4099.0\n        ],\n        \"semantic_type\": \"\",\n        \"description\": \"\"\n      }\n    },\n    {\n      \"column\": \"nira_p50\",\n      \"properties\": {\n        \"dtype\": \"number\",\n        \"std\": 886.3298090559589,\n        \"min\": 2139.5,\n        \"max\": 9507.0,\n        \"num_unique_values\": 918,\n        \"samples\": [\n          4100.0,\n          4643.0,\n          5570.5\n        ],\n        \"semantic_type\": \"\",\n        \"description\": \"\"\n      }\n    },\n    {\n      \"column\": \"re1_p50\",\n      \"properties\": {\n        \"dtype\": \"number\",\n        \"std\": 622.3039049933311,\n        \"min\": 1617.5,\n        \"max\": 6839.0,\n        \"num_unique_values\": 850,\n        \"samples\": [\n          2468.0,\n          3029.5,\n          3079.0\n        ],\n        \"semantic_type\": \"\",\n        \"description\": \"\"\n      }\n    },\n    {\n      \"column\": \"re2_p50\",\n      \"properties\": {\n        \"dtype\": \"number\",\n        \"std\": 770.130321833918,\n        \"min\": 2083.5,\n        \"max\": 8542.0,\n        \"num_unique_values\": 918,\n        \"samples\": [\n          3496.0,\n          3326.0,\n          4669.0\n        ],\n        \"semantic_type\": \"\",\n        \"description\": \"\"\n      }\n    },\n    {\n      \"column\": \"re3_p50\",\n      \"properties\": {\n        \"dtype\": \"number\",\n        \"std\": 876.3657565072401,\n        \"min\": 2121.5,\n        \"max\": 9235.0,\n        \"num_unique_values\": 914,\n        \"samples\": [\n          5605.0,\n          3745.5,\n          4823.5\n        ],\n        \"semantic_type\": \"\",\n        \"description\": \"\"\n      }\n    },\n    {\n      \"column\": \"red_p50\",\n      \"properties\": {\n        \"dtype\": \"number\",\n        \"std\": 687.7014275103177,\n        \"min\": 1243.0,\n        \"max\": 6140.0,\n        \"num_unique_values\": 828,\n        \"samples\": [\n          1889.0,\n          1470.0,\n          2382.0\n        ],\n        \"semantic_type\": \"\",\n        \"description\": \"\"\n      }\n    },\n    {\n      \"column\": \"swir1_p50\",\n      \"properties\": {\n        \"dtype\": \"number\",\n        \"std\": 633.2483223462934,\n        \"min\": 1579.5,\n        \"max\": 10014.0,\n        \"num_unique_values\": 846,\n        \"samples\": [\n          3038.5,\n          3767.0,\n          3162.5\n        ],\n        \"semantic_type\": \"\",\n        \"description\": \"\"\n      }\n    },\n    {\n      \"column\": \"swir2_p50\",\n      \"properties\": {\n        \"dtype\": \"number\",\n        \"std\": 702.9692724495522,\n        \"min\": 1347.5,\n        \"max\": 10692.0,\n        \"num_unique_values\": 849,\n        \"samples\": [\n          2941.0,\n          3381.0,\n          2287.5\n        ],\n        \"semantic_type\": \"\",\n        \"description\": \"\"\n      }\n    },\n    {\n      \"column\": \"VV_p50\",\n      \"properties\": {\n        \"dtype\": \"number\",\n        \"std\": 2.2313588719655204,\n        \"min\": -14.470079,\n        \"max\": 10.258422,\n        \"num_unique_values\": 998,\n        \"samples\": [\n          -7.324046,\n          -8.037611,\n          -7.5932474\n        ],\n        \"semantic_type\": \"\",\n        \"description\": \"\"\n      }\n    },\n    {\n      \"column\": \"VH_p50\",\n      \"properties\": {\n        \"dtype\": \"number\",\n        \"std\": 2.22491054665548,\n        \"min\": -26.436514,\n        \"max\": -4.934835,\n        \"num_unique_values\": 998,\n        \"samples\": [\n          -13.990783,\n          -14.440332,\n          -14.221652\n        ],\n        \"semantic_type\": \"\",\n        \"description\": \"\"\n      }\n    },\n    {\n      \"column\": \"TARGET\",\n      \"properties\": {\n        \"dtype\": \"number\",\n        \"std\": 0,\n        \"min\": 1,\n        \"max\": 2,\n        \"num_unique_values\": 2,\n        \"samples\": [\n          2,\n          1\n        ],\n        \"semantic_type\": \"\",\n        \"description\": \"\"\n      }\n    }\n  ]\n}",
              "type": "dataframe",
              "variable_name": "df_kenya"
            },
            "text/html": [
              "\n",
              "  <div id=\"df-3dac893c-e953-43f3-9d94-742576fa255c\" class=\"colab-df-container\">\n",
              "    <div>\n",
              "<style scoped>\n",
              "    .dataframe tbody tr th:only-of-type {\n",
              "        vertical-align: middle;\n",
              "    }\n",
              "\n",
              "    .dataframe tbody tr th {\n",
              "        vertical-align: top;\n",
              "    }\n",
              "\n",
              "    .dataframe thead th {\n",
              "        text-align: right;\n",
              "    }\n",
              "</style>\n",
              "<table border=\"1\" class=\"dataframe\">\n",
              "  <thead>\n",
              "    <tr style=\"text-align: right;\">\n",
              "      <th></th>\n",
              "      <th>ID</th>\n",
              "      <th>lon</th>\n",
              "      <th>lat</th>\n",
              "      <th>blue_p50</th>\n",
              "      <th>green_p50</th>\n",
              "      <th>nir_p50</th>\n",
              "      <th>nira_p50</th>\n",
              "      <th>re1_p50</th>\n",
              "      <th>re2_p50</th>\n",
              "      <th>re3_p50</th>\n",
              "      <th>red_p50</th>\n",
              "      <th>swir1_p50</th>\n",
              "      <th>swir2_p50</th>\n",
              "      <th>VV_p50</th>\n",
              "      <th>VH_p50</th>\n",
              "      <th>TARGET</th>\n",
              "    </tr>\n",
              "  </thead>\n",
              "  <tbody>\n",
              "    <tr>\n",
              "      <th>0</th>\n",
              "      <td>1</td>\n",
              "      <td>37.059054</td>\n",
              "      <td>0.046039</td>\n",
              "      <td>2731.0</td>\n",
              "      <td>3035.0</td>\n",
              "      <td>5418.0</td>\n",
              "      <td>5306.5</td>\n",
              "      <td>2958.0</td>\n",
              "      <td>4610.5</td>\n",
              "      <td>5099.5</td>\n",
              "      <td>2994.0</td>\n",
              "      <td>4108.5</td>\n",
              "      <td>3187.5</td>\n",
              "      <td>-6.861458</td>\n",
              "      <td>-12.162713</td>\n",
              "      <td>1</td>\n",
              "    </tr>\n",
              "    <tr>\n",
              "      <th>1</th>\n",
              "      <td>2</td>\n",
              "      <td>37.059503</td>\n",
              "      <td>0.047296</td>\n",
              "      <td>2921.0</td>\n",
              "      <td>3329.0</td>\n",
              "      <td>5834.0</td>\n",
              "      <td>6472.0</td>\n",
              "      <td>4144.5</td>\n",
              "      <td>5782.0</td>\n",
              "      <td>6302.0</td>\n",
              "      <td>3344.0</td>\n",
              "      <td>5269.0</td>\n",
              "      <td>4471.5</td>\n",
              "      <td>-8.082717</td>\n",
              "      <td>-14.619608</td>\n",
              "      <td>1</td>\n",
              "    </tr>\n",
              "    <tr>\n",
              "      <th>2</th>\n",
              "      <td>3</td>\n",
              "      <td>37.057527</td>\n",
              "      <td>0.047656</td>\n",
              "      <td>3828.0</td>\n",
              "      <td>4163.0</td>\n",
              "      <td>6420.0</td>\n",
              "      <td>7890.5</td>\n",
              "      <td>5408.5</td>\n",
              "      <td>6695.5</td>\n",
              "      <td>7302.0</td>\n",
              "      <td>4380.0</td>\n",
              "      <td>6905.0</td>\n",
              "      <td>6905.5</td>\n",
              "      <td>-7.767043</td>\n",
              "      <td>-14.880353</td>\n",
              "      <td>1</td>\n",
              "    </tr>\n",
              "    <tr>\n",
              "      <th>3</th>\n",
              "      <td>4</td>\n",
              "      <td>37.057976</td>\n",
              "      <td>0.047925</td>\n",
              "      <td>2556.0</td>\n",
              "      <td>2839.0</td>\n",
              "      <td>4822.0</td>\n",
              "      <td>5276.5</td>\n",
              "      <td>3201.0</td>\n",
              "      <td>4643.0</td>\n",
              "      <td>5069.5</td>\n",
              "      <td>2787.0</td>\n",
              "      <td>3832.0</td>\n",
              "      <td>2867.5</td>\n",
              "      <td>-7.773118</td>\n",
              "      <td>-15.587653</td>\n",
              "      <td>1</td>\n",
              "    </tr>\n",
              "    <tr>\n",
              "      <th>4</th>\n",
              "      <td>5</td>\n",
              "      <td>37.056359</td>\n",
              "      <td>0.048554</td>\n",
              "      <td>3790.0</td>\n",
              "      <td>4009.0</td>\n",
              "      <td>6476.0</td>\n",
              "      <td>6199.5</td>\n",
              "      <td>4285.0</td>\n",
              "      <td>5711.0</td>\n",
              "      <td>6079.5</td>\n",
              "      <td>3939.0</td>\n",
              "      <td>4892.5</td>\n",
              "      <td>3702.5</td>\n",
              "      <td>-6.104467</td>\n",
              "      <td>-15.431915</td>\n",
              "      <td>1</td>\n",
              "    </tr>\n",
              "  </tbody>\n",
              "</table>\n",
              "</div>\n",
              "    <div class=\"colab-df-buttons\">\n",
              "\n",
              "  <div class=\"colab-df-container\">\n",
              "    <button class=\"colab-df-convert\" onclick=\"convertToInteractive('df-3dac893c-e953-43f3-9d94-742576fa255c')\"\n",
              "            title=\"Convert this dataframe to an interactive table.\"\n",
              "            style=\"display:none;\">\n",
              "\n",
              "  <svg xmlns=\"http://www.w3.org/2000/svg\" height=\"24px\" viewBox=\"0 -960 960 960\">\n",
              "    <path d=\"M120-120v-720h720v720H120Zm60-500h600v-160H180v160Zm220 220h160v-160H400v160Zm0 220h160v-160H400v160ZM180-400h160v-160H180v160Zm440 0h160v-160H620v160ZM180-180h160v-160H180v160Zm440 0h160v-160H620v160Z\"/>\n",
              "  </svg>\n",
              "    </button>\n",
              "\n",
              "  <style>\n",
              "    .colab-df-container {\n",
              "      display:flex;\n",
              "      gap: 12px;\n",
              "    }\n",
              "\n",
              "    .colab-df-convert {\n",
              "      background-color: #E8F0FE;\n",
              "      border: none;\n",
              "      border-radius: 50%;\n",
              "      cursor: pointer;\n",
              "      display: none;\n",
              "      fill: #1967D2;\n",
              "      height: 32px;\n",
              "      padding: 0 0 0 0;\n",
              "      width: 32px;\n",
              "    }\n",
              "\n",
              "    .colab-df-convert:hover {\n",
              "      background-color: #E2EBFA;\n",
              "      box-shadow: 0px 1px 2px rgba(60, 64, 67, 0.3), 0px 1px 3px 1px rgba(60, 64, 67, 0.15);\n",
              "      fill: #174EA6;\n",
              "    }\n",
              "\n",
              "    .colab-df-buttons div {\n",
              "      margin-bottom: 4px;\n",
              "    }\n",
              "\n",
              "    [theme=dark] .colab-df-convert {\n",
              "      background-color: #3B4455;\n",
              "      fill: #D2E3FC;\n",
              "    }\n",
              "\n",
              "    [theme=dark] .colab-df-convert:hover {\n",
              "      background-color: #434B5C;\n",
              "      box-shadow: 0px 1px 3px 1px rgba(0, 0, 0, 0.15);\n",
              "      filter: drop-shadow(0px 1px 2px rgba(0, 0, 0, 0.3));\n",
              "      fill: #FFFFFF;\n",
              "    }\n",
              "  </style>\n",
              "\n",
              "    <script>\n",
              "      const buttonEl =\n",
              "        document.querySelector('#df-3dac893c-e953-43f3-9d94-742576fa255c button.colab-df-convert');\n",
              "      buttonEl.style.display =\n",
              "        google.colab.kernel.accessAllowed ? 'block' : 'none';\n",
              "\n",
              "      async function convertToInteractive(key) {\n",
              "        const element = document.querySelector('#df-3dac893c-e953-43f3-9d94-742576fa255c');\n",
              "        const dataTable =\n",
              "          await google.colab.kernel.invokeFunction('convertToInteractive',\n",
              "                                                    [key], {});\n",
              "        if (!dataTable) return;\n",
              "\n",
              "        const docLinkHtml = 'Like what you see? Visit the ' +\n",
              "          '<a target=\"_blank\" href=https://colab.research.google.com/notebooks/data_table.ipynb>data table notebook</a>'\n",
              "          + ' to learn more about interactive tables.';\n",
              "        element.innerHTML = '';\n",
              "        dataTable['output_type'] = 'display_data';\n",
              "        await google.colab.output.renderOutput(dataTable, element);\n",
              "        const docLink = document.createElement('div');\n",
              "        docLink.innerHTML = docLinkHtml;\n",
              "        element.appendChild(docLink);\n",
              "      }\n",
              "    </script>\n",
              "  </div>\n",
              "\n",
              "\n",
              "<div id=\"df-067a23e3-2892-47bb-b5fa-89b314fad678\">\n",
              "  <button class=\"colab-df-quickchart\" onclick=\"quickchart('df-067a23e3-2892-47bb-b5fa-89b314fad678')\"\n",
              "            title=\"Suggest charts\"\n",
              "            style=\"display:none;\">\n",
              "\n",
              "<svg xmlns=\"http://www.w3.org/2000/svg\" height=\"24px\"viewBox=\"0 0 24 24\"\n",
              "     width=\"24px\">\n",
              "    <g>\n",
              "        <path d=\"M19 3H5c-1.1 0-2 .9-2 2v14c0 1.1.9 2 2 2h14c1.1 0 2-.9 2-2V5c0-1.1-.9-2-2-2zM9 17H7v-7h2v7zm4 0h-2V7h2v10zm4 0h-2v-4h2v4z\"/>\n",
              "    </g>\n",
              "</svg>\n",
              "  </button>\n",
              "\n",
              "<style>\n",
              "  .colab-df-quickchart {\n",
              "      --bg-color: #E8F0FE;\n",
              "      --fill-color: #1967D2;\n",
              "      --hover-bg-color: #E2EBFA;\n",
              "      --hover-fill-color: #174EA6;\n",
              "      --disabled-fill-color: #AAA;\n",
              "      --disabled-bg-color: #DDD;\n",
              "  }\n",
              "\n",
              "  [theme=dark] .colab-df-quickchart {\n",
              "      --bg-color: #3B4455;\n",
              "      --fill-color: #D2E3FC;\n",
              "      --hover-bg-color: #434B5C;\n",
              "      --hover-fill-color: #FFFFFF;\n",
              "      --disabled-bg-color: #3B4455;\n",
              "      --disabled-fill-color: #666;\n",
              "  }\n",
              "\n",
              "  .colab-df-quickchart {\n",
              "    background-color: var(--bg-color);\n",
              "    border: none;\n",
              "    border-radius: 50%;\n",
              "    cursor: pointer;\n",
              "    display: none;\n",
              "    fill: var(--fill-color);\n",
              "    height: 32px;\n",
              "    padding: 0;\n",
              "    width: 32px;\n",
              "  }\n",
              "\n",
              "  .colab-df-quickchart:hover {\n",
              "    background-color: var(--hover-bg-color);\n",
              "    box-shadow: 0 1px 2px rgba(60, 64, 67, 0.3), 0 1px 3px 1px rgba(60, 64, 67, 0.15);\n",
              "    fill: var(--button-hover-fill-color);\n",
              "  }\n",
              "\n",
              "  .colab-df-quickchart-complete:disabled,\n",
              "  .colab-df-quickchart-complete:disabled:hover {\n",
              "    background-color: var(--disabled-bg-color);\n",
              "    fill: var(--disabled-fill-color);\n",
              "    box-shadow: none;\n",
              "  }\n",
              "\n",
              "  .colab-df-spinner {\n",
              "    border: 2px solid var(--fill-color);\n",
              "    border-color: transparent;\n",
              "    border-bottom-color: var(--fill-color);\n",
              "    animation:\n",
              "      spin 1s steps(1) infinite;\n",
              "  }\n",
              "\n",
              "  @keyframes spin {\n",
              "    0% {\n",
              "      border-color: transparent;\n",
              "      border-bottom-color: var(--fill-color);\n",
              "      border-left-color: var(--fill-color);\n",
              "    }\n",
              "    20% {\n",
              "      border-color: transparent;\n",
              "      border-left-color: var(--fill-color);\n",
              "      border-top-color: var(--fill-color);\n",
              "    }\n",
              "    30% {\n",
              "      border-color: transparent;\n",
              "      border-left-color: var(--fill-color);\n",
              "      border-top-color: var(--fill-color);\n",
              "      border-right-color: var(--fill-color);\n",
              "    }\n",
              "    40% {\n",
              "      border-color: transparent;\n",
              "      border-right-color: var(--fill-color);\n",
              "      border-top-color: var(--fill-color);\n",
              "    }\n",
              "    60% {\n",
              "      border-color: transparent;\n",
              "      border-right-color: var(--fill-color);\n",
              "    }\n",
              "    80% {\n",
              "      border-color: transparent;\n",
              "      border-right-color: var(--fill-color);\n",
              "      border-bottom-color: var(--fill-color);\n",
              "    }\n",
              "    90% {\n",
              "      border-color: transparent;\n",
              "      border-bottom-color: var(--fill-color);\n",
              "    }\n",
              "  }\n",
              "</style>\n",
              "\n",
              "  <script>\n",
              "    async function quickchart(key) {\n",
              "      const quickchartButtonEl =\n",
              "        document.querySelector('#' + key + ' button');\n",
              "      quickchartButtonEl.disabled = true;  // To prevent multiple clicks.\n",
              "      quickchartButtonEl.classList.add('colab-df-spinner');\n",
              "      try {\n",
              "        const charts = await google.colab.kernel.invokeFunction(\n",
              "            'suggestCharts', [key], {});\n",
              "      } catch (error) {\n",
              "        console.error('Error during call to suggestCharts:', error);\n",
              "      }\n",
              "      quickchartButtonEl.classList.remove('colab-df-spinner');\n",
              "      quickchartButtonEl.classList.add('colab-df-quickchart-complete');\n",
              "    }\n",
              "    (() => {\n",
              "      let quickchartButtonEl =\n",
              "        document.querySelector('#df-067a23e3-2892-47bb-b5fa-89b314fad678 button');\n",
              "      quickchartButtonEl.style.display =\n",
              "        google.colab.kernel.accessAllowed ? 'block' : 'none';\n",
              "    })();\n",
              "  </script>\n",
              "</div>\n",
              "\n",
              "    </div>\n",
              "  </div>\n"
            ],
            "text/plain": [
              "   ID        lon       lat  blue_p50  green_p50  nir_p50  nira_p50  re1_p50  \\\n",
              "0   1  37.059054  0.046039    2731.0     3035.0   5418.0    5306.5   2958.0   \n",
              "1   2  37.059503  0.047296    2921.0     3329.0   5834.0    6472.0   4144.5   \n",
              "2   3  37.057527  0.047656    3828.0     4163.0   6420.0    7890.5   5408.5   \n",
              "3   4  37.057976  0.047925    2556.0     2839.0   4822.0    5276.5   3201.0   \n",
              "4   5  37.056359  0.048554    3790.0     4009.0   6476.0    6199.5   4285.0   \n",
              "\n",
              "   re2_p50  re3_p50  red_p50  swir1_p50  swir2_p50    VV_p50     VH_p50  \\\n",
              "0   4610.5   5099.5   2994.0     4108.5     3187.5 -6.861458 -12.162713   \n",
              "1   5782.0   6302.0   3344.0     5269.0     4471.5 -8.082717 -14.619608   \n",
              "2   6695.5   7302.0   4380.0     6905.0     6905.5 -7.767043 -14.880353   \n",
              "3   4643.0   5069.5   2787.0     3832.0     2867.5 -7.773118 -15.587653   \n",
              "4   5711.0   6079.5   3939.0     4892.5     3702.5 -6.104467 -15.431915   \n",
              "\n",
              "   TARGET  \n",
              "0       1  \n",
              "1       1  \n",
              "2       1  \n",
              "3       1  \n",
              "4       1  "
            ]
          },
          "execution_count": 45,
          "metadata": {},
          "output_type": "execute_result"
        }
      ],
      "source": [
        "df_kenya.head()"
      ]
    },
    {
      "cell_type": "code",
      "execution_count": null,
      "metadata": {
        "colab": {
          "base_uri": "https://localhost:8080/",
          "height": 17
        },
        "id": "NTEV4_2d6L14",
        "outputId": "a276edde-a587-4ed4-c2dc-46a3ae8223d2"
      },
      "outputs": [
        {
          "data": {
            "text/html": [
              "\n",
              "            <style>\n",
              "                .geemap-dark {\n",
              "                    --jp-widgets-color: white;\n",
              "                    --jp-widgets-label-color: white;\n",
              "                    --jp-ui-font-color1: white;\n",
              "                    --jp-layout-color2: #454545;\n",
              "                    background-color: #383838;\n",
              "                }\n",
              "\n",
              "                .geemap-dark .jupyter-button {\n",
              "                    --jp-layout-color3: #383838;\n",
              "                }\n",
              "\n",
              "                .geemap-colab {\n",
              "                    background-color: var(--colab-primary-surface-color, white);\n",
              "                }\n",
              "\n",
              "                .geemap-colab .jupyter-button {\n",
              "                    --jp-layout-color3: var(--colab-primary-surface-color, white);\n",
              "                }\n",
              "            </style>\n",
              "            "
            ],
            "text/plain": [
              "<IPython.core.display.HTML object>"
            ]
          },
          "metadata": {},
          "output_type": "display_data"
        }
      ],
      "source": [
        "def image_generation(df,image_id):\n",
        "    for i,row in df.iterrows():\n",
        "        image=image_download(row.ID,row.lon,row.lat,image_id,sat=_sat_,band=_band_,sdate=\"2024-04-14\",edate=\"2024-05-04\")\n",
        "        image.save(_PROJECT_BASE_+_IMAGES_+\"/\"+str(int(row.ID))+'_'+str(int(row.TARGET))+\"_\"+image_id+\".jpg\")\n",
        "        print(str(i).rjust(3,'0'),end=\".\")\n",
        "        if i % 20==0:\n",
        "            print(\"*\")"
      ]
    },
    {
      "cell_type": "code",
      "execution_count": null,
      "metadata": {
        "colab": {
          "base_uri": "https://localhost:8080/",
          "height": 17
        },
        "id": "KjuyREwoeo88",
        "outputId": "81c17921-6235-497f-8c9e-93dec730e49a"
      },
      "outputs": [
        {
          "data": {
            "text/html": [
              "\n",
              "            <style>\n",
              "                .geemap-dark {\n",
              "                    --jp-widgets-color: white;\n",
              "                    --jp-widgets-label-color: white;\n",
              "                    --jp-ui-font-color1: white;\n",
              "                    --jp-layout-color2: #454545;\n",
              "                    background-color: #383838;\n",
              "                }\n",
              "\n",
              "                .geemap-dark .jupyter-button {\n",
              "                    --jp-layout-color3: #383838;\n",
              "                }\n",
              "\n",
              "                .geemap-colab {\n",
              "                    background-color: var(--colab-primary-surface-color, white);\n",
              "                }\n",
              "\n",
              "                .geemap-colab .jupyter-button {\n",
              "                    --jp-layout-color3: var(--colab-primary-surface-color, white);\n",
              "                }\n",
              "            </style>\n",
              "            "
            ],
            "text/plain": [
              "<IPython.core.display.HTML object>"
            ]
          },
          "metadata": {},
          "output_type": "display_data"
        }
      ],
      "source": [
        "_sat_=None\n",
        "_band_=None\n",
        "_image_id_=\"kenya\""
      ]
    },
    {
      "cell_type": "code",
      "execution_count": null,
      "metadata": {
        "colab": {
          "base_uri": "https://localhost:8080/",
          "height": 902
        },
        "id": "lxMIU4aG66fM",
        "outputId": "316fd1b1-22dc-4cae-f628-973f963a9344"
      },
      "outputs": [
        {
          "data": {
            "text/html": [
              "\n",
              "            <style>\n",
              "                .geemap-dark {\n",
              "                    --jp-widgets-color: white;\n",
              "                    --jp-widgets-label-color: white;\n",
              "                    --jp-ui-font-color1: white;\n",
              "                    --jp-layout-color2: #454545;\n",
              "                    background-color: #383838;\n",
              "                }\n",
              "\n",
              "                .geemap-dark .jupyter-button {\n",
              "                    --jp-layout-color3: #383838;\n",
              "                }\n",
              "\n",
              "                .geemap-colab {\n",
              "                    background-color: var(--colab-primary-surface-color, white);\n",
              "                }\n",
              "\n",
              "                .geemap-colab .jupyter-button {\n",
              "                    --jp-layout-color3: var(--colab-primary-surface-color, white);\n",
              "                }\n",
              "            </style>\n",
              "            "
            ],
            "text/plain": [
              "<IPython.core.display.HTML object>"
            ]
          },
          "metadata": {},
          "output_type": "display_data"
        },
        {
          "name": "stdout",
          "output_type": "stream",
          "text": [
            "000.*\n",
            "001.002.003.004.005.006.007.008.009.010.011.012.013.014.015.016.017.018.019.020.*\n",
            "021.022.023.024.025.026.027.028.029.030.031.032.033.034.035.036.037.038.039.040.*\n",
            "041.042.043.044.045.046.047.048.049.050.051.052.053.054.055.056.057.058.059.060.*\n",
            "061.062.063.064.065.066.067.068.069.070.071.072.073.074.075.076.077.078.079.080.*\n",
            "081.082.083.084.085.086.087.088.089.090.091.092.093.094.095.096.097.098.099.100.*\n",
            "101.102.103.104.105.106.107.108.109.110.111.112.113.114.115.116.117.118.119.120.*\n",
            "121.122.123.124.125.126.127.128.129.130.131.132.133.134.135.136.137.138.139.140.*\n",
            "141.142.143.144.145.146.147.148.149.150.151.152.153.154.155.156.157.158.159.160.*\n",
            "161.162.163.164.165.166.167.168.169.170.171.172.173.174.175.176.177.178.179.180.*\n",
            "181.182.183.184.185.186.187.188.189.190.191.192.193.194.195.196.197.198.199.200.*\n",
            "201.202.203.204.205.206.207.208.209.210.211.212.213.214.215.216.217.218.219.220.*\n",
            "221.222.223.224.225.226.227.228.229.230.231.232.233.234.235.236.237.238.239.240.*\n",
            "241.242.243.244.245.246.247.248.249.250.251.252.253.254.255.256.257.258.259.260.*\n",
            "261.262.263.264.265.266.267.268.269.270.271.272.273.274.275.276.277.278.279.280.*\n",
            "281.282.283.284.285.286.287.288.289.290.291.292.293.294.295.296.297.298.299.300.*\n",
            "301.302.303.304.305.306.307.308.309.310.311.312.313.314.315.316.317.318.319.320.*\n",
            "321.322.323.324.325.326.327.328.329.330.331.332.333.334.335.336.337.338.339.340.*\n",
            "341.342.343.344.345.346.347.348.349.350.351.352.353.354.355.356.357.358.359.360.*\n",
            "361.362.363.364.365.366.367.368.369.370.371.372.373.374.375.376.377.378.379.380.*\n",
            "381.382.383.384.385.386.387.388.389.390.391.392.393.394.395.396.397.398.399.400.*\n",
            "401.402.403.404.405.406.407.408.409.410.411.412.413.414.415.416.417.418.419.420.*\n",
            "421.422.423.424.425.426.427.428.429.430.431.432.433.434.435.436.437.438.439.440.*\n",
            "441.442.443.444.445.446.447.448.449.450.451.452.453.454.455.456.457.458.459.460.*\n",
            "461.462.463.464.465.466.467.468.469.470.471.472.473.474.475.476.477.478.479.480.*\n",
            "481.482.483.484.485.486.487.488.489.490.491.492.493.494.495.496.497.498.499.500.*\n",
            "501.502.503.504.505.506.507.508.509.510.511.512.513.514.515.516.517.518.519.520.*\n",
            "521.522.523.524.525.526.527.528.529.530.531.532.533.534.535.536.537.538.539.540.*\n",
            "541.542.543.544.545.546.547.548.549.550.551.552.553.554.555.556.557.558.559.560.*\n",
            "561.562.563.564.565.566.567.568.569.570.571.572.573.574.575.576.577.578.579.580.*\n",
            "581.582.583.584.585.586.587.588.589.590.591.592.593.594.595.596.597.598.599.600.*\n",
            "601.602.603.604.605.606.607.608.609.610.611.612.613.614.615.616.617.618.619.620.*\n",
            "621.622.623.624.625.626.627.628.629.630.631.632.633.634.635.636.637.638.639.640.*\n",
            "641.642.643.644.645.646.647.648.649.650.651.652.653.654.655.656.657.658.659.660.*\n",
            "661.662.663.664.665.666.667.668.669.670.671.672.673.674.675.676.677.678.679.680.*\n",
            "681.682.683.684.685.686.687.688.689.690.691.692.693.694.695.696.697.698.699.700.*\n",
            "701.702.703.704.705.706.707.708.709.710.711.712.713.714.715.716.717.718.719.720.*\n",
            "721.722.723.724.725.726.727.728.729.730.731.732.733.734.735.736.737.738.739.740.*\n",
            "741.742.743.744.745.746.747.748.749.750.751.752.753.754.755.756.757.758.759.760.*\n",
            "761.762.763.764.765.766.767.768.769.770.771.772.773.774.775.776.777.778.779.780.*\n",
            "781.782.783.784.785.786.787.788.789.790.791.792.793.794.795.796.797.798.799.800.*\n",
            "801.802.803.804.805.806.807.808.809.810.811.812.813.814.815.816.817.818.819.820.*\n",
            "821.822.823.824.825.826.827.828.829.830.831.832.833.834.835.836.837.838.839.840.*\n",
            "841.842.843.844.845.846.847.848.849.850.851.852.853.854.855.856.857.858.859.860.*\n",
            "861.862.863.864.865.866.867.868.869.870.871.872.873.874.875.876.877.878.879.880.*\n",
            "881.882.883.884.885.886.887.888.889.890.891.892.893.894.895.896.897.898.899.900.*\n",
            "901.902.903.904.905.906.907.908.909.910.911.912.913.914.915.916.917.918.919.920.*\n",
            "921.922.923.924.925.926.927.928.929.930.931.932.933.934.935.936.937.938.939.940.*\n",
            "941.942.943.944.945.946.947.948.949.950.951.952.953.954.955.956.957.958.959.960.*\n",
            "961.962.963.964.965.966.967.968.969.970.971.972.973.974.975.976.977.978.979.980.*\n",
            "981.982.983.984.985.986.987.988.989.990.991.992.993.994.995.996.997."
          ]
        }
      ],
      "source": [
        "image_generation(df_kenya,_image_id_)"
      ]
    },
    {
      "cell_type": "code",
      "execution_count": null,
      "metadata": {
        "colab": {
          "base_uri": "https://localhost:8080/",
          "height": 17
        },
        "id": "FH2KjYXIEb3f",
        "outputId": "b0a52603-93a2-482e-a2e8-2683901564dc"
      },
      "outputs": [
        {
          "data": {
            "text/html": [
              "\n",
              "            <style>\n",
              "                .geemap-dark {\n",
              "                    --jp-widgets-color: white;\n",
              "                    --jp-widgets-label-color: white;\n",
              "                    --jp-ui-font-color1: white;\n",
              "                    --jp-layout-color2: #454545;\n",
              "                    background-color: #383838;\n",
              "                }\n",
              "\n",
              "                .geemap-dark .jupyter-button {\n",
              "                    --jp-layout-color3: #383838;\n",
              "                }\n",
              "\n",
              "                .geemap-colab {\n",
              "                    background-color: var(--colab-primary-surface-color, white);\n",
              "                }\n",
              "\n",
              "                .geemap-colab .jupyter-button {\n",
              "                    --jp-layout-color3: var(--colab-primary-surface-color, white);\n",
              "                }\n",
              "            </style>\n",
              "            "
            ],
            "text/plain": [
              "<IPython.core.display.HTML object>"
            ]
          },
          "metadata": {},
          "output_type": "display_data"
        }
      ],
      "source": [
        "df_spain=pandas.read_csv(_PROJECT_BASE_+_ORIG_+\"/Spain_training.csv\")\n",
        "_image_id_=\"spain\""
      ]
    },
    {
      "cell_type": "code",
      "execution_count": null,
      "metadata": {
        "colab": {
          "base_uri": "https://localhost:8080/",
          "height": 781
        },
        "id": "3fQ2gO2iEvnd",
        "outputId": "a57a4c1d-b1a8-4a27-b563-4f712636f2a7"
      },
      "outputs": [
        {
          "data": {
            "text/html": [
              "\n",
              "            <style>\n",
              "                .geemap-dark {\n",
              "                    --jp-widgets-color: white;\n",
              "                    --jp-widgets-label-color: white;\n",
              "                    --jp-ui-font-color1: white;\n",
              "                    --jp-layout-color2: #454545;\n",
              "                    background-color: #383838;\n",
              "                }\n",
              "\n",
              "                .geemap-dark .jupyter-button {\n",
              "                    --jp-layout-color3: #383838;\n",
              "                }\n",
              "\n",
              "                .geemap-colab {\n",
              "                    background-color: var(--colab-primary-surface-color, white);\n",
              "                }\n",
              "\n",
              "                .geemap-colab .jupyter-button {\n",
              "                    --jp-layout-color3: var(--colab-primary-surface-color, white);\n",
              "                }\n",
              "            </style>\n",
              "            "
            ],
            "text/plain": [
              "<IPython.core.display.HTML object>"
            ]
          },
          "metadata": {},
          "output_type": "display_data"
        },
        {
          "name": "stdout",
          "output_type": "stream",
          "text": [
            "000.*\n",
            "001.002.003.004.005.006.007.008.009.010.011.012.013.014.015.016.017.018.019.020.*\n",
            "021.022.023.024.025.026.027.028.029.030.031.032.033.034.035.036.037.038.039.040.*\n",
            "041.042.043.044.045.046.047.048.049.050.051.052.053.054.055.056.057.058.059.060.*\n",
            "061.062.063.064.065.066.067.068.069.070.071.072.073.074.075.076.077.078.079.080.*\n",
            "081.082.083.084.085.086.087.088.089.090.091.092.093.094.095.096.097.098.099.100.*\n",
            "101.102.103.104.105.106.107.108.109.110.111.112.113.114.115.116.117.118.119.120.*\n",
            "121.122.123.124.125.126.127.128.129.130.131.132.133.134.135.136.137.138.139.140.*\n",
            "141.142.143.144.145.146.147.148.149.150.151.152.153.154.155.156.157.158.159.160.*\n",
            "161.162.163.164.165.166.167.168.169.170.171.172.173.174.175.176.177.178.179.180.*\n",
            "181.182.183.184.185.186.187.188.189.190.191.192.193.194.195.196.197.198.199.200.*\n",
            "201.202.203.204.205.206.207.208.209.210.211.212.213.214.215.216.217.218.219.220.*\n",
            "221.222.223.224.225.226.227.228.229.230.231.232.233.234.235.236.237.238.239.240.*\n",
            "241.242.243.244.245.246.247.248.249.250.251.252.253.254.255.256.257.258.259.260.*\n",
            "261.262.263.264.265.266.267.268.269.270.271.272.273.274.275.276.277.278.279.280.*\n",
            "281.282.283.284.285.286.287.288.289.290.291.292.293.294.295.296.297.298.299.300.*\n",
            "301.302.303.304.305.306.307.308.309.310.311.312.313.314.315.316.317.318.319.320.*\n",
            "321.322.323.324.325.326.327.328.329.330.331.332.333.334.335.336.337.338.339.340.*\n",
            "341.342.343.344.345.346.347.348.349.350.351.352.353.354.355.356.357.358.359.360.*\n",
            "361.362.363.364.365.366.367.368.369.370.371.372.373.374.375.376.377.378.379.380.*\n",
            "381.382.383.384.385.386.387.388.389.390.391.392.393.394.395.396.397.398.399.400.*\n",
            "401.402.403.404.405.406.407.408.409.410.411.412.413.414.415.416.417.418.419.420.*\n",
            "421.422.423.424.425.426.427.428.429.430.431.432.433.434.435.436.437.438.439.440.*\n",
            "441.442.443.444.445.446.447.448.449.450.451.452.453.454.455.456.457.458.459.460.*\n",
            "461.462.463.464.465.466.467.468.469.470.471.472.473.474.475.476.477.478.479.480.*\n",
            "481.482.483.484.485.486.487.488.489.490.491.492.493.494.495.496.497.498.499.500.*\n",
            "501.502.503.504.505.506.507.508.509.510.511.512.513.514.515.516.517.518.519.520.*\n",
            "521.522.523.524.525.526.527.528.529.530.531.532.533.534.535.536.537.538.539.540.*\n",
            "541.542.543.544.545.546.547.548.549.550.551.552.553.554.555.556.557.558.559.560.*\n",
            "561.562.563.564.565.566.567.568.569.570.571.572.573.574.575.576.577.578.579.580.*\n",
            "581.582.583.584.585.586.587.588.589.590.591.592.593.594.595.596.597.598.599.600.*\n",
            "601.602.603.604.605.606.607.608.609.610.611.612.613.614.615.616.617.618.619.620.*\n",
            "621.622.623.624.625.626.627.628.629.630.631.632.633.634.635.636.637.638.639.640.*\n",
            "641.642.643.644.645.646.647.648.649.650.651.652.653.654.655.656.657.658.659.660.*\n",
            "661.662.663.664.665.666.667.668.669.670.671.672.673.674.675.676.677.678.679.680.*\n",
            "681.682.683.684.685.686.687.688.689.690.691.692.693.694.695.696.697.698.699.700.*\n",
            "701.702.703.704.705.706.707.708.709.710.711.712.713.714.715.716.717.718.719.720.*\n",
            "721.722.723.724.725.726.727.728.729.730.731.732.733.734.735.736.737.738.739.740.*\n",
            "741.742.743.744.745.746.747.748.749.750.751.752.753.754.755.756.757.758.759.760.*\n",
            "761.762.763.764.765.766.767.768.769.770.771.772.773.774.775.776.777.778.779.780.*\n",
            "781.782.783.784.785.786.787.788.789.790.791.792.793.794.795.796.797.798.799.800.*\n",
            "801.802.803.804.805.806.807.808.809.810.811.812.813.814.815.816.817.818.819.820.*\n",
            "821.822.823.824.825.826.827.828.829.830.831.832.833.834.835.836.837.838.839.840.*\n",
            "841.842.843.844.845.846.847.848.849.850.851.852.853.854.855.856.857."
          ]
        }
      ],
      "source": [
        "image_generation(df_spain,_image_id_)"
      ]
    },
    {
      "cell_type": "code",
      "execution_count": null,
      "metadata": {
        "colab": {
          "base_uri": "https://localhost:8080/",
          "height": 17
        },
        "id": "UVo-1ZdEFKFb",
        "outputId": "f8722df2-6528-40e9-b6db-c265235e5ba4"
      },
      "outputs": [
        {
          "data": {
            "text/html": [
              "\n",
              "            <style>\n",
              "                .geemap-dark {\n",
              "                    --jp-widgets-color: white;\n",
              "                    --jp-widgets-label-color: white;\n",
              "                    --jp-ui-font-color1: white;\n",
              "                    --jp-layout-color2: #454545;\n",
              "                    background-color: #383838;\n",
              "                }\n",
              "\n",
              "                .geemap-dark .jupyter-button {\n",
              "                    --jp-layout-color3: #383838;\n",
              "                }\n",
              "\n",
              "                .geemap-colab {\n",
              "                    background-color: var(--colab-primary-surface-color, white);\n",
              "                }\n",
              "\n",
              "                .geemap-colab .jupyter-button {\n",
              "                    --jp-layout-color3: var(--colab-primary-surface-color, white);\n",
              "                }\n",
              "            </style>\n",
              "            "
            ],
            "text/plain": [
              "<IPython.core.display.HTML object>"
            ]
          },
          "metadata": {},
          "output_type": "display_data"
        }
      ],
      "source": [
        "df_vnm=pandas.read_csv(_PROJECT_BASE_+_ORIG_+\"/VNM_training.csv\")\n",
        "_image_id_=\"vnm\""
      ]
    },
    {
      "cell_type": "code",
      "execution_count": null,
      "metadata": {
        "colab": {
          "base_uri": "https://localhost:8080/",
          "height": 226
        },
        "id": "0ACXS2X57fZN",
        "outputId": "50a9560b-8d0c-42ca-dfb2-0d240d479307"
      },
      "outputs": [
        {
          "data": {
            "text/html": [
              "\n",
              "            <style>\n",
              "                .geemap-dark {\n",
              "                    --jp-widgets-color: white;\n",
              "                    --jp-widgets-label-color: white;\n",
              "                    --jp-ui-font-color1: white;\n",
              "                    --jp-layout-color2: #454545;\n",
              "                    background-color: #383838;\n",
              "                }\n",
              "\n",
              "                .geemap-dark .jupyter-button {\n",
              "                    --jp-layout-color3: #383838;\n",
              "                }\n",
              "\n",
              "                .geemap-colab {\n",
              "                    background-color: var(--colab-primary-surface-color, white);\n",
              "                }\n",
              "\n",
              "                .geemap-colab .jupyter-button {\n",
              "                    --jp-layout-color3: var(--colab-primary-surface-color, white);\n",
              "                }\n",
              "            </style>\n",
              "            "
            ],
            "text/plain": [
              "<IPython.core.display.HTML object>"
            ]
          },
          "metadata": {},
          "output_type": "display_data"
        },
        {
          "data": {
            "application/vnd.google.colaboratory.intrinsic+json": {
              "summary": "{\n  \"name\": \"df_vnm\",\n  \"rows\": 969,\n  \"fields\": [\n    {\n      \"column\": \"ID\",\n      \"properties\": {\n        \"dtype\": \"number\",\n        \"std\": 279,\n        \"min\": 1,\n        \"max\": 969,\n        \"num_unique_values\": 969,\n        \"samples\": [\n          576,\n          260,\n          389\n        ],\n        \"semantic_type\": \"\",\n        \"description\": \"\"\n      }\n    },\n    {\n      \"column\": \"Lon\",\n      \"properties\": {\n        \"dtype\": \"number\",\n        \"std\": 0.08213609259508034,\n        \"min\": 108.0610854,\n        \"max\": 108.4987446,\n        \"num_unique_values\": 793,\n        \"samples\": [\n          108.3967858,\n          108.3993011,\n          108.3724415\n        ],\n        \"semantic_type\": \"\",\n        \"description\": \"\"\n      }\n    },\n    {\n      \"column\": \"Lat\",\n      \"properties\": {\n        \"dtype\": \"number\",\n        \"std\": 0.19111250977997735,\n        \"min\": 11.30291732,\n        \"max\": 12.26636046,\n        \"num_unique_values\": 869,\n        \"samples\": [\n          12.01582032,\n          11.91251407,\n          11.96093326\n        ],\n        \"semantic_type\": \"\",\n        \"description\": \"\"\n      }\n    },\n    {\n      \"column\": \"blue_p50\",\n      \"properties\": {\n        \"dtype\": \"number\",\n        \"std\": 387.34485914284664,\n        \"min\": 1157.5,\n        \"max\": 4055.0,\n        \"num_unique_values\": 732,\n        \"samples\": [\n          2548.0,\n          2418.0,\n          1970.5\n        ],\n        \"semantic_type\": \"\",\n        \"description\": \"\"\n      }\n    },\n    {\n      \"column\": \"green_p50\",\n      \"properties\": {\n        \"dtype\": \"number\",\n        \"std\": 405.08481332468926,\n        \"min\": 1183.0,\n        \"max\": 4300.0,\n        \"num_unique_values\": 718,\n        \"samples\": [\n          2244.0,\n          2630.0,\n          2624.0\n        ],\n        \"semantic_type\": \"\",\n        \"description\": \"\"\n      }\n    },\n    {\n      \"column\": \"nir_p50\",\n      \"properties\": {\n        \"dtype\": \"number\",\n        \"std\": 654.4757240833961,\n        \"min\": 1441.0,\n        \"max\": 5988.0,\n        \"num_unique_values\": 871,\n        \"samples\": [\n          3980.0,\n          4799.0,\n          3334.0\n        ],\n        \"semantic_type\": \"\",\n        \"description\": \"\"\n      }\n    },\n    {\n      \"column\": \"nira_p50\",\n      \"properties\": {\n        \"dtype\": \"number\",\n        \"std\": 647.3543486051657,\n        \"min\": 1482.0,\n        \"max\": 6244.5,\n        \"num_unique_values\": 879,\n        \"samples\": [\n          3435.0,\n          3729.0,\n          3293.0\n        ],\n        \"semantic_type\": \"\",\n        \"description\": \"\"\n      }\n    },\n    {\n      \"column\": \"re1_p50\",\n      \"properties\": {\n        \"dtype\": \"number\",\n        \"std\": 445.6364522295456,\n        \"min\": 1357.5,\n        \"max\": 5027.0,\n        \"num_unique_values\": 813,\n        \"samples\": [\n          2589.5,\n          1962.5,\n          2069.0\n        ],\n        \"semantic_type\": \"\",\n        \"description\": \"\"\n      }\n    },\n    {\n      \"column\": \"re2_p50\",\n      \"properties\": {\n        \"dtype\": \"number\",\n        \"std\": 513.8783286469453,\n        \"min\": 1528.0,\n        \"max\": 5457.0,\n        \"num_unique_values\": 848,\n        \"samples\": [\n          3387.0,\n          4282.0,\n          3371.5\n        ],\n        \"semantic_type\": \"\",\n        \"description\": \"\"\n      }\n    },\n    {\n      \"column\": \"re3_p50\",\n      \"properties\": {\n        \"dtype\": \"number\",\n        \"std\": 617.5966411016938,\n        \"min\": 1506.5,\n        \"max\": 5981.0,\n        \"num_unique_values\": 873,\n        \"samples\": [\n          4037.5,\n          3015.5,\n          3049.0\n        ],\n        \"semantic_type\": \"\",\n        \"description\": \"\"\n      }\n    },\n    {\n      \"column\": \"red_p50\",\n      \"properties\": {\n        \"dtype\": \"number\",\n        \"std\": 488.4854390254277,\n        \"min\": 1118.0,\n        \"max\": 4720.0,\n        \"num_unique_values\": 755,\n        \"samples\": [\n          1886.0,\n          1781.5,\n          2654.0\n        ],\n        \"semantic_type\": \"\",\n        \"description\": \"\"\n      }\n    },\n    {\n      \"column\": \"swir1_p50\",\n      \"properties\": {\n        \"dtype\": \"number\",\n        \"std\": 666.9658204906906,\n        \"min\": 1345.0,\n        \"max\": 6909.5,\n        \"num_unique_values\": 865,\n        \"samples\": [\n          3459.5,\n          2675.0,\n          4142.5\n        ],\n        \"semantic_type\": \"\",\n        \"description\": \"\"\n      }\n    },\n    {\n      \"column\": \"swir2_p50\",\n      \"properties\": {\n        \"dtype\": \"number\",\n        \"std\": 692.1763781463993,\n        \"min\": 1216.0,\n        \"max\": 7017.0,\n        \"num_unique_values\": 867,\n        \"samples\": [\n          2255.0,\n          2431.0,\n          2499.0\n        ],\n        \"semantic_type\": \"\",\n        \"description\": \"\"\n      }\n    },\n    {\n      \"column\": \"VV_p50\",\n      \"properties\": {\n        \"dtype\": \"number\",\n        \"std\": 3.2060908864335267,\n        \"min\": -20.104712,\n        \"max\": 10.327686,\n        \"num_unique_values\": 969,\n        \"samples\": [\n          -10.789919,\n          -6.4684606,\n          -6.2459755\n        ],\n        \"semantic_type\": \"\",\n        \"description\": \"\"\n      }\n    },\n    {\n      \"column\": \"VH_p50\",\n      \"properties\": {\n        \"dtype\": \"number\",\n        \"std\": 2.847634868757892,\n        \"min\": -26.794939,\n        \"max\": -0.2638729,\n        \"num_unique_values\": 968,\n        \"samples\": [\n          -18.92373,\n          -13.335454,\n          -13.563985\n        ],\n        \"semantic_type\": \"\",\n        \"description\": \"\"\n      }\n    },\n    {\n      \"column\": \"TARGET\",\n      \"properties\": {\n        \"dtype\": \"number\",\n        \"std\": 0,\n        \"min\": 1,\n        \"max\": 2,\n        \"num_unique_values\": 2,\n        \"samples\": [\n          2,\n          1\n        ],\n        \"semantic_type\": \"\",\n        \"description\": \"\"\n      }\n    }\n  ]\n}",
              "type": "dataframe",
              "variable_name": "df_vnm"
            },
            "text/html": [
              "\n",
              "  <div id=\"df-5229dae5-2220-4d7f-9468-0f0d6c1c778f\" class=\"colab-df-container\">\n",
              "    <div>\n",
              "<style scoped>\n",
              "    .dataframe tbody tr th:only-of-type {\n",
              "        vertical-align: middle;\n",
              "    }\n",
              "\n",
              "    .dataframe tbody tr th {\n",
              "        vertical-align: top;\n",
              "    }\n",
              "\n",
              "    .dataframe thead th {\n",
              "        text-align: right;\n",
              "    }\n",
              "</style>\n",
              "<table border=\"1\" class=\"dataframe\">\n",
              "  <thead>\n",
              "    <tr style=\"text-align: right;\">\n",
              "      <th></th>\n",
              "      <th>ID</th>\n",
              "      <th>Lon</th>\n",
              "      <th>Lat</th>\n",
              "      <th>blue_p50</th>\n",
              "      <th>green_p50</th>\n",
              "      <th>nir_p50</th>\n",
              "      <th>nira_p50</th>\n",
              "      <th>re1_p50</th>\n",
              "      <th>re2_p50</th>\n",
              "      <th>re3_p50</th>\n",
              "      <th>red_p50</th>\n",
              "      <th>swir1_p50</th>\n",
              "      <th>swir2_p50</th>\n",
              "      <th>VV_p50</th>\n",
              "      <th>VH_p50</th>\n",
              "      <th>TARGET</th>\n",
              "    </tr>\n",
              "  </thead>\n",
              "  <tbody>\n",
              "    <tr>\n",
              "      <th>0</th>\n",
              "      <td>1</td>\n",
              "      <td>108.307403</td>\n",
              "      <td>11.706890</td>\n",
              "      <td>1772.5</td>\n",
              "      <td>2081.5</td>\n",
              "      <td>4393.0</td>\n",
              "      <td>4322.0</td>\n",
              "      <td>2542.0</td>\n",
              "      <td>3974.5</td>\n",
              "      <td>4315.0</td>\n",
              "      <td>1901.5</td>\n",
              "      <td>2929.5</td>\n",
              "      <td>2324.0</td>\n",
              "      <td>-5.506588</td>\n",
              "      <td>-16.577070</td>\n",
              "      <td>1</td>\n",
              "    </tr>\n",
              "    <tr>\n",
              "      <th>1</th>\n",
              "      <td>2</td>\n",
              "      <td>108.363279</td>\n",
              "      <td>11.778036</td>\n",
              "      <td>2178.0</td>\n",
              "      <td>2347.0</td>\n",
              "      <td>3427.0</td>\n",
              "      <td>3712.0</td>\n",
              "      <td>2658.5</td>\n",
              "      <td>3358.0</td>\n",
              "      <td>3628.5</td>\n",
              "      <td>2313.0</td>\n",
              "      <td>3122.0</td>\n",
              "      <td>2729.5</td>\n",
              "      <td>-7.798610</td>\n",
              "      <td>-14.007271</td>\n",
              "      <td>1</td>\n",
              "    </tr>\n",
              "    <tr>\n",
              "      <th>2</th>\n",
              "      <td>3</td>\n",
              "      <td>108.193946</td>\n",
              "      <td>11.689462</td>\n",
              "      <td>2927.0</td>\n",
              "      <td>3107.0</td>\n",
              "      <td>4365.0</td>\n",
              "      <td>4624.5</td>\n",
              "      <td>3378.0</td>\n",
              "      <td>4221.5</td>\n",
              "      <td>4508.5</td>\n",
              "      <td>3082.0</td>\n",
              "      <td>3921.0</td>\n",
              "      <td>3190.0</td>\n",
              "      <td>-7.652615</td>\n",
              "      <td>-14.319975</td>\n",
              "      <td>1</td>\n",
              "    </tr>\n",
              "    <tr>\n",
              "      <th>3</th>\n",
              "      <td>4</td>\n",
              "      <td>108.200324</td>\n",
              "      <td>11.691618</td>\n",
              "      <td>2175.0</td>\n",
              "      <td>2312.0</td>\n",
              "      <td>3472.5</td>\n",
              "      <td>3613.5</td>\n",
              "      <td>2569.5</td>\n",
              "      <td>3332.0</td>\n",
              "      <td>3558.5</td>\n",
              "      <td>2244.0</td>\n",
              "      <td>3132.5</td>\n",
              "      <td>2610.0</td>\n",
              "      <td>-9.530750</td>\n",
              "      <td>-16.471949</td>\n",
              "      <td>1</td>\n",
              "    </tr>\n",
              "    <tr>\n",
              "      <th>4</th>\n",
              "      <td>5</td>\n",
              "      <td>108.203109</td>\n",
              "      <td>11.694313</td>\n",
              "      <td>2125.0</td>\n",
              "      <td>2235.0</td>\n",
              "      <td>2612.0</td>\n",
              "      <td>2960.0</td>\n",
              "      <td>2548.5</td>\n",
              "      <td>2801.0</td>\n",
              "      <td>2908.0</td>\n",
              "      <td>2320.0</td>\n",
              "      <td>2915.0</td>\n",
              "      <td>2685.5</td>\n",
              "      <td>-9.733130</td>\n",
              "      <td>-18.106146</td>\n",
              "      <td>1</td>\n",
              "    </tr>\n",
              "  </tbody>\n",
              "</table>\n",
              "</div>\n",
              "    <div class=\"colab-df-buttons\">\n",
              "\n",
              "  <div class=\"colab-df-container\">\n",
              "    <button class=\"colab-df-convert\" onclick=\"convertToInteractive('df-5229dae5-2220-4d7f-9468-0f0d6c1c778f')\"\n",
              "            title=\"Convert this dataframe to an interactive table.\"\n",
              "            style=\"display:none;\">\n",
              "\n",
              "  <svg xmlns=\"http://www.w3.org/2000/svg\" height=\"24px\" viewBox=\"0 -960 960 960\">\n",
              "    <path d=\"M120-120v-720h720v720H120Zm60-500h600v-160H180v160Zm220 220h160v-160H400v160Zm0 220h160v-160H400v160ZM180-400h160v-160H180v160Zm440 0h160v-160H620v160ZM180-180h160v-160H180v160Zm440 0h160v-160H620v160Z\"/>\n",
              "  </svg>\n",
              "    </button>\n",
              "\n",
              "  <style>\n",
              "    .colab-df-container {\n",
              "      display:flex;\n",
              "      gap: 12px;\n",
              "    }\n",
              "\n",
              "    .colab-df-convert {\n",
              "      background-color: #E8F0FE;\n",
              "      border: none;\n",
              "      border-radius: 50%;\n",
              "      cursor: pointer;\n",
              "      display: none;\n",
              "      fill: #1967D2;\n",
              "      height: 32px;\n",
              "      padding: 0 0 0 0;\n",
              "      width: 32px;\n",
              "    }\n",
              "\n",
              "    .colab-df-convert:hover {\n",
              "      background-color: #E2EBFA;\n",
              "      box-shadow: 0px 1px 2px rgba(60, 64, 67, 0.3), 0px 1px 3px 1px rgba(60, 64, 67, 0.15);\n",
              "      fill: #174EA6;\n",
              "    }\n",
              "\n",
              "    .colab-df-buttons div {\n",
              "      margin-bottom: 4px;\n",
              "    }\n",
              "\n",
              "    [theme=dark] .colab-df-convert {\n",
              "      background-color: #3B4455;\n",
              "      fill: #D2E3FC;\n",
              "    }\n",
              "\n",
              "    [theme=dark] .colab-df-convert:hover {\n",
              "      background-color: #434B5C;\n",
              "      box-shadow: 0px 1px 3px 1px rgba(0, 0, 0, 0.15);\n",
              "      filter: drop-shadow(0px 1px 2px rgba(0, 0, 0, 0.3));\n",
              "      fill: #FFFFFF;\n",
              "    }\n",
              "  </style>\n",
              "\n",
              "    <script>\n",
              "      const buttonEl =\n",
              "        document.querySelector('#df-5229dae5-2220-4d7f-9468-0f0d6c1c778f button.colab-df-convert');\n",
              "      buttonEl.style.display =\n",
              "        google.colab.kernel.accessAllowed ? 'block' : 'none';\n",
              "\n",
              "      async function convertToInteractive(key) {\n",
              "        const element = document.querySelector('#df-5229dae5-2220-4d7f-9468-0f0d6c1c778f');\n",
              "        const dataTable =\n",
              "          await google.colab.kernel.invokeFunction('convertToInteractive',\n",
              "                                                    [key], {});\n",
              "        if (!dataTable) return;\n",
              "\n",
              "        const docLinkHtml = 'Like what you see? Visit the ' +\n",
              "          '<a target=\"_blank\" href=https://colab.research.google.com/notebooks/data_table.ipynb>data table notebook</a>'\n",
              "          + ' to learn more about interactive tables.';\n",
              "        element.innerHTML = '';\n",
              "        dataTable['output_type'] = 'display_data';\n",
              "        await google.colab.output.renderOutput(dataTable, element);\n",
              "        const docLink = document.createElement('div');\n",
              "        docLink.innerHTML = docLinkHtml;\n",
              "        element.appendChild(docLink);\n",
              "      }\n",
              "    </script>\n",
              "  </div>\n",
              "\n",
              "\n",
              "<div id=\"df-a66a0839-d2b4-4412-a8b1-0d91f97c3a22\">\n",
              "  <button class=\"colab-df-quickchart\" onclick=\"quickchart('df-a66a0839-d2b4-4412-a8b1-0d91f97c3a22')\"\n",
              "            title=\"Suggest charts\"\n",
              "            style=\"display:none;\">\n",
              "\n",
              "<svg xmlns=\"http://www.w3.org/2000/svg\" height=\"24px\"viewBox=\"0 0 24 24\"\n",
              "     width=\"24px\">\n",
              "    <g>\n",
              "        <path d=\"M19 3H5c-1.1 0-2 .9-2 2v14c0 1.1.9 2 2 2h14c1.1 0 2-.9 2-2V5c0-1.1-.9-2-2-2zM9 17H7v-7h2v7zm4 0h-2V7h2v10zm4 0h-2v-4h2v4z\"/>\n",
              "    </g>\n",
              "</svg>\n",
              "  </button>\n",
              "\n",
              "<style>\n",
              "  .colab-df-quickchart {\n",
              "      --bg-color: #E8F0FE;\n",
              "      --fill-color: #1967D2;\n",
              "      --hover-bg-color: #E2EBFA;\n",
              "      --hover-fill-color: #174EA6;\n",
              "      --disabled-fill-color: #AAA;\n",
              "      --disabled-bg-color: #DDD;\n",
              "  }\n",
              "\n",
              "  [theme=dark] .colab-df-quickchart {\n",
              "      --bg-color: #3B4455;\n",
              "      --fill-color: #D2E3FC;\n",
              "      --hover-bg-color: #434B5C;\n",
              "      --hover-fill-color: #FFFFFF;\n",
              "      --disabled-bg-color: #3B4455;\n",
              "      --disabled-fill-color: #666;\n",
              "  }\n",
              "\n",
              "  .colab-df-quickchart {\n",
              "    background-color: var(--bg-color);\n",
              "    border: none;\n",
              "    border-radius: 50%;\n",
              "    cursor: pointer;\n",
              "    display: none;\n",
              "    fill: var(--fill-color);\n",
              "    height: 32px;\n",
              "    padding: 0;\n",
              "    width: 32px;\n",
              "  }\n",
              "\n",
              "  .colab-df-quickchart:hover {\n",
              "    background-color: var(--hover-bg-color);\n",
              "    box-shadow: 0 1px 2px rgba(60, 64, 67, 0.3), 0 1px 3px 1px rgba(60, 64, 67, 0.15);\n",
              "    fill: var(--button-hover-fill-color);\n",
              "  }\n",
              "\n",
              "  .colab-df-quickchart-complete:disabled,\n",
              "  .colab-df-quickchart-complete:disabled:hover {\n",
              "    background-color: var(--disabled-bg-color);\n",
              "    fill: var(--disabled-fill-color);\n",
              "    box-shadow: none;\n",
              "  }\n",
              "\n",
              "  .colab-df-spinner {\n",
              "    border: 2px solid var(--fill-color);\n",
              "    border-color: transparent;\n",
              "    border-bottom-color: var(--fill-color);\n",
              "    animation:\n",
              "      spin 1s steps(1) infinite;\n",
              "  }\n",
              "\n",
              "  @keyframes spin {\n",
              "    0% {\n",
              "      border-color: transparent;\n",
              "      border-bottom-color: var(--fill-color);\n",
              "      border-left-color: var(--fill-color);\n",
              "    }\n",
              "    20% {\n",
              "      border-color: transparent;\n",
              "      border-left-color: var(--fill-color);\n",
              "      border-top-color: var(--fill-color);\n",
              "    }\n",
              "    30% {\n",
              "      border-color: transparent;\n",
              "      border-left-color: var(--fill-color);\n",
              "      border-top-color: var(--fill-color);\n",
              "      border-right-color: var(--fill-color);\n",
              "    }\n",
              "    40% {\n",
              "      border-color: transparent;\n",
              "      border-right-color: var(--fill-color);\n",
              "      border-top-color: var(--fill-color);\n",
              "    }\n",
              "    60% {\n",
              "      border-color: transparent;\n",
              "      border-right-color: var(--fill-color);\n",
              "    }\n",
              "    80% {\n",
              "      border-color: transparent;\n",
              "      border-right-color: var(--fill-color);\n",
              "      border-bottom-color: var(--fill-color);\n",
              "    }\n",
              "    90% {\n",
              "      border-color: transparent;\n",
              "      border-bottom-color: var(--fill-color);\n",
              "    }\n",
              "  }\n",
              "</style>\n",
              "\n",
              "  <script>\n",
              "    async function quickchart(key) {\n",
              "      const quickchartButtonEl =\n",
              "        document.querySelector('#' + key + ' button');\n",
              "      quickchartButtonEl.disabled = true;  // To prevent multiple clicks.\n",
              "      quickchartButtonEl.classList.add('colab-df-spinner');\n",
              "      try {\n",
              "        const charts = await google.colab.kernel.invokeFunction(\n",
              "            'suggestCharts', [key], {});\n",
              "      } catch (error) {\n",
              "        console.error('Error during call to suggestCharts:', error);\n",
              "      }\n",
              "      quickchartButtonEl.classList.remove('colab-df-spinner');\n",
              "      quickchartButtonEl.classList.add('colab-df-quickchart-complete');\n",
              "    }\n",
              "    (() => {\n",
              "      let quickchartButtonEl =\n",
              "        document.querySelector('#df-a66a0839-d2b4-4412-a8b1-0d91f97c3a22 button');\n",
              "      quickchartButtonEl.style.display =\n",
              "        google.colab.kernel.accessAllowed ? 'block' : 'none';\n",
              "    })();\n",
              "  </script>\n",
              "</div>\n",
              "\n",
              "    </div>\n",
              "  </div>\n"
            ],
            "text/plain": [
              "   ID         Lon        Lat  blue_p50  green_p50  nir_p50  nira_p50  re1_p50  \\\n",
              "0   1  108.307403  11.706890    1772.5     2081.5   4393.0    4322.0   2542.0   \n",
              "1   2  108.363279  11.778036    2178.0     2347.0   3427.0    3712.0   2658.5   \n",
              "2   3  108.193946  11.689462    2927.0     3107.0   4365.0    4624.5   3378.0   \n",
              "3   4  108.200324  11.691618    2175.0     2312.0   3472.5    3613.5   2569.5   \n",
              "4   5  108.203109  11.694313    2125.0     2235.0   2612.0    2960.0   2548.5   \n",
              "\n",
              "   re2_p50  re3_p50  red_p50  swir1_p50  swir2_p50    VV_p50     VH_p50  \\\n",
              "0   3974.5   4315.0   1901.5     2929.5     2324.0 -5.506588 -16.577070   \n",
              "1   3358.0   3628.5   2313.0     3122.0     2729.5 -7.798610 -14.007271   \n",
              "2   4221.5   4508.5   3082.0     3921.0     3190.0 -7.652615 -14.319975   \n",
              "3   3332.0   3558.5   2244.0     3132.5     2610.0 -9.530750 -16.471949   \n",
              "4   2801.0   2908.0   2320.0     2915.0     2685.5 -9.733130 -18.106146   \n",
              "\n",
              "   TARGET  \n",
              "0       1  \n",
              "1       1  \n",
              "2       1  \n",
              "3       1  \n",
              "4       1  "
            ]
          },
          "execution_count": 52,
          "metadata": {},
          "output_type": "execute_result"
        }
      ],
      "source": [
        "df_vnm.head()"
      ]
    },
    {
      "cell_type": "code",
      "execution_count": null,
      "metadata": {
        "colab": {
          "base_uri": "https://localhost:8080/",
          "height": 17
        },
        "id": "KzkS4flk7kd2",
        "outputId": "86e19463-443d-4e5f-8111-4837aca767b7"
      },
      "outputs": [
        {
          "data": {
            "text/html": [
              "\n",
              "            <style>\n",
              "                .geemap-dark {\n",
              "                    --jp-widgets-color: white;\n",
              "                    --jp-widgets-label-color: white;\n",
              "                    --jp-ui-font-color1: white;\n",
              "                    --jp-layout-color2: #454545;\n",
              "                    background-color: #383838;\n",
              "                }\n",
              "\n",
              "                .geemap-dark .jupyter-button {\n",
              "                    --jp-layout-color3: #383838;\n",
              "                }\n",
              "\n",
              "                .geemap-colab {\n",
              "                    background-color: var(--colab-primary-surface-color, white);\n",
              "                }\n",
              "\n",
              "                .geemap-colab .jupyter-button {\n",
              "                    --jp-layout-color3: var(--colab-primary-surface-color, white);\n",
              "                }\n",
              "            </style>\n",
              "            "
            ],
            "text/plain": [
              "<IPython.core.display.HTML object>"
            ]
          },
          "metadata": {},
          "output_type": "display_data"
        }
      ],
      "source": [
        "df_vnm['lon']=df_vnm[\"Lon\"]\n",
        "df_vnm['lat']=df_vnm[\"Lat\"]"
      ]
    },
    {
      "cell_type": "code",
      "execution_count": null,
      "metadata": {
        "colab": {
          "base_uri": "https://localhost:8080/",
          "height": 885
        },
        "id": "EqFKlc5YHHUX",
        "outputId": "0094540f-7b69-4162-e2a0-9baa1b926c09"
      },
      "outputs": [
        {
          "data": {
            "text/html": [
              "\n",
              "            <style>\n",
              "                .geemap-dark {\n",
              "                    --jp-widgets-color: white;\n",
              "                    --jp-widgets-label-color: white;\n",
              "                    --jp-ui-font-color1: white;\n",
              "                    --jp-layout-color2: #454545;\n",
              "                    background-color: #383838;\n",
              "                }\n",
              "\n",
              "                .geemap-dark .jupyter-button {\n",
              "                    --jp-layout-color3: #383838;\n",
              "                }\n",
              "\n",
              "                .geemap-colab {\n",
              "                    background-color: var(--colab-primary-surface-color, white);\n",
              "                }\n",
              "\n",
              "                .geemap-colab .jupyter-button {\n",
              "                    --jp-layout-color3: var(--colab-primary-surface-color, white);\n",
              "                }\n",
              "            </style>\n",
              "            "
            ],
            "text/plain": [
              "<IPython.core.display.HTML object>"
            ]
          },
          "metadata": {},
          "output_type": "display_data"
        },
        {
          "name": "stdout",
          "output_type": "stream",
          "text": [
            "000.*\n",
            "001.002.003.004.005.006.007.008.009.010.011.012.013.014.015.016.017.018.019.020.*\n",
            "021.022.023.024.025.026.027.028.029.030.031.032.033.034.035.036.037.038.039.040.*\n",
            "041.042.043.044.045.046.047.048.049.050.051.052.053.054.055.056.057.058.059.060.*\n",
            "061.062.063.064.065.066.067.068.069.070.071.072.073.074.075.076.077.078.079.080.*\n",
            "081.082.083.084.085.086.087.088.089.090.091.092.093.094.095.096.097.098.099.100.*\n",
            "101.102.103.104.105.106.107.108.109.110.111.112.113.114.115.116.117.118.119.120.*\n",
            "121.122.123.124.125.126.127.128.129.130.131.132.133.134.135.136.137.138.139.140.*\n",
            "141.142.143.144.145.146.147.148.149.150.151.152.153.154.155.156.157.158.159.160.*\n",
            "161.162.163.164.165.166.167.168.169.170.171.172.173.174.175.176.177.178.179.180.*\n",
            "181.182.183.184.185.186.187.188.189.190.191.192.193.194.195.196.197.198.199.200.*\n",
            "201.202.203.204.205.206.207.208.209.210.211.212.213.214.215.216.217.218.219.220.*\n",
            "221.222.223.224.225.226.227.228.229.230.231.232.233.234.235.236.237.238.239.240.*\n",
            "241.242.243.244.245.246.247.248.249.250.251.252.253.254.255.256.257.258.259.260.*\n",
            "261.262.263.264.265.266.267.268.269.270.271.272.273.274.275.276.277.278.279.280.*\n",
            "281.282.283.284.285.286.287.288.289.290.291.292.293.294.295.296.297.298.299.300.*\n",
            "301.302.303.304.305.306.307.308.309.310.311.312.313.314.315.316.317.318.319.320.*\n",
            "321.322.323.324.325.326.327.328.329.330.331.332.333.334.335.336.337.338.339.340.*\n",
            "341.342.343.344.345.346.347.348.349.350.351.352.353.354.355.356.357.358.359.360.*\n",
            "361.362.363.364.365.366.367.368.369.370.371.372.373.374.375.376.377.378.379.380.*\n",
            "381.382.383.384.385.386.387.388.389.390.391.392.393.394.395.396.397.398.399.400.*\n",
            "401.402.403.404.405.406.407.408.409.410.411.412.413.414.415.416.417.418.419.420.*\n",
            "421.422.423.424.425.426.427.428.429.430.431.432.433.434.435.436.437.438.439.440.*\n",
            "441.442.443.444.445.446.447.448.449.450.451.452.453.454.455.456.457.458.459.460.*\n",
            "461.462.463.464.465.466.467.468.469.470.471.472.473.474.475.476.477.478.479.480.*\n",
            "481.482.483.484.485.486.487.488.489.490.491.492.493.494.495.496.497.498.499.500.*\n",
            "501.502.503.504.505.506.507.508.509.510.511.512.513.514.515.516.517.518.519.520.*\n",
            "521.522.523.524.525.526.527.528.529.530.531.532.533.534.535.536.537.538.539.540.*\n",
            "541.542.543.544.545.546.547.548.549.550.551.552.553.554.555.556.557.558.559.560.*\n",
            "561.562.563.564.565.566.567.568.569.570.571.572.573.574.575.576.577.578.579.580.*\n",
            "581.582.583.584.585.586.587.588.589.590.591.592.593.594.595.596.597.598.599.600.*\n",
            "601.602.603.604.605.606.607.608.609.610.611.612.613.614.615.616.617.618.619.620.*\n",
            "621.622.623.624.625.626.627.628.629.630.631.632.633.634.635.636.637.638.639.640.*\n",
            "641.642.643.644.645.646.647.648.649.650.651.652.653.654.655.656.657.658.659.660.*\n",
            "661.662.663.664.665.666.667.668.669.670.671.672.673.674.675.676.677.678.679.680.*\n",
            "681.682.683.684.685.686.687.688.689.690.691.692.693.694.695.696.697.698.699.700.*\n",
            "701.702.703.704.705.706.707.708.709.710.711.712.713.714.715.716.717.718.719.720.*\n",
            "721.722.723.724.725.726.727.728.729.730.731.732.733.734.735.736.737.738.739.740.*\n",
            "741.742.743.744.745.746.747.748.749.750.751.752.753.754.755.756.757.758.759.760.*\n",
            "761.762.763.764.765.766.767.768.769.770.771.772.773.774.775.776.777.778.779.780.*\n",
            "781.782.783.784.785.786.787.788.789.790.791.792.793.794.795.796.797.798.799.800.*\n",
            "801.802.803.804.805.806.807.808.809.810.811.812.813.814.815.816.817.818.819.820.*\n",
            "821.822.823.824.825.826.827.828.829.830.831.832.833.834.835.836.837.838.839.840.*\n",
            "841.842.843.844.845.846.847.848.849.850.851.852.853.854.855.856.857.858.859.860.*\n",
            "861.862.863.864.865.866.867.868.869.870.871.872.873.874.875.876.877.878.879.880.*\n",
            "881.882.883.884.885.886.887.888.889.890.891.892.893.894.895.896.897.898.899.900.*\n",
            "901.902.903.904.905.906.907.908.909.910.911.912.913.914.915.916.917.918.919.920.*\n",
            "921.922.923.924.925.926.927.928.929.930.931.932.933.934.935.936.937.938.939.940.*\n",
            "941.942.943.944.945.946.947.948.949.950.951.952.953.954.955.956.957.958.959.960.*\n",
            "961.962.963.964.965.966.967.968."
          ]
        }
      ],
      "source": [
        "image_generation(df_vnm,_image_id_)"
      ]
    },
    {
      "cell_type": "code",
      "execution_count": null,
      "metadata": {
        "colab": {
          "base_uri": "https://localhost:8080/",
          "height": 226
        },
        "id": "pSkakdqlIDX5",
        "outputId": "69d05cc5-2e0e-47cf-e594-0a4e81e11536"
      },
      "outputs": [
        {
          "data": {
            "text/html": [
              "\n",
              "            <style>\n",
              "                .geemap-dark {\n",
              "                    --jp-widgets-color: white;\n",
              "                    --jp-widgets-label-color: white;\n",
              "                    --jp-ui-font-color1: white;\n",
              "                    --jp-layout-color2: #454545;\n",
              "                    background-color: #383838;\n",
              "                }\n",
              "\n",
              "                .geemap-dark .jupyter-button {\n",
              "                    --jp-layout-color3: #383838;\n",
              "                }\n",
              "\n",
              "                .geemap-colab {\n",
              "                    background-color: var(--colab-primary-surface-color, white);\n",
              "                }\n",
              "\n",
              "                .geemap-colab .jupyter-button {\n",
              "                    --jp-layout-color3: var(--colab-primary-surface-color, white);\n",
              "                }\n",
              "            </style>\n",
              "            "
            ],
            "text/plain": [
              "<IPython.core.display.HTML object>"
            ]
          },
          "metadata": {},
          "output_type": "display_data"
        },
        {
          "data": {
            "application/vnd.google.colaboratory.intrinsic+json": {
              "summary": "{\n  \"name\": \"df_vnm\",\n  \"rows\": 969,\n  \"fields\": [\n    {\n      \"column\": \"ID\",\n      \"properties\": {\n        \"dtype\": \"number\",\n        \"std\": 279,\n        \"min\": 1,\n        \"max\": 969,\n        \"num_unique_values\": 969,\n        \"samples\": [\n          576,\n          260,\n          389\n        ],\n        \"semantic_type\": \"\",\n        \"description\": \"\"\n      }\n    },\n    {\n      \"column\": \"Lon\",\n      \"properties\": {\n        \"dtype\": \"number\",\n        \"std\": 0.08213609259508034,\n        \"min\": 108.0610854,\n        \"max\": 108.4987446,\n        \"num_unique_values\": 793,\n        \"samples\": [\n          108.3967858,\n          108.3993011,\n          108.3724415\n        ],\n        \"semantic_type\": \"\",\n        \"description\": \"\"\n      }\n    },\n    {\n      \"column\": \"Lat\",\n      \"properties\": {\n        \"dtype\": \"number\",\n        \"std\": 0.19111250977997735,\n        \"min\": 11.30291732,\n        \"max\": 12.26636046,\n        \"num_unique_values\": 869,\n        \"samples\": [\n          12.01582032,\n          11.91251407,\n          11.96093326\n        ],\n        \"semantic_type\": \"\",\n        \"description\": \"\"\n      }\n    },\n    {\n      \"column\": \"blue_p50\",\n      \"properties\": {\n        \"dtype\": \"number\",\n        \"std\": 387.34485914284664,\n        \"min\": 1157.5,\n        \"max\": 4055.0,\n        \"num_unique_values\": 732,\n        \"samples\": [\n          2548.0,\n          2418.0,\n          1970.5\n        ],\n        \"semantic_type\": \"\",\n        \"description\": \"\"\n      }\n    },\n    {\n      \"column\": \"green_p50\",\n      \"properties\": {\n        \"dtype\": \"number\",\n        \"std\": 405.08481332468926,\n        \"min\": 1183.0,\n        \"max\": 4300.0,\n        \"num_unique_values\": 718,\n        \"samples\": [\n          2244.0,\n          2630.0,\n          2624.0\n        ],\n        \"semantic_type\": \"\",\n        \"description\": \"\"\n      }\n    },\n    {\n      \"column\": \"nir_p50\",\n      \"properties\": {\n        \"dtype\": \"number\",\n        \"std\": 654.4757240833961,\n        \"min\": 1441.0,\n        \"max\": 5988.0,\n        \"num_unique_values\": 871,\n        \"samples\": [\n          3980.0,\n          4799.0,\n          3334.0\n        ],\n        \"semantic_type\": \"\",\n        \"description\": \"\"\n      }\n    },\n    {\n      \"column\": \"nira_p50\",\n      \"properties\": {\n        \"dtype\": \"number\",\n        \"std\": 647.3543486051657,\n        \"min\": 1482.0,\n        \"max\": 6244.5,\n        \"num_unique_values\": 879,\n        \"samples\": [\n          3435.0,\n          3729.0,\n          3293.0\n        ],\n        \"semantic_type\": \"\",\n        \"description\": \"\"\n      }\n    },\n    {\n      \"column\": \"re1_p50\",\n      \"properties\": {\n        \"dtype\": \"number\",\n        \"std\": 445.6364522295456,\n        \"min\": 1357.5,\n        \"max\": 5027.0,\n        \"num_unique_values\": 813,\n        \"samples\": [\n          2589.5,\n          1962.5,\n          2069.0\n        ],\n        \"semantic_type\": \"\",\n        \"description\": \"\"\n      }\n    },\n    {\n      \"column\": \"re2_p50\",\n      \"properties\": {\n        \"dtype\": \"number\",\n        \"std\": 513.8783286469453,\n        \"min\": 1528.0,\n        \"max\": 5457.0,\n        \"num_unique_values\": 848,\n        \"samples\": [\n          3387.0,\n          4282.0,\n          3371.5\n        ],\n        \"semantic_type\": \"\",\n        \"description\": \"\"\n      }\n    },\n    {\n      \"column\": \"re3_p50\",\n      \"properties\": {\n        \"dtype\": \"number\",\n        \"std\": 617.5966411016938,\n        \"min\": 1506.5,\n        \"max\": 5981.0,\n        \"num_unique_values\": 873,\n        \"samples\": [\n          4037.5,\n          3015.5,\n          3049.0\n        ],\n        \"semantic_type\": \"\",\n        \"description\": \"\"\n      }\n    },\n    {\n      \"column\": \"red_p50\",\n      \"properties\": {\n        \"dtype\": \"number\",\n        \"std\": 488.4854390254277,\n        \"min\": 1118.0,\n        \"max\": 4720.0,\n        \"num_unique_values\": 755,\n        \"samples\": [\n          1886.0,\n          1781.5,\n          2654.0\n        ],\n        \"semantic_type\": \"\",\n        \"description\": \"\"\n      }\n    },\n    {\n      \"column\": \"swir1_p50\",\n      \"properties\": {\n        \"dtype\": \"number\",\n        \"std\": 666.9658204906906,\n        \"min\": 1345.0,\n        \"max\": 6909.5,\n        \"num_unique_values\": 865,\n        \"samples\": [\n          3459.5,\n          2675.0,\n          4142.5\n        ],\n        \"semantic_type\": \"\",\n        \"description\": \"\"\n      }\n    },\n    {\n      \"column\": \"swir2_p50\",\n      \"properties\": {\n        \"dtype\": \"number\",\n        \"std\": 692.1763781463993,\n        \"min\": 1216.0,\n        \"max\": 7017.0,\n        \"num_unique_values\": 867,\n        \"samples\": [\n          2255.0,\n          2431.0,\n          2499.0\n        ],\n        \"semantic_type\": \"\",\n        \"description\": \"\"\n      }\n    },\n    {\n      \"column\": \"VV_p50\",\n      \"properties\": {\n        \"dtype\": \"number\",\n        \"std\": 3.2060908864335267,\n        \"min\": -20.104712,\n        \"max\": 10.327686,\n        \"num_unique_values\": 969,\n        \"samples\": [\n          -10.789919,\n          -6.4684606,\n          -6.2459755\n        ],\n        \"semantic_type\": \"\",\n        \"description\": \"\"\n      }\n    },\n    {\n      \"column\": \"VH_p50\",\n      \"properties\": {\n        \"dtype\": \"number\",\n        \"std\": 2.847634868757892,\n        \"min\": -26.794939,\n        \"max\": -0.2638729,\n        \"num_unique_values\": 968,\n        \"samples\": [\n          -18.92373,\n          -13.335454,\n          -13.563985\n        ],\n        \"semantic_type\": \"\",\n        \"description\": \"\"\n      }\n    },\n    {\n      \"column\": \"TARGET\",\n      \"properties\": {\n        \"dtype\": \"number\",\n        \"std\": 0,\n        \"min\": 1,\n        \"max\": 2,\n        \"num_unique_values\": 2,\n        \"samples\": [\n          2,\n          1\n        ],\n        \"semantic_type\": \"\",\n        \"description\": \"\"\n      }\n    },\n    {\n      \"column\": \"lon\",\n      \"properties\": {\n        \"dtype\": \"number\",\n        \"std\": 0.08213609259508034,\n        \"min\": 108.0610854,\n        \"max\": 108.4987446,\n        \"num_unique_values\": 793,\n        \"samples\": [\n          108.3967858,\n          108.3993011\n        ],\n        \"semantic_type\": \"\",\n        \"description\": \"\"\n      }\n    },\n    {\n      \"column\": \"lat\",\n      \"properties\": {\n        \"dtype\": \"number\",\n        \"std\": 0.19111250977997735,\n        \"min\": 11.30291732,\n        \"max\": 12.26636046,\n        \"num_unique_values\": 869,\n        \"samples\": [\n          12.01582032,\n          11.91251407\n        ],\n        \"semantic_type\": \"\",\n        \"description\": \"\"\n      }\n    }\n  ]\n}",
              "type": "dataframe",
              "variable_name": "df_vnm"
            },
            "text/html": [
              "\n",
              "  <div id=\"df-aeb0070d-7baf-410b-a25b-c6bca29bc27f\" class=\"colab-df-container\">\n",
              "    <div>\n",
              "<style scoped>\n",
              "    .dataframe tbody tr th:only-of-type {\n",
              "        vertical-align: middle;\n",
              "    }\n",
              "\n",
              "    .dataframe tbody tr th {\n",
              "        vertical-align: top;\n",
              "    }\n",
              "\n",
              "    .dataframe thead th {\n",
              "        text-align: right;\n",
              "    }\n",
              "</style>\n",
              "<table border=\"1\" class=\"dataframe\">\n",
              "  <thead>\n",
              "    <tr style=\"text-align: right;\">\n",
              "      <th></th>\n",
              "      <th>ID</th>\n",
              "      <th>Lon</th>\n",
              "      <th>Lat</th>\n",
              "      <th>blue_p50</th>\n",
              "      <th>green_p50</th>\n",
              "      <th>nir_p50</th>\n",
              "      <th>nira_p50</th>\n",
              "      <th>re1_p50</th>\n",
              "      <th>re2_p50</th>\n",
              "      <th>re3_p50</th>\n",
              "      <th>red_p50</th>\n",
              "      <th>swir1_p50</th>\n",
              "      <th>swir2_p50</th>\n",
              "      <th>VV_p50</th>\n",
              "      <th>VH_p50</th>\n",
              "      <th>TARGET</th>\n",
              "      <th>lon</th>\n",
              "      <th>lat</th>\n",
              "    </tr>\n",
              "  </thead>\n",
              "  <tbody>\n",
              "    <tr>\n",
              "      <th>0</th>\n",
              "      <td>1</td>\n",
              "      <td>108.307403</td>\n",
              "      <td>11.706890</td>\n",
              "      <td>1772.5</td>\n",
              "      <td>2081.5</td>\n",
              "      <td>4393.0</td>\n",
              "      <td>4322.0</td>\n",
              "      <td>2542.0</td>\n",
              "      <td>3974.5</td>\n",
              "      <td>4315.0</td>\n",
              "      <td>1901.5</td>\n",
              "      <td>2929.5</td>\n",
              "      <td>2324.0</td>\n",
              "      <td>-5.506588</td>\n",
              "      <td>-16.577070</td>\n",
              "      <td>1</td>\n",
              "      <td>108.307403</td>\n",
              "      <td>11.706890</td>\n",
              "    </tr>\n",
              "    <tr>\n",
              "      <th>1</th>\n",
              "      <td>2</td>\n",
              "      <td>108.363279</td>\n",
              "      <td>11.778036</td>\n",
              "      <td>2178.0</td>\n",
              "      <td>2347.0</td>\n",
              "      <td>3427.0</td>\n",
              "      <td>3712.0</td>\n",
              "      <td>2658.5</td>\n",
              "      <td>3358.0</td>\n",
              "      <td>3628.5</td>\n",
              "      <td>2313.0</td>\n",
              "      <td>3122.0</td>\n",
              "      <td>2729.5</td>\n",
              "      <td>-7.798610</td>\n",
              "      <td>-14.007271</td>\n",
              "      <td>1</td>\n",
              "      <td>108.363279</td>\n",
              "      <td>11.778036</td>\n",
              "    </tr>\n",
              "    <tr>\n",
              "      <th>2</th>\n",
              "      <td>3</td>\n",
              "      <td>108.193946</td>\n",
              "      <td>11.689462</td>\n",
              "      <td>2927.0</td>\n",
              "      <td>3107.0</td>\n",
              "      <td>4365.0</td>\n",
              "      <td>4624.5</td>\n",
              "      <td>3378.0</td>\n",
              "      <td>4221.5</td>\n",
              "      <td>4508.5</td>\n",
              "      <td>3082.0</td>\n",
              "      <td>3921.0</td>\n",
              "      <td>3190.0</td>\n",
              "      <td>-7.652615</td>\n",
              "      <td>-14.319975</td>\n",
              "      <td>1</td>\n",
              "      <td>108.193946</td>\n",
              "      <td>11.689462</td>\n",
              "    </tr>\n",
              "    <tr>\n",
              "      <th>3</th>\n",
              "      <td>4</td>\n",
              "      <td>108.200324</td>\n",
              "      <td>11.691618</td>\n",
              "      <td>2175.0</td>\n",
              "      <td>2312.0</td>\n",
              "      <td>3472.5</td>\n",
              "      <td>3613.5</td>\n",
              "      <td>2569.5</td>\n",
              "      <td>3332.0</td>\n",
              "      <td>3558.5</td>\n",
              "      <td>2244.0</td>\n",
              "      <td>3132.5</td>\n",
              "      <td>2610.0</td>\n",
              "      <td>-9.530750</td>\n",
              "      <td>-16.471949</td>\n",
              "      <td>1</td>\n",
              "      <td>108.200324</td>\n",
              "      <td>11.691618</td>\n",
              "    </tr>\n",
              "    <tr>\n",
              "      <th>4</th>\n",
              "      <td>5</td>\n",
              "      <td>108.203109</td>\n",
              "      <td>11.694313</td>\n",
              "      <td>2125.0</td>\n",
              "      <td>2235.0</td>\n",
              "      <td>2612.0</td>\n",
              "      <td>2960.0</td>\n",
              "      <td>2548.5</td>\n",
              "      <td>2801.0</td>\n",
              "      <td>2908.0</td>\n",
              "      <td>2320.0</td>\n",
              "      <td>2915.0</td>\n",
              "      <td>2685.5</td>\n",
              "      <td>-9.733130</td>\n",
              "      <td>-18.106146</td>\n",
              "      <td>1</td>\n",
              "      <td>108.203109</td>\n",
              "      <td>11.694313</td>\n",
              "    </tr>\n",
              "  </tbody>\n",
              "</table>\n",
              "</div>\n",
              "    <div class=\"colab-df-buttons\">\n",
              "\n",
              "  <div class=\"colab-df-container\">\n",
              "    <button class=\"colab-df-convert\" onclick=\"convertToInteractive('df-aeb0070d-7baf-410b-a25b-c6bca29bc27f')\"\n",
              "            title=\"Convert this dataframe to an interactive table.\"\n",
              "            style=\"display:none;\">\n",
              "\n",
              "  <svg xmlns=\"http://www.w3.org/2000/svg\" height=\"24px\" viewBox=\"0 -960 960 960\">\n",
              "    <path d=\"M120-120v-720h720v720H120Zm60-500h600v-160H180v160Zm220 220h160v-160H400v160Zm0 220h160v-160H400v160ZM180-400h160v-160H180v160Zm440 0h160v-160H620v160ZM180-180h160v-160H180v160Zm440 0h160v-160H620v160Z\"/>\n",
              "  </svg>\n",
              "    </button>\n",
              "\n",
              "  <style>\n",
              "    .colab-df-container {\n",
              "      display:flex;\n",
              "      gap: 12px;\n",
              "    }\n",
              "\n",
              "    .colab-df-convert {\n",
              "      background-color: #E8F0FE;\n",
              "      border: none;\n",
              "      border-radius: 50%;\n",
              "      cursor: pointer;\n",
              "      display: none;\n",
              "      fill: #1967D2;\n",
              "      height: 32px;\n",
              "      padding: 0 0 0 0;\n",
              "      width: 32px;\n",
              "    }\n",
              "\n",
              "    .colab-df-convert:hover {\n",
              "      background-color: #E2EBFA;\n",
              "      box-shadow: 0px 1px 2px rgba(60, 64, 67, 0.3), 0px 1px 3px 1px rgba(60, 64, 67, 0.15);\n",
              "      fill: #174EA6;\n",
              "    }\n",
              "\n",
              "    .colab-df-buttons div {\n",
              "      margin-bottom: 4px;\n",
              "    }\n",
              "\n",
              "    [theme=dark] .colab-df-convert {\n",
              "      background-color: #3B4455;\n",
              "      fill: #D2E3FC;\n",
              "    }\n",
              "\n",
              "    [theme=dark] .colab-df-convert:hover {\n",
              "      background-color: #434B5C;\n",
              "      box-shadow: 0px 1px 3px 1px rgba(0, 0, 0, 0.15);\n",
              "      filter: drop-shadow(0px 1px 2px rgba(0, 0, 0, 0.3));\n",
              "      fill: #FFFFFF;\n",
              "    }\n",
              "  </style>\n",
              "\n",
              "    <script>\n",
              "      const buttonEl =\n",
              "        document.querySelector('#df-aeb0070d-7baf-410b-a25b-c6bca29bc27f button.colab-df-convert');\n",
              "      buttonEl.style.display =\n",
              "        google.colab.kernel.accessAllowed ? 'block' : 'none';\n",
              "\n",
              "      async function convertToInteractive(key) {\n",
              "        const element = document.querySelector('#df-aeb0070d-7baf-410b-a25b-c6bca29bc27f');\n",
              "        const dataTable =\n",
              "          await google.colab.kernel.invokeFunction('convertToInteractive',\n",
              "                                                    [key], {});\n",
              "        if (!dataTable) return;\n",
              "\n",
              "        const docLinkHtml = 'Like what you see? Visit the ' +\n",
              "          '<a target=\"_blank\" href=https://colab.research.google.com/notebooks/data_table.ipynb>data table notebook</a>'\n",
              "          + ' to learn more about interactive tables.';\n",
              "        element.innerHTML = '';\n",
              "        dataTable['output_type'] = 'display_data';\n",
              "        await google.colab.output.renderOutput(dataTable, element);\n",
              "        const docLink = document.createElement('div');\n",
              "        docLink.innerHTML = docLinkHtml;\n",
              "        element.appendChild(docLink);\n",
              "      }\n",
              "    </script>\n",
              "  </div>\n",
              "\n",
              "\n",
              "<div id=\"df-50ea9292-2e22-4ffa-b215-b5f4dc8279c5\">\n",
              "  <button class=\"colab-df-quickchart\" onclick=\"quickchart('df-50ea9292-2e22-4ffa-b215-b5f4dc8279c5')\"\n",
              "            title=\"Suggest charts\"\n",
              "            style=\"display:none;\">\n",
              "\n",
              "<svg xmlns=\"http://www.w3.org/2000/svg\" height=\"24px\"viewBox=\"0 0 24 24\"\n",
              "     width=\"24px\">\n",
              "    <g>\n",
              "        <path d=\"M19 3H5c-1.1 0-2 .9-2 2v14c0 1.1.9 2 2 2h14c1.1 0 2-.9 2-2V5c0-1.1-.9-2-2-2zM9 17H7v-7h2v7zm4 0h-2V7h2v10zm4 0h-2v-4h2v4z\"/>\n",
              "    </g>\n",
              "</svg>\n",
              "  </button>\n",
              "\n",
              "<style>\n",
              "  .colab-df-quickchart {\n",
              "      --bg-color: #E8F0FE;\n",
              "      --fill-color: #1967D2;\n",
              "      --hover-bg-color: #E2EBFA;\n",
              "      --hover-fill-color: #174EA6;\n",
              "      --disabled-fill-color: #AAA;\n",
              "      --disabled-bg-color: #DDD;\n",
              "  }\n",
              "\n",
              "  [theme=dark] .colab-df-quickchart {\n",
              "      --bg-color: #3B4455;\n",
              "      --fill-color: #D2E3FC;\n",
              "      --hover-bg-color: #434B5C;\n",
              "      --hover-fill-color: #FFFFFF;\n",
              "      --disabled-bg-color: #3B4455;\n",
              "      --disabled-fill-color: #666;\n",
              "  }\n",
              "\n",
              "  .colab-df-quickchart {\n",
              "    background-color: var(--bg-color);\n",
              "    border: none;\n",
              "    border-radius: 50%;\n",
              "    cursor: pointer;\n",
              "    display: none;\n",
              "    fill: var(--fill-color);\n",
              "    height: 32px;\n",
              "    padding: 0;\n",
              "    width: 32px;\n",
              "  }\n",
              "\n",
              "  .colab-df-quickchart:hover {\n",
              "    background-color: var(--hover-bg-color);\n",
              "    box-shadow: 0 1px 2px rgba(60, 64, 67, 0.3), 0 1px 3px 1px rgba(60, 64, 67, 0.15);\n",
              "    fill: var(--button-hover-fill-color);\n",
              "  }\n",
              "\n",
              "  .colab-df-quickchart-complete:disabled,\n",
              "  .colab-df-quickchart-complete:disabled:hover {\n",
              "    background-color: var(--disabled-bg-color);\n",
              "    fill: var(--disabled-fill-color);\n",
              "    box-shadow: none;\n",
              "  }\n",
              "\n",
              "  .colab-df-spinner {\n",
              "    border: 2px solid var(--fill-color);\n",
              "    border-color: transparent;\n",
              "    border-bottom-color: var(--fill-color);\n",
              "    animation:\n",
              "      spin 1s steps(1) infinite;\n",
              "  }\n",
              "\n",
              "  @keyframes spin {\n",
              "    0% {\n",
              "      border-color: transparent;\n",
              "      border-bottom-color: var(--fill-color);\n",
              "      border-left-color: var(--fill-color);\n",
              "    }\n",
              "    20% {\n",
              "      border-color: transparent;\n",
              "      border-left-color: var(--fill-color);\n",
              "      border-top-color: var(--fill-color);\n",
              "    }\n",
              "    30% {\n",
              "      border-color: transparent;\n",
              "      border-left-color: var(--fill-color);\n",
              "      border-top-color: var(--fill-color);\n",
              "      border-right-color: var(--fill-color);\n",
              "    }\n",
              "    40% {\n",
              "      border-color: transparent;\n",
              "      border-right-color: var(--fill-color);\n",
              "      border-top-color: var(--fill-color);\n",
              "    }\n",
              "    60% {\n",
              "      border-color: transparent;\n",
              "      border-right-color: var(--fill-color);\n",
              "    }\n",
              "    80% {\n",
              "      border-color: transparent;\n",
              "      border-right-color: var(--fill-color);\n",
              "      border-bottom-color: var(--fill-color);\n",
              "    }\n",
              "    90% {\n",
              "      border-color: transparent;\n",
              "      border-bottom-color: var(--fill-color);\n",
              "    }\n",
              "  }\n",
              "</style>\n",
              "\n",
              "  <script>\n",
              "    async function quickchart(key) {\n",
              "      const quickchartButtonEl =\n",
              "        document.querySelector('#' + key + ' button');\n",
              "      quickchartButtonEl.disabled = true;  // To prevent multiple clicks.\n",
              "      quickchartButtonEl.classList.add('colab-df-spinner');\n",
              "      try {\n",
              "        const charts = await google.colab.kernel.invokeFunction(\n",
              "            'suggestCharts', [key], {});\n",
              "      } catch (error) {\n",
              "        console.error('Error during call to suggestCharts:', error);\n",
              "      }\n",
              "      quickchartButtonEl.classList.remove('colab-df-spinner');\n",
              "      quickchartButtonEl.classList.add('colab-df-quickchart-complete');\n",
              "    }\n",
              "    (() => {\n",
              "      let quickchartButtonEl =\n",
              "        document.querySelector('#df-50ea9292-2e22-4ffa-b215-b5f4dc8279c5 button');\n",
              "      quickchartButtonEl.style.display =\n",
              "        google.colab.kernel.accessAllowed ? 'block' : 'none';\n",
              "    })();\n",
              "  </script>\n",
              "</div>\n",
              "\n",
              "    </div>\n",
              "  </div>\n"
            ],
            "text/plain": [
              "   ID         Lon        Lat  blue_p50  green_p50  nir_p50  nira_p50  re1_p50  \\\n",
              "0   1  108.307403  11.706890    1772.5     2081.5   4393.0    4322.0   2542.0   \n",
              "1   2  108.363279  11.778036    2178.0     2347.0   3427.0    3712.0   2658.5   \n",
              "2   3  108.193946  11.689462    2927.0     3107.0   4365.0    4624.5   3378.0   \n",
              "3   4  108.200324  11.691618    2175.0     2312.0   3472.5    3613.5   2569.5   \n",
              "4   5  108.203109  11.694313    2125.0     2235.0   2612.0    2960.0   2548.5   \n",
              "\n",
              "   re2_p50  re3_p50  red_p50  swir1_p50  swir2_p50    VV_p50     VH_p50  \\\n",
              "0   3974.5   4315.0   1901.5     2929.5     2324.0 -5.506588 -16.577070   \n",
              "1   3358.0   3628.5   2313.0     3122.0     2729.5 -7.798610 -14.007271   \n",
              "2   4221.5   4508.5   3082.0     3921.0     3190.0 -7.652615 -14.319975   \n",
              "3   3332.0   3558.5   2244.0     3132.5     2610.0 -9.530750 -16.471949   \n",
              "4   2801.0   2908.0   2320.0     2915.0     2685.5 -9.733130 -18.106146   \n",
              "\n",
              "   TARGET         lon        lat  \n",
              "0       1  108.307403  11.706890  \n",
              "1       1  108.363279  11.778036  \n",
              "2       1  108.193946  11.689462  \n",
              "3       1  108.200324  11.691618  \n",
              "4       1  108.203109  11.694313  "
            ]
          },
          "execution_count": 55,
          "metadata": {},
          "output_type": "execute_result"
        }
      ],
      "source": [
        "df_vnm.head()"
      ]
    },
    {
      "cell_type": "code",
      "execution_count": null,
      "metadata": {
        "colab": {
          "base_uri": "https://localhost:8080/",
          "height": 17
        },
        "id": "MAoFj6e7FoBW",
        "outputId": "30c45ec2-a5c9-440e-f378-fbf3f5f5d096"
      },
      "outputs": [
        {
          "data": {
            "text/html": [
              "\n",
              "            <style>\n",
              "                .geemap-dark {\n",
              "                    --jp-widgets-color: white;\n",
              "                    --jp-widgets-label-color: white;\n",
              "                    --jp-ui-font-color1: white;\n",
              "                    --jp-layout-color2: #454545;\n",
              "                    background-color: #383838;\n",
              "                }\n",
              "\n",
              "                .geemap-dark .jupyter-button {\n",
              "                    --jp-layout-color3: #383838;\n",
              "                }\n",
              "\n",
              "                .geemap-colab {\n",
              "                    background-color: var(--colab-primary-surface-color, white);\n",
              "                }\n",
              "\n",
              "                .geemap-colab .jupyter-button {\n",
              "                    --jp-layout-color3: var(--colab-primary-surface-color, white);\n",
              "                }\n",
              "            </style>\n",
              "            "
            ],
            "text/plain": [
              "<IPython.core.display.HTML object>"
            ]
          },
          "metadata": {},
          "output_type": "display_data"
        }
      ],
      "source": [
        "df_spain_test=pandas.read_csv(_PROJECT_BASE_+_ORIG_+\"/Spain_validation.csv\")\n",
        "_image_id_=\"_spain_testing\"\n",
        "_sat_=None\n",
        "_band_=None\n",
        "df_spain_test[\"TARGET\"]=0"
      ]
    },
    {
      "cell_type": "code",
      "execution_count": null,
      "metadata": {
        "colab": {
          "base_uri": "https://localhost:8080/",
          "height": 781
        },
        "id": "iirSuhnevUmR",
        "outputId": "ad6f9c75-2623-498e-dbd3-1857c10c97e3"
      },
      "outputs": [
        {
          "data": {
            "text/html": [
              "\n",
              "            <style>\n",
              "                .geemap-dark {\n",
              "                    --jp-widgets-color: white;\n",
              "                    --jp-widgets-label-color: white;\n",
              "                    --jp-ui-font-color1: white;\n",
              "                    --jp-layout-color2: #454545;\n",
              "                    background-color: #383838;\n",
              "                }\n",
              "\n",
              "                .geemap-dark .jupyter-button {\n",
              "                    --jp-layout-color3: #383838;\n",
              "                }\n",
              "\n",
              "                .geemap-colab {\n",
              "                    background-color: var(--colab-primary-surface-color, white);\n",
              "                }\n",
              "\n",
              "                .geemap-colab .jupyter-button {\n",
              "                    --jp-layout-color3: var(--colab-primary-surface-color, white);\n",
              "                }\n",
              "            </style>\n",
              "            "
            ],
            "text/plain": [
              "<IPython.core.display.HTML object>"
            ]
          },
          "metadata": {},
          "output_type": "display_data"
        },
        {
          "name": "stdout",
          "output_type": "stream",
          "text": [
            "000.*\n",
            "001.002.003.004.005.006.007.008.009.010.011.012.013.014.015.016.017.018.019.020.*\n",
            "021.022.023.024.025.026.027.028.029.030.031.032.033.034.035.036.037.038.039.040.*\n",
            "041.042.043.044.045.046.047.048.049.050.051.052.053.054.055.056.057.058.059.060.*\n",
            "061.062.063.064.065.066.067.068.069.070.071.072.073.074.075.076.077.078.079.080.*\n",
            "081.082.083.084.085.086.087.088.089.090.091.092.093.094.095.096.097.098.099.100.*\n",
            "101.102.103.104.105.106.107.108.109.110.111.112.113.114.115.116.117.118.119.120.*\n",
            "121.122.123.124.125.126.127.128.129.130.131.132.133.134.135.136.137.138.139.140.*\n",
            "141.142.143.144.145.146.147.148.149.150.151.152.153.154.155.156.157.158.159.160.*\n",
            "161.162.163.164.165.166.167.168.169.170.171.172.173.174.175.176.177.178.179.180.*\n",
            "181.182.183.184.185.186.187.188.189.190.191.192.193.194.195.196.197.198.199.200.*\n",
            "201.202.203.204.205.206.207.208.209.210.211.212.213.214.215.216.217.218.219.220.*\n",
            "221.222.223.224.225.226.227.228.229.230.231.232.233.234.235.236.237.238.239.240.*\n",
            "241.242.243.244.245.246.247.248.249.250.251.252.253.254.255.256.257.258.259.260.*\n",
            "261.262.263.264.265.266.267.268.269.270.271.272.273.274.275.276.277.278.279.280.*\n",
            "281.282.283.284.285.286.287.288.289.290.291.292.293.294.295.296.297.298.299.300.*\n",
            "301.302.303.304.305.306.307.308.309.310.311.312.313.314.315.316.317.318.319.320.*\n",
            "321.322.323.324.325.326.327.328.329.330.331.332.333.334.335.336.337.338.339.340.*\n",
            "341.342.343.344.345.346.347.348.349.350.351.352.353.354.355.356.357.358.359.360.*\n",
            "361.362.363.364.365.366.367.368.369.370.371.372.373.374.375.376.377.378.379.380.*\n",
            "381.382.383.384.385.386.387.388.389.390.391.392.393.394.395.396.397.398.399.400.*\n",
            "401.402.403.404.405.406.407.408.409.410.411.412.413.414.415.416.417.418.419.420.*\n",
            "421.422.423.424.425.426.427.428.429.430.431.432.433.434.435.436.437.438.439.440.*\n",
            "441.442.443.444.445.446.447.448.449.450.451.452.453.454.455.456.457.458.459.460.*\n",
            "461.462.463.464.465.466.467.468.469.470.471.472.473.474.475.476.477.478.479.480.*\n",
            "481.482.483.484.485.486.487.488.489.490.491.492.493.494.495.496.497.498.499.500.*\n",
            "501.502.503.504.505.506.507.508.509.510.511.512.513.514.515.516.517.518.519.520.*\n",
            "521.522.523.524.525.526.527.528.529.530.531.532.533.534.535.536.537.538.539.540.*\n",
            "541.542.543.544.545.546.547.548.549.550.551.552.553.554.555.556.557.558.559.560.*\n",
            "561.562.563.564.565.566.567.568.569.570.571.572.573.574.575.576.577.578.579.580.*\n",
            "581.582.583.584.585.586.587.588.589.590.591.592.593.594.595.596.597.598.599.600.*\n",
            "601.602.603.604.605.606.607.608.609.610.611.612.613.614.615.616.617.618.619.620.*\n",
            "621.622.623.624.625.626.627.628.629.630.631.632.633.634.635.636.637.638.639.640.*\n",
            "641.642.643.644.645.646.647.648.649.650.651.652.653.654.655.656.657.658.659.660.*\n",
            "661.662.663.664.665.666.667.668.669.670.671.672.673.674.675.676.677.678.679.680.*\n",
            "681.682.683.684.685.686.687.688.689.690.691.692.693.694.695.696.697.698.699.700.*\n",
            "701.702.703.704.705.706.707.708.709.710.711.712.713.714.715.716.717.718.719.720.*\n",
            "721.722.723.724.725.726.727.728.729.730.731.732.733.734.735.736.737.738.739.740.*\n",
            "741.742.743.744.745.746.747.748.749.750.751.752.753.754.755.756.757.758.759.760.*\n",
            "761.762.763.764.765.766.767.768.769.770.771.772.773.774.775.776.777.778.779.780.*\n",
            "781.782.783.784.785.786.787.788.789.790.791.792.793.794.795.796.797.798.799.800.*\n",
            "801.802.803.804.805.806.807.808.809.810.811.812.813.814.815.816.817.818.819.820.*\n",
            "821.822.823.824.825.826.827.828.829.830.831.832.833.834.835.836.837.838.839.840.*\n",
            "841.842.843.844.845.846.847."
          ]
        }
      ],
      "source": [
        "image_generation(df_spain_test,_image_id_)\n"
      ]
    },
    {
      "cell_type": "code",
      "execution_count": null,
      "metadata": {
        "colab": {
          "base_uri": "https://localhost:8080/",
          "height": 17
        },
        "id": "TiQx0ECpHl-C",
        "outputId": "7d53ac75-e2e6-4c92-b2e3-bf0d6d14fdca"
      },
      "outputs": [
        {
          "data": {
            "text/html": [
              "\n",
              "            <style>\n",
              "                .geemap-dark {\n",
              "                    --jp-widgets-color: white;\n",
              "                    --jp-widgets-label-color: white;\n",
              "                    --jp-ui-font-color1: white;\n",
              "                    --jp-layout-color2: #454545;\n",
              "                    background-color: #383838;\n",
              "                }\n",
              "\n",
              "                .geemap-dark .jupyter-button {\n",
              "                    --jp-layout-color3: #383838;\n",
              "                }\n",
              "\n",
              "                .geemap-colab {\n",
              "                    background-color: var(--colab-primary-surface-color, white);\n",
              "                }\n",
              "\n",
              "                .geemap-colab .jupyter-button {\n",
              "                    --jp-layout-color3: var(--colab-primary-surface-color, white);\n",
              "                }\n",
              "            </style>\n",
              "            "
            ],
            "text/plain": [
              "<IPython.core.display.HTML object>"
            ]
          },
          "metadata": {},
          "output_type": "display_data"
        }
      ],
      "source": [
        "df_vnm_test=pandas.read_csv(_PROJECT_BASE_+_ORIG_+\"/VNM_testing.csv\")\n",
        "_image_id_=\"_vnm_testing\"\n",
        "_sat_=None\n",
        "_band_=None\n",
        "df_vnm_test[\"TARGET\"]=0\n",
        "df_vnm_test[\"lon\"]=df_vnm_test[\"Lon\"]\n",
        "df_vnm_test[\"lat\"]=df_vnm_test[\"Lat\"]"
      ]
    },
    {
      "cell_type": "code",
      "execution_count": null,
      "metadata": {
        "colab": {
          "base_uri": "https://localhost:8080/",
          "height": 226
        },
        "id": "icpqTZ3jTZOg",
        "outputId": "e8c2e634-db80-4776-c018-ee02c0711773"
      },
      "outputs": [
        {
          "data": {
            "text/html": [
              "\n",
              "            <style>\n",
              "                .geemap-dark {\n",
              "                    --jp-widgets-color: white;\n",
              "                    --jp-widgets-label-color: white;\n",
              "                    --jp-ui-font-color1: white;\n",
              "                    --jp-layout-color2: #454545;\n",
              "                    background-color: #383838;\n",
              "                }\n",
              "\n",
              "                .geemap-dark .jupyter-button {\n",
              "                    --jp-layout-color3: #383838;\n",
              "                }\n",
              "\n",
              "                .geemap-colab {\n",
              "                    background-color: var(--colab-primary-surface-color, white);\n",
              "                }\n",
              "\n",
              "                .geemap-colab .jupyter-button {\n",
              "                    --jp-layout-color3: var(--colab-primary-surface-color, white);\n",
              "                }\n",
              "            </style>\n",
              "            "
            ],
            "text/plain": [
              "<IPython.core.display.HTML object>"
            ]
          },
          "metadata": {},
          "output_type": "display_data"
        },
        {
          "data": {
            "application/vnd.google.colaboratory.intrinsic+json": {
              "summary": "{\n  \"name\": \"df_vnm_test\",\n  \"rows\": 979,\n  \"fields\": [\n    {\n      \"column\": \"ID\",\n      \"properties\": {\n        \"dtype\": \"number\",\n        \"std\": 282,\n        \"min\": 1,\n        \"max\": 979,\n        \"num_unique_values\": 979,\n        \"samples\": [\n          200,\n          544,\n          175\n        ],\n        \"semantic_type\": \"\",\n        \"description\": \"\"\n      }\n    },\n    {\n      \"column\": \"Lon\",\n      \"properties\": {\n        \"dtype\": \"number\",\n        \"std\": 0.08240194649058045,\n        \"min\": 108.0243443,\n        \"max\": 108.4987446,\n        \"num_unique_values\": 769,\n        \"samples\": [\n          108.1458864,\n          108.451583,\n          108.3671414\n        ],\n        \"semantic_type\": \"\",\n        \"description\": \"\"\n      }\n    },\n    {\n      \"column\": \"Lat\",\n      \"properties\": {\n        \"dtype\": \"number\",\n        \"std\": 0.19172806839946618,\n        \"min\": 11.31190047,\n        \"max\": 12.24165679,\n        \"num_unique_values\": 888,\n        \"samples\": [\n          11.96686214,\n          12.02902556,\n          11.9587773\n        ],\n        \"semantic_type\": \"\",\n        \"description\": \"\"\n      }\n    },\n    {\n      \"column\": \"blue_p50\",\n      \"properties\": {\n        \"dtype\": \"number\",\n        \"std\": 394.0236412271276,\n        \"min\": 1211.0,\n        \"max\": 4416.0,\n        \"num_unique_values\": 744,\n        \"samples\": [\n          1642.0,\n          1636.5,\n          1810.0\n        ],\n        \"semantic_type\": \"\",\n        \"description\": \"\"\n      }\n    },\n    {\n      \"column\": \"green_p50\",\n      \"properties\": {\n        \"dtype\": \"number\",\n        \"std\": 408.661534497754,\n        \"min\": 1245.5,\n        \"max\": 4863.0,\n        \"num_unique_values\": 724,\n        \"samples\": [\n          1888.0,\n          2652.0,\n          2417.0\n        ],\n        \"semantic_type\": \"\",\n        \"description\": \"\"\n      }\n    },\n    {\n      \"column\": \"nir_p50\",\n      \"properties\": {\n        \"dtype\": \"number\",\n        \"std\": 693.5408444597963,\n        \"min\": 1589.5,\n        \"max\": 6100.0,\n        \"num_unique_values\": 876,\n        \"samples\": [\n          4244.0,\n          1899.5,\n          2340.0\n        ],\n        \"semantic_type\": \"\",\n        \"description\": \"\"\n      }\n    },\n    {\n      \"column\": \"nira_p50\",\n      \"properties\": {\n        \"dtype\": \"number\",\n        \"std\": 685.7164217772222,\n        \"min\": 1597.0,\n        \"max\": 7085.0,\n        \"num_unique_values\": 888,\n        \"samples\": [\n          3660.0,\n          3569.0,\n          3763.5\n        ],\n        \"semantic_type\": \"\",\n        \"description\": \"\"\n      }\n    },\n    {\n      \"column\": \"re1_p50\",\n      \"properties\": {\n        \"dtype\": \"number\",\n        \"std\": 461.8989475722929,\n        \"min\": 1351.5,\n        \"max\": 6158.0,\n        \"num_unique_values\": 839,\n        \"samples\": [\n          2392.5,\n          2818.5,\n          3914.5\n        ],\n        \"semantic_type\": \"\",\n        \"description\": \"\"\n      }\n    },\n    {\n      \"column\": \"re2_p50\",\n      \"properties\": {\n        \"dtype\": \"number\",\n        \"std\": 542.0562059801786,\n        \"min\": 1641.0,\n        \"max\": 6229.5,\n        \"num_unique_values\": 852,\n        \"samples\": [\n          3325.0,\n          3426.5,\n          3346.5\n        ],\n        \"semantic_type\": \"\",\n        \"description\": \"\"\n      }\n    },\n    {\n      \"column\": \"re3_p50\",\n      \"properties\": {\n        \"dtype\": \"number\",\n        \"std\": 656.9829287322036,\n        \"min\": 1630.5,\n        \"max\": 6716.0,\n        \"num_unique_values\": 872,\n        \"samples\": [\n          2025.5,\n          4142.0,\n          3400.5\n        ],\n        \"semantic_type\": \"\",\n        \"description\": \"\"\n      }\n    },\n    {\n      \"column\": \"red_p50\",\n      \"properties\": {\n        \"dtype\": \"number\",\n        \"std\": 494.4806400003661,\n        \"min\": 1124.0,\n        \"max\": 5632.0,\n        \"num_unique_values\": 747,\n        \"samples\": [\n          2340.0,\n          2277.0,\n          3103.0\n        ],\n        \"semantic_type\": \"\",\n        \"description\": \"\"\n      }\n    },\n    {\n      \"column\": \"swir1_p50\",\n      \"properties\": {\n        \"dtype\": \"number\",\n        \"std\": 720.9481304854787,\n        \"min\": 1283.0,\n        \"max\": 8102.0,\n        \"num_unique_values\": 894,\n        \"samples\": [\n          4505.5,\n          2979.0,\n          4302.5\n        ],\n        \"semantic_type\": \"\",\n        \"description\": \"\"\n      }\n    },\n    {\n      \"column\": \"swir2_p50\",\n      \"properties\": {\n        \"dtype\": \"number\",\n        \"std\": 764.8907919917284,\n        \"min\": 1209.0,\n        \"max\": 10175.5,\n        \"num_unique_values\": 883,\n        \"samples\": [\n          2851.0,\n          3761.5,\n          2512.5\n        ],\n        \"semantic_type\": \"\",\n        \"description\": \"\"\n      }\n    },\n    {\n      \"column\": \"VV_p50\",\n      \"properties\": {\n        \"dtype\": \"number\",\n        \"std\": 3.401931264438184,\n        \"min\": -16.480299,\n        \"max\": 13.707447,\n        \"num_unique_values\": 979,\n        \"samples\": [\n          -3.5630488,\n          -10.328889,\n          -7.3437953\n        ],\n        \"semantic_type\": \"\",\n        \"description\": \"\"\n      }\n    },\n    {\n      \"column\": \"VH_p50\",\n      \"properties\": {\n        \"dtype\": \"number\",\n        \"std\": 2.8081892225775205,\n        \"min\": -24.190271,\n        \"max\": 4.2393355,\n        \"num_unique_values\": 979,\n        \"samples\": [\n          -13.129563,\n          -15.830681,\n          -13.269544\n        ],\n        \"semantic_type\": \"\",\n        \"description\": \"\"\n      }\n    },\n    {\n      \"column\": \"TARGET\",\n      \"properties\": {\n        \"dtype\": \"number\",\n        \"std\": 0,\n        \"min\": 0,\n        \"max\": 0,\n        \"num_unique_values\": 1,\n        \"samples\": [\n          0\n        ],\n        \"semantic_type\": \"\",\n        \"description\": \"\"\n      }\n    },\n    {\n      \"column\": \"lon\",\n      \"properties\": {\n        \"dtype\": \"number\",\n        \"std\": 0.08240194649058045,\n        \"min\": 108.0243443,\n        \"max\": 108.4987446,\n        \"num_unique_values\": 769,\n        \"samples\": [\n          108.1458864\n        ],\n        \"semantic_type\": \"\",\n        \"description\": \"\"\n      }\n    },\n    {\n      \"column\": \"lat\",\n      \"properties\": {\n        \"dtype\": \"number\",\n        \"std\": 0.19172806839946618,\n        \"min\": 11.31190047,\n        \"max\": 12.24165679,\n        \"num_unique_values\": 888,\n        \"samples\": [\n          11.96686214\n        ],\n        \"semantic_type\": \"\",\n        \"description\": \"\"\n      }\n    }\n  ]\n}",
              "type": "dataframe",
              "variable_name": "df_vnm_test"
            },
            "text/html": [
              "\n",
              "  <div id=\"df-c0fa245f-2448-4b34-a6cc-2a61b62a78fc\" class=\"colab-df-container\">\n",
              "    <div>\n",
              "<style scoped>\n",
              "    .dataframe tbody tr th:only-of-type {\n",
              "        vertical-align: middle;\n",
              "    }\n",
              "\n",
              "    .dataframe tbody tr th {\n",
              "        vertical-align: top;\n",
              "    }\n",
              "\n",
              "    .dataframe thead th {\n",
              "        text-align: right;\n",
              "    }\n",
              "</style>\n",
              "<table border=\"1\" class=\"dataframe\">\n",
              "  <thead>\n",
              "    <tr style=\"text-align: right;\">\n",
              "      <th></th>\n",
              "      <th>ID</th>\n",
              "      <th>Lon</th>\n",
              "      <th>Lat</th>\n",
              "      <th>blue_p50</th>\n",
              "      <th>green_p50</th>\n",
              "      <th>nir_p50</th>\n",
              "      <th>nira_p50</th>\n",
              "      <th>re1_p50</th>\n",
              "      <th>re2_p50</th>\n",
              "      <th>re3_p50</th>\n",
              "      <th>red_p50</th>\n",
              "      <th>swir1_p50</th>\n",
              "      <th>swir2_p50</th>\n",
              "      <th>VV_p50</th>\n",
              "      <th>VH_p50</th>\n",
              "      <th>TARGET</th>\n",
              "      <th>lon</th>\n",
              "      <th>lat</th>\n",
              "    </tr>\n",
              "  </thead>\n",
              "  <tbody>\n",
              "    <tr>\n",
              "      <th>0</th>\n",
              "      <td>1</td>\n",
              "      <td>108.406667</td>\n",
              "      <td>11.699973</td>\n",
              "      <td>2284.0</td>\n",
              "      <td>2429.0</td>\n",
              "      <td>2857.0</td>\n",
              "      <td>3314.5</td>\n",
              "      <td>2690.5</td>\n",
              "      <td>3043.5</td>\n",
              "      <td>3165.0</td>\n",
              "      <td>2461.0</td>\n",
              "      <td>3385.5</td>\n",
              "      <td>2848.0</td>\n",
              "      <td>-9.688691</td>\n",
              "      <td>-17.492636</td>\n",
              "      <td>0</td>\n",
              "      <td>108.406667</td>\n",
              "      <td>11.699973</td>\n",
              "    </tr>\n",
              "    <tr>\n",
              "      <th>1</th>\n",
              "      <td>2</td>\n",
              "      <td>108.364087</td>\n",
              "      <td>11.780641</td>\n",
              "      <td>2606.0</td>\n",
              "      <td>2743.0</td>\n",
              "      <td>3708.0</td>\n",
              "      <td>4164.0</td>\n",
              "      <td>3226.5</td>\n",
              "      <td>3826.5</td>\n",
              "      <td>4080.5</td>\n",
              "      <td>2819.0</td>\n",
              "      <td>3978.5</td>\n",
              "      <td>3402.0</td>\n",
              "      <td>-8.679594</td>\n",
              "      <td>-16.148212</td>\n",
              "      <td>0</td>\n",
              "      <td>108.364087</td>\n",
              "      <td>11.780641</td>\n",
              "    </tr>\n",
              "    <tr>\n",
              "      <th>2</th>\n",
              "      <td>3</td>\n",
              "      <td>108.201133</td>\n",
              "      <td>11.690091</td>\n",
              "      <td>1965.0</td>\n",
              "      <td>2174.0</td>\n",
              "      <td>3713.0</td>\n",
              "      <td>3767.0</td>\n",
              "      <td>2475.5</td>\n",
              "      <td>3473.5</td>\n",
              "      <td>3750.5</td>\n",
              "      <td>2050.0</td>\n",
              "      <td>2870.5</td>\n",
              "      <td>2309.0</td>\n",
              "      <td>-7.793950</td>\n",
              "      <td>-14.815912</td>\n",
              "      <td>0</td>\n",
              "      <td>108.201133</td>\n",
              "      <td>11.690091</td>\n",
              "    </tr>\n",
              "    <tr>\n",
              "      <th>3</th>\n",
              "      <td>4</td>\n",
              "      <td>108.196731</td>\n",
              "      <td>11.692157</td>\n",
              "      <td>2010.0</td>\n",
              "      <td>2051.0</td>\n",
              "      <td>2401.0</td>\n",
              "      <td>2510.0</td>\n",
              "      <td>2234.0</td>\n",
              "      <td>2448.0</td>\n",
              "      <td>2532.0</td>\n",
              "      <td>2106.0</td>\n",
              "      <td>2476.5</td>\n",
              "      <td>2137.0</td>\n",
              "      <td>-9.485932</td>\n",
              "      <td>-15.773308</td>\n",
              "      <td>0</td>\n",
              "      <td>108.196731</td>\n",
              "      <td>11.692157</td>\n",
              "    </tr>\n",
              "    <tr>\n",
              "      <th>4</th>\n",
              "      <td>5</td>\n",
              "      <td>108.197809</td>\n",
              "      <td>11.695032</td>\n",
              "      <td>2084.0</td>\n",
              "      <td>2253.0</td>\n",
              "      <td>3148.0</td>\n",
              "      <td>3371.0</td>\n",
              "      <td>2628.0</td>\n",
              "      <td>3212.5</td>\n",
              "      <td>3369.0</td>\n",
              "      <td>2301.0</td>\n",
              "      <td>3226.0</td>\n",
              "      <td>2874.0</td>\n",
              "      <td>-7.751073</td>\n",
              "      <td>-16.848070</td>\n",
              "      <td>0</td>\n",
              "      <td>108.197809</td>\n",
              "      <td>11.695032</td>\n",
              "    </tr>\n",
              "  </tbody>\n",
              "</table>\n",
              "</div>\n",
              "    <div class=\"colab-df-buttons\">\n",
              "\n",
              "  <div class=\"colab-df-container\">\n",
              "    <button class=\"colab-df-convert\" onclick=\"convertToInteractive('df-c0fa245f-2448-4b34-a6cc-2a61b62a78fc')\"\n",
              "            title=\"Convert this dataframe to an interactive table.\"\n",
              "            style=\"display:none;\">\n",
              "\n",
              "  <svg xmlns=\"http://www.w3.org/2000/svg\" height=\"24px\" viewBox=\"0 -960 960 960\">\n",
              "    <path d=\"M120-120v-720h720v720H120Zm60-500h600v-160H180v160Zm220 220h160v-160H400v160Zm0 220h160v-160H400v160ZM180-400h160v-160H180v160Zm440 0h160v-160H620v160ZM180-180h160v-160H180v160Zm440 0h160v-160H620v160Z\"/>\n",
              "  </svg>\n",
              "    </button>\n",
              "\n",
              "  <style>\n",
              "    .colab-df-container {\n",
              "      display:flex;\n",
              "      gap: 12px;\n",
              "    }\n",
              "\n",
              "    .colab-df-convert {\n",
              "      background-color: #E8F0FE;\n",
              "      border: none;\n",
              "      border-radius: 50%;\n",
              "      cursor: pointer;\n",
              "      display: none;\n",
              "      fill: #1967D2;\n",
              "      height: 32px;\n",
              "      padding: 0 0 0 0;\n",
              "      width: 32px;\n",
              "    }\n",
              "\n",
              "    .colab-df-convert:hover {\n",
              "      background-color: #E2EBFA;\n",
              "      box-shadow: 0px 1px 2px rgba(60, 64, 67, 0.3), 0px 1px 3px 1px rgba(60, 64, 67, 0.15);\n",
              "      fill: #174EA6;\n",
              "    }\n",
              "\n",
              "    .colab-df-buttons div {\n",
              "      margin-bottom: 4px;\n",
              "    }\n",
              "\n",
              "    [theme=dark] .colab-df-convert {\n",
              "      background-color: #3B4455;\n",
              "      fill: #D2E3FC;\n",
              "    }\n",
              "\n",
              "    [theme=dark] .colab-df-convert:hover {\n",
              "      background-color: #434B5C;\n",
              "      box-shadow: 0px 1px 3px 1px rgba(0, 0, 0, 0.15);\n",
              "      filter: drop-shadow(0px 1px 2px rgba(0, 0, 0, 0.3));\n",
              "      fill: #FFFFFF;\n",
              "    }\n",
              "  </style>\n",
              "\n",
              "    <script>\n",
              "      const buttonEl =\n",
              "        document.querySelector('#df-c0fa245f-2448-4b34-a6cc-2a61b62a78fc button.colab-df-convert');\n",
              "      buttonEl.style.display =\n",
              "        google.colab.kernel.accessAllowed ? 'block' : 'none';\n",
              "\n",
              "      async function convertToInteractive(key) {\n",
              "        const element = document.querySelector('#df-c0fa245f-2448-4b34-a6cc-2a61b62a78fc');\n",
              "        const dataTable =\n",
              "          await google.colab.kernel.invokeFunction('convertToInteractive',\n",
              "                                                    [key], {});\n",
              "        if (!dataTable) return;\n",
              "\n",
              "        const docLinkHtml = 'Like what you see? Visit the ' +\n",
              "          '<a target=\"_blank\" href=https://colab.research.google.com/notebooks/data_table.ipynb>data table notebook</a>'\n",
              "          + ' to learn more about interactive tables.';\n",
              "        element.innerHTML = '';\n",
              "        dataTable['output_type'] = 'display_data';\n",
              "        await google.colab.output.renderOutput(dataTable, element);\n",
              "        const docLink = document.createElement('div');\n",
              "        docLink.innerHTML = docLinkHtml;\n",
              "        element.appendChild(docLink);\n",
              "      }\n",
              "    </script>\n",
              "  </div>\n",
              "\n",
              "\n",
              "<div id=\"df-50daac1f-8ae7-4b16-a445-c259f0372c10\">\n",
              "  <button class=\"colab-df-quickchart\" onclick=\"quickchart('df-50daac1f-8ae7-4b16-a445-c259f0372c10')\"\n",
              "            title=\"Suggest charts\"\n",
              "            style=\"display:none;\">\n",
              "\n",
              "<svg xmlns=\"http://www.w3.org/2000/svg\" height=\"24px\"viewBox=\"0 0 24 24\"\n",
              "     width=\"24px\">\n",
              "    <g>\n",
              "        <path d=\"M19 3H5c-1.1 0-2 .9-2 2v14c0 1.1.9 2 2 2h14c1.1 0 2-.9 2-2V5c0-1.1-.9-2-2-2zM9 17H7v-7h2v7zm4 0h-2V7h2v10zm4 0h-2v-4h2v4z\"/>\n",
              "    </g>\n",
              "</svg>\n",
              "  </button>\n",
              "\n",
              "<style>\n",
              "  .colab-df-quickchart {\n",
              "      --bg-color: #E8F0FE;\n",
              "      --fill-color: #1967D2;\n",
              "      --hover-bg-color: #E2EBFA;\n",
              "      --hover-fill-color: #174EA6;\n",
              "      --disabled-fill-color: #AAA;\n",
              "      --disabled-bg-color: #DDD;\n",
              "  }\n",
              "\n",
              "  [theme=dark] .colab-df-quickchart {\n",
              "      --bg-color: #3B4455;\n",
              "      --fill-color: #D2E3FC;\n",
              "      --hover-bg-color: #434B5C;\n",
              "      --hover-fill-color: #FFFFFF;\n",
              "      --disabled-bg-color: #3B4455;\n",
              "      --disabled-fill-color: #666;\n",
              "  }\n",
              "\n",
              "  .colab-df-quickchart {\n",
              "    background-color: var(--bg-color);\n",
              "    border: none;\n",
              "    border-radius: 50%;\n",
              "    cursor: pointer;\n",
              "    display: none;\n",
              "    fill: var(--fill-color);\n",
              "    height: 32px;\n",
              "    padding: 0;\n",
              "    width: 32px;\n",
              "  }\n",
              "\n",
              "  .colab-df-quickchart:hover {\n",
              "    background-color: var(--hover-bg-color);\n",
              "    box-shadow: 0 1px 2px rgba(60, 64, 67, 0.3), 0 1px 3px 1px rgba(60, 64, 67, 0.15);\n",
              "    fill: var(--button-hover-fill-color);\n",
              "  }\n",
              "\n",
              "  .colab-df-quickchart-complete:disabled,\n",
              "  .colab-df-quickchart-complete:disabled:hover {\n",
              "    background-color: var(--disabled-bg-color);\n",
              "    fill: var(--disabled-fill-color);\n",
              "    box-shadow: none;\n",
              "  }\n",
              "\n",
              "  .colab-df-spinner {\n",
              "    border: 2px solid var(--fill-color);\n",
              "    border-color: transparent;\n",
              "    border-bottom-color: var(--fill-color);\n",
              "    animation:\n",
              "      spin 1s steps(1) infinite;\n",
              "  }\n",
              "\n",
              "  @keyframes spin {\n",
              "    0% {\n",
              "      border-color: transparent;\n",
              "      border-bottom-color: var(--fill-color);\n",
              "      border-left-color: var(--fill-color);\n",
              "    }\n",
              "    20% {\n",
              "      border-color: transparent;\n",
              "      border-left-color: var(--fill-color);\n",
              "      border-top-color: var(--fill-color);\n",
              "    }\n",
              "    30% {\n",
              "      border-color: transparent;\n",
              "      border-left-color: var(--fill-color);\n",
              "      border-top-color: var(--fill-color);\n",
              "      border-right-color: var(--fill-color);\n",
              "    }\n",
              "    40% {\n",
              "      border-color: transparent;\n",
              "      border-right-color: var(--fill-color);\n",
              "      border-top-color: var(--fill-color);\n",
              "    }\n",
              "    60% {\n",
              "      border-color: transparent;\n",
              "      border-right-color: var(--fill-color);\n",
              "    }\n",
              "    80% {\n",
              "      border-color: transparent;\n",
              "      border-right-color: var(--fill-color);\n",
              "      border-bottom-color: var(--fill-color);\n",
              "    }\n",
              "    90% {\n",
              "      border-color: transparent;\n",
              "      border-bottom-color: var(--fill-color);\n",
              "    }\n",
              "  }\n",
              "</style>\n",
              "\n",
              "  <script>\n",
              "    async function quickchart(key) {\n",
              "      const quickchartButtonEl =\n",
              "        document.querySelector('#' + key + ' button');\n",
              "      quickchartButtonEl.disabled = true;  // To prevent multiple clicks.\n",
              "      quickchartButtonEl.classList.add('colab-df-spinner');\n",
              "      try {\n",
              "        const charts = await google.colab.kernel.invokeFunction(\n",
              "            'suggestCharts', [key], {});\n",
              "      } catch (error) {\n",
              "        console.error('Error during call to suggestCharts:', error);\n",
              "      }\n",
              "      quickchartButtonEl.classList.remove('colab-df-spinner');\n",
              "      quickchartButtonEl.classList.add('colab-df-quickchart-complete');\n",
              "    }\n",
              "    (() => {\n",
              "      let quickchartButtonEl =\n",
              "        document.querySelector('#df-50daac1f-8ae7-4b16-a445-c259f0372c10 button');\n",
              "      quickchartButtonEl.style.display =\n",
              "        google.colab.kernel.accessAllowed ? 'block' : 'none';\n",
              "    })();\n",
              "  </script>\n",
              "</div>\n",
              "\n",
              "    </div>\n",
              "  </div>\n"
            ],
            "text/plain": [
              "   ID         Lon        Lat  blue_p50  green_p50  nir_p50  nira_p50  re1_p50  \\\n",
              "0   1  108.406667  11.699973    2284.0     2429.0   2857.0    3314.5   2690.5   \n",
              "1   2  108.364087  11.780641    2606.0     2743.0   3708.0    4164.0   3226.5   \n",
              "2   3  108.201133  11.690091    1965.0     2174.0   3713.0    3767.0   2475.5   \n",
              "3   4  108.196731  11.692157    2010.0     2051.0   2401.0    2510.0   2234.0   \n",
              "4   5  108.197809  11.695032    2084.0     2253.0   3148.0    3371.0   2628.0   \n",
              "\n",
              "   re2_p50  re3_p50  red_p50  swir1_p50  swir2_p50    VV_p50     VH_p50  \\\n",
              "0   3043.5   3165.0   2461.0     3385.5     2848.0 -9.688691 -17.492636   \n",
              "1   3826.5   4080.5   2819.0     3978.5     3402.0 -8.679594 -16.148212   \n",
              "2   3473.5   3750.5   2050.0     2870.5     2309.0 -7.793950 -14.815912   \n",
              "3   2448.0   2532.0   2106.0     2476.5     2137.0 -9.485932 -15.773308   \n",
              "4   3212.5   3369.0   2301.0     3226.0     2874.0 -7.751073 -16.848070   \n",
              "\n",
              "   TARGET         lon        lat  \n",
              "0       0  108.406667  11.699973  \n",
              "1       0  108.364087  11.780641  \n",
              "2       0  108.201133  11.690091  \n",
              "3       0  108.196731  11.692157  \n",
              "4       0  108.197809  11.695032  "
            ]
          },
          "execution_count": 59,
          "metadata": {},
          "output_type": "execute_result"
        }
      ],
      "source": [
        "df_vnm_test.head()\n"
      ]
    },
    {
      "cell_type": "code",
      "execution_count": null,
      "metadata": {
        "colab": {
          "base_uri": "https://localhost:8080/",
          "height": 885
        },
        "id": "wvTQsNqMFgXJ",
        "outputId": "f9e1c176-228b-4cf4-b0eb-5299511bb281"
      },
      "outputs": [
        {
          "data": {
            "text/html": [
              "\n",
              "            <style>\n",
              "                .geemap-dark {\n",
              "                    --jp-widgets-color: white;\n",
              "                    --jp-widgets-label-color: white;\n",
              "                    --jp-ui-font-color1: white;\n",
              "                    --jp-layout-color2: #454545;\n",
              "                    background-color: #383838;\n",
              "                }\n",
              "\n",
              "                .geemap-dark .jupyter-button {\n",
              "                    --jp-layout-color3: #383838;\n",
              "                }\n",
              "\n",
              "                .geemap-colab {\n",
              "                    background-color: var(--colab-primary-surface-color, white);\n",
              "                }\n",
              "\n",
              "                .geemap-colab .jupyter-button {\n",
              "                    --jp-layout-color3: var(--colab-primary-surface-color, white);\n",
              "                }\n",
              "            </style>\n",
              "            "
            ],
            "text/plain": [
              "<IPython.core.display.HTML object>"
            ]
          },
          "metadata": {},
          "output_type": "display_data"
        },
        {
          "name": "stdout",
          "output_type": "stream",
          "text": [
            "000.*\n",
            "001.002.003.004.005.006.007.008.009.010.011.012.013.014.015.016.017.018.019.020.*\n",
            "021.022.023.024.025.026.027.028.029.030.031.032.033.034.035.036.037.038.039.040.*\n",
            "041.042.043.044.045.046.047.048.049.050.051.052.053.054.055.056.057.058.059.060.*\n",
            "061.062.063.064.065.066.067.068.069.070.071.072.073.074.075.076.077.078.079.080.*\n",
            "081.082.083.084.085.086.087.088.089.090.091.092.093.094.095.096.097.098.099.100.*\n",
            "101.102.103.104.105.106.107.108.109.110.111.112.113.114.115.116.117.118.119.120.*\n",
            "121.122.123.124.125.126.127.128.129.130.131.132.133.134.135.136.137.138.139.140.*\n",
            "141.142.143.144.145.146.147.148.149.150.151.152.153.154.155.156.157.158.159.160.*\n",
            "161.162.163.164.165.166.167.168.169.170.171.172.173.174.175.176.177.178.179.180.*\n",
            "181.182.183.184.185.186.187.188.189.190.191.192.193.194.195.196.197.198.199.200.*\n",
            "201.202.203.204.205.206.207.208.209.210.211.212.213.214.215.216.217.218.219.220.*\n",
            "221.222.223.224.225.226.227.228.229.230.231.232.233.234.235.236.237.238.239.240.*\n",
            "241.242.243.244.245.246.247.248.249.250.251.252.253.254.255.256.257.258.259.260.*\n",
            "261.262.263.264.265.266.267.268.269.270.271.272.273.274.275.276.277.278.279.280.*\n",
            "281.282.283.284.285.286.287.288.289.290.291.292.293.294.295.296.297.298.299.300.*\n",
            "301.302.303.304.305.306.307.308.309.310.311.312.313.314.315.316.317.318.319.320.*\n",
            "321.322.323.324.325.326.327.328.329.330.331.332.333.334.335.336.337.338.339.340.*\n",
            "341.342.343.344.345.346.347.348.349.350.351.352.353.354.355.356.357.358.359.360.*\n",
            "361.362.363.364.365.366.367.368.369.370.371.372.373.374.375.376.377.378.379.380.*\n",
            "381.382.383.384.385.386.387.388.389.390.391.392.393.394.395.396.397.398.399.400.*\n",
            "401.402.403.404.405.406.407.408.409.410.411.412.413.414.415.416.417.418.419.420.*\n",
            "421.422.423.424.425.426.427.428.429.430.431.432.433.434.435.436.437.438.439.440.*\n",
            "441.442.443.444.445.446.447.448.449.450.451.452.453.454.455.456.457.458.459.460.*\n",
            "461.462.463.464.465.466.467.468.469.470.471.472.473.474.475.476.477.478.479.480.*\n",
            "481.482.483.484.485.486.487.488.489.490.491.492.493.494.495.496.497.498.499.500.*\n",
            "501.502.503.504.505.506.507.508.509.510.511.512.513.514.515.516.517.518.519.520.*\n",
            "521.522.523.524.525.526.527.528.529.530.531.532.533.534.535.536.537.538.539.540.*\n",
            "541.542.543.544.545.546.547.548.549.550.551.552.553.554.555.556.557.558.559.560.*\n",
            "561.562.563.564.565.566.567.568.569.570.571.572.573.574.575.576.577.578.579.580.*\n",
            "581.582.583.584.585.586.587.588.589.590.591.592.593.594.595.596.597.598.599.600.*\n",
            "601.602.603.604.605.606.607.608.609.610.611.612.613.614.615.616.617.618.619.620.*\n",
            "621.622.623.624.625.626.627.628.629.630.631.632.633.634.635.636.637.638.639.640.*\n",
            "641.642.643.644.645.646.647.648.649.650.651.652.653.654.655.656.657.658.659.660.*\n",
            "661.662.663.664.665.666.667.668.669.670.671.672.673.674.675.676.677.678.679.680.*\n",
            "681.682.683.684.685.686.687.688.689.690.691.692.693.694.695.696.697.698.699.700.*\n",
            "701.702.703.704.705.706.707.708.709.710.711.712.713.714.715.716.717.718.719.720.*\n",
            "721.722.723.724.725.726.727.728.729.730.731.732.733.734.735.736.737.738.739.740.*\n",
            "741.742.743.744.745.746.747.748.749.750.751.752.753.754.755.756.757.758.759.760.*\n",
            "761.762.763.764.765.766.767.768.769.770.771.772.773.774.775.776.777.778.779.780.*\n",
            "781.782.783.784.785.786.787.788.789.790.791.792.793.794.795.796.797.798.799.800.*\n",
            "801.802.803.804.805.806.807.808.809.810.811.812.813.814.815.816.817.818.819.820.*\n",
            "821.822.823.824.825.826.827.828.829.830.831.832.833.834.835.836.837.838.839.840.*\n",
            "841.842.843.844.845.846.847.848.849.850.851.852.853.854.855.856.857.858.859.860.*\n",
            "861.862.863.864.865.866.867.868.869.870.871.872.873.874.875.876.877.878.879.880.*\n",
            "881.882.883.884.885.886.887.888.889.890.891.892.893.894.895.896.897.898.899.900.*\n",
            "901.902.903.904.905.906.907.908.909.910.911.912.913.914.915.916.917.918.919.920.*\n",
            "921.922.923.924.925.926.927.928.929.930.931.932.933.934.935.936.937.938.939.940.*\n",
            "941.942.943.944.945.946.947.948.949.950.951.952.953.954.955.956.957.958.959.960.*\n",
            "961.962.963.964.965.966.967.968.969.970.971.972.973.974.975.976.977.978."
          ]
        }
      ],
      "source": [
        "image_generation(df_vnm_test,_image_id_)"
      ]
    },
    {
      "cell_type": "code",
      "execution_count": null,
      "metadata": {
        "colab": {
          "base_uri": "https://localhost:8080/",
          "height": 17
        },
        "id": "LSGU-KBTT69j",
        "outputId": "93fa312c-d723-4837-9b5d-bed4c2507c81"
      },
      "outputs": [
        {
          "data": {
            "text/html": [
              "\n",
              "            <style>\n",
              "                .geemap-dark {\n",
              "                    --jp-widgets-color: white;\n",
              "                    --jp-widgets-label-color: white;\n",
              "                    --jp-ui-font-color1: white;\n",
              "                    --jp-layout-color2: #454545;\n",
              "                    background-color: #383838;\n",
              "                }\n",
              "\n",
              "                .geemap-dark .jupyter-button {\n",
              "                    --jp-layout-color3: #383838;\n",
              "                }\n",
              "\n",
              "                .geemap-colab {\n",
              "                    background-color: var(--colab-primary-surface-color, white);\n",
              "                }\n",
              "\n",
              "                .geemap-colab .jupyter-button {\n",
              "                    --jp-layout-color3: var(--colab-primary-surface-color, white);\n",
              "                }\n",
              "            </style>\n",
              "            "
            ],
            "text/plain": [
              "<IPython.core.display.HTML object>"
            ]
          },
          "metadata": {},
          "output_type": "display_data"
        }
      ],
      "source": [
        "df_kenya_test=pandas.read_csv(_PROJECT_BASE_+_ORIG_+\"/Kenya_testing.csv\")\n",
        "_image_id_=\"_kenya_testing\"\n",
        "_sat_=None\n",
        "_band_=None\n",
        "df_kenya_test[\"TARGET\"]=0\n"
      ]
    },
    {
      "cell_type": "code",
      "execution_count": null,
      "metadata": {
        "colab": {
          "base_uri": "https://localhost:8080/",
          "height": 902
        },
        "id": "cvyyfQNuFgNZ",
        "outputId": "5e50d29a-b9e4-480a-836f-a69ee0f93d63"
      },
      "outputs": [
        {
          "data": {
            "text/html": [
              "\n",
              "            <style>\n",
              "                .geemap-dark {\n",
              "                    --jp-widgets-color: white;\n",
              "                    --jp-widgets-label-color: white;\n",
              "                    --jp-ui-font-color1: white;\n",
              "                    --jp-layout-color2: #454545;\n",
              "                    background-color: #383838;\n",
              "                }\n",
              "\n",
              "                .geemap-dark .jupyter-button {\n",
              "                    --jp-layout-color3: #383838;\n",
              "                }\n",
              "\n",
              "                .geemap-colab {\n",
              "                    background-color: var(--colab-primary-surface-color, white);\n",
              "                }\n",
              "\n",
              "                .geemap-colab .jupyter-button {\n",
              "                    --jp-layout-color3: var(--colab-primary-surface-color, white);\n",
              "                }\n",
              "            </style>\n",
              "            "
            ],
            "text/plain": [
              "<IPython.core.display.HTML object>"
            ]
          },
          "metadata": {},
          "output_type": "display_data"
        },
        {
          "name": "stdout",
          "output_type": "stream",
          "text": [
            "000.*\n",
            "001.002.003.004.005.006.007.008.009.010.011.012.013.014.015.016.017.018.019.020.*\n",
            "021.022.023.024.025.026.027.028.029.030.031.032.033.034.035.036.037.038.039.040.*\n",
            "041.042.043.044.045.046.047.048.049.050.051.052.053.054.055.056.057.058.059.060.*\n",
            "061.062.063.064.065.066.067.068.069.070.071.072.073.074.075.076.077.078.079.080.*\n",
            "081.082.083.084.085.086.087.088.089.090.091.092.093.094.095.096.097.098.099.100.*\n",
            "101.102.103.104.105.106.107.108.109.110.111.112.113.114.115.116.117.118.119.120.*\n",
            "121.122.123.124.125.126.127.128.129.130.131.132.133.134.135.136.137.138.139.140.*\n",
            "141.142.143.144.145.146.147.148.149.150.151.152.153.154.155.156.157.158.159.160.*\n",
            "161.162.163.164.165.166.167.168.169.170.171.172.173.174.175.176.177.178.179.180.*\n",
            "181.182.183.184.185.186.187.188.189.190.191.192.193.194.195.196.197.198.199.200.*\n",
            "201.202.203.204.205.206.207.208.209.210.211.212.213.214.215.216.217.218.219.220.*\n",
            "221.222.223.224.225.226.227.228.229.230.231.232.233.234.235.236.237.238.239.240.*\n",
            "241.242.243.244.245.246.247.248.249.250.251.252.253.254.255.256.257.258.259.260.*\n",
            "261.262.263.264.265.266.267.268.269.270.271.272.273.274.275.276.277.278.279.280.*\n",
            "281.282.283.284.285.286.287.288.289.290.291.292.293.294.295.296.297.298.299.300.*\n",
            "301.302.303.304.305.306.307.308.309.310.311.312.313.314.315.316.317.318.319.320.*\n",
            "321.322.323.324.325.326.327.328.329.330.331.332.333.334.335.336.337.338.339.340.*\n",
            "341.342.343.344.345.346.347.348.349.350.351.352.353.354.355.356.357.358.359.360.*\n",
            "361.362.363.364.365.366.367.368.369.370.371.372.373.374.375.376.377.378.379.380.*\n",
            "381.382.383.384.385.386.387.388.389.390.391.392.393.394.395.396.397.398.399.400.*\n",
            "401.402.403.404.405.406.407.408.409.410.411.412.413.414.415.416.417.418.419.420.*\n",
            "421.422.423.424.425.426.427.428.429.430.431.432.433.434.435.436.437.438.439.440.*\n",
            "441.442.443.444.445.446.447.448.449.450.451.452.453.454.455.456.457.458.459.460.*\n",
            "461.462.463.464.465.466.467.468.469.470.471.472.473.474.475.476.477.478.479.480.*\n",
            "481.482.483.484.485.486.487.488.489.490.491.492.493.494.495.496.497.498.499.500.*\n",
            "501.502.503.504.505.506.507.508.509.510.511.512.513.514.515.516.517.518.519.520.*\n",
            "521.522.523.524.525.526.527.528.529.530.531.532.533.534.535.536.537.538.539.540.*\n",
            "541.542.543.544.545.546.547.548.549.550.551.552.553.554.555.556.557.558.559.560.*\n",
            "561.562.563.564.565.566.567.568.569.570.571.572.573.574.575.576.577.578.579.580.*\n",
            "581.582.583.584.585.586.587.588.589.590.591.592.593.594.595.596.597.598.599.600.*\n",
            "601.602.603.604.605.606.607.608.609.610.611.612.613.614.615.616.617.618.619.620.*\n",
            "621.622.623.624.625.626.627.628.629.630.631.632.633.634.635.636.637.638.639.640.*\n",
            "641.642.643.644.645.646.647.648.649.650.651.652.653.654.655.656.657.658.659.660.*\n",
            "661.662.663.664.665.666.667.668.669.670.671.672.673.674.675.676.677.678.679.680.*\n",
            "681.682.683.684.685.686.687.688.689.690.691.692.693.694.695.696.697.698.699.700.*\n",
            "701.702.703.704.705.706.707.708.709.710.711.712.713.714.715.716.717.718.719.720.*\n",
            "721.722.723.724.725.726.727.728.729.730.731.732.733.734.735.736.737.738.739.740.*\n",
            "741.742.743.744.745.746.747.748.749.750.751.752.753.754.755.756.757.758.759.760.*\n",
            "761.762.763.764.765.766.767.768.769.770.771.772.773.774.775.776.777.778.779.780.*\n",
            "781.782.783.784.785.786.787.788.789.790.791.792.793.794.795.796.797.798.799.800.*\n",
            "801.802.803.804.805.806.807.808.809.810.811.812.813.814.815.816.817.818.819.820.*\n",
            "821.822.823.824.825.826.827.828.829.830.831.832.833.834.835.836.837.838.839.840.*\n",
            "841.842.843.844.845.846.847.848.849.850.851.852.853.854.855.856.857.858.859.860.*\n",
            "861.862.863.864.865.866.867.868.869.870.871.872.873.874.875.876.877.878.879.880.*\n",
            "881.882.883.884.885.886.887.888.889.890.891.892.893.894.895.896.897.898.899.900.*\n",
            "901.902.903.904.905.906.907.908.909.910.911.912.913.914.915.916.917.918.919.920.*\n",
            "921.922.923.924.925.926.927.928.929.930.931.932.933.934.935.936.937.938.939.940.*\n",
            "941.942.943.944.945.946.947.948.949.950.951.952.953.954.955.956.957.958.959.960.*\n",
            "961.962.963.964.965.966.967.968.969.970.971.972.973.974.975.976.977.978.979.980.*\n",
            "981.982.983.984.985.986.987.988.989.990.991.992.993.994.995.996.997.998.999.1000.*\n"
          ]
        }
      ],
      "source": [
        "image_generation(df_kenya_test,_image_id_)"
      ]
    },
    {
      "cell_type": "code",
      "execution_count": null,
      "metadata": {
        "colab": {
          "base_uri": "https://localhost:8080/",
          "height": 17
        },
        "id": "leNkZzRKvU2G",
        "outputId": "c6bc06d6-41b8-4aae-e2b6-5c644e3dff2d"
      },
      "outputs": [
        {
          "data": {
            "text/html": [
              "\n",
              "            <style>\n",
              "                .geemap-dark {\n",
              "                    --jp-widgets-color: white;\n",
              "                    --jp-widgets-label-color: white;\n",
              "                    --jp-ui-font-color1: white;\n",
              "                    --jp-layout-color2: #454545;\n",
              "                    background-color: #383838;\n",
              "                }\n",
              "\n",
              "                .geemap-dark .jupyter-button {\n",
              "                    --jp-layout-color3: #383838;\n",
              "                }\n",
              "\n",
              "                .geemap-colab {\n",
              "                    background-color: var(--colab-primary-surface-color, white);\n",
              "                }\n",
              "\n",
              "                .geemap-colab .jupyter-button {\n",
              "                    --jp-layout-color3: var(--colab-primary-surface-color, white);\n",
              "                }\n",
              "            </style>\n",
              "            "
            ],
            "text/plain": [
              "<IPython.core.display.HTML object>"
            ]
          },
          "metadata": {},
          "output_type": "display_data"
        }
      ],
      "source": [
        "\n",
        "# _sat_=\"LANDSAT/LC08/C02/T1_L2\"\n",
        "# _band_=['SR_B7','SR_B3','SR_B2']\n",
        "# _image_id_=\"_kenya_landsat\""
      ]
    },
    {
      "cell_type": "code",
      "execution_count": null,
      "metadata": {
        "colab": {
          "base_uri": "https://localhost:8080/",
          "height": 17
        },
        "id": "Xh0DUqj_vU2G",
        "outputId": "5e7f07e3-6e82-4713-a952-559c902a11c1"
      },
      "outputs": [
        {
          "data": {
            "text/html": [
              "\n",
              "            <style>\n",
              "                .geemap-dark {\n",
              "                    --jp-widgets-color: white;\n",
              "                    --jp-widgets-label-color: white;\n",
              "                    --jp-ui-font-color1: white;\n",
              "                    --jp-layout-color2: #454545;\n",
              "                    background-color: #383838;\n",
              "                }\n",
              "\n",
              "                .geemap-dark .jupyter-button {\n",
              "                    --jp-layout-color3: #383838;\n",
              "                }\n",
              "\n",
              "                .geemap-colab {\n",
              "                    background-color: var(--colab-primary-surface-color, white);\n",
              "                }\n",
              "\n",
              "                .geemap-colab .jupyter-button {\n",
              "                    --jp-layout-color3: var(--colab-primary-surface-color, white);\n",
              "                }\n",
              "            </style>\n",
              "            "
            ],
            "text/plain": [
              "<IPython.core.display.HTML object>"
            ]
          },
          "metadata": {},
          "output_type": "display_data"
        }
      ],
      "source": [
        "# image_generation(df_kenya,_image_id_)"
      ]
    },
    {
      "cell_type": "code",
      "execution_count": null,
      "metadata": {
        "colab": {
          "base_uri": "https://localhost:8080/",
          "height": 17
        },
        "id": "mhlHHrggtUl2",
        "outputId": "62012823-db04-4744-fdc0-22cb99f0e975"
      },
      "outputs": [
        {
          "data": {
            "text/html": [
              "\n",
              "            <style>\n",
              "                .geemap-dark {\n",
              "                    --jp-widgets-color: white;\n",
              "                    --jp-widgets-label-color: white;\n",
              "                    --jp-ui-font-color1: white;\n",
              "                    --jp-layout-color2: #454545;\n",
              "                    background-color: #383838;\n",
              "                }\n",
              "\n",
              "                .geemap-dark .jupyter-button {\n",
              "                    --jp-layout-color3: #383838;\n",
              "                }\n",
              "\n",
              "                .geemap-colab {\n",
              "                    background-color: var(--colab-primary-surface-color, white);\n",
              "                }\n",
              "\n",
              "                .geemap-colab .jupyter-button {\n",
              "                    --jp-layout-color3: var(--colab-primary-surface-color, white);\n",
              "                }\n",
              "            </style>\n",
              "            "
            ],
            "text/plain": [
              "<IPython.core.display.HTML object>"
            ]
          },
          "metadata": {},
          "output_type": "display_data"
        }
      ],
      "source": [
        "def format_image(image_dir):\n",
        "    image = tf.read_file(image_dir)\n",
        "    image = tf.image.decode_jpeg(image, channels=3)\n",
        "    image = tf.image.convert_image_dtype(image, tf.float32)\n",
        "    image = tf.image.resize_image_with_pad(image, 256, 256, align_corners=True)\n",
        "    return image"
      ]
    },
    {
      "cell_type": "code",
      "execution_count": null,
      "metadata": {
        "colab": {
          "base_uri": "https://localhost:8080/",
          "height": 17
        },
        "id": "4VUem8xMstSo",
        "outputId": "e812e9cf-5f70-4ef6-d541-de72d706b308"
      },
      "outputs": [
        {
          "data": {
            "text/html": [
              "\n",
              "            <style>\n",
              "                .geemap-dark {\n",
              "                    --jp-widgets-color: white;\n",
              "                    --jp-widgets-label-color: white;\n",
              "                    --jp-ui-font-color1: white;\n",
              "                    --jp-layout-color2: #454545;\n",
              "                    background-color: #383838;\n",
              "                }\n",
              "\n",
              "                .geemap-dark .jupyter-button {\n",
              "                    --jp-layout-color3: #383838;\n",
              "                }\n",
              "\n",
              "                .geemap-colab {\n",
              "                    background-color: var(--colab-primary-surface-color, white);\n",
              "                }\n",
              "\n",
              "                .geemap-colab .jupyter-button {\n",
              "                    --jp-layout-color3: var(--colab-primary-surface-color, white);\n",
              "                }\n",
              "            </style>\n",
              "            "
            ],
            "text/plain": [
              "<IPython.core.display.HTML object>"
            ]
          },
          "metadata": {},
          "output_type": "display_data"
        }
      ],
      "source": [
        "test_images_dir=_PROJECT_BASE_+_TEST_IMAGES_\n",
        "images_dir=_PROJECT_BASE_+_IMAGES_"
      ]
    },
    {
      "cell_type": "code",
      "execution_count": null,
      "metadata": {
        "colab": {
          "base_uri": "https://localhost:8080/",
          "height": 17
        },
        "id": "D0yqcFNCslqX",
        "outputId": "96565b52-7c1d-4988-f297-e6c4a1b43157"
      },
      "outputs": [
        {
          "data": {
            "text/html": [
              "\n",
              "            <style>\n",
              "                .geemap-dark {\n",
              "                    --jp-widgets-color: white;\n",
              "                    --jp-widgets-label-color: white;\n",
              "                    --jp-ui-font-color1: white;\n",
              "                    --jp-layout-color2: #454545;\n",
              "                    background-color: #383838;\n",
              "                }\n",
              "\n",
              "                .geemap-dark .jupyter-button {\n",
              "                    --jp-layout-color3: #383838;\n",
              "                }\n",
              "\n",
              "                .geemap-colab {\n",
              "                    background-color: var(--colab-primary-surface-color, white);\n",
              "                }\n",
              "\n",
              "                .geemap-colab .jupyter-button {\n",
              "                    --jp-layout-color3: var(--colab-primary-surface-color, white);\n",
              "                }\n",
              "            </style>\n",
              "            "
            ],
            "text/plain": [
              "<IPython.core.display.HTML object>"
            ]
          },
          "metadata": {},
          "output_type": "display_data"
        }
      ],
      "source": [
        "!mv {images_dir+'/*_1_*.jpg'} {images_dir+'/plastic'}\n",
        "!mv {images_dir+'/*_2_*.jpg'} {images_dir+'/non_plastic'}"
      ]
    },
    {
      "cell_type": "code",
      "execution_count": null,
      "metadata": {
        "colab": {
          "base_uri": "https://localhost:8080/",
          "height": 17
        },
        "id": "gbSLtBqptD1C",
        "outputId": "943bc6f6-9b5c-45b4-9675-cafcadf1cccd"
      },
      "outputs": [
        {
          "data": {
            "text/html": [
              "\n",
              "            <style>\n",
              "                .geemap-dark {\n",
              "                    --jp-widgets-color: white;\n",
              "                    --jp-widgets-label-color: white;\n",
              "                    --jp-ui-font-color1: white;\n",
              "                    --jp-layout-color2: #454545;\n",
              "                    background-color: #383838;\n",
              "                }\n",
              "\n",
              "                .geemap-dark .jupyter-button {\n",
              "                    --jp-layout-color3: #383838;\n",
              "                }\n",
              "\n",
              "                .geemap-colab {\n",
              "                    background-color: var(--colab-primary-surface-color, white);\n",
              "                }\n",
              "\n",
              "                .geemap-colab .jupyter-button {\n",
              "                    --jp-layout-color3: var(--colab-primary-surface-color, white);\n",
              "                }\n",
              "            </style>\n",
              "            "
            ],
            "text/plain": [
              "<IPython.core.display.HTML object>"
            ]
          },
          "metadata": {},
          "output_type": "display_data"
        }
      ],
      "source": [
        "!mv {images_dir+'/*_0_*.jpg'} {test_images_dir}"
      ]
    },
    {
      "cell_type": "code",
      "execution_count": null,
      "metadata": {
        "colab": {
          "base_uri": "https://localhost:8080/",
          "height": 17
        },
        "id": "uiVYrzUHtngp",
        "outputId": "93db4b0a-b6e0-4e2b-c25c-528f8794e188"
      },
      "outputs": [
        {
          "data": {
            "text/html": [
              "\n",
              "            <style>\n",
              "                .geemap-dark {\n",
              "                    --jp-widgets-color: white;\n",
              "                    --jp-widgets-label-color: white;\n",
              "                    --jp-ui-font-color1: white;\n",
              "                    --jp-layout-color2: #454545;\n",
              "                    background-color: #383838;\n",
              "                }\n",
              "\n",
              "                .geemap-dark .jupyter-button {\n",
              "                    --jp-layout-color3: #383838;\n",
              "                }\n",
              "\n",
              "                .geemap-colab {\n",
              "                    background-color: var(--colab-primary-surface-color, white);\n",
              "                }\n",
              "\n",
              "                .geemap-colab .jupyter-button {\n",
              "                    --jp-layout-color3: var(--colab-primary-surface-color, white);\n",
              "                }\n",
              "            </style>\n",
              "            "
            ],
            "text/plain": [
              "<IPython.core.display.HTML object>"
            ]
          },
          "metadata": {},
          "output_type": "display_data"
        }
      ],
      "source": [
        "# END of Image generation"
      ]
    },
    {
      "cell_type": "code",
      "execution_count": null,
      "metadata": {
        "colab": {
          "base_uri": "https://localhost:8080/",
          "height": 106
        },
        "id": "qgKBKekF2rgh",
        "outputId": "23b11e22-2191-4787-ea63-e7c9593c34ee"
      },
      "outputs": [
        {
          "data": {
            "text/html": [
              "\n",
              "            <style>\n",
              "                .geemap-dark {\n",
              "                    --jp-widgets-color: white;\n",
              "                    --jp-widgets-label-color: white;\n",
              "                    --jp-ui-font-color1: white;\n",
              "                    --jp-layout-color2: #454545;\n",
              "                    background-color: #383838;\n",
              "                }\n",
              "\n",
              "                .geemap-dark .jupyter-button {\n",
              "                    --jp-layout-color3: #383838;\n",
              "                }\n",
              "\n",
              "                .geemap-colab {\n",
              "                    background-color: var(--colab-primary-surface-color, white);\n",
              "                }\n",
              "\n",
              "                .geemap-colab .jupyter-button {\n",
              "                    --jp-layout-color3: var(--colab-primary-surface-color, white);\n",
              "                }\n",
              "            </style>\n",
              "            "
            ],
            "text/plain": [
              "<IPython.core.display.HTML object>"
            ]
          },
          "metadata": {},
          "output_type": "display_data"
        },
        {
          "ename": "SyntaxError",
          "evalue": "invalid syntax (<ipython-input-70-3e98966d834a>, line 1)",
          "output_type": "error",
          "traceback": [
            "\u001b[0;36m  File \u001b[0;32m\"<ipython-input-70-3e98966d834a>\"\u001b[0;36m, line \u001b[0;32m1\u001b[0m\n\u001b[0;31m    stop here the map download\u001b[0m\n\u001b[0m         ^\u001b[0m\n\u001b[0;31mSyntaxError\u001b[0m\u001b[0;31m:\u001b[0m invalid syntax\n"
          ]
        }
      ],
      "source": [
        "stop here the map download"
      ]
    },
    {
      "cell_type": "code",
      "execution_count": 20,
      "metadata": {
        "colab": {
          "base_uri": "https://localhost:8080/"
        },
        "id": "bYPNj2qGtr6b",
        "outputId": "5a596511-41af-4fb2-a4ed-56ce88565799"
      },
      "outputs": [
        {
          "output_type": "stream",
          "name": "stdout",
          "text": [
            "Drive already mounted at /content/drive; to attempt to forcibly remount, call drive.mount(\"/content/drive\", force_remount=True).\n"
          ]
        }
      ],
      "source": [
        "from google.colab import drive\n",
        "drive.mount('/content/drive')"
      ]
    },
    {
      "cell_type": "code",
      "execution_count": 21,
      "metadata": {
        "id": "Kj-uVNqa4E1K",
        "colab": {
          "base_uri": "https://localhost:8080/"
        },
        "outputId": "7cb967ae-0fc1-4105-b315-0726a0379fe6"
      },
      "outputs": [
        {
          "output_type": "stream",
          "name": "stdout",
          "text": [
            "mkdir: cannot create directory ‘local’: File exists\n"
          ]
        }
      ],
      "source": [
        "!mkdir local\n",
        "!mkdir images"
      ]
    },
    {
      "cell_type": "code",
      "execution_count": 62,
      "metadata": {
        "id": "qAIueV-y5FB7"
      },
      "outputs": [],
      "source": [
        "_PROJECT_FILES_BASE_='/content/drive/MyDrive/Zindi_Plastic_images/'\n",
        "_PROJECT_IMAGE_BASE_='/content/drive/MyDrive/Zindi_Plastic_images_infra/'\n",
        "\n",
        "_IMAGES_='images'"
      ]
    },
    {
      "cell_type": "code",
      "execution_count": 63,
      "metadata": {
        "id": "bduU2gKD5JMH"
      },
      "outputs": [],
      "source": [
        "!cp -r {_PROJECT_IMAGE_BASE_+_IMAGES_} ./local"
      ]
    },
    {
      "cell_type": "code",
      "execution_count": 24,
      "metadata": {
        "id": "QD9eEfIA396p"
      },
      "outputs": [],
      "source": [
        "#!rm {_PROJECT_BASE_+_IMAGES_+'/*.jpg'}"
      ]
    },
    {
      "cell_type": "code",
      "execution_count": 47,
      "metadata": {
        "id": "qPOorZ84uS_3"
      },
      "outputs": [],
      "source": [
        "\n",
        "import pandas as pd"
      ]
    },
    {
      "cell_type": "markdown",
      "metadata": {
        "id": "_gbWo_U25YDX"
      },
      "source": []
    },
    {
      "cell_type": "code",
      "execution_count": 48,
      "metadata": {
        "colab": {
          "base_uri": "https://localhost:8080/"
        },
        "id": "42Q8GZgK4BhZ",
        "outputId": "270476c9-3830-404a-aca7-302556e062c8"
      },
      "outputs": [
        {
          "output_type": "stream",
          "name": "stdout",
          "text": [
            "rm: cannot remove '/content/local/images/plastic/*__*.jpg': No such file or directory\n"
          ]
        }
      ],
      "source": [
        "!rm /content/local/images/plastic/*__*.jpg"
      ]
    },
    {
      "cell_type": "code",
      "execution_count": 64,
      "metadata": {
        "id": "7OveDfFZ8Twj"
      },
      "outputs": [],
      "source": [
        "_DEBUG_=False\n",
        "_PROJECT_BASE_='./local/'\n",
        "_IMAGES_='images'\n",
        "_TEST_IMAGES_='test_images'\n",
        "\n",
        "_ORIG_='orig'\n"
      ]
    },
    {
      "cell_type": "code",
      "execution_count": 65,
      "metadata": {
        "id": "I_K14X-quWlq"
      },
      "outputs": [],
      "source": [
        "train_path=_PROJECT_IMAGE_BASE_+_IMAGES_\n",
        "\n",
        "\n",
        "test_path=_PROJECT_IMAGE_BASE_+_IMAGES_\n",
        "valid_path=_PROJECT_IMAGE_BASE_+_IMAGES_"
      ]
    },
    {
      "cell_type": "code",
      "execution_count": 66,
      "metadata": {
        "id": "pQ2jy0IfuchD"
      },
      "outputs": [],
      "source": [
        "import tensorflow as tf\n",
        "import tensorflow.keras as keras\n",
        "from tensorflow.keras.callbacks import ModelCheckpoint\n",
        "from tensorflow.keras.layers import Conv2D, Flatten, MaxPooling2D,Dense,Dropout\n",
        "from tensorflow.keras.models  import Sequential\n",
        "from tensorflow.keras.preprocessing.image import ImageDataGenerator"
      ]
    },
    {
      "cell_type": "code",
      "execution_count": 67,
      "metadata": {
        "colab": {
          "base_uri": "https://localhost:8080/"
        },
        "id": "kV94dzOyyVgJ",
        "outputId": "77d92ef7-c4d7-4ecd-8720-a2b4ca096c8d"
      },
      "outputs": [
        {
          "output_type": "stream",
          "name": "stdout",
          "text": [
            "Found 2261 images belonging to 2 classes.\n",
            "Found 564 images belonging to 2 classes.\n"
          ]
        }
      ],
      "source": [
        "# extract images to training set by applying data preprocessing and data augmentation\n",
        "random_seed = 26\n",
        "train_batches = ImageDataGenerator(\n",
        "    preprocessing_function=tf.keras.applications.vgg16.preprocess_input,\n",
        "    validation_split=0.2,).flow_from_directory(\n",
        "    directory=train_path, target_size=(224,224), classes=['plastic', 'non_plastic'], batch_size=1, subset='training',seed=random_seed)\n",
        "\n",
        "\n",
        "# extract images to validation set\n",
        "valid_batches = ImageDataGenerator(\n",
        "    preprocessing_function=tf.keras.applications.vgg16.preprocess_input,\n",
        "    validation_split=0.2).flow_from_directory(\n",
        "    directory=valid_path, target_size=(224,224), classes=['plastic', 'non_plastic'], batch_size=1, subset='validation',seed=random_seed)\n",
        "\n"
      ]
    },
    {
      "cell_type": "markdown",
      "metadata": {
        "id": "CA7Qd1GmRICq"
      },
      "source": []
    },
    {
      "cell_type": "code",
      "execution_count": 68,
      "metadata": {
        "id": "is_HNlgRyh_r"
      },
      "outputs": [],
      "source": [
        "import matplotlib.pyplot as plt\n",
        "def plot_imgs(item_dir, top=100):\n",
        "    all_item_dirs = os.listdir(item_dir)\n",
        "    item_files = [os.path.join(item_dir, file) for file in all_item_dirs][:5]\n",
        "\n",
        "    plt.figure(figsize=(10, 10))\n",
        "\n",
        "    for idx, img_path in enumerate(item_files):\n",
        "        plt.subplot(2, 5, idx+1)\n",
        "\n",
        "        img = plt.imread(img_path)\n",
        "        plt.tight_layout()\n",
        "        plt.imshow(img, cmap='gray')\n",
        "\n"
      ]
    },
    {
      "cell_type": "code",
      "source": [
        "train_path"
      ],
      "metadata": {
        "colab": {
          "base_uri": "https://localhost:8080/",
          "height": 35
        },
        "id": "NTgZqexHPaoM",
        "outputId": "c250c2be-9330-4cfc-b7a4-8655ba98acb6"
      },
      "execution_count": 69,
      "outputs": [
        {
          "output_type": "execute_result",
          "data": {
            "text/plain": [
              "'/content/drive/MyDrive/Zindi_Plastic_images_infra/images'"
            ],
            "application/vnd.google.colaboratory.intrinsic+json": {
              "type": "string"
            }
          },
          "metadata": {},
          "execution_count": 69
        }
      ]
    },
    {
      "cell_type": "code",
      "execution_count": 70,
      "metadata": {
        "colab": {
          "base_uri": "https://localhost:8080/",
          "height": 353
        },
        "id": "GXZXTLqdyu99",
        "outputId": "34a22b1d-38da-4ad4-dd7c-4d5dfbc0c0bf"
      },
      "outputs": [
        {
          "output_type": "stream",
          "name": "stdout",
          "text": [
            "['non_plastic', 'plastic']\n"
          ]
        },
        {
          "output_type": "display_data",
          "data": {
            "text/plain": [
              "<Figure size 1000x1000 with 5 Axes>"
            ],
            "image/png": "[encoded data removed]"
          },
          "metadata": {}
        },
        {
          "output_type": "display_data",
          "data": {
            "text/plain": [
              "<Figure size 1000x1000 with 5 Axes>"
            ],
            "image/png": "[encoded data removed]"
          },
          "metadata": {}
        }
      ],
      "source": [
        "import os\n",
        "print(os.listdir(train_path))\n",
        "\n",
        "data_path = train_path\n",
        "\n",
        "plot_imgs(data_path+'/plastic')\n",
        "\n",
        "plot_imgs(data_path+'/non_plastic')\n"
      ]
    },
    {
      "cell_type": "code",
      "execution_count": 71,
      "metadata": {
        "colab": {
          "base_uri": "https://localhost:8080/"
        },
        "id": "d_kxIEbNznpt",
        "outputId": "fa8eac38-c6a0-45cb-c1ed-88c834e4beb1"
      },
      "outputs": [
        {
          "output_type": "stream",
          "name": "stdout",
          "text": [
            "X: 224, Y: 224\n",
            "Found 2543 images belonging to 2 classes.\n",
            "Found 282 images belonging to 2 classes.\n",
            "binary\n"
          ]
        }
      ],
      "source": [
        "batch_size = 32\n",
        "random_seed = 32 #26\n",
        "\n",
        "x_pxm=224\n",
        "y_pxm=224\n",
        "divider=1\n",
        "bpc=3\n",
        "images_path=_PROJECT_BASE_+_IMAGES_\n",
        "\n",
        "# Data Generator\n",
        "train=ImageDataGenerator(horizontal_flip=True, vertical_flip=True,validation_split=0.1,rescale=1./255,\n",
        "                         shear_range = 0.0,zoom_range = 0.0,\n",
        "                         width_shift_range = 0.0,\n",
        "                         height_shift_range = 0.0,)\n",
        "\n",
        "test=ImageDataGenerator(rescale=1./255,validation_split=0.1)\n",
        "\n",
        "\n",
        "x_px=int(x_pxm/divider)\n",
        "y_px=int(y_pxm/divider)\n",
        "\n",
        "print(f\"X: {x_px}, Y: {y_px}\")\n",
        "train_generator=train.flow_from_directory(images_path,target_size=(x_px,y_px),batch_size=batch_size,class_mode='binary',\n",
        "                                          subset='training',\n",
        "                                          color_mode=\"rgb\",\n",
        "                                          seed=random_seed,\n",
        "                                          shuffle=True)\n",
        "test_generator=test.flow_from_directory(images_path,target_size=(x_px,y_px),batch_size=batch_size,class_mode='binary',\n",
        "                                        subset='validation',\n",
        "                                        color_mode=\"rgb\",\n",
        "                                        seed=random_seed,\n",
        "                                        shuffle=True)\n",
        "\n",
        "\n",
        "\n",
        "print(train_generator.class_mode)"
      ]
    },
    {
      "cell_type": "code",
      "execution_count": 72,
      "metadata": {
        "colab": {
          "base_uri": "https://localhost:8080/"
        },
        "id": "pmKaAxScz-B_",
        "outputId": "47832121-690a-46b2-d114-63511484f9a9"
      },
      "outputs": [
        {
          "output_type": "stream",
          "name": "stdout",
          "text": [
            "{0: 'non_plastic', 1: 'plastic'}\n"
          ]
        }
      ],
      "source": [
        "\n",
        "labels = (train_generator.class_indices)\n",
        "labels = dict((v,k) for k,v in labels.items())\n",
        "print(labels)"
      ]
    },
    {
      "cell_type": "code",
      "execution_count": 73,
      "metadata": {
        "id": "3Oewg2m40X95"
      },
      "outputs": [],
      "source": [
        "from tensorflow.keras.layers import Input,Dense,Embedding,LSTM,TimeDistributed, Flatten, Bidirectional, Conv2D,Conv3D, Dropout,Convolution2D, Conv2DTranspose, Input\n",
        "from tensorflow.keras.layers import MaxPool2D, Rescaling,RandomFlip,RandomRotation, Reshape,BatchNormalization,AveragePooling2D\n",
        "from tensorflow.keras.layers import Concatenate\n",
        "from tensorflow.keras.models import Model\n",
        "from tensorflow.keras.optimizers import Adadelta,Adam,SGD,Adamax,Nadam,Adagrad,RMSprop\n",
        "from tensorflow.keras.losses import sparse_categorical_crossentropy,categorical_crossentropy, MeanSquaredError\n",
        "from tensorflow.keras import backend as K\n",
        "from keras.regularizers import l1\n",
        "from keras.initializers import RandomNormal,Zeros,GlorotUniform\n",
        "\n",
        "K.clear_session()\n",
        "\n"
      ]
    },
    {
      "cell_type": "code",
      "execution_count": 74,
      "metadata": {
        "id": "gO3SjT4c1TWa"
      },
      "outputs": [],
      "source": [
        "inputs= Input(shape=(224,224,3))\n",
        "\n",
        "\n",
        "e = Conv2D(32, (3, 3), activation='relu',padding='same',)(inputs)\n",
        "e=BatchNormalization()(e)\n",
        "o1 = Conv2D(32, (3, 3), activation='relu',padding='same',)(e)\n",
        "\n",
        "\n",
        "e = AveragePooling2D((2, 2),strides=(2, 2))(o1)\n",
        "mp= MaxPool2D((2, 2),strides=(2, 2))(o1)\n",
        "#e = Dropout(0.01)(e)\n",
        "\n",
        "e = Conv2D(64, (3, 3), activation='relu',padding='same',)(e)\n",
        "e=BatchNormalization()(e)\n",
        "e = Conv2D(64, (3, 3), activation='relu',padding='same',)(e)\n",
        "e=BatchNormalization()(e)\n",
        "e = AveragePooling2D((2, 2),strides=(2, 2))(e)\n",
        "\n",
        "mp = Conv2D(64, (3, 3), activation='relu',padding='same',)(mp)\n",
        "mp=BatchNormalization()(mp)\n",
        "mp = Conv2D(64, (3, 3), activation='relu',padding='same',)(mp)\n",
        "mp=BatchNormalization()(mp)\n",
        "mp= MaxPool2D((2, 2),strides=(2, 2))(mp)\n",
        "\n",
        "#e = Dropout(0.01)(e)\n",
        "\n",
        "e = Conv2D(64, (3, 3), activation='relu',padding='same',)(e)\n",
        "e=BatchNormalization()(e)\n",
        "e = Conv2D(64, (3, 3), activation='relu',padding='same',)(e)\n",
        "e=BatchNormalization()(e)\n",
        "e = Conv2D(64, (3, 3), activation='relu',padding='same',)(e)\n",
        "e=BatchNormalization()(e)\n",
        "\n",
        "e = AveragePooling2D((2, 2), strides=(2, 2))(e)\n",
        "\n",
        "mp = Conv2D(64, (3, 3), activation='relu',padding='same',)(mp)\n",
        "mp=BatchNormalization()(mp)\n",
        "mp = Conv2D(64, (3, 3), activation='relu',padding='same',)(mp)\n",
        "mp=BatchNormalization()(mp)\n",
        "mp = Conv2D(64, (3, 3), activation='relu',padding='same',)(mp)\n",
        "mp=BatchNormalization()(mp)\n",
        "\n",
        "mp = MaxPool2D((2, 2), strides=(2, 2))(mp)\n",
        "\n",
        "\n",
        "\n",
        "\n",
        "#e = Dropout(0.01)(e)\n",
        "\n",
        "e = Conv2D(128, (3, 3), activation='relu',padding='same',)(e)\n",
        "e=BatchNormalization()(e)\n",
        "e = Conv2D(128, (3, 3), activation='relu',padding='same',)(e)\n",
        "e=BatchNormalization()(e)\n",
        "e = Conv2D(128, (3, 3), activation='relu',padding='same',)(e)\n",
        "e=BatchNormalization()(e)\n",
        "\n",
        "e = AveragePooling2D((2, 2), strides=(2,2))(e)\n",
        "\n",
        "\n",
        "mp = Conv2D(128, (3, 3), activation='relu',padding='same',)(mp)\n",
        "mp=BatchNormalization()(mp)\n",
        "mp = Conv2D(128, (3, 3), activation='relu',padding='same',)(mp)\n",
        "mp=BatchNormalization()(mp)\n",
        "mp = Conv2D(128, (3, 3), activation='relu',padding='same',)(mp)\n",
        "mp=BatchNormalization()(mp)\n",
        "\n",
        "mp = MaxPool2D((2, 2), strides=(2, 2))(mp)\n",
        "\n",
        "\n",
        "\n",
        "#e = Dropout(0.1)(e)\n",
        "\n",
        "e = Conv2D(128, (3, 3), activation='relu',padding='same',)(e)\n",
        "e=BatchNormalization()(e)\n",
        "e = Conv2D(128, (3, 3), activation='relu',padding='same',)(e)\n",
        "e=BatchNormalization()(e)\n",
        "e = Conv2D(128, (3, 3), activation='relu',padding='same',)(e)\n",
        "e=BatchNormalization()(e)\n",
        "\n",
        "e = AveragePooling2D((2, 2), strides=(2,2))(e)\n",
        "\n",
        "mp = Conv2D(128, (3, 3), activation='relu',padding='same',)(mp)\n",
        "mp=BatchNormalization()(mp)\n",
        "mp = Conv2D(128, (3, 3), activation='relu',padding='same',)(mp)\n",
        "mp=BatchNormalization()(mp)\n",
        "mp = Conv2D(128, (3, 3), activation='relu',padding='same',)(mp)\n",
        "mp=BatchNormalization()(mp)\n",
        "\n",
        "mp = MaxPool2D((2, 2), strides=(2, 2))(mp)\n",
        "\n",
        "\n",
        "\n",
        "#e = Dropout(0.1)(e)\n",
        "m= Flatten()(mp)\n",
        "l = Flatten()(e)\n",
        "\n",
        "\n",
        "m = Dense(2000, activation='sigmoid', )(m)\n",
        "m = Dropout(0.1)(m)\n",
        "m = Dense(200, activation='sigmoid',)(m)\n",
        "\n",
        "m = Dense(20, activation='sigmoid', )(m)\n",
        "\n",
        "l = Dense(2000, activation='sigmoid', )(l)\n",
        "l = Dropout(0.1)(l)\n",
        "l = Dense(200, activation='sigmoid', )(l)\n",
        "l = Dense(20, activation='sigmoid', )(l)\n",
        "\n",
        "\n",
        "\n",
        "o= Concatenate()([m,l])\n",
        "\n",
        "decoded = Dense(1, activation='sigmoid')(o)\n",
        "\n",
        "\n",
        "zindi_plastic_model = Model(inputs, decoded)\n",
        "\n",
        "\n"
      ]
    },
    {
      "cell_type": "code",
      "execution_count": 75,
      "metadata": {
        "id": "YFLRiGVE1Koq"
      },
      "outputs": [],
      "source": [
        "\n",
        "from keras.callbacks import ModelCheckpoint\n",
        "\n",
        "model_checkpoint_callback = ModelCheckpoint(\n",
        "    filepath='Model_-{val_loss:.4f}-{loss:.4f}.keras',\n",
        "    save_weights_only=False,\n",
        "    monitor='loss',\n",
        "    mode='min',\n",
        "    save_best_only=True)"
      ]
    },
    {
      "cell_type": "code",
      "execution_count": 76,
      "metadata": {
        "colab": {
          "base_uri": "https://localhost:8080/",
          "height": 1000
        },
        "id": "FjnMwE3y1g_5",
        "outputId": "307bfe45-4869-4515-bf20-c6c576798fb2"
      },
      "outputs": [
        {
          "output_type": "display_data",
          "data": {
            "text/plain": [
              "\u001b[1mModel: \"functional\"\u001b[0m\n"
            ],
            "text/html": [
              "<pre style=\"white-space:pre;overflow-x:auto;line-height:normal;font-family:Menlo,'DejaVu Sans Mono',consolas,'Courier New',monospace\"><span style=\"font-weight: bold\">Model: \"functional\"</span>\n",
              "</pre>\n"
            ]
          },
          "metadata": {}
        },
        {
          "output_type": "display_data",
          "data": {
            "text/plain": [
              "┏━━━━━━━━━━━━━━━━━━━━━━━━━━━┳━━━━━━━━━━━━━━━━━━━━━━━━┳━━━━━━━━━━━━━━━━┳━━━━━━━━━━━━━━━━━━━━━━━━┓\n",
              "┃\u001b[1m \u001b[0m\u001b[1mLayer (type)             \u001b[0m\u001b[1m \u001b[0m┃\u001b[1m \u001b[0m\u001b[1mOutput Shape          \u001b[0m\u001b[1m \u001b[0m┃\u001b[1m \u001b[0m\u001b[1m       Param #\u001b[0m\u001b[1m \u001b[0m┃\u001b[1m \u001b[0m\u001b[1mConnected to          \u001b[0m\u001b[1m \u001b[0m┃\n",
              "┡━━━━━━━━━━━━━━━━━━━━━━━━━━━╇━━━━━━━━━━━━━━━━━━━━━━━━╇━━━━━━━━━━━━━━━━╇━━━━━━━━━━━━━━━━━━━━━━━━┩\n",
              "│ input_layer (\u001b[38;5;33mInputLayer\u001b[0m)  │ (\u001b[38;5;45mNone\u001b[0m, \u001b[38;5;34m224\u001b[0m, \u001b[38;5;34m224\u001b[0m, \u001b[38;5;34m3\u001b[0m)    │              \u001b[38;5;34m0\u001b[0m │ -                      │\n",
              "├───────────────────────────┼────────────────────────┼────────────────┼────────────────────────┤\n",
              "│ conv2d (\u001b[38;5;33mConv2D\u001b[0m)           │ (\u001b[38;5;45mNone\u001b[0m, \u001b[38;5;34m224\u001b[0m, \u001b[38;5;34m224\u001b[0m, \u001b[38;5;34m32\u001b[0m)   │            \u001b[38;5;34m896\u001b[0m │ input_layer[\u001b[38;5;34m0\u001b[0m][\u001b[38;5;34m0\u001b[0m]      │\n",
              "├───────────────────────────┼────────────────────────┼────────────────┼────────────────────────┤\n",
              "│ batch_normalization       │ (\u001b[38;5;45mNone\u001b[0m, \u001b[38;5;34m224\u001b[0m, \u001b[38;5;34m224\u001b[0m, \u001b[38;5;34m32\u001b[0m)   │            \u001b[38;5;34m128\u001b[0m │ conv2d[\u001b[38;5;34m0\u001b[0m][\u001b[38;5;34m0\u001b[0m]           │\n",
              "│ (\u001b[38;5;33mBatchNormalization\u001b[0m)      │                        │                │                        │\n",
              "├───────────────────────────┼────────────────────────┼────────────────┼────────────────────────┤\n",
              "│ conv2d_1 (\u001b[38;5;33mConv2D\u001b[0m)         │ (\u001b[38;5;45mNone\u001b[0m, \u001b[38;5;34m224\u001b[0m, \u001b[38;5;34m224\u001b[0m, \u001b[38;5;34m32\u001b[0m)   │          \u001b[38;5;34m9,248\u001b[0m │ batch_normalization[\u001b[38;5;34m0\u001b[0m… │\n",
              "├───────────────────────────┼────────────────────────┼────────────────┼────────────────────────┤\n",
              "│ max_pooling2d             │ (\u001b[38;5;45mNone\u001b[0m, \u001b[38;5;34m112\u001b[0m, \u001b[38;5;34m112\u001b[0m, \u001b[38;5;34m32\u001b[0m)   │              \u001b[38;5;34m0\u001b[0m │ conv2d_1[\u001b[38;5;34m0\u001b[0m][\u001b[38;5;34m0\u001b[0m]         │\n",
              "│ (\u001b[38;5;33mMaxPooling2D\u001b[0m)            │                        │                │                        │\n",
              "├───────────────────────────┼────────────────────────┼────────────────┼────────────────────────┤\n",
              "│ average_pooling2d         │ (\u001b[38;5;45mNone\u001b[0m, \u001b[38;5;34m112\u001b[0m, \u001b[38;5;34m112\u001b[0m, \u001b[38;5;34m32\u001b[0m)   │              \u001b[38;5;34m0\u001b[0m │ conv2d_1[\u001b[38;5;34m0\u001b[0m][\u001b[38;5;34m0\u001b[0m]         │\n",
              "│ (\u001b[38;5;33mAveragePooling2D\u001b[0m)        │                        │                │                        │\n",
              "├───────────────────────────┼────────────────────────┼────────────────┼────────────────────────┤\n",
              "│ conv2d_4 (\u001b[38;5;33mConv2D\u001b[0m)         │ (\u001b[38;5;45mNone\u001b[0m, \u001b[38;5;34m112\u001b[0m, \u001b[38;5;34m112\u001b[0m, \u001b[38;5;34m64\u001b[0m)   │         \u001b[38;5;34m18,496\u001b[0m │ max_pooling2d[\u001b[38;5;34m0\u001b[0m][\u001b[38;5;34m0\u001b[0m]    │\n",
              "├───────────────────────────┼────────────────────────┼────────────────┼────────────────────────┤\n",
              "│ conv2d_2 (\u001b[38;5;33mConv2D\u001b[0m)         │ (\u001b[38;5;45mNone\u001b[0m, \u001b[38;5;34m112\u001b[0m, \u001b[38;5;34m112\u001b[0m, \u001b[38;5;34m64\u001b[0m)   │         \u001b[38;5;34m18,496\u001b[0m │ average_pooling2d[\u001b[38;5;34m0\u001b[0m][\u001b[38;5;34m…\u001b[0m │\n",
              "├───────────────────────────┼────────────────────────┼────────────────┼────────────────────────┤\n",
              "│ batch_normalization_3     │ (\u001b[38;5;45mNone\u001b[0m, \u001b[38;5;34m112\u001b[0m, \u001b[38;5;34m112\u001b[0m, \u001b[38;5;34m64\u001b[0m)   │            \u001b[38;5;34m256\u001b[0m │ conv2d_4[\u001b[38;5;34m0\u001b[0m][\u001b[38;5;34m0\u001b[0m]         │\n",
              "│ (\u001b[38;5;33mBatchNormalization\u001b[0m)      │                        │                │                        │\n",
              "├───────────────────────────┼────────────────────────┼────────────────┼────────────────────────┤\n",
              "│ batch_normalization_1     │ (\u001b[38;5;45mNone\u001b[0m, \u001b[38;5;34m112\u001b[0m, \u001b[38;5;34m112\u001b[0m, \u001b[38;5;34m64\u001b[0m)   │            \u001b[38;5;34m256\u001b[0m │ conv2d_2[\u001b[38;5;34m0\u001b[0m][\u001b[38;5;34m0\u001b[0m]         │\n",
              "│ (\u001b[38;5;33mBatchNormalization\u001b[0m)      │                        │                │                        │\n",
              "├───────────────────────────┼────────────────────────┼────────────────┼────────────────────────┤\n",
              "│ conv2d_5 (\u001b[38;5;33mConv2D\u001b[0m)         │ (\u001b[38;5;45mNone\u001b[0m, \u001b[38;5;34m112\u001b[0m, \u001b[38;5;34m112\u001b[0m, \u001b[38;5;34m64\u001b[0m)   │         \u001b[38;5;34m36,928\u001b[0m │ batch_normalization_3… │\n",
              "├───────────────────────────┼────────────────────────┼────────────────┼────────────────────────┤\n",
              "│ conv2d_3 (\u001b[38;5;33mConv2D\u001b[0m)         │ (\u001b[38;5;45mNone\u001b[0m, \u001b[38;5;34m112\u001b[0m, \u001b[38;5;34m112\u001b[0m, \u001b[38;5;34m64\u001b[0m)   │         \u001b[38;5;34m36,928\u001b[0m │ batch_normalization_1… │\n",
              "├───────────────────────────┼────────────────────────┼────────────────┼────────────────────────┤\n",
              "│ batch_normalization_4     │ (\u001b[38;5;45mNone\u001b[0m, \u001b[38;5;34m112\u001b[0m, \u001b[38;5;34m112\u001b[0m, \u001b[38;5;34m64\u001b[0m)   │            \u001b[38;5;34m256\u001b[0m │ conv2d_5[\u001b[38;5;34m0\u001b[0m][\u001b[38;5;34m0\u001b[0m]         │\n",
              "│ (\u001b[38;5;33mBatchNormalization\u001b[0m)      │                        │                │                        │\n",
              "├───────────────────────────┼────────────────────────┼────────────────┼────────────────────────┤\n",
              "│ batch_normalization_2     │ (\u001b[38;5;45mNone\u001b[0m, \u001b[38;5;34m112\u001b[0m, \u001b[38;5;34m112\u001b[0m, \u001b[38;5;34m64\u001b[0m)   │            \u001b[38;5;34m256\u001b[0m │ conv2d_3[\u001b[38;5;34m0\u001b[0m][\u001b[38;5;34m0\u001b[0m]         │\n",
              "│ (\u001b[38;5;33mBatchNormalization\u001b[0m)      │                        │                │                        │\n",
              "├───────────────────────────┼────────────────────────┼────────────────┼────────────────────────┤\n",
              "│ max_pooling2d_1           │ (\u001b[38;5;45mNone\u001b[0m, \u001b[38;5;34m56\u001b[0m, \u001b[38;5;34m56\u001b[0m, \u001b[38;5;34m64\u001b[0m)     │              \u001b[38;5;34m0\u001b[0m │ batch_normalization_4… │\n",
              "│ (\u001b[38;5;33mMaxPooling2D\u001b[0m)            │                        │                │                        │\n",
              "├───────────────────────────┼────────────────────────┼────────────────┼────────────────────────┤\n",
              "│ average_pooling2d_1       │ (\u001b[38;5;45mNone\u001b[0m, \u001b[38;5;34m56\u001b[0m, \u001b[38;5;34m56\u001b[0m, \u001b[38;5;34m64\u001b[0m)     │              \u001b[38;5;34m0\u001b[0m │ batch_normalization_2… │\n",
              "│ (\u001b[38;5;33mAveragePooling2D\u001b[0m)        │                        │                │                        │\n",
              "├───────────────────────────┼────────────────────────┼────────────────┼────────────────────────┤\n",
              "│ conv2d_9 (\u001b[38;5;33mConv2D\u001b[0m)         │ (\u001b[38;5;45mNone\u001b[0m, \u001b[38;5;34m56\u001b[0m, \u001b[38;5;34m56\u001b[0m, \u001b[38;5;34m64\u001b[0m)     │         \u001b[38;5;34m36,928\u001b[0m │ max_pooling2d_1[\u001b[38;5;34m0\u001b[0m][\u001b[38;5;34m0\u001b[0m]  │\n",
              "├───────────────────────────┼────────────────────────┼────────────────┼────────────────────────┤\n",
              "│ conv2d_6 (\u001b[38;5;33mConv2D\u001b[0m)         │ (\u001b[38;5;45mNone\u001b[0m, \u001b[38;5;34m56\u001b[0m, \u001b[38;5;34m56\u001b[0m, \u001b[38;5;34m64\u001b[0m)     │         \u001b[38;5;34m36,928\u001b[0m │ average_pooling2d_1[\u001b[38;5;34m0\u001b[0m… │\n",
              "├───────────────────────────┼────────────────────────┼────────────────┼────────────────────────┤\n",
              "│ batch_normalization_8     │ (\u001b[38;5;45mNone\u001b[0m, \u001b[38;5;34m56\u001b[0m, \u001b[38;5;34m56\u001b[0m, \u001b[38;5;34m64\u001b[0m)     │            \u001b[38;5;34m256\u001b[0m │ conv2d_9[\u001b[38;5;34m0\u001b[0m][\u001b[38;5;34m0\u001b[0m]         │\n",
              "│ (\u001b[38;5;33mBatchNormalization\u001b[0m)      │                        │                │                        │\n",
              "├───────────────────────────┼────────────────────────┼────────────────┼────────────────────────┤\n",
              "│ batch_normalization_5     │ (\u001b[38;5;45mNone\u001b[0m, \u001b[38;5;34m56\u001b[0m, \u001b[38;5;34m56\u001b[0m, \u001b[38;5;34m64\u001b[0m)     │            \u001b[38;5;34m256\u001b[0m │ conv2d_6[\u001b[38;5;34m0\u001b[0m][\u001b[38;5;34m0\u001b[0m]         │\n",
              "│ (\u001b[38;5;33mBatchNormalization\u001b[0m)      │                        │                │                        │\n",
              "├───────────────────────────┼────────────────────────┼────────────────┼────────────────────────┤\n",
              "│ conv2d_10 (\u001b[38;5;33mConv2D\u001b[0m)        │ (\u001b[38;5;45mNone\u001b[0m, \u001b[38;5;34m56\u001b[0m, \u001b[38;5;34m56\u001b[0m, \u001b[38;5;34m64\u001b[0m)     │         \u001b[38;5;34m36,928\u001b[0m │ batch_normalization_8… │\n",
              "├───────────────────────────┼────────────────────────┼────────────────┼────────────────────────┤\n",
              "│ conv2d_7 (\u001b[38;5;33mConv2D\u001b[0m)         │ (\u001b[38;5;45mNone\u001b[0m, \u001b[38;5;34m56\u001b[0m, \u001b[38;5;34m56\u001b[0m, \u001b[38;5;34m64\u001b[0m)     │         \u001b[38;5;34m36,928\u001b[0m │ batch_normalization_5… │\n",
              "├───────────────────────────┼────────────────────────┼────────────────┼────────────────────────┤\n",
              "│ batch_normalization_9     │ (\u001b[38;5;45mNone\u001b[0m, \u001b[38;5;34m56\u001b[0m, \u001b[38;5;34m56\u001b[0m, \u001b[38;5;34m64\u001b[0m)     │            \u001b[38;5;34m256\u001b[0m │ conv2d_10[\u001b[38;5;34m0\u001b[0m][\u001b[38;5;34m0\u001b[0m]        │\n",
              "│ (\u001b[38;5;33mBatchNormalization\u001b[0m)      │                        │                │                        │\n",
              "├───────────────────────────┼────────────────────────┼────────────────┼────────────────────────┤\n",
              "│ batch_normalization_6     │ (\u001b[38;5;45mNone\u001b[0m, \u001b[38;5;34m56\u001b[0m, \u001b[38;5;34m56\u001b[0m, \u001b[38;5;34m64\u001b[0m)     │            \u001b[38;5;34m256\u001b[0m │ conv2d_7[\u001b[38;5;34m0\u001b[0m][\u001b[38;5;34m0\u001b[0m]         │\n",
              "│ (\u001b[38;5;33mBatchNormalization\u001b[0m)      │                        │                │                        │\n",
              "├───────────────────────────┼────────────────────────┼────────────────┼────────────────────────┤\n",
              "│ conv2d_11 (\u001b[38;5;33mConv2D\u001b[0m)        │ (\u001b[38;5;45mNone\u001b[0m, \u001b[38;5;34m56\u001b[0m, \u001b[38;5;34m56\u001b[0m, \u001b[38;5;34m64\u001b[0m)     │         \u001b[38;5;34m36,928\u001b[0m │ batch_normalization_9… │\n",
              "├───────────────────────────┼────────────────────────┼────────────────┼────────────────────────┤\n",
              "│ conv2d_8 (\u001b[38;5;33mConv2D\u001b[0m)         │ (\u001b[38;5;45mNone\u001b[0m, \u001b[38;5;34m56\u001b[0m, \u001b[38;5;34m56\u001b[0m, \u001b[38;5;34m64\u001b[0m)     │         \u001b[38;5;34m36,928\u001b[0m │ batch_normalization_6… │\n",
              "├───────────────────────────┼────────────────────────┼────────────────┼────────────────────────┤\n",
              "│ batch_normalization_10    │ (\u001b[38;5;45mNone\u001b[0m, \u001b[38;5;34m56\u001b[0m, \u001b[38;5;34m56\u001b[0m, \u001b[38;5;34m64\u001b[0m)     │            \u001b[38;5;34m256\u001b[0m │ conv2d_11[\u001b[38;5;34m0\u001b[0m][\u001b[38;5;34m0\u001b[0m]        │\n",
              "│ (\u001b[38;5;33mBatchNormalization\u001b[0m)      │                        │                │                        │\n",
              "├───────────────────────────┼────────────────────────┼────────────────┼────────────────────────┤\n",
              "│ batch_normalization_7     │ (\u001b[38;5;45mNone\u001b[0m, \u001b[38;5;34m56\u001b[0m, \u001b[38;5;34m56\u001b[0m, \u001b[38;5;34m64\u001b[0m)     │            \u001b[38;5;34m256\u001b[0m │ conv2d_8[\u001b[38;5;34m0\u001b[0m][\u001b[38;5;34m0\u001b[0m]         │\n",
              "│ (\u001b[38;5;33mBatchNormalization\u001b[0m)      │                        │                │                        │\n",
              "├───────────────────────────┼────────────────────────┼────────────────┼────────────────────────┤\n",
              "│ max_pooling2d_2           │ (\u001b[38;5;45mNone\u001b[0m, \u001b[38;5;34m28\u001b[0m, \u001b[38;5;34m28\u001b[0m, \u001b[38;5;34m64\u001b[0m)     │              \u001b[38;5;34m0\u001b[0m │ batch_normalization_1… │\n",
              "│ (\u001b[38;5;33mMaxPooling2D\u001b[0m)            │                        │                │                        │\n",
              "├───────────────────────────┼────────────────────────┼────────────────┼────────────────────────┤\n",
              "│ average_pooling2d_2       │ (\u001b[38;5;45mNone\u001b[0m, \u001b[38;5;34m28\u001b[0m, \u001b[38;5;34m28\u001b[0m, \u001b[38;5;34m64\u001b[0m)     │              \u001b[38;5;34m0\u001b[0m │ batch_normalization_7… │\n",
              "│ (\u001b[38;5;33mAveragePooling2D\u001b[0m)        │                        │                │                        │\n",
              "├───────────────────────────┼────────────────────────┼────────────────┼────────────────────────┤\n",
              "│ conv2d_15 (\u001b[38;5;33mConv2D\u001b[0m)        │ (\u001b[38;5;45mNone\u001b[0m, \u001b[38;5;34m28\u001b[0m, \u001b[38;5;34m28\u001b[0m, \u001b[38;5;34m128\u001b[0m)    │         \u001b[38;5;34m73,856\u001b[0m │ max_pooling2d_2[\u001b[38;5;34m0\u001b[0m][\u001b[38;5;34m0\u001b[0m]  │\n",
              "├───────────────────────────┼────────────────────────┼────────────────┼────────────────────────┤\n",
              "│ conv2d_12 (\u001b[38;5;33mConv2D\u001b[0m)        │ (\u001b[38;5;45mNone\u001b[0m, \u001b[38;5;34m28\u001b[0m, \u001b[38;5;34m28\u001b[0m, \u001b[38;5;34m128\u001b[0m)    │         \u001b[38;5;34m73,856\u001b[0m │ average_pooling2d_2[\u001b[38;5;34m0\u001b[0m… │\n",
              "├───────────────────────────┼────────────────────────┼────────────────┼────────────────────────┤\n",
              "│ batch_normalization_14    │ (\u001b[38;5;45mNone\u001b[0m, \u001b[38;5;34m28\u001b[0m, \u001b[38;5;34m28\u001b[0m, \u001b[38;5;34m128\u001b[0m)    │            \u001b[38;5;34m512\u001b[0m │ conv2d_15[\u001b[38;5;34m0\u001b[0m][\u001b[38;5;34m0\u001b[0m]        │\n",
              "│ (\u001b[38;5;33mBatchNormalization\u001b[0m)      │                        │                │                        │\n",
              "├───────────────────────────┼────────────────────────┼────────────────┼────────────────────────┤\n",
              "│ batch_normalization_11    │ (\u001b[38;5;45mNone\u001b[0m, \u001b[38;5;34m28\u001b[0m, \u001b[38;5;34m28\u001b[0m, \u001b[38;5;34m128\u001b[0m)    │            \u001b[38;5;34m512\u001b[0m │ conv2d_12[\u001b[38;5;34m0\u001b[0m][\u001b[38;5;34m0\u001b[0m]        │\n",
              "│ (\u001b[38;5;33mBatchNormalization\u001b[0m)      │                        │                │                        │\n",
              "├───────────────────────────┼────────────────────────┼────────────────┼────────────────────────┤\n",
              "│ conv2d_16 (\u001b[38;5;33mConv2D\u001b[0m)        │ (\u001b[38;5;45mNone\u001b[0m, \u001b[38;5;34m28\u001b[0m, \u001b[38;5;34m28\u001b[0m, \u001b[38;5;34m128\u001b[0m)    │        \u001b[38;5;34m147,584\u001b[0m │ batch_normalization_1… │\n",
              "├───────────────────────────┼────────────────────────┼────────────────┼────────────────────────┤\n",
              "│ conv2d_13 (\u001b[38;5;33mConv2D\u001b[0m)        │ (\u001b[38;5;45mNone\u001b[0m, \u001b[38;5;34m28\u001b[0m, \u001b[38;5;34m28\u001b[0m, \u001b[38;5;34m128\u001b[0m)    │        \u001b[38;5;34m147,584\u001b[0m │ batch_normalization_1… │\n",
              "├───────────────────────────┼────────────────────────┼────────────────┼────────────────────────┤\n",
              "│ batch_normalization_15    │ (\u001b[38;5;45mNone\u001b[0m, \u001b[38;5;34m28\u001b[0m, \u001b[38;5;34m28\u001b[0m, \u001b[38;5;34m128\u001b[0m)    │            \u001b[38;5;34m512\u001b[0m │ conv2d_16[\u001b[38;5;34m0\u001b[0m][\u001b[38;5;34m0\u001b[0m]        │\n",
              "│ (\u001b[38;5;33mBatchNormalization\u001b[0m)      │                        │                │                        │\n",
              "├───────────────────────────┼────────────────────────┼────────────────┼────────────────────────┤\n",
              "│ batch_normalization_12    │ (\u001b[38;5;45mNone\u001b[0m, \u001b[38;5;34m28\u001b[0m, \u001b[38;5;34m28\u001b[0m, \u001b[38;5;34m128\u001b[0m)    │            \u001b[38;5;34m512\u001b[0m │ conv2d_13[\u001b[38;5;34m0\u001b[0m][\u001b[38;5;34m0\u001b[0m]        │\n",
              "│ (\u001b[38;5;33mBatchNormalization\u001b[0m)      │                        │                │                        │\n",
              "├───────────────────────────┼────────────────────────┼────────────────┼────────────────────────┤\n",
              "│ conv2d_17 (\u001b[38;5;33mConv2D\u001b[0m)        │ (\u001b[38;5;45mNone\u001b[0m, \u001b[38;5;34m28\u001b[0m, \u001b[38;5;34m28\u001b[0m, \u001b[38;5;34m128\u001b[0m)    │        \u001b[38;5;34m147,584\u001b[0m │ batch_normalization_1… │\n",
              "├───────────────────────────┼────────────────────────┼────────────────┼────────────────────────┤\n",
              "│ conv2d_14 (\u001b[38;5;33mConv2D\u001b[0m)        │ (\u001b[38;5;45mNone\u001b[0m, \u001b[38;5;34m28\u001b[0m, \u001b[38;5;34m28\u001b[0m, \u001b[38;5;34m128\u001b[0m)    │        \u001b[38;5;34m147,584\u001b[0m │ batch_normalization_1… │\n",
              "├───────────────────────────┼────────────────────────┼────────────────┼────────────────────────┤\n",
              "│ batch_normalization_16    │ (\u001b[38;5;45mNone\u001b[0m, \u001b[38;5;34m28\u001b[0m, \u001b[38;5;34m28\u001b[0m, \u001b[38;5;34m128\u001b[0m)    │            \u001b[38;5;34m512\u001b[0m │ conv2d_17[\u001b[38;5;34m0\u001b[0m][\u001b[38;5;34m0\u001b[0m]        │\n",
              "│ (\u001b[38;5;33mBatchNormalization\u001b[0m)      │                        │                │                        │\n",
              "├───────────────────────────┼────────────────────────┼────────────────┼────────────────────────┤\n",
              "│ batch_normalization_13    │ (\u001b[38;5;45mNone\u001b[0m, \u001b[38;5;34m28\u001b[0m, \u001b[38;5;34m28\u001b[0m, \u001b[38;5;34m128\u001b[0m)    │            \u001b[38;5;34m512\u001b[0m │ conv2d_14[\u001b[38;5;34m0\u001b[0m][\u001b[38;5;34m0\u001b[0m]        │\n",
              "│ (\u001b[38;5;33mBatchNormalization\u001b[0m)      │                        │                │                        │\n",
              "├───────────────────────────┼────────────────────────┼────────────────┼────────────────────────┤\n",
              "│ max_pooling2d_3           │ (\u001b[38;5;45mNone\u001b[0m, \u001b[38;5;34m14\u001b[0m, \u001b[38;5;34m14\u001b[0m, \u001b[38;5;34m128\u001b[0m)    │              \u001b[38;5;34m0\u001b[0m │ batch_normalization_1… │\n",
              "│ (\u001b[38;5;33mMaxPooling2D\u001b[0m)            │                        │                │                        │\n",
              "├───────────────────────────┼────────────────────────┼────────────────┼────────────────────────┤\n",
              "│ average_pooling2d_3       │ (\u001b[38;5;45mNone\u001b[0m, \u001b[38;5;34m14\u001b[0m, \u001b[38;5;34m14\u001b[0m, \u001b[38;5;34m128\u001b[0m)    │              \u001b[38;5;34m0\u001b[0m │ batch_normalization_1… │\n",
              "│ (\u001b[38;5;33mAveragePooling2D\u001b[0m)        │                        │                │                        │\n",
              "├───────────────────────────┼────────────────────────┼────────────────┼────────────────────────┤\n",
              "│ conv2d_21 (\u001b[38;5;33mConv2D\u001b[0m)        │ (\u001b[38;5;45mNone\u001b[0m, \u001b[38;5;34m14\u001b[0m, \u001b[38;5;34m14\u001b[0m, \u001b[38;5;34m128\u001b[0m)    │        \u001b[38;5;34m147,584\u001b[0m │ max_pooling2d_3[\u001b[38;5;34m0\u001b[0m][\u001b[38;5;34m0\u001b[0m]  │\n",
              "├───────────────────────────┼────────────────────────┼────────────────┼────────────────────────┤\n",
              "│ conv2d_18 (\u001b[38;5;33mConv2D\u001b[0m)        │ (\u001b[38;5;45mNone\u001b[0m, \u001b[38;5;34m14\u001b[0m, \u001b[38;5;34m14\u001b[0m, \u001b[38;5;34m128\u001b[0m)    │        \u001b[38;5;34m147,584\u001b[0m │ average_pooling2d_3[\u001b[38;5;34m0\u001b[0m… │\n",
              "├───────────────────────────┼────────────────────────┼────────────────┼────────────────────────┤\n",
              "│ batch_normalization_20    │ (\u001b[38;5;45mNone\u001b[0m, \u001b[38;5;34m14\u001b[0m, \u001b[38;5;34m14\u001b[0m, \u001b[38;5;34m128\u001b[0m)    │            \u001b[38;5;34m512\u001b[0m │ conv2d_21[\u001b[38;5;34m0\u001b[0m][\u001b[38;5;34m0\u001b[0m]        │\n",
              "│ (\u001b[38;5;33mBatchNormalization\u001b[0m)      │                        │                │                        │\n",
              "├───────────────────────────┼────────────────────────┼────────────────┼────────────────────────┤\n",
              "│ batch_normalization_17    │ (\u001b[38;5;45mNone\u001b[0m, \u001b[38;5;34m14\u001b[0m, \u001b[38;5;34m14\u001b[0m, \u001b[38;5;34m128\u001b[0m)    │            \u001b[38;5;34m512\u001b[0m │ conv2d_18[\u001b[38;5;34m0\u001b[0m][\u001b[38;5;34m0\u001b[0m]        │\n",
              "│ (\u001b[38;5;33mBatchNormalization\u001b[0m)      │                        │                │                        │\n",
              "├───────────────────────────┼────────────────────────┼────────────────┼────────────────────────┤\n",
              "│ conv2d_22 (\u001b[38;5;33mConv2D\u001b[0m)        │ (\u001b[38;5;45mNone\u001b[0m, \u001b[38;5;34m14\u001b[0m, \u001b[38;5;34m14\u001b[0m, \u001b[38;5;34m128\u001b[0m)    │        \u001b[38;5;34m147,584\u001b[0m │ batch_normalization_2… │\n",
              "├───────────────────────────┼────────────────────────┼────────────────┼────────────────────────┤\n",
              "│ conv2d_19 (\u001b[38;5;33mConv2D\u001b[0m)        │ (\u001b[38;5;45mNone\u001b[0m, \u001b[38;5;34m14\u001b[0m, \u001b[38;5;34m14\u001b[0m, \u001b[38;5;34m128\u001b[0m)    │        \u001b[38;5;34m147,584\u001b[0m │ batch_normalization_1… │\n",
              "├───────────────────────────┼────────────────────────┼────────────────┼────────────────────────┤\n",
              "│ batch_normalization_21    │ (\u001b[38;5;45mNone\u001b[0m, \u001b[38;5;34m14\u001b[0m, \u001b[38;5;34m14\u001b[0m, \u001b[38;5;34m128\u001b[0m)    │            \u001b[38;5;34m512\u001b[0m │ conv2d_22[\u001b[38;5;34m0\u001b[0m][\u001b[38;5;34m0\u001b[0m]        │\n",
              "│ (\u001b[38;5;33mBatchNormalization\u001b[0m)      │                        │                │                        │\n",
              "├───────────────────────────┼────────────────────────┼────────────────┼────────────────────────┤\n",
              "│ batch_normalization_18    │ (\u001b[38;5;45mNone\u001b[0m, \u001b[38;5;34m14\u001b[0m, \u001b[38;5;34m14\u001b[0m, \u001b[38;5;34m128\u001b[0m)    │            \u001b[38;5;34m512\u001b[0m │ conv2d_19[\u001b[38;5;34m0\u001b[0m][\u001b[38;5;34m0\u001b[0m]        │\n",
              "│ (\u001b[38;5;33mBatchNormalization\u001b[0m)      │                        │                │                        │\n",
              "├───────────────────────────┼────────────────────────┼────────────────┼────────────────────────┤\n",
              "│ conv2d_23 (\u001b[38;5;33mConv2D\u001b[0m)        │ (\u001b[38;5;45mNone\u001b[0m, \u001b[38;5;34m14\u001b[0m, \u001b[38;5;34m14\u001b[0m, \u001b[38;5;34m128\u001b[0m)    │        \u001b[38;5;34m147,584\u001b[0m │ batch_normalization_2… │\n",
              "├───────────────────────────┼────────────────────────┼────────────────┼────────────────────────┤\n",
              "│ conv2d_20 (\u001b[38;5;33mConv2D\u001b[0m)        │ (\u001b[38;5;45mNone\u001b[0m, \u001b[38;5;34m14\u001b[0m, \u001b[38;5;34m14\u001b[0m, \u001b[38;5;34m128\u001b[0m)    │        \u001b[38;5;34m147,584\u001b[0m │ batch_normalization_1… │\n",
              "├───────────────────────────┼────────────────────────┼────────────────┼────────────────────────┤\n",
              "│ batch_normalization_22    │ (\u001b[38;5;45mNone\u001b[0m, \u001b[38;5;34m14\u001b[0m, \u001b[38;5;34m14\u001b[0m, \u001b[38;5;34m128\u001b[0m)    │            \u001b[38;5;34m512\u001b[0m │ conv2d_23[\u001b[38;5;34m0\u001b[0m][\u001b[38;5;34m0\u001b[0m]        │\n",
              "│ (\u001b[38;5;33mBatchNormalization\u001b[0m)      │                        │                │                        │\n",
              "├───────────────────────────┼────────────────────────┼────────────────┼────────────────────────┤\n",
              "│ batch_normalization_19    │ (\u001b[38;5;45mNone\u001b[0m, \u001b[38;5;34m14\u001b[0m, \u001b[38;5;34m14\u001b[0m, \u001b[38;5;34m128\u001b[0m)    │            \u001b[38;5;34m512\u001b[0m │ conv2d_20[\u001b[38;5;34m0\u001b[0m][\u001b[38;5;34m0\u001b[0m]        │\n",
              "│ (\u001b[38;5;33mBatchNormalization\u001b[0m)      │                        │                │                        │\n",
              "├───────────────────────────┼────────────────────────┼────────────────┼────────────────────────┤\n",
              "│ max_pooling2d_4           │ (\u001b[38;5;45mNone\u001b[0m, \u001b[38;5;34m7\u001b[0m, \u001b[38;5;34m7\u001b[0m, \u001b[38;5;34m128\u001b[0m)      │              \u001b[38;5;34m0\u001b[0m │ batch_normalization_2… │\n",
              "│ (\u001b[38;5;33mMaxPooling2D\u001b[0m)            │                        │                │                        │\n",
              "├───────────────────────────┼────────────────────────┼────────────────┼────────────────────────┤\n",
              "│ average_pooling2d_4       │ (\u001b[38;5;45mNone\u001b[0m, \u001b[38;5;34m7\u001b[0m, \u001b[38;5;34m7\u001b[0m, \u001b[38;5;34m128\u001b[0m)      │              \u001b[38;5;34m0\u001b[0m │ batch_normalization_1… │\n",
              "│ (\u001b[38;5;33mAveragePooling2D\u001b[0m)        │                        │                │                        │\n",
              "├───────────────────────────┼────────────────────────┼────────────────┼────────────────────────┤\n",
              "│ flatten (\u001b[38;5;33mFlatten\u001b[0m)         │ (\u001b[38;5;45mNone\u001b[0m, \u001b[38;5;34m6272\u001b[0m)           │              \u001b[38;5;34m0\u001b[0m │ max_pooling2d_4[\u001b[38;5;34m0\u001b[0m][\u001b[38;5;34m0\u001b[0m]  │\n",
              "├───────────────────────────┼────────────────────────┼────────────────┼────────────────────────┤\n",
              "│ flatten_1 (\u001b[38;5;33mFlatten\u001b[0m)       │ (\u001b[38;5;45mNone\u001b[0m, \u001b[38;5;34m6272\u001b[0m)           │              \u001b[38;5;34m0\u001b[0m │ average_pooling2d_4[\u001b[38;5;34m0\u001b[0m… │\n",
              "├───────────────────────────┼────────────────────────┼────────────────┼────────────────────────┤\n",
              "│ dense (\u001b[38;5;33mDense\u001b[0m)             │ (\u001b[38;5;45mNone\u001b[0m, \u001b[38;5;34m2000\u001b[0m)           │     \u001b[38;5;34m12,546,000\u001b[0m │ flatten[\u001b[38;5;34m0\u001b[0m][\u001b[38;5;34m0\u001b[0m]          │\n",
              "├───────────────────────────┼────────────────────────┼────────────────┼────────────────────────┤\n",
              "│ dense_3 (\u001b[38;5;33mDense\u001b[0m)           │ (\u001b[38;5;45mNone\u001b[0m, \u001b[38;5;34m2000\u001b[0m)           │     \u001b[38;5;34m12,546,000\u001b[0m │ flatten_1[\u001b[38;5;34m0\u001b[0m][\u001b[38;5;34m0\u001b[0m]        │\n",
              "├───────────────────────────┼────────────────────────┼────────────────┼────────────────────────┤\n",
              "│ dropout (\u001b[38;5;33mDropout\u001b[0m)         │ (\u001b[38;5;45mNone\u001b[0m, \u001b[38;5;34m2000\u001b[0m)           │              \u001b[38;5;34m0\u001b[0m │ dense[\u001b[38;5;34m0\u001b[0m][\u001b[38;5;34m0\u001b[0m]            │\n",
              "├───────────────────────────┼────────────────────────┼────────────────┼────────────────────────┤\n",
              "│ dropout_1 (\u001b[38;5;33mDropout\u001b[0m)       │ (\u001b[38;5;45mNone\u001b[0m, \u001b[38;5;34m2000\u001b[0m)           │              \u001b[38;5;34m0\u001b[0m │ dense_3[\u001b[38;5;34m0\u001b[0m][\u001b[38;5;34m0\u001b[0m]          │\n",
              "├───────────────────────────┼────────────────────────┼────────────────┼────────────────────────┤\n",
              "│ dense_1 (\u001b[38;5;33mDense\u001b[0m)           │ (\u001b[38;5;45mNone\u001b[0m, \u001b[38;5;34m200\u001b[0m)            │        \u001b[38;5;34m400,200\u001b[0m │ dropout[\u001b[38;5;34m0\u001b[0m][\u001b[38;5;34m0\u001b[0m]          │\n",
              "├───────────────────────────┼────────────────────────┼────────────────┼────────────────────────┤\n",
              "│ dense_4 (\u001b[38;5;33mDense\u001b[0m)           │ (\u001b[38;5;45mNone\u001b[0m, \u001b[38;5;34m200\u001b[0m)            │        \u001b[38;5;34m400,200\u001b[0m │ dropout_1[\u001b[38;5;34m0\u001b[0m][\u001b[38;5;34m0\u001b[0m]        │\n",
              "├───────────────────────────┼────────────────────────┼────────────────┼────────────────────────┤\n",
              "│ dense_2 (\u001b[38;5;33mDense\u001b[0m)           │ (\u001b[38;5;45mNone\u001b[0m, \u001b[38;5;34m20\u001b[0m)             │          \u001b[38;5;34m4,020\u001b[0m │ dense_1[\u001b[38;5;34m0\u001b[0m][\u001b[38;5;34m0\u001b[0m]          │\n",
              "├───────────────────────────┼────────────────────────┼────────────────┼────────────────────────┤\n",
              "│ dense_5 (\u001b[38;5;33mDense\u001b[0m)           │ (\u001b[38;5;45mNone\u001b[0m, \u001b[38;5;34m20\u001b[0m)             │          \u001b[38;5;34m4,020\u001b[0m │ dense_4[\u001b[38;5;34m0\u001b[0m][\u001b[38;5;34m0\u001b[0m]          │\n",
              "├───────────────────────────┼────────────────────────┼────────────────┼────────────────────────┤\n",
              "│ concatenate (\u001b[38;5;33mConcatenate\u001b[0m) │ (\u001b[38;5;45mNone\u001b[0m, \u001b[38;5;34m40\u001b[0m)             │              \u001b[38;5;34m0\u001b[0m │ dense_2[\u001b[38;5;34m0\u001b[0m][\u001b[38;5;34m0\u001b[0m],         │\n",
              "│                           │                        │                │ dense_5[\u001b[38;5;34m0\u001b[0m][\u001b[38;5;34m0\u001b[0m]          │\n",
              "├───────────────────────────┼────────────────────────┼────────────────┼────────────────────────┤\n",
              "│ dense_6 (\u001b[38;5;33mDense\u001b[0m)           │ (\u001b[38;5;45mNone\u001b[0m, \u001b[38;5;34m1\u001b[0m)              │             \u001b[38;5;34m41\u001b[0m │ concatenate[\u001b[38;5;34m0\u001b[0m][\u001b[38;5;34m0\u001b[0m]      │\n",
              "└───────────────────────────┴────────────────────────┴────────────────┴────────────────────────┘\n"
            ],
            "text/html": [
              "<pre style=\"white-space:pre;overflow-x:auto;line-height:normal;font-family:Menlo,'DejaVu Sans Mono',consolas,'Courier New',monospace\">┏━━━━━━━━━━━━━━━━━━━━━━━━━━━┳━━━━━━━━━━━━━━━━━━━━━━━━┳━━━━━━━━━━━━━━━━┳━━━━━━━━━━━━━━━━━━━━━━━━┓\n",
              "┃<span style=\"font-weight: bold\"> Layer (type)              </span>┃<span style=\"font-weight: bold\"> Output Shape           </span>┃<span style=\"font-weight: bold\">        Param # </span>┃<span style=\"font-weight: bold\"> Connected to           </span>┃\n",
              "┡━━━━━━━━━━━━━━━━━━━━━━━━━━━╇━━━━━━━━━━━━━━━━━━━━━━━━╇━━━━━━━━━━━━━━━━╇━━━━━━━━━━━━━━━━━━━━━━━━┩\n",
              "│ input_layer (<span style=\"color: #0087ff; text-decoration-color: #0087ff\">InputLayer</span>)  │ (<span style=\"color: #00d7ff; text-decoration-color: #00d7ff\">None</span>, <span style=\"color: #00af00; text-decoration-color: #00af00\">224</span>, <span style=\"color: #00af00; text-decoration-color: #00af00\">224</span>, <span style=\"color: #00af00; text-decoration-color: #00af00\">3</span>)    │              <span style=\"color: #00af00; text-decoration-color: #00af00\">0</span> │ -                      │\n",
              "├───────────────────────────┼────────────────────────┼────────────────┼────────────────────────┤\n",
              "│ conv2d (<span style=\"color: #0087ff; text-decoration-color: #0087ff\">Conv2D</span>)           │ (<span style=\"color: #00d7ff; text-decoration-color: #00d7ff\">None</span>, <span style=\"color: #00af00; text-decoration-color: #00af00\">224</span>, <span style=\"color: #00af00; text-decoration-color: #00af00\">224</span>, <span style=\"color: #00af00; text-decoration-color: #00af00\">32</span>)   │            <span style=\"color: #00af00; text-decoration-color: #00af00\">896</span> │ input_layer[<span style=\"color: #00af00; text-decoration-color: #00af00\">0</span>][<span style=\"color: #00af00; text-decoration-color: #00af00\">0</span>]      │\n",
              "├───────────────────────────┼────────────────────────┼────────────────┼────────────────────────┤\n",
              "│ batch_normalization       │ (<span style=\"color: #00d7ff; text-decoration-color: #00d7ff\">None</span>, <span style=\"color: #00af00; text-decoration-color: #00af00\">224</span>, <span style=\"color: #00af00; text-decoration-color: #00af00\">224</span>, <span style=\"color: #00af00; text-decoration-color: #00af00\">32</span>)   │            <span style=\"color: #00af00; text-decoration-color: #00af00\">128</span> │ conv2d[<span style=\"color: #00af00; text-decoration-color: #00af00\">0</span>][<span style=\"color: #00af00; text-decoration-color: #00af00\">0</span>]           │\n",
              "│ (<span style=\"color: #0087ff; text-decoration-color: #0087ff\">BatchNormalization</span>)      │                        │                │                        │\n",
              "├───────────────────────────┼────────────────────────┼────────────────┼────────────────────────┤\n",
              "│ conv2d_1 (<span style=\"color: #0087ff; text-decoration-color: #0087ff\">Conv2D</span>)         │ (<span style=\"color: #00d7ff; text-decoration-color: #00d7ff\">None</span>, <span style=\"color: #00af00; text-decoration-color: #00af00\">224</span>, <span style=\"color: #00af00; text-decoration-color: #00af00\">224</span>, <span style=\"color: #00af00; text-decoration-color: #00af00\">32</span>)   │          <span style=\"color: #00af00; text-decoration-color: #00af00\">9,248</span> │ batch_normalization[<span style=\"color: #00af00; text-decoration-color: #00af00\">0</span>… │\n",
              "├───────────────────────────┼────────────────────────┼────────────────┼────────────────────────┤\n",
              "│ max_pooling2d             │ (<span style=\"color: #00d7ff; text-decoration-color: #00d7ff\">None</span>, <span style=\"color: #00af00; text-decoration-color: #00af00\">112</span>, <span style=\"color: #00af00; text-decoration-color: #00af00\">112</span>, <span style=\"color: #00af00; text-decoration-color: #00af00\">32</span>)   │              <span style=\"color: #00af00; text-decoration-color: #00af00\">0</span> │ conv2d_1[<span style=\"color: #00af00; text-decoration-color: #00af00\">0</span>][<span style=\"color: #00af00; text-decoration-color: #00af00\">0</span>]         │\n",
              "│ (<span style=\"color: #0087ff; text-decoration-color: #0087ff\">MaxPooling2D</span>)            │                        │                │                        │\n",
              "├───────────────────────────┼────────────────────────┼────────────────┼────────────────────────┤\n",
              "│ average_pooling2d         │ (<span style=\"color: #00d7ff; text-decoration-color: #00d7ff\">None</span>, <span style=\"color: #00af00; text-decoration-color: #00af00\">112</span>, <span style=\"color: #00af00; text-decoration-color: #00af00\">112</span>, <span style=\"color: #00af00; text-decoration-color: #00af00\">32</span>)   │              <span style=\"color: #00af00; text-decoration-color: #00af00\">0</span> │ conv2d_1[<span style=\"color: #00af00; text-decoration-color: #00af00\">0</span>][<span style=\"color: #00af00; text-decoration-color: #00af00\">0</span>]         │\n",
              "│ (<span style=\"color: #0087ff; text-decoration-color: #0087ff\">AveragePooling2D</span>)        │                        │                │                        │\n",
              "├───────────────────────────┼────────────────────────┼────────────────┼────────────────────────┤\n",
              "│ conv2d_4 (<span style=\"color: #0087ff; text-decoration-color: #0087ff\">Conv2D</span>)         │ (<span style=\"color: #00d7ff; text-decoration-color: #00d7ff\">None</span>, <span style=\"color: #00af00; text-decoration-color: #00af00\">112</span>, <span style=\"color: #00af00; text-decoration-color: #00af00\">112</span>, <span style=\"color: #00af00; text-decoration-color: #00af00\">64</span>)   │         <span style=\"color: #00af00; text-decoration-color: #00af00\">18,496</span> │ max_pooling2d[<span style=\"color: #00af00; text-decoration-color: #00af00\">0</span>][<span style=\"color: #00af00; text-decoration-color: #00af00\">0</span>]    │\n",
              "├───────────────────────────┼────────────────────────┼────────────────┼────────────────────────┤\n",
              "│ conv2d_2 (<span style=\"color: #0087ff; text-decoration-color: #0087ff\">Conv2D</span>)         │ (<span style=\"color: #00d7ff; text-decoration-color: #00d7ff\">None</span>, <span style=\"color: #00af00; text-decoration-color: #00af00\">112</span>, <span style=\"color: #00af00; text-decoration-color: #00af00\">112</span>, <span style=\"color: #00af00; text-decoration-color: #00af00\">64</span>)   │         <span style=\"color: #00af00; text-decoration-color: #00af00\">18,496</span> │ average_pooling2d[<span style=\"color: #00af00; text-decoration-color: #00af00\">0</span>][<span style=\"color: #00af00; text-decoration-color: #00af00\">…</span> │\n",
              "├───────────────────────────┼────────────────────────┼────────────────┼────────────────────────┤\n",
              "│ batch_normalization_3     │ (<span style=\"color: #00d7ff; text-decoration-color: #00d7ff\">None</span>, <span style=\"color: #00af00; text-decoration-color: #00af00\">112</span>, <span style=\"color: #00af00; text-decoration-color: #00af00\">112</span>, <span style=\"color: #00af00; text-decoration-color: #00af00\">64</span>)   │            <span style=\"color: #00af00; text-decoration-color: #00af00\">256</span> │ conv2d_4[<span style=\"color: #00af00; text-decoration-color: #00af00\">0</span>][<span style=\"color: #00af00; text-decoration-color: #00af00\">0</span>]         │\n",
              "│ (<span style=\"color: #0087ff; text-decoration-color: #0087ff\">BatchNormalization</span>)      │                        │                │                        │\n",
              "├───────────────────────────┼────────────────────────┼────────────────┼────────────────────────┤\n",
              "│ batch_normalization_1     │ (<span style=\"color: #00d7ff; text-decoration-color: #00d7ff\">None</span>, <span style=\"color: #00af00; text-decoration-color: #00af00\">112</span>, <span style=\"color: #00af00; text-decoration-color: #00af00\">112</span>, <span style=\"color: #00af00; text-decoration-color: #00af00\">64</span>)   │            <span style=\"color: #00af00; text-decoration-color: #00af00\">256</span> │ conv2d_2[<span style=\"color: #00af00; text-decoration-color: #00af00\">0</span>][<span style=\"color: #00af00; text-decoration-color: #00af00\">0</span>]         │\n",
              "│ (<span style=\"color: #0087ff; text-decoration-color: #0087ff\">BatchNormalization</span>)      │                        │                │                        │\n",
              "├───────────────────────────┼────────────────────────┼────────────────┼────────────────────────┤\n",
              "│ conv2d_5 (<span style=\"color: #0087ff; text-decoration-color: #0087ff\">Conv2D</span>)         │ (<span style=\"color: #00d7ff; text-decoration-color: #00d7ff\">None</span>, <span style=\"color: #00af00; text-decoration-color: #00af00\">112</span>, <span style=\"color: #00af00; text-decoration-color: #00af00\">112</span>, <span style=\"color: #00af00; text-decoration-color: #00af00\">64</span>)   │         <span style=\"color: #00af00; text-decoration-color: #00af00\">36,928</span> │ batch_normalization_3… │\n",
              "├───────────────────────────┼────────────────────────┼────────────────┼────────────────────────┤\n",
              "│ conv2d_3 (<span style=\"color: #0087ff; text-decoration-color: #0087ff\">Conv2D</span>)         │ (<span style=\"color: #00d7ff; text-decoration-color: #00d7ff\">None</span>, <span style=\"color: #00af00; text-decoration-color: #00af00\">112</span>, <span style=\"color: #00af00; text-decoration-color: #00af00\">112</span>, <span style=\"color: #00af00; text-decoration-color: #00af00\">64</span>)   │         <span style=\"color: #00af00; text-decoration-color: #00af00\">36,928</span> │ batch_normalization_1… │\n",
              "├───────────────────────────┼────────────────────────┼────────────────┼────────────────────────┤\n",
              "│ batch_normalization_4     │ (<span style=\"color: #00d7ff; text-decoration-color: #00d7ff\">None</span>, <span style=\"color: #00af00; text-decoration-color: #00af00\">112</span>, <span style=\"color: #00af00; text-decoration-color: #00af00\">112</span>, <span style=\"color: #00af00; text-decoration-color: #00af00\">64</span>)   │            <span style=\"color: #00af00; text-decoration-color: #00af00\">256</span> │ conv2d_5[<span style=\"color: #00af00; text-decoration-color: #00af00\">0</span>][<span style=\"color: #00af00; text-decoration-color: #00af00\">0</span>]         │\n",
              "│ (<span style=\"color: #0087ff; text-decoration-color: #0087ff\">BatchNormalization</span>)      │                        │                │                        │\n",
              "├───────────────────────────┼────────────────────────┼────────────────┼────────────────────────┤\n",
              "│ batch_normalization_2     │ (<span style=\"color: #00d7ff; text-decoration-color: #00d7ff\">None</span>, <span style=\"color: #00af00; text-decoration-color: #00af00\">112</span>, <span style=\"color: #00af00; text-decoration-color: #00af00\">112</span>, <span style=\"color: #00af00; text-decoration-color: #00af00\">64</span>)   │            <span style=\"color: #00af00; text-decoration-color: #00af00\">256</span> │ conv2d_3[<span style=\"color: #00af00; text-decoration-color: #00af00\">0</span>][<span style=\"color: #00af00; text-decoration-color: #00af00\">0</span>]         │\n",
              "│ (<span style=\"color: #0087ff; text-decoration-color: #0087ff\">BatchNormalization</span>)      │                        │                │                        │\n",
              "├───────────────────────────┼────────────────────────┼────────────────┼────────────────────────┤\n",
              "│ max_pooling2d_1           │ (<span style=\"color: #00d7ff; text-decoration-color: #00d7ff\">None</span>, <span style=\"color: #00af00; text-decoration-color: #00af00\">56</span>, <span style=\"color: #00af00; text-decoration-color: #00af00\">56</span>, <span style=\"color: #00af00; text-decoration-color: #00af00\">64</span>)     │              <span style=\"color: #00af00; text-decoration-color: #00af00\">0</span> │ batch_normalization_4… │\n",
              "│ (<span style=\"color: #0087ff; text-decoration-color: #0087ff\">MaxPooling2D</span>)            │                        │                │                        │\n",
              "├───────────────────────────┼────────────────────────┼────────────────┼────────────────────────┤\n",
              "│ average_pooling2d_1       │ (<span style=\"color: #00d7ff; text-decoration-color: #00d7ff\">None</span>, <span style=\"color: #00af00; text-decoration-color: #00af00\">56</span>, <span style=\"color: #00af00; text-decoration-color: #00af00\">56</span>, <span style=\"color: #00af00; text-decoration-color: #00af00\">64</span>)     │              <span style=\"color: #00af00; text-decoration-color: #00af00\">0</span> │ batch_normalization_2… │\n",
              "│ (<span style=\"color: #0087ff; text-decoration-color: #0087ff\">AveragePooling2D</span>)        │                        │                │                        │\n",
              "├───────────────────────────┼────────────────────────┼────────────────┼────────────────────────┤\n",
              "│ conv2d_9 (<span style=\"color: #0087ff; text-decoration-color: #0087ff\">Conv2D</span>)         │ (<span style=\"color: #00d7ff; text-decoration-color: #00d7ff\">None</span>, <span style=\"color: #00af00; text-decoration-color: #00af00\">56</span>, <span style=\"color: #00af00; text-decoration-color: #00af00\">56</span>, <span style=\"color: #00af00; text-decoration-color: #00af00\">64</span>)     │         <span style=\"color: #00af00; text-decoration-color: #00af00\">36,928</span> │ max_pooling2d_1[<span style=\"color: #00af00; text-decoration-color: #00af00\">0</span>][<span style=\"color: #00af00; text-decoration-color: #00af00\">0</span>]  │\n",
              "├───────────────────────────┼────────────────────────┼────────────────┼────────────────────────┤\n",
              "│ conv2d_6 (<span style=\"color: #0087ff; text-decoration-color: #0087ff\">Conv2D</span>)         │ (<span style=\"color: #00d7ff; text-decoration-color: #00d7ff\">None</span>, <span style=\"color: #00af00; text-decoration-color: #00af00\">56</span>, <span style=\"color: #00af00; text-decoration-color: #00af00\">56</span>, <span style=\"color: #00af00; text-decoration-color: #00af00\">64</span>)     │         <span style=\"color: #00af00; text-decoration-color: #00af00\">36,928</span> │ average_pooling2d_1[<span style=\"color: #00af00; text-decoration-color: #00af00\">0</span>… │\n",
              "├───────────────────────────┼────────────────────────┼────────────────┼────────────────────────┤\n",
              "│ batch_normalization_8     │ (<span style=\"color: #00d7ff; text-decoration-color: #00d7ff\">None</span>, <span style=\"color: #00af00; text-decoration-color: #00af00\">56</span>, <span style=\"color: #00af00; text-decoration-color: #00af00\">56</span>, <span style=\"color: #00af00; text-decoration-color: #00af00\">64</span>)     │            <span style=\"color: #00af00; text-decoration-color: #00af00\">256</span> │ conv2d_9[<span style=\"color: #00af00; text-decoration-color: #00af00\">0</span>][<span style=\"color: #00af00; text-decoration-color: #00af00\">0</span>]         │\n",
              "│ (<span style=\"color: #0087ff; text-decoration-color: #0087ff\">BatchNormalization</span>)      │                        │                │                        │\n",
              "├───────────────────────────┼────────────────────────┼────────────────┼────────────────────────┤\n",
              "│ batch_normalization_5     │ (<span style=\"color: #00d7ff; text-decoration-color: #00d7ff\">None</span>, <span style=\"color: #00af00; text-decoration-color: #00af00\">56</span>, <span style=\"color: #00af00; text-decoration-color: #00af00\">56</span>, <span style=\"color: #00af00; text-decoration-color: #00af00\">64</span>)     │            <span style=\"color: #00af00; text-decoration-color: #00af00\">256</span> │ conv2d_6[<span style=\"color: #00af00; text-decoration-color: #00af00\">0</span>][<span style=\"color: #00af00; text-decoration-color: #00af00\">0</span>]         │\n",
              "│ (<span style=\"color: #0087ff; text-decoration-color: #0087ff\">BatchNormalization</span>)      │                        │                │                        │\n",
              "├───────────────────────────┼────────────────────────┼────────────────┼────────────────────────┤\n",
              "│ conv2d_10 (<span style=\"color: #0087ff; text-decoration-color: #0087ff\">Conv2D</span>)        │ (<span style=\"color: #00d7ff; text-decoration-color: #00d7ff\">None</span>, <span style=\"color: #00af00; text-decoration-color: #00af00\">56</span>, <span style=\"color: #00af00; text-decoration-color: #00af00\">56</span>, <span style=\"color: #00af00; text-decoration-color: #00af00\">64</span>)     │         <span style=\"color: #00af00; text-decoration-color: #00af00\">36,928</span> │ batch_normalization_8… │\n",
              "├───────────────────────────┼────────────────────────┼────────────────┼────────────────────────┤\n",
              "│ conv2d_7 (<span style=\"color: #0087ff; text-decoration-color: #0087ff\">Conv2D</span>)         │ (<span style=\"color: #00d7ff; text-decoration-color: #00d7ff\">None</span>, <span style=\"color: #00af00; text-decoration-color: #00af00\">56</span>, <span style=\"color: #00af00; text-decoration-color: #00af00\">56</span>, <span style=\"color: #00af00; text-decoration-color: #00af00\">64</span>)     │         <span style=\"color: #00af00; text-decoration-color: #00af00\">36,928</span> │ batch_normalization_5… │\n",
              "├───────────────────────────┼────────────────────────┼────────────────┼────────────────────────┤\n",
              "│ batch_normalization_9     │ (<span style=\"color: #00d7ff; text-decoration-color: #00d7ff\">None</span>, <span style=\"color: #00af00; text-decoration-color: #00af00\">56</span>, <span style=\"color: #00af00; text-decoration-color: #00af00\">56</span>, <span style=\"color: #00af00; text-decoration-color: #00af00\">64</span>)     │            <span style=\"color: #00af00; text-decoration-color: #00af00\">256</span> │ conv2d_10[<span style=\"color: #00af00; text-decoration-color: #00af00\">0</span>][<span style=\"color: #00af00; text-decoration-color: #00af00\">0</span>]        │\n",
              "│ (<span style=\"color: #0087ff; text-decoration-color: #0087ff\">BatchNormalization</span>)      │                        │                │                        │\n",
              "├───────────────────────────┼────────────────────────┼────────────────┼────────────────────────┤\n",
              "│ batch_normalization_6     │ (<span style=\"color: #00d7ff; text-decoration-color: #00d7ff\">None</span>, <span style=\"color: #00af00; text-decoration-color: #00af00\">56</span>, <span style=\"color: #00af00; text-decoration-color: #00af00\">56</span>, <span style=\"color: #00af00; text-decoration-color: #00af00\">64</span>)     │            <span style=\"color: #00af00; text-decoration-color: #00af00\">256</span> │ conv2d_7[<span style=\"color: #00af00; text-decoration-color: #00af00\">0</span>][<span style=\"color: #00af00; text-decoration-color: #00af00\">0</span>]         │\n",
              "│ (<span style=\"color: #0087ff; text-decoration-color: #0087ff\">BatchNormalization</span>)      │                        │                │                        │\n",
              "├───────────────────────────┼────────────────────────┼────────────────┼────────────────────────┤\n",
              "│ conv2d_11 (<span style=\"color: #0087ff; text-decoration-color: #0087ff\">Conv2D</span>)        │ (<span style=\"color: #00d7ff; text-decoration-color: #00d7ff\">None</span>, <span style=\"color: #00af00; text-decoration-color: #00af00\">56</span>, <span style=\"color: #00af00; text-decoration-color: #00af00\">56</span>, <span style=\"color: #00af00; text-decoration-color: #00af00\">64</span>)     │         <span style=\"color: #00af00; text-decoration-color: #00af00\">36,928</span> │ batch_normalization_9… │\n",
              "├───────────────────────────┼────────────────────────┼────────────────┼────────────────────────┤\n",
              "│ conv2d_8 (<span style=\"color: #0087ff; text-decoration-color: #0087ff\">Conv2D</span>)         │ (<span style=\"color: #00d7ff; text-decoration-color: #00d7ff\">None</span>, <span style=\"color: #00af00; text-decoration-color: #00af00\">56</span>, <span style=\"color: #00af00; text-decoration-color: #00af00\">56</span>, <span style=\"color: #00af00; text-decoration-color: #00af00\">64</span>)     │         <span style=\"color: #00af00; text-decoration-color: #00af00\">36,928</span> │ batch_normalization_6… │\n",
              "├───────────────────────────┼────────────────────────┼────────────────┼────────────────────────┤\n",
              "│ batch_normalization_10    │ (<span style=\"color: #00d7ff; text-decoration-color: #00d7ff\">None</span>, <span style=\"color: #00af00; text-decoration-color: #00af00\">56</span>, <span style=\"color: #00af00; text-decoration-color: #00af00\">56</span>, <span style=\"color: #00af00; text-decoration-color: #00af00\">64</span>)     │            <span style=\"color: #00af00; text-decoration-color: #00af00\">256</span> │ conv2d_11[<span style=\"color: #00af00; text-decoration-color: #00af00\">0</span>][<span style=\"color: #00af00; text-decoration-color: #00af00\">0</span>]        │\n",
              "│ (<span style=\"color: #0087ff; text-decoration-color: #0087ff\">BatchNormalization</span>)      │                        │                │                        │\n",
              "├───────────────────────────┼────────────────────────┼────────────────┼────────────────────────┤\n",
              "│ batch_normalization_7     │ (<span style=\"color: #00d7ff; text-decoration-color: #00d7ff\">None</span>, <span style=\"color: #00af00; text-decoration-color: #00af00\">56</span>, <span style=\"color: #00af00; text-decoration-color: #00af00\">56</span>, <span style=\"color: #00af00; text-decoration-color: #00af00\">64</span>)     │            <span style=\"color: #00af00; text-decoration-color: #00af00\">256</span> │ conv2d_8[<span style=\"color: #00af00; text-decoration-color: #00af00\">0</span>][<span style=\"color: #00af00; text-decoration-color: #00af00\">0</span>]         │\n",
              "│ (<span style=\"color: #0087ff; text-decoration-color: #0087ff\">BatchNormalization</span>)      │                        │                │                        │\n",
              "├───────────────────────────┼────────────────────────┼────────────────┼────────────────────────┤\n",
              "│ max_pooling2d_2           │ (<span style=\"color: #00d7ff; text-decoration-color: #00d7ff\">None</span>, <span style=\"color: #00af00; text-decoration-color: #00af00\">28</span>, <span style=\"color: #00af00; text-decoration-color: #00af00\">28</span>, <span style=\"color: #00af00; text-decoration-color: #00af00\">64</span>)     │              <span style=\"color: #00af00; text-decoration-color: #00af00\">0</span> │ batch_normalization_1… │\n",
              "│ (<span style=\"color: #0087ff; text-decoration-color: #0087ff\">MaxPooling2D</span>)            │                        │                │                        │\n",
              "├───────────────────────────┼────────────────────────┼────────────────┼────────────────────────┤\n",
              "│ average_pooling2d_2       │ (<span style=\"color: #00d7ff; text-decoration-color: #00d7ff\">None</span>, <span style=\"color: #00af00; text-decoration-color: #00af00\">28</span>, <span style=\"color: #00af00; text-decoration-color: #00af00\">28</span>, <span style=\"color: #00af00; text-decoration-color: #00af00\">64</span>)     │              <span style=\"color: #00af00; text-decoration-color: #00af00\">0</span> │ batch_normalization_7… │\n",
              "│ (<span style=\"color: #0087ff; text-decoration-color: #0087ff\">AveragePooling2D</span>)        │                        │                │                        │\n",
              "├───────────────────────────┼────────────────────────┼────────────────┼────────────────────────┤\n",
              "│ conv2d_15 (<span style=\"color: #0087ff; text-decoration-color: #0087ff\">Conv2D</span>)        │ (<span style=\"color: #00d7ff; text-decoration-color: #00d7ff\">None</span>, <span style=\"color: #00af00; text-decoration-color: #00af00\">28</span>, <span style=\"color: #00af00; text-decoration-color: #00af00\">28</span>, <span style=\"color: #00af00; text-decoration-color: #00af00\">128</span>)    │         <span style=\"color: #00af00; text-decoration-color: #00af00\">73,856</span> │ max_pooling2d_2[<span style=\"color: #00af00; text-decoration-color: #00af00\">0</span>][<span style=\"color: #00af00; text-decoration-color: #00af00\">0</span>]  │\n",
              "├───────────────────────────┼────────────────────────┼────────────────┼────────────────────────┤\n",
              "│ conv2d_12 (<span style=\"color: #0087ff; text-decoration-color: #0087ff\">Conv2D</span>)        │ (<span style=\"color: #00d7ff; text-decoration-color: #00d7ff\">None</span>, <span style=\"color: #00af00; text-decoration-color: #00af00\">28</span>, <span style=\"color: #00af00; text-decoration-color: #00af00\">28</span>, <span style=\"color: #00af00; text-decoration-color: #00af00\">128</span>)    │         <span style=\"color: #00af00; text-decoration-color: #00af00\">73,856</span> │ average_pooling2d_2[<span style=\"color: #00af00; text-decoration-color: #00af00\">0</span>… │\n",
              "├───────────────────────────┼────────────────────────┼────────────────┼────────────────────────┤\n",
              "│ batch_normalization_14    │ (<span style=\"color: #00d7ff; text-decoration-color: #00d7ff\">None</span>, <span style=\"color: #00af00; text-decoration-color: #00af00\">28</span>, <span style=\"color: #00af00; text-decoration-color: #00af00\">28</span>, <span style=\"color: #00af00; text-decoration-color: #00af00\">128</span>)    │            <span style=\"color: #00af00; text-decoration-color: #00af00\">512</span> │ conv2d_15[<span style=\"color: #00af00; text-decoration-color: #00af00\">0</span>][<span style=\"color: #00af00; text-decoration-color: #00af00\">0</span>]        │\n",
              "│ (<span style=\"color: #0087ff; text-decoration-color: #0087ff\">BatchNormalization</span>)      │                        │                │                        │\n",
              "├───────────────────────────┼────────────────────────┼────────────────┼────────────────────────┤\n",
              "│ batch_normalization_11    │ (<span style=\"color: #00d7ff; text-decoration-color: #00d7ff\">None</span>, <span style=\"color: #00af00; text-decoration-color: #00af00\">28</span>, <span style=\"color: #00af00; text-decoration-color: #00af00\">28</span>, <span style=\"color: #00af00; text-decoration-color: #00af00\">128</span>)    │            <span style=\"color: #00af00; text-decoration-color: #00af00\">512</span> │ conv2d_12[<span style=\"color: #00af00; text-decoration-color: #00af00\">0</span>][<span style=\"color: #00af00; text-decoration-color: #00af00\">0</span>]        │\n",
              "│ (<span style=\"color: #0087ff; text-decoration-color: #0087ff\">BatchNormalization</span>)      │                        │                │                        │\n",
              "├───────────────────────────┼────────────────────────┼────────────────┼────────────────────────┤\n",
              "│ conv2d_16 (<span style=\"color: #0087ff; text-decoration-color: #0087ff\">Conv2D</span>)        │ (<span style=\"color: #00d7ff; text-decoration-color: #00d7ff\">None</span>, <span style=\"color: #00af00; text-decoration-color: #00af00\">28</span>, <span style=\"color: #00af00; text-decoration-color: #00af00\">28</span>, <span style=\"color: #00af00; text-decoration-color: #00af00\">128</span>)    │        <span style=\"color: #00af00; text-decoration-color: #00af00\">147,584</span> │ batch_normalization_1… │\n",
              "├───────────────────────────┼────────────────────────┼────────────────┼────────────────────────┤\n",
              "│ conv2d_13 (<span style=\"color: #0087ff; text-decoration-color: #0087ff\">Conv2D</span>)        │ (<span style=\"color: #00d7ff; text-decoration-color: #00d7ff\">None</span>, <span style=\"color: #00af00; text-decoration-color: #00af00\">28</span>, <span style=\"color: #00af00; text-decoration-color: #00af00\">28</span>, <span style=\"color: #00af00; text-decoration-color: #00af00\">128</span>)    │        <span style=\"color: #00af00; text-decoration-color: #00af00\">147,584</span> │ batch_normalization_1… │\n",
              "├───────────────────────────┼────────────────────────┼────────────────┼────────────────────────┤\n",
              "│ batch_normalization_15    │ (<span style=\"color: #00d7ff; text-decoration-color: #00d7ff\">None</span>, <span style=\"color: #00af00; text-decoration-color: #00af00\">28</span>, <span style=\"color: #00af00; text-decoration-color: #00af00\">28</span>, <span style=\"color: #00af00; text-decoration-color: #00af00\">128</span>)    │            <span style=\"color: #00af00; text-decoration-color: #00af00\">512</span> │ conv2d_16[<span style=\"color: #00af00; text-decoration-color: #00af00\">0</span>][<span style=\"color: #00af00; text-decoration-color: #00af00\">0</span>]        │\n",
              "│ (<span style=\"color: #0087ff; text-decoration-color: #0087ff\">BatchNormalization</span>)      │                        │                │                        │\n",
              "├───────────────────────────┼────────────────────────┼────────────────┼────────────────────────┤\n",
              "│ batch_normalization_12    │ (<span style=\"color: #00d7ff; text-decoration-color: #00d7ff\">None</span>, <span style=\"color: #00af00; text-decoration-color: #00af00\">28</span>, <span style=\"color: #00af00; text-decoration-color: #00af00\">28</span>, <span style=\"color: #00af00; text-decoration-color: #00af00\">128</span>)    │            <span style=\"color: #00af00; text-decoration-color: #00af00\">512</span> │ conv2d_13[<span style=\"color: #00af00; text-decoration-color: #00af00\">0</span>][<span style=\"color: #00af00; text-decoration-color: #00af00\">0</span>]        │\n",
              "│ (<span style=\"color: #0087ff; text-decoration-color: #0087ff\">BatchNormalization</span>)      │                        │                │                        │\n",
              "├───────────────────────────┼────────────────────────┼────────────────┼────────────────────────┤\n",
              "│ conv2d_17 (<span style=\"color: #0087ff; text-decoration-color: #0087ff\">Conv2D</span>)        │ (<span style=\"color: #00d7ff; text-decoration-color: #00d7ff\">None</span>, <span style=\"color: #00af00; text-decoration-color: #00af00\">28</span>, <span style=\"color: #00af00; text-decoration-color: #00af00\">28</span>, <span style=\"color: #00af00; text-decoration-color: #00af00\">128</span>)    │        <span style=\"color: #00af00; text-decoration-color: #00af00\">147,584</span> │ batch_normalization_1… │\n",
              "├───────────────────────────┼────────────────────────┼────────────────┼────────────────────────┤\n",
              "│ conv2d_14 (<span style=\"color: #0087ff; text-decoration-color: #0087ff\">Conv2D</span>)        │ (<span style=\"color: #00d7ff; text-decoration-color: #00d7ff\">None</span>, <span style=\"color: #00af00; text-decoration-color: #00af00\">28</span>, <span style=\"color: #00af00; text-decoration-color: #00af00\">28</span>, <span style=\"color: #00af00; text-decoration-color: #00af00\">128</span>)    │        <span style=\"color: #00af00; text-decoration-color: #00af00\">147,584</span> │ batch_normalization_1… │\n",
              "├───────────────────────────┼────────────────────────┼────────────────┼────────────────────────┤\n",
              "│ batch_normalization_16    │ (<span style=\"color: #00d7ff; text-decoration-color: #00d7ff\">None</span>, <span style=\"color: #00af00; text-decoration-color: #00af00\">28</span>, <span style=\"color: #00af00; text-decoration-color: #00af00\">28</span>, <span style=\"color: #00af00; text-decoration-color: #00af00\">128</span>)    │            <span style=\"color: #00af00; text-decoration-color: #00af00\">512</span> │ conv2d_17[<span style=\"color: #00af00; text-decoration-color: #00af00\">0</span>][<span style=\"color: #00af00; text-decoration-color: #00af00\">0</span>]        │\n",
              "│ (<span style=\"color: #0087ff; text-decoration-color: #0087ff\">BatchNormalization</span>)      │                        │                │                        │\n",
              "├───────────────────────────┼────────────────────────┼────────────────┼────────────────────────┤\n",
              "│ batch_normalization_13    │ (<span style=\"color: #00d7ff; text-decoration-color: #00d7ff\">None</span>, <span style=\"color: #00af00; text-decoration-color: #00af00\">28</span>, <span style=\"color: #00af00; text-decoration-color: #00af00\">28</span>, <span style=\"color: #00af00; text-decoration-color: #00af00\">128</span>)    │            <span style=\"color: #00af00; text-decoration-color: #00af00\">512</span> │ conv2d_14[<span style=\"color: #00af00; text-decoration-color: #00af00\">0</span>][<span style=\"color: #00af00; text-decoration-color: #00af00\">0</span>]        │\n",
              "│ (<span style=\"color: #0087ff; text-decoration-color: #0087ff\">BatchNormalization</span>)      │                        │                │                        │\n",
              "├───────────────────────────┼────────────────────────┼────────────────┼────────────────────────┤\n",
              "│ max_pooling2d_3           │ (<span style=\"color: #00d7ff; text-decoration-color: #00d7ff\">None</span>, <span style=\"color: #00af00; text-decoration-color: #00af00\">14</span>, <span style=\"color: #00af00; text-decoration-color: #00af00\">14</span>, <span style=\"color: #00af00; text-decoration-color: #00af00\">128</span>)    │              <span style=\"color: #00af00; text-decoration-color: #00af00\">0</span> │ batch_normalization_1… │\n",
              "│ (<span style=\"color: #0087ff; text-decoration-color: #0087ff\">MaxPooling2D</span>)            │                        │                │                        │\n",
              "├───────────────────────────┼────────────────────────┼────────────────┼────────────────────────┤\n",
              "│ average_pooling2d_3       │ (<span style=\"color: #00d7ff; text-decoration-color: #00d7ff\">None</span>, <span style=\"color: #00af00; text-decoration-color: #00af00\">14</span>, <span style=\"color: #00af00; text-decoration-color: #00af00\">14</span>, <span style=\"color: #00af00; text-decoration-color: #00af00\">128</span>)    │              <span style=\"color: #00af00; text-decoration-color: #00af00\">0</span> │ batch_normalization_1… │\n",
              "│ (<span style=\"color: #0087ff; text-decoration-color: #0087ff\">AveragePooling2D</span>)        │                        │                │                        │\n",
              "├───────────────────────────┼────────────────────────┼────────────────┼────────────────────────┤\n",
              "│ conv2d_21 (<span style=\"color: #0087ff; text-decoration-color: #0087ff\">Conv2D</span>)        │ (<span style=\"color: #00d7ff; text-decoration-color: #00d7ff\">None</span>, <span style=\"color: #00af00; text-decoration-color: #00af00\">14</span>, <span style=\"color: #00af00; text-decoration-color: #00af00\">14</span>, <span style=\"color: #00af00; text-decoration-color: #00af00\">128</span>)    │        <span style=\"color: #00af00; text-decoration-color: #00af00\">147,584</span> │ max_pooling2d_3[<span style=\"color: #00af00; text-decoration-color: #00af00\">0</span>][<span style=\"color: #00af00; text-decoration-color: #00af00\">0</span>]  │\n",
              "├───────────────────────────┼────────────────────────┼────────────────┼────────────────────────┤\n",
              "│ conv2d_18 (<span style=\"color: #0087ff; text-decoration-color: #0087ff\">Conv2D</span>)        │ (<span style=\"color: #00d7ff; text-decoration-color: #00d7ff\">None</span>, <span style=\"color: #00af00; text-decoration-color: #00af00\">14</span>, <span style=\"color: #00af00; text-decoration-color: #00af00\">14</span>, <span style=\"color: #00af00; text-decoration-color: #00af00\">128</span>)    │        <span style=\"color: #00af00; text-decoration-color: #00af00\">147,584</span> │ average_pooling2d_3[<span style=\"color: #00af00; text-decoration-color: #00af00\">0</span>… │\n",
              "├───────────────────────────┼────────────────────────┼────────────────┼────────────────────────┤\n",
              "│ batch_normalization_20    │ (<span style=\"color: #00d7ff; text-decoration-color: #00d7ff\">None</span>, <span style=\"color: #00af00; text-decoration-color: #00af00\">14</span>, <span style=\"color: #00af00; text-decoration-color: #00af00\">14</span>, <span style=\"color: #00af00; text-decoration-color: #00af00\">128</span>)    │            <span style=\"color: #00af00; text-decoration-color: #00af00\">512</span> │ conv2d_21[<span style=\"color: #00af00; text-decoration-color: #00af00\">0</span>][<span style=\"color: #00af00; text-decoration-color: #00af00\">0</span>]        │\n",
              "│ (<span style=\"color: #0087ff; text-decoration-color: #0087ff\">BatchNormalization</span>)      │                        │                │                        │\n",
              "├───────────────────────────┼────────────────────────┼────────────────┼────────────────────────┤\n",
              "│ batch_normalization_17    │ (<span style=\"color: #00d7ff; text-decoration-color: #00d7ff\">None</span>, <span style=\"color: #00af00; text-decoration-color: #00af00\">14</span>, <span style=\"color: #00af00; text-decoration-color: #00af00\">14</span>, <span style=\"color: #00af00; text-decoration-color: #00af00\">128</span>)    │            <span style=\"color: #00af00; text-decoration-color: #00af00\">512</span> │ conv2d_18[<span style=\"color: #00af00; text-decoration-color: #00af00\">0</span>][<span style=\"color: #00af00; text-decoration-color: #00af00\">0</span>]        │\n",
              "│ (<span style=\"color: #0087ff; text-decoration-color: #0087ff\">BatchNormalization</span>)      │                        │                │                        │\n",
              "├───────────────────────────┼────────────────────────┼────────────────┼────────────────────────┤\n",
              "│ conv2d_22 (<span style=\"color: #0087ff; text-decoration-color: #0087ff\">Conv2D</span>)        │ (<span style=\"color: #00d7ff; text-decoration-color: #00d7ff\">None</span>, <span style=\"color: #00af00; text-decoration-color: #00af00\">14</span>, <span style=\"color: #00af00; text-decoration-color: #00af00\">14</span>, <span style=\"color: #00af00; text-decoration-color: #00af00\">128</span>)    │        <span style=\"color: #00af00; text-decoration-color: #00af00\">147,584</span> │ batch_normalization_2… │\n",
              "├───────────────────────────┼────────────────────────┼────────────────┼────────────────────────┤\n",
              "│ conv2d_19 (<span style=\"color: #0087ff; text-decoration-color: #0087ff\">Conv2D</span>)        │ (<span style=\"color: #00d7ff; text-decoration-color: #00d7ff\">None</span>, <span style=\"color: #00af00; text-decoration-color: #00af00\">14</span>, <span style=\"color: #00af00; text-decoration-color: #00af00\">14</span>, <span style=\"color: #00af00; text-decoration-color: #00af00\">128</span>)    │        <span style=\"color: #00af00; text-decoration-color: #00af00\">147,584</span> │ batch_normalization_1… │\n",
              "├───────────────────────────┼────────────────────────┼────────────────┼────────────────────────┤\n",
              "│ batch_normalization_21    │ (<span style=\"color: #00d7ff; text-decoration-color: #00d7ff\">None</span>, <span style=\"color: #00af00; text-decoration-color: #00af00\">14</span>, <span style=\"color: #00af00; text-decoration-color: #00af00\">14</span>, <span style=\"color: #00af00; text-decoration-color: #00af00\">128</span>)    │            <span style=\"color: #00af00; text-decoration-color: #00af00\">512</span> │ conv2d_22[<span style=\"color: #00af00; text-decoration-color: #00af00\">0</span>][<span style=\"color: #00af00; text-decoration-color: #00af00\">0</span>]        │\n",
              "│ (<span style=\"color: #0087ff; text-decoration-color: #0087ff\">BatchNormalization</span>)      │                        │                │                        │\n",
              "├───────────────────────────┼────────────────────────┼────────────────┼────────────────────────┤\n",
              "│ batch_normalization_18    │ (<span style=\"color: #00d7ff; text-decoration-color: #00d7ff\">None</span>, <span style=\"color: #00af00; text-decoration-color: #00af00\">14</span>, <span style=\"color: #00af00; text-decoration-color: #00af00\">14</span>, <span style=\"color: #00af00; text-decoration-color: #00af00\">128</span>)    │            <span style=\"color: #00af00; text-decoration-color: #00af00\">512</span> │ conv2d_19[<span style=\"color: #00af00; text-decoration-color: #00af00\">0</span>][<span style=\"color: #00af00; text-decoration-color: #00af00\">0</span>]        │\n",
              "│ (<span style=\"color: #0087ff; text-decoration-color: #0087ff\">BatchNormalization</span>)      │                        │                │                        │\n",
              "├───────────────────────────┼────────────────────────┼────────────────┼────────────────────────┤\n",
              "│ conv2d_23 (<span style=\"color: #0087ff; text-decoration-color: #0087ff\">Conv2D</span>)        │ (<span style=\"color: #00d7ff; text-decoration-color: #00d7ff\">None</span>, <span style=\"color: #00af00; text-decoration-color: #00af00\">14</span>, <span style=\"color: #00af00; text-decoration-color: #00af00\">14</span>, <span style=\"color: #00af00; text-decoration-color: #00af00\">128</span>)    │        <span style=\"color: #00af00; text-decoration-color: #00af00\">147,584</span> │ batch_normalization_2… │\n",
              "├───────────────────────────┼────────────────────────┼────────────────┼────────────────────────┤\n",
              "│ conv2d_20 (<span style=\"color: #0087ff; text-decoration-color: #0087ff\">Conv2D</span>)        │ (<span style=\"color: #00d7ff; text-decoration-color: #00d7ff\">None</span>, <span style=\"color: #00af00; text-decoration-color: #00af00\">14</span>, <span style=\"color: #00af00; text-decoration-color: #00af00\">14</span>, <span style=\"color: #00af00; text-decoration-color: #00af00\">128</span>)    │        <span style=\"color: #00af00; text-decoration-color: #00af00\">147,584</span> │ batch_normalization_1… │\n",
              "├───────────────────────────┼────────────────────────┼────────────────┼────────────────────────┤\n",
              "│ batch_normalization_22    │ (<span style=\"color: #00d7ff; text-decoration-color: #00d7ff\">None</span>, <span style=\"color: #00af00; text-decoration-color: #00af00\">14</span>, <span style=\"color: #00af00; text-decoration-color: #00af00\">14</span>, <span style=\"color: #00af00; text-decoration-color: #00af00\">128</span>)    │            <span style=\"color: #00af00; text-decoration-color: #00af00\">512</span> │ conv2d_23[<span style=\"color: #00af00; text-decoration-color: #00af00\">0</span>][<span style=\"color: #00af00; text-decoration-color: #00af00\">0</span>]        │\n",
              "│ (<span style=\"color: #0087ff; text-decoration-color: #0087ff\">BatchNormalization</span>)      │                        │                │                        │\n",
              "├───────────────────────────┼────────────────────────┼────────────────┼────────────────────────┤\n",
              "│ batch_normalization_19    │ (<span style=\"color: #00d7ff; text-decoration-color: #00d7ff\">None</span>, <span style=\"color: #00af00; text-decoration-color: #00af00\">14</span>, <span style=\"color: #00af00; text-decoration-color: #00af00\">14</span>, <span style=\"color: #00af00; text-decoration-color: #00af00\">128</span>)    │            <span style=\"color: #00af00; text-decoration-color: #00af00\">512</span> │ conv2d_20[<span style=\"color: #00af00; text-decoration-color: #00af00\">0</span>][<span style=\"color: #00af00; text-decoration-color: #00af00\">0</span>]        │\n",
              "│ (<span style=\"color: #0087ff; text-decoration-color: #0087ff\">BatchNormalization</span>)      │                        │                │                        │\n",
              "├───────────────────────────┼────────────────────────┼────────────────┼────────────────────────┤\n",
              "│ max_pooling2d_4           │ (<span style=\"color: #00d7ff; text-decoration-color: #00d7ff\">None</span>, <span style=\"color: #00af00; text-decoration-color: #00af00\">7</span>, <span style=\"color: #00af00; text-decoration-color: #00af00\">7</span>, <span style=\"color: #00af00; text-decoration-color: #00af00\">128</span>)      │              <span style=\"color: #00af00; text-decoration-color: #00af00\">0</span> │ batch_normalization_2… │\n",
              "│ (<span style=\"color: #0087ff; text-decoration-color: #0087ff\">MaxPooling2D</span>)            │                        │                │                        │\n",
              "├───────────────────────────┼────────────────────────┼────────────────┼────────────────────────┤\n",
              "│ average_pooling2d_4       │ (<span style=\"color: #00d7ff; text-decoration-color: #00d7ff\">None</span>, <span style=\"color: #00af00; text-decoration-color: #00af00\">7</span>, <span style=\"color: #00af00; text-decoration-color: #00af00\">7</span>, <span style=\"color: #00af00; text-decoration-color: #00af00\">128</span>)      │              <span style=\"color: #00af00; text-decoration-color: #00af00\">0</span> │ batch_normalization_1… │\n",
              "│ (<span style=\"color: #0087ff; text-decoration-color: #0087ff\">AveragePooling2D</span>)        │                        │                │                        │\n",
              "├───────────────────────────┼────────────────────────┼────────────────┼────────────────────────┤\n",
              "│ flatten (<span style=\"color: #0087ff; text-decoration-color: #0087ff\">Flatten</span>)         │ (<span style=\"color: #00d7ff; text-decoration-color: #00d7ff\">None</span>, <span style=\"color: #00af00; text-decoration-color: #00af00\">6272</span>)           │              <span style=\"color: #00af00; text-decoration-color: #00af00\">0</span> │ max_pooling2d_4[<span style=\"color: #00af00; text-decoration-color: #00af00\">0</span>][<span style=\"color: #00af00; text-decoration-color: #00af00\">0</span>]  │\n",
              "├───────────────────────────┼────────────────────────┼────────────────┼────────────────────────┤\n",
              "│ flatten_1 (<span style=\"color: #0087ff; text-decoration-color: #0087ff\">Flatten</span>)       │ (<span style=\"color: #00d7ff; text-decoration-color: #00d7ff\">None</span>, <span style=\"color: #00af00; text-decoration-color: #00af00\">6272</span>)           │              <span style=\"color: #00af00; text-decoration-color: #00af00\">0</span> │ average_pooling2d_4[<span style=\"color: #00af00; text-decoration-color: #00af00\">0</span>… │\n",
              "├───────────────────────────┼────────────────────────┼────────────────┼────────────────────────┤\n",
              "│ dense (<span style=\"color: #0087ff; text-decoration-color: #0087ff\">Dense</span>)             │ (<span style=\"color: #00d7ff; text-decoration-color: #00d7ff\">None</span>, <span style=\"color: #00af00; text-decoration-color: #00af00\">2000</span>)           │     <span style=\"color: #00af00; text-decoration-color: #00af00\">12,546,000</span> │ flatten[<span style=\"color: #00af00; text-decoration-color: #00af00\">0</span>][<span style=\"color: #00af00; text-decoration-color: #00af00\">0</span>]          │\n",
              "├───────────────────────────┼────────────────────────┼────────────────┼────────────────────────┤\n",
              "│ dense_3 (<span style=\"color: #0087ff; text-decoration-color: #0087ff\">Dense</span>)           │ (<span style=\"color: #00d7ff; text-decoration-color: #00d7ff\">None</span>, <span style=\"color: #00af00; text-decoration-color: #00af00\">2000</span>)           │     <span style=\"color: #00af00; text-decoration-color: #00af00\">12,546,000</span> │ flatten_1[<span style=\"color: #00af00; text-decoration-color: #00af00\">0</span>][<span style=\"color: #00af00; text-decoration-color: #00af00\">0</span>]        │\n",
              "├───────────────────────────┼────────────────────────┼────────────────┼────────────────────────┤\n",
              "│ dropout (<span style=\"color: #0087ff; text-decoration-color: #0087ff\">Dropout</span>)         │ (<span style=\"color: #00d7ff; text-decoration-color: #00d7ff\">None</span>, <span style=\"color: #00af00; text-decoration-color: #00af00\">2000</span>)           │              <span style=\"color: #00af00; text-decoration-color: #00af00\">0</span> │ dense[<span style=\"color: #00af00; text-decoration-color: #00af00\">0</span>][<span style=\"color: #00af00; text-decoration-color: #00af00\">0</span>]            │\n",
              "├───────────────────────────┼────────────────────────┼────────────────┼────────────────────────┤\n",
              "│ dropout_1 (<span style=\"color: #0087ff; text-decoration-color: #0087ff\">Dropout</span>)       │ (<span style=\"color: #00d7ff; text-decoration-color: #00d7ff\">None</span>, <span style=\"color: #00af00; text-decoration-color: #00af00\">2000</span>)           │              <span style=\"color: #00af00; text-decoration-color: #00af00\">0</span> │ dense_3[<span style=\"color: #00af00; text-decoration-color: #00af00\">0</span>][<span style=\"color: #00af00; text-decoration-color: #00af00\">0</span>]          │\n",
              "├───────────────────────────┼────────────────────────┼────────────────┼────────────────────────┤\n",
              "│ dense_1 (<span style=\"color: #0087ff; text-decoration-color: #0087ff\">Dense</span>)           │ (<span style=\"color: #00d7ff; text-decoration-color: #00d7ff\">None</span>, <span style=\"color: #00af00; text-decoration-color: #00af00\">200</span>)            │        <span style=\"color: #00af00; text-decoration-color: #00af00\">400,200</span> │ dropout[<span style=\"color: #00af00; text-decoration-color: #00af00\">0</span>][<span style=\"color: #00af00; text-decoration-color: #00af00\">0</span>]          │\n",
              "├───────────────────────────┼────────────────────────┼────────────────┼────────────────────────┤\n",
              "│ dense_4 (<span style=\"color: #0087ff; text-decoration-color: #0087ff\">Dense</span>)           │ (<span style=\"color: #00d7ff; text-decoration-color: #00d7ff\">None</span>, <span style=\"color: #00af00; text-decoration-color: #00af00\">200</span>)            │        <span style=\"color: #00af00; text-decoration-color: #00af00\">400,200</span> │ dropout_1[<span style=\"color: #00af00; text-decoration-color: #00af00\">0</span>][<span style=\"color: #00af00; text-decoration-color: #00af00\">0</span>]        │\n",
              "├───────────────────────────┼────────────────────────┼────────────────┼────────────────────────┤\n",
              "│ dense_2 (<span style=\"color: #0087ff; text-decoration-color: #0087ff\">Dense</span>)           │ (<span style=\"color: #00d7ff; text-decoration-color: #00d7ff\">None</span>, <span style=\"color: #00af00; text-decoration-color: #00af00\">20</span>)             │          <span style=\"color: #00af00; text-decoration-color: #00af00\">4,020</span> │ dense_1[<span style=\"color: #00af00; text-decoration-color: #00af00\">0</span>][<span style=\"color: #00af00; text-decoration-color: #00af00\">0</span>]          │\n",
              "├───────────────────────────┼────────────────────────┼────────────────┼────────────────────────┤\n",
              "│ dense_5 (<span style=\"color: #0087ff; text-decoration-color: #0087ff\">Dense</span>)           │ (<span style=\"color: #00d7ff; text-decoration-color: #00d7ff\">None</span>, <span style=\"color: #00af00; text-decoration-color: #00af00\">20</span>)             │          <span style=\"color: #00af00; text-decoration-color: #00af00\">4,020</span> │ dense_4[<span style=\"color: #00af00; text-decoration-color: #00af00\">0</span>][<span style=\"color: #00af00; text-decoration-color: #00af00\">0</span>]          │\n",
              "├───────────────────────────┼────────────────────────┼────────────────┼────────────────────────┤\n",
              "│ concatenate (<span style=\"color: #0087ff; text-decoration-color: #0087ff\">Concatenate</span>) │ (<span style=\"color: #00d7ff; text-decoration-color: #00d7ff\">None</span>, <span style=\"color: #00af00; text-decoration-color: #00af00\">40</span>)             │              <span style=\"color: #00af00; text-decoration-color: #00af00\">0</span> │ dense_2[<span style=\"color: #00af00; text-decoration-color: #00af00\">0</span>][<span style=\"color: #00af00; text-decoration-color: #00af00\">0</span>],         │\n",
              "│                           │                        │                │ dense_5[<span style=\"color: #00af00; text-decoration-color: #00af00\">0</span>][<span style=\"color: #00af00; text-decoration-color: #00af00\">0</span>]          │\n",
              "├───────────────────────────┼────────────────────────┼────────────────┼────────────────────────┤\n",
              "│ dense_6 (<span style=\"color: #0087ff; text-decoration-color: #0087ff\">Dense</span>)           │ (<span style=\"color: #00d7ff; text-decoration-color: #00d7ff\">None</span>, <span style=\"color: #00af00; text-decoration-color: #00af00\">1</span>)              │             <span style=\"color: #00af00; text-decoration-color: #00af00\">41</span> │ concatenate[<span style=\"color: #00af00; text-decoration-color: #00af00\">0</span>][<span style=\"color: #00af00; text-decoration-color: #00af00\">0</span>]      │\n",
              "└───────────────────────────┴────────────────────────┴────────────────┴────────────────────────┘\n",
              "</pre>\n"
            ]
          },
          "metadata": {}
        },
        {
          "output_type": "display_data",
          "data": {
            "text/plain": [
              "\u001b[1m Total params: \u001b[0m\u001b[38;5;34m27,875,425\u001b[0m (106.34 MB)\n"
            ],
            "text/html": [
              "<pre style=\"white-space:pre;overflow-x:auto;line-height:normal;font-family:Menlo,'DejaVu Sans Mono',consolas,'Courier New',monospace\"><span style=\"font-weight: bold\"> Total params: </span><span style=\"color: #00af00; text-decoration-color: #00af00\">27,875,425</span> (106.34 MB)\n",
              "</pre>\n"
            ]
          },
          "metadata": {}
        },
        {
          "output_type": "display_data",
          "data": {
            "text/plain": [
              "\u001b[1m Trainable params: \u001b[0m\u001b[38;5;34m27,871,009\u001b[0m (106.32 MB)\n"
            ],
            "text/html": [
              "<pre style=\"white-space:pre;overflow-x:auto;line-height:normal;font-family:Menlo,'DejaVu Sans Mono',consolas,'Courier New',monospace\"><span style=\"font-weight: bold\"> Trainable params: </span><span style=\"color: #00af00; text-decoration-color: #00af00\">27,871,009</span> (106.32 MB)\n",
              "</pre>\n"
            ]
          },
          "metadata": {}
        },
        {
          "output_type": "display_data",
          "data": {
            "text/plain": [
              "\u001b[1m Non-trainable params: \u001b[0m\u001b[38;5;34m4,416\u001b[0m (17.25 KB)\n"
            ],
            "text/html": [
              "<pre style=\"white-space:pre;overflow-x:auto;line-height:normal;font-family:Menlo,'DejaVu Sans Mono',consolas,'Courier New',monospace\"><span style=\"font-weight: bold\"> Non-trainable params: </span><span style=\"color: #00af00; text-decoration-color: #00af00\">4,416</span> (17.25 KB)\n",
              "</pre>\n"
            ]
          },
          "metadata": {}
        }
      ],
      "source": [
        "\n",
        "paths=data_path\n",
        "XSize=224\n",
        "YSize=224\n",
        "\n",
        "\n",
        "\n",
        "\n",
        "from keras.models import load_model\n",
        "\n",
        "# load model if you have one\n",
        "#model=load_model(modelfname)\n",
        "\n",
        "def lr_scheduler(epoch, lr):\n",
        "  # not used currently\n",
        "  # defined for later usage\n",
        "  return 0.01\n",
        "\n",
        "LR_callback = tf.keras.callbacks.LearningRateScheduler(lr_scheduler)\n",
        "\n",
        "\n",
        "#cce = tf.keras.losses.SparseCategoricalCrossentropy()\n",
        "\n",
        "bce=tf.keras.losses.BinaryCrossentropy()\n",
        "acc = tf.keras.metrics.SparseCategoricalAccuracy()\n",
        "\n",
        "\n",
        "zindi_plastic_model.summary()"
      ]
    },
    {
      "cell_type": "code",
      "execution_count": 77,
      "metadata": {
        "id": "bPuArbzZNeMK"
      },
      "outputs": [],
      "source": [
        "#!rm *.keras"
      ]
    },
    {
      "cell_type": "code",
      "execution_count": 77,
      "metadata": {
        "id": "VRuyB9_6YUam"
      },
      "outputs": [],
      "source": [
        "\n"
      ]
    },
    {
      "cell_type": "code",
      "execution_count": 78,
      "metadata": {
        "id": "2C_mQtVb0spM"
      },
      "outputs": [],
      "source": [
        "model_name=\"Model_-0.1410-0.0537.keras\"\n",
        "#282/282 ━━━━━━━━━━━━━━━━━━━━ 319s 1s/step - binary_accuracy: 0.9695 - loss: 0.0893 - val_binary_accuracy: 0.9645 - val_loss: 0.1057"
      ]
    },
    {
      "cell_type": "code",
      "execution_count": 79,
      "metadata": {
        "id": "B4m8ulLsNOUs"
      },
      "outputs": [],
      "source": [
        "model_mounted_path=\"./\""
      ]
    },
    {
      "cell_type": "code",
      "execution_count": 80,
      "metadata": {
        "id": "iloyJS_m0bh2"
      },
      "outputs": [],
      "source": [
        "#start from here if you have a trained model\n",
        "_LOAD_MODEL_=False\n",
        "\n",
        "if _LOAD_MODEL_:\n",
        "    from tensorflow.keras.models import load_model\n",
        "\n",
        "\n",
        "    zindi_plastic_model = load_model(model_mounted_path+model_name) # Load the best model"
      ]
    },
    {
      "cell_type": "code",
      "execution_count": 80,
      "metadata": {
        "id": "ULdyR71nYSp7"
      },
      "outputs": [],
      "source": []
    },
    {
      "cell_type": "code",
      "execution_count": 81,
      "metadata": {
        "colab": {
          "base_uri": "https://localhost:8080/",
          "height": 1000
        },
        "id": "eeWpSBXD2prP",
        "outputId": "8a037a3a-5e32-4711-828b-c3558c600e92"
      },
      "outputs": [
        {
          "metadata": {
            "tags": null
          },
          "name": "stdout",
          "output_type": "stream",
          "text": [
            "-----------------------------------\n",
            "num:   0, Learning Rate:   0.0001 epocs:    15\n",
            "-----------------------------------\n",
            "Epoch 1/15\n"
          ]
        },
        {
          "metadata": {
            "tags": null
          },
          "name": "stderr",
          "output_type": "stream",
          "text": [
            "/usr/local/lib/python3.10/dist-packages/keras/src/trainers/data_adapters/py_dataset_adapter.py:121: UserWarning: Your `PyDataset` class should call `super().__init__(**kwargs)` in its constructor. `**kwargs` can include `workers`, `use_multiprocessing`, `max_queue_size`. Do not pass these arguments to `fit()`, as they will be ignored.\n",
            "  self._warn_if_super_not_called()\n"
          ]
        },
        {
          "output_type": "stream",
          "name": "stdout",
          "text": [
            "\u001b[1m80/80\u001b[0m \u001b[32m━━━━━━━━━━━━━━━━━━━━\u001b[0m\u001b[37m\u001b[0m \u001b[1m423s\u001b[0m 5s/step - binary_accuracy: 0.7278 - loss: 0.5612 - val_binary_accuracy: 0.5248 - val_loss: 0.9352\n",
            "Epoch 2/15\n",
            "\u001b[1m80/80\u001b[0m \u001b[32m━━━━━━━━━━━━━━━━━━━━\u001b[0m\u001b[37m\u001b[0m \u001b[1m412s\u001b[0m 5s/step - binary_accuracy: 0.8686 - loss: 0.3249 - val_binary_accuracy: 0.5248 - val_loss: 1.1836\n",
            "Epoch 3/15\n",
            "\u001b[1m80/80\u001b[0m \u001b[32m━━━━━━━━━━━━━━━━━━━━\u001b[0m\u001b[37m\u001b[0m \u001b[1m403s\u001b[0m 5s/step - binary_accuracy: 0.9026 - loss: 0.2626 - val_binary_accuracy: 0.5248 - val_loss: 1.3029\n",
            "Epoch 4/15\n",
            "\u001b[1m80/80\u001b[0m \u001b[32m━━━━━━━━━━━━━━━━━━━━\u001b[0m\u001b[37m\u001b[0m \u001b[1m398s\u001b[0m 5s/step - binary_accuracy: 0.9293 - loss: 0.2234 - val_binary_accuracy: 0.5248 - val_loss: 1.3777\n",
            "Epoch 5/15\n",
            "\u001b[1m80/80\u001b[0m \u001b[32m━━━━━━━━━━━━━━━━━━━━\u001b[0m\u001b[37m\u001b[0m \u001b[1m393s\u001b[0m 5s/step - binary_accuracy: 0.9165 - loss: 0.2243 - val_binary_accuracy: 0.5248 - val_loss: 1.4226\n",
            "Epoch 6/15\n",
            "\u001b[1m80/80\u001b[0m \u001b[32m━━━━━━━━━━━━━━━━━━━━\u001b[0m\u001b[37m\u001b[0m \u001b[1m392s\u001b[0m 5s/step - binary_accuracy: 0.9199 - loss: 0.2161 - val_binary_accuracy: 0.5213 - val_loss: 1.4656\n",
            "Epoch 7/15\n",
            "\u001b[1m80/80\u001b[0m \u001b[32m━━━━━━━━━━━━━━━━━━━━\u001b[0m\u001b[37m\u001b[0m \u001b[1m393s\u001b[0m 5s/step - binary_accuracy: 0.9213 - loss: 0.1928 - val_binary_accuracy: 0.5355 - val_loss: 1.4856\n",
            "Epoch 8/15\n",
            "\u001b[1m80/80\u001b[0m \u001b[32m━━━━━━━━━━━━━━━━━━━━\u001b[0m\u001b[37m\u001b[0m \u001b[1m443s\u001b[0m 6s/step - binary_accuracy: 0.9305 - loss: 0.1951 - val_binary_accuracy: 0.5780 - val_loss: 1.2496\n",
            "Epoch 9/15\n",
            "\u001b[1m80/80\u001b[0m \u001b[32m━━━━━━━━━━━━━━━━━━━━\u001b[0m\u001b[37m\u001b[0m \u001b[1m436s\u001b[0m 5s/step - binary_accuracy: 0.9383 - loss: 0.1721 - val_binary_accuracy: 0.6844 - val_loss: 0.8242\n",
            "Epoch 10/15\n",
            "\u001b[1m80/80\u001b[0m \u001b[32m━━━━━━━━━━━━━━━━━━━━\u001b[0m\u001b[37m\u001b[0m \u001b[1m350s\u001b[0m 4s/step - binary_accuracy: 0.9412 - loss: 0.1799 - val_binary_accuracy: 0.8617 - val_loss: 0.3603\n",
            "Epoch 11/15\n",
            "\u001b[1m80/80\u001b[0m \u001b[32m━━━━━━━━━━━━━━━━━━━━\u001b[0m\u001b[37m\u001b[0m \u001b[1m385s\u001b[0m 5s/step - binary_accuracy: 0.9402 - loss: 0.1667 - val_binary_accuracy: 0.7979 - val_loss: 0.4911\n",
            "Epoch 12/15\n",
            "\u001b[1m80/80\u001b[0m \u001b[32m━━━━━━━━━━━━━━━━━━━━\u001b[0m\u001b[37m\u001b[0m \u001b[1m365s\u001b[0m 5s/step - binary_accuracy: 0.9459 - loss: 0.1522 - val_binary_accuracy: 0.7979 - val_loss: 0.4577\n",
            "Epoch 13/15\n",
            "\u001b[1m80/80\u001b[0m \u001b[32m━━━━━━━━━━━━━━━━━━━━\u001b[0m\u001b[37m\u001b[0m \u001b[1m398s\u001b[0m 5s/step - binary_accuracy: 0.9549 - loss: 0.1441 - val_binary_accuracy: 0.8511 - val_loss: 0.3664\n",
            "Epoch 14/15\n",
            "\u001b[1m80/80\u001b[0m \u001b[32m━━━━━━━━━━━━━━━━━━━━\u001b[0m\u001b[37m\u001b[0m \u001b[1m360s\u001b[0m 5s/step - binary_accuracy: 0.9480 - loss: 0.1418 - val_binary_accuracy: 0.8901 - val_loss: 0.3054\n",
            "Epoch 15/15\n",
            "\u001b[1m80/80\u001b[0m \u001b[32m━━━━━━━━━━━━━━━━━━━━\u001b[0m\u001b[37m\u001b[0m \u001b[1m400s\u001b[0m 5s/step - binary_accuracy: 0.9538 - loss: 0.1358 - val_binary_accuracy: 0.7163 - val_loss: 0.6601\n",
            "-----------------------------------\n",
            "num:   1, Learning Rate:    5e-05 epocs:    12\n",
            "-----------------------------------\n",
            "Epoch 1/12\n",
            "\u001b[1m80/80\u001b[0m \u001b[32m━━━━━━━━━━━━━━━━━━━━\u001b[0m\u001b[37m\u001b[0m \u001b[1m413s\u001b[0m 5s/step - binary_accuracy: 0.9679 - loss: 0.1083 - val_binary_accuracy: 0.8723 - val_loss: 0.2811\n",
            "Epoch 2/12\n",
            "\u001b[1m80/80\u001b[0m \u001b[32m━━━━━━━━━━━━━━━━━━━━\u001b[0m\u001b[37m\u001b[0m \u001b[1m361s\u001b[0m 5s/step - binary_accuracy: 0.9735 - loss: 0.0978 - val_binary_accuracy: 0.8404 - val_loss: 0.3762\n",
            "Epoch 3/12\n",
            "\u001b[1m80/80\u001b[0m \u001b[32m━━━━━━━━━━━━━━━━━━━━\u001b[0m\u001b[37m\u001b[0m \u001b[1m392s\u001b[0m 5s/step - binary_accuracy: 0.9708 - loss: 0.0839 - val_binary_accuracy: 0.8794 - val_loss: 0.2639\n",
            "Epoch 4/12\n",
            "\u001b[1m80/80\u001b[0m \u001b[32m━━━━━━━━━━━━━━━━━━━━\u001b[0m\u001b[37m\u001b[0m \u001b[1m344s\u001b[0m 4s/step - binary_accuracy: 0.9692 - loss: 0.0901 - val_binary_accuracy: 0.8475 - val_loss: 0.3651\n",
            "Epoch 5/12\n",
            "\u001b[1m80/80\u001b[0m \u001b[32m━━━━━━━━━━━━━━━━━━━━\u001b[0m\u001b[37m\u001b[0m \u001b[1m377s\u001b[0m 5s/step - binary_accuracy: 0.9780 - loss: 0.0780 - val_binary_accuracy: 0.8546 - val_loss: 0.3751\n",
            "Epoch 6/12\n",
            "\u001b[1m80/80\u001b[0m \u001b[32m━━━━━━━━━━━━━━━━━━━━\u001b[0m\u001b[37m\u001b[0m \u001b[1m338s\u001b[0m 4s/step - binary_accuracy: 0.9733 - loss: 0.0809 - val_binary_accuracy: 0.8830 - val_loss: 0.3057\n",
            "Epoch 7/12\n",
            "\u001b[1m80/80\u001b[0m \u001b[32m━━━━━━━━━━━━━━━━━━━━\u001b[0m\u001b[37m\u001b[0m \u001b[1m369s\u001b[0m 5s/step - binary_accuracy: 0.9797 - loss: 0.0714 - val_binary_accuracy: 0.8830 - val_loss: 0.2889\n",
            "Epoch 8/12\n",
            "\u001b[1m80/80\u001b[0m \u001b[32m━━━━━━━━━━━━━━━━━━━━\u001b[0m\u001b[37m\u001b[0m \u001b[1m338s\u001b[0m 4s/step - binary_accuracy: 0.9777 - loss: 0.0713 - val_binary_accuracy: 0.8262 - val_loss: 0.5138\n",
            "Epoch 9/12\n",
            "\u001b[1m80/80\u001b[0m \u001b[32m━━━━━━━━━━━━━━━━━━━━\u001b[0m\u001b[37m\u001b[0m \u001b[1m372s\u001b[0m 5s/step - binary_accuracy: 0.9819 - loss: 0.0694 - val_binary_accuracy: 0.8014 - val_loss: 0.4693\n",
            "Epoch 10/12\n",
            "\u001b[1m80/80\u001b[0m \u001b[32m━━━━━━━━━━━━━━━━━━━━\u001b[0m\u001b[37m\u001b[0m \u001b[1m337s\u001b[0m 4s/step - binary_accuracy: 0.9767 - loss: 0.0706 - val_binary_accuracy: 0.8830 - val_loss: 0.3103\n",
            "Epoch 11/12\n",
            "\u001b[1m80/80\u001b[0m \u001b[32m━━━━━━━━━━━━━━━━━━━━\u001b[0m\u001b[37m\u001b[0m \u001b[1m412s\u001b[0m 5s/step - binary_accuracy: 0.9825 - loss: 0.0620 - val_binary_accuracy: 0.8688 - val_loss: 0.3165\n",
            "Epoch 12/12\n",
            "\u001b[1m80/80\u001b[0m \u001b[32m━━━━━━━━━━━━━━━━━━━━\u001b[0m\u001b[37m\u001b[0m \u001b[1m406s\u001b[0m 5s/step - binary_accuracy: 0.9796 - loss: 0.0635 - val_binary_accuracy: 0.8121 - val_loss: 0.4195\n",
            "-----------------------------------\n",
            "num:   2, Learning Rate:    1e-05 epocs:    50\n",
            "-----------------------------------\n",
            "Epoch 1/50\n",
            "\u001b[1m80/80\u001b[0m \u001b[32m━━━━━━━━━━━━━━━━━━━━\u001b[0m\u001b[37m\u001b[0m \u001b[1m455s\u001b[0m 6s/step - binary_accuracy: 0.9818 - loss: 0.0628 - val_binary_accuracy: 0.8582 - val_loss: 0.3344\n",
            "Epoch 2/50\n",
            "\u001b[1m80/80\u001b[0m \u001b[32m━━━━━━━━━━━━━━━━━━━━\u001b[0m\u001b[37m\u001b[0m \u001b[1m442s\u001b[0m 6s/step - binary_accuracy: 0.9860 - loss: 0.0561 - val_binary_accuracy: 0.8723 - val_loss: 0.3358\n",
            "Epoch 3/50\n",
            "\u001b[1m80/80\u001b[0m \u001b[32m━━━━━━━━━━━━━━━━━━━━\u001b[0m\u001b[37m\u001b[0m \u001b[1m395s\u001b[0m 5s/step - binary_accuracy: 0.9845 - loss: 0.0509 - val_binary_accuracy: 0.8652 - val_loss: 0.3194\n",
            "Epoch 4/50\n",
            "\u001b[1m80/80\u001b[0m \u001b[32m━━━━━━━━━━━━━━━━━━━━\u001b[0m\u001b[37m\u001b[0m \u001b[1m450s\u001b[0m 6s/step - binary_accuracy: 0.9906 - loss: 0.0454 - val_binary_accuracy: 0.8901 - val_loss: 0.2819\n",
            "Epoch 5/50\n",
            "\u001b[1m80/80\u001b[0m \u001b[32m━━━━━━━━━━━━━━━━━━━━\u001b[0m\u001b[37m\u001b[0m \u001b[1m406s\u001b[0m 5s/step - binary_accuracy: 0.9894 - loss: 0.0393 - val_binary_accuracy: 0.8688 - val_loss: 0.3186\n",
            "Epoch 6/50\n",
            "\u001b[1m80/80\u001b[0m \u001b[32m━━━━━━━━━━━━━━━━━━━━\u001b[0m\u001b[37m\u001b[0m \u001b[1m435s\u001b[0m 5s/step - binary_accuracy: 0.9867 - loss: 0.0412 - val_binary_accuracy: 0.8723 - val_loss: 0.2942\n",
            "Epoch 7/50\n",
            "\u001b[1m80/80\u001b[0m \u001b[32m━━━━━━━━━━━━━━━━━━━━\u001b[0m\u001b[37m\u001b[0m \u001b[1m432s\u001b[0m 5s/step - binary_accuracy: 0.9921 - loss: 0.0331 - val_binary_accuracy: 0.8475 - val_loss: 0.3606\n",
            "Epoch 8/50\n",
            "\u001b[1m80/80\u001b[0m \u001b[32m━━━━━━━━━━━━━━━━━━━━\u001b[0m\u001b[37m\u001b[0m \u001b[1m401s\u001b[0m 5s/step - binary_accuracy: 0.9923 - loss: 0.0381 - val_binary_accuracy: 0.8475 - val_loss: 0.3335\n",
            "Epoch 9/50\n",
            "\u001b[1m80/80\u001b[0m \u001b[32m━━━━━━━━━━━━━━━━━━━━\u001b[0m\u001b[37m\u001b[0m \u001b[1m443s\u001b[0m 6s/step - binary_accuracy: 0.9846 - loss: 0.0478 - val_binary_accuracy: 0.8617 - val_loss: 0.3011\n",
            "Epoch 10/50\n",
            "\u001b[1m80/80\u001b[0m \u001b[32m━━━━━━━━━━━━━━━━━━━━\u001b[0m\u001b[37m\u001b[0m \u001b[1m413s\u001b[0m 5s/step - binary_accuracy: 0.9921 - loss: 0.0368 - val_binary_accuracy: 0.8475 - val_loss: 0.3798\n",
            "Epoch 11/50\n",
            "\u001b[1m80/80\u001b[0m \u001b[32m━━━━━━━━━━━━━━━━━━━━\u001b[0m\u001b[37m\u001b[0m \u001b[1m445s\u001b[0m 6s/step - binary_accuracy: 0.9911 - loss: 0.0397 - val_binary_accuracy: 0.8369 - val_loss: 0.3620\n",
            "Epoch 12/50\n",
            "\u001b[1m80/80\u001b[0m \u001b[32m━━━━━━━━━━━━━━━━━━━━\u001b[0m\u001b[37m\u001b[0m \u001b[1m519s\u001b[0m 6s/step - binary_accuracy: 0.9888 - loss: 0.0434 - val_binary_accuracy: 0.8688 - val_loss: 0.3268\n",
            "Epoch 13/50\n",
            "\u001b[1m80/80\u001b[0m \u001b[32m━━━━━━━━━━━━━━━━━━━━\u001b[0m\u001b[37m\u001b[0m \u001b[1m427s\u001b[0m 5s/step - binary_accuracy: 0.9928 - loss: 0.0334 - val_binary_accuracy: 0.8475 - val_loss: 0.3507\n",
            "Epoch 14/50\n",
            "\u001b[1m80/80\u001b[0m \u001b[32m━━━━━━━━━━━━━━━━━━━━\u001b[0m\u001b[37m\u001b[0m \u001b[1m456s\u001b[0m 6s/step - binary_accuracy: 0.9919 - loss: 0.0343 - val_binary_accuracy: 0.8794 - val_loss: 0.2893\n",
            "Epoch 15/50\n",
            "\u001b[1m80/80\u001b[0m \u001b[32m━━━━━━━━━━━━━━━━━━━━\u001b[0m\u001b[37m\u001b[0m \u001b[1m452s\u001b[0m 6s/step - binary_accuracy: 0.9889 - loss: 0.0381 - val_binary_accuracy: 0.8475 - val_loss: 0.3963\n",
            "Epoch 16/50\n",
            "\u001b[1m80/80\u001b[0m \u001b[32m━━━━━━━━━━━━━━━━━━━━\u001b[0m\u001b[37m\u001b[0m \u001b[1m415s\u001b[0m 5s/step - binary_accuracy: 0.9908 - loss: 0.0337 - val_binary_accuracy: 0.8794 - val_loss: 0.3151\n",
            "Epoch 17/50\n",
            "\u001b[1m80/80\u001b[0m \u001b[32m━━━━━━━━━━━━━━━━━━━━\u001b[0m\u001b[37m\u001b[0m \u001b[1m457s\u001b[0m 6s/step - binary_accuracy: 0.9898 - loss: 0.0340 - val_binary_accuracy: 0.8723 - val_loss: 0.3146\n",
            "Epoch 18/50\n",
            "\u001b[1m80/80\u001b[0m \u001b[32m━━━━━━━━━━━━━━━━━━━━\u001b[0m\u001b[37m\u001b[0m \u001b[1m470s\u001b[0m 5s/step - binary_accuracy: 0.9810 - loss: 0.0507 - val_binary_accuracy: 0.8546 - val_loss: 0.3489\n",
            "Epoch 19/50\n",
            "\u001b[1m80/80\u001b[0m \u001b[32m━━━━━━━━━━━━━━━━━━━━\u001b[0m\u001b[37m\u001b[0m \u001b[1m423s\u001b[0m 5s/step - binary_accuracy: 0.9896 - loss: 0.0340 - val_binary_accuracy: 0.8652 - val_loss: 0.3090\n",
            "Epoch 20/50\n",
            "\u001b[1m80/80\u001b[0m \u001b[32m━━━━━━━━━━━━━━━━━━━━\u001b[0m\u001b[37m\u001b[0m \u001b[1m466s\u001b[0m 6s/step - binary_accuracy: 0.9946 - loss: 0.0265 - val_binary_accuracy: 0.8617 - val_loss: 0.3007\n",
            "Epoch 21/50\n",
            "\u001b[1m80/80\u001b[0m \u001b[32m━━━━━━━━━━━━━━━━━━━━\u001b[0m\u001b[37m\u001b[0m \u001b[1m432s\u001b[0m 5s/step - binary_accuracy: 0.9916 - loss: 0.0285 - val_binary_accuracy: 0.8652 - val_loss: 0.3349\n",
            "Epoch 22/50\n",
            "\u001b[1m80/80\u001b[0m \u001b[32m━━━━━━━━━━━━━━━━━━━━\u001b[0m\u001b[37m\u001b[0m \u001b[1m450s\u001b[0m 6s/step - binary_accuracy: 0.9888 - loss: 0.0400 - val_binary_accuracy: 0.8546 - val_loss: 0.3723\n",
            "Epoch 23/50\n",
            "\u001b[1m80/80\u001b[0m \u001b[32m━━━━━━━━━━━━━━━━━━━━\u001b[0m\u001b[37m\u001b[0m \u001b[1m413s\u001b[0m 5s/step - binary_accuracy: 0.9946 - loss: 0.0277 - val_binary_accuracy: 0.8652 - val_loss: 0.3446\n",
            "Epoch 24/50\n",
            "\u001b[1m80/80\u001b[0m \u001b[32m━━━━━━━━━━━━━━━━━━━━\u001b[0m\u001b[37m\u001b[0m \u001b[1m418s\u001b[0m 5s/step - binary_accuracy: 0.9922 - loss: 0.0305 - val_binary_accuracy: 0.8617 - val_loss: 0.3433\n",
            "Epoch 25/50\n",
            "\u001b[1m80/80\u001b[0m \u001b[32m━━━━━━━━━━━━━━━━━━━━\u001b[0m\u001b[37m\u001b[0m \u001b[1m354s\u001b[0m 4s/step - binary_accuracy: 0.9942 - loss: 0.0277 - val_binary_accuracy: 0.8759 - val_loss: 0.3315\n",
            "Epoch 26/50\n",
            "\u001b[1m80/80\u001b[0m \u001b[32m━━━━━━━━━━━━━━━━━━━━\u001b[0m\u001b[37m\u001b[0m \u001b[1m433s\u001b[0m 5s/step - binary_accuracy: 0.9930 - loss: 0.0296 - val_binary_accuracy: 0.8617 - val_loss: 0.3614\n",
            "Epoch 27/50\n",
            "\u001b[1m80/80\u001b[0m \u001b[32m━━━━━━━━━━━━━━━━━━━━\u001b[0m\u001b[37m\u001b[0m \u001b[1m397s\u001b[0m 5s/step - binary_accuracy: 0.9934 - loss: 0.0295 - val_binary_accuracy: 0.8546 - val_loss: 0.3530\n",
            "Epoch 28/50\n",
            "\u001b[1m80/80\u001b[0m \u001b[32m━━━━━━━━━━━━━━━━━━━━\u001b[0m\u001b[37m\u001b[0m \u001b[1m348s\u001b[0m 4s/step - binary_accuracy: 0.9943 - loss: 0.0280 - val_binary_accuracy: 0.8546 - val_loss: 0.3358\n",
            "Epoch 29/50\n",
            "\u001b[1m80/80\u001b[0m \u001b[32m━━━━━━━━━━━━━━━━━━━━\u001b[0m\u001b[37m\u001b[0m \u001b[1m399s\u001b[0m 5s/step - binary_accuracy: 0.9926 - loss: 0.0306 - val_binary_accuracy: 0.8546 - val_loss: 0.3864\n",
            "Epoch 30/50\n",
            "\u001b[1m80/80\u001b[0m \u001b[32m━━━━━━━━━━━━━━━━━━━━\u001b[0m\u001b[37m\u001b[0m \u001b[1m365s\u001b[0m 5s/step - binary_accuracy: 0.9953 - loss: 0.0296 - val_binary_accuracy: 0.8582 - val_loss: 0.3404\n",
            "Epoch 31/50\n",
            "\u001b[1m80/80\u001b[0m \u001b[32m━━━━━━━━━━━━━━━━━━━━\u001b[0m\u001b[37m\u001b[0m \u001b[1m387s\u001b[0m 5s/step - binary_accuracy: 0.9925 - loss: 0.0276 - val_binary_accuracy: 0.8723 - val_loss: 0.3160\n",
            "Epoch 32/50\n",
            "\u001b[1m80/80\u001b[0m \u001b[32m━━━━━━━━━━━━━━━━━━━━\u001b[0m\u001b[37m\u001b[0m \u001b[1m360s\u001b[0m 4s/step - binary_accuracy: 0.9948 - loss: 0.0246 - val_binary_accuracy: 0.8369 - val_loss: 0.3804\n",
            "Epoch 33/50\n",
            "\u001b[1m80/80\u001b[0m \u001b[32m━━━━━━━━━━━━━━━━━━━━\u001b[0m\u001b[37m\u001b[0m \u001b[1m404s\u001b[0m 5s/step - binary_accuracy: 0.9966 - loss: 0.0221 - val_binary_accuracy: 0.8688 - val_loss: 0.3029\n",
            "Epoch 34/50\n",
            "\u001b[1m80/80\u001b[0m \u001b[32m━━━━━━━━━━━━━━━━━━━━\u001b[0m\u001b[37m\u001b[0m \u001b[1m364s\u001b[0m 5s/step - binary_accuracy: 0.9954 - loss: 0.0244 - val_binary_accuracy: 0.8688 - val_loss: 0.3012\n",
            "Epoch 35/50\n",
            "\u001b[1m80/80\u001b[0m \u001b[32m━━━━━━━━━━━━━━━━━━━━\u001b[0m\u001b[37m\u001b[0m \u001b[1m408s\u001b[0m 5s/step - binary_accuracy: 0.9926 - loss: 0.0242 - val_binary_accuracy: 0.8759 - val_loss: 0.3040\n",
            "Epoch 36/50\n",
            "\u001b[1m80/80\u001b[0m \u001b[32m━━━━━━━━━━━━━━━━━━━━\u001b[0m\u001b[37m\u001b[0m \u001b[1m382s\u001b[0m 5s/step - binary_accuracy: 0.9939 - loss: 0.0249 - val_binary_accuracy: 0.8759 - val_loss: 0.3149\n",
            "Epoch 37/50\n",
            "\u001b[1m80/80\u001b[0m \u001b[32m━━━━━━━━━━━━━━━━━━━━\u001b[0m\u001b[37m\u001b[0m \u001b[1m391s\u001b[0m 5s/step - binary_accuracy: 0.9951 - loss: 0.0251 - val_binary_accuracy: 0.8830 - val_loss: 0.2856\n",
            "Epoch 38/50\n",
            "\u001b[1m80/80\u001b[0m \u001b[32m━━━━━━━━━━━━━━━━━━━━\u001b[0m\u001b[37m\u001b[0m \u001b[1m403s\u001b[0m 5s/step - binary_accuracy: 0.9970 - loss: 0.0213 - val_binary_accuracy: 0.8511 - val_loss: 0.3756\n",
            "Epoch 39/50\n",
            "\u001b[1m80/80\u001b[0m \u001b[32m━━━━━━━━━━━━━━━━━━━━\u001b[0m\u001b[37m\u001b[0m \u001b[1m367s\u001b[0m 5s/step - binary_accuracy: 0.9926 - loss: 0.0288 - val_binary_accuracy: 0.8688 - val_loss: 0.3461\n",
            "Epoch 40/50\n",
            "\u001b[1m80/80\u001b[0m \u001b[32m━━━━━━━━━━━━━━━━━━━━\u001b[0m\u001b[37m\u001b[0m \u001b[1m430s\u001b[0m 5s/step - binary_accuracy: 0.9960 - loss: 0.0267 - val_binary_accuracy: 0.8582 - val_loss: 0.3732\n",
            "Epoch 41/50\n",
            "\u001b[1m80/80\u001b[0m \u001b[32m━━━━━━━━━━━━━━━━━━━━\u001b[0m\u001b[37m\u001b[0m \u001b[1m379s\u001b[0m 5s/step - binary_accuracy: 0.9958 - loss: 0.0243 - val_binary_accuracy: 0.8546 - val_loss: 0.3398\n",
            "Epoch 42/50\n",
            "\u001b[1m80/80\u001b[0m \u001b[32m━━━━━━━━━━━━━━━━━━━━\u001b[0m\u001b[37m\u001b[0m \u001b[1m368s\u001b[0m 5s/step - binary_accuracy: 0.9965 - loss: 0.0187 - val_binary_accuracy: 0.8546 - val_loss: 0.3516\n",
            "Epoch 43/50\n",
            "\u001b[1m80/80\u001b[0m \u001b[32m━━━━━━━━━━━━━━━━━━━━\u001b[0m\u001b[37m\u001b[0m \u001b[1m382s\u001b[0m 5s/step - binary_accuracy: 0.9924 - loss: 0.0249 - val_binary_accuracy: 0.8546 - val_loss: 0.3609\n",
            "Epoch 44/50\n",
            "\u001b[1m80/80\u001b[0m \u001b[32m━━━━━━━━━━━━━━━━━━━━\u001b[0m\u001b[37m\u001b[0m \u001b[1m370s\u001b[0m 5s/step - binary_accuracy: 0.9969 - loss: 0.0180 - val_binary_accuracy: 0.8830 - val_loss: 0.2716\n",
            "Epoch 45/50\n",
            "\u001b[1m80/80\u001b[0m \u001b[32m━━━━━━━━━━━━━━━━━━━━\u001b[0m\u001b[37m\u001b[0m \u001b[1m414s\u001b[0m 5s/step - binary_accuracy: 0.9875 - loss: 0.0301 - val_binary_accuracy: 0.8475 - val_loss: 0.3524\n",
            "Epoch 46/50\n",
            "\u001b[1m80/80\u001b[0m \u001b[32m━━━━━━━━━━━━━━━━━━━━\u001b[0m\u001b[37m\u001b[0m \u001b[1m379s\u001b[0m 5s/step - binary_accuracy: 0.9953 - loss: 0.0228 - val_binary_accuracy: 0.8723 - val_loss: 0.3261\n",
            "Epoch 47/50\n",
            "\u001b[1m80/80\u001b[0m \u001b[32m━━━━━━━━━━━━━━━━━━━━\u001b[0m\u001b[37m\u001b[0m \u001b[1m413s\u001b[0m 5s/step - binary_accuracy: 0.9928 - loss: 0.0242 - val_binary_accuracy: 0.8582 - val_loss: 0.3394\n",
            "Epoch 48/50\n",
            "\u001b[1m80/80\u001b[0m \u001b[32m━━━━━━━━━━━━━━━━━━━━\u001b[0m\u001b[37m\u001b[0m \u001b[1m371s\u001b[0m 5s/step - binary_accuracy: 0.9944 - loss: 0.0236 - val_binary_accuracy: 0.8617 - val_loss: 0.3663\n",
            "Epoch 49/50\n",
            "\u001b[1m80/80\u001b[0m \u001b[32m━━━━━━━━━━━━━━━━━━━━\u001b[0m\u001b[37m\u001b[0m \u001b[1m410s\u001b[0m 5s/step - binary_accuracy: 0.9975 - loss: 0.0211 - val_binary_accuracy: 0.8688 - val_loss: 0.3396\n",
            "Epoch 50/50\n",
            "\u001b[1m80/80\u001b[0m \u001b[32m━━━━━━━━━━━━━━━━━━━━\u001b[0m\u001b[37m\u001b[0m \u001b[1m377s\u001b[0m 5s/step - binary_accuracy: 0.9960 - loss: 0.0205 - val_binary_accuracy: 0.8546 - val_loss: 0.3423\n",
            "-----------------------------------\n",
            "num:   3, Learning Rate:    5e-06 epocs:    50\n",
            "-----------------------------------\n",
            "Epoch 1/50\n",
            "\u001b[1m80/80\u001b[0m \u001b[32m━━━━━━━━━━━━━━━━━━━━\u001b[0m\u001b[37m\u001b[0m \u001b[1m415s\u001b[0m 5s/step - binary_accuracy: 0.9940 - loss: 0.0229 - val_binary_accuracy: 0.8511 - val_loss: 0.3891\n",
            "Epoch 2/50\n",
            "\u001b[1m80/80\u001b[0m \u001b[32m━━━━━━━━━━━━━━━━━━━━\u001b[0m\u001b[37m\u001b[0m \u001b[1m380s\u001b[0m 5s/step - binary_accuracy: 0.9954 - loss: 0.0216 - val_binary_accuracy: 0.8652 - val_loss: 0.3455\n",
            "Epoch 3/50\n",
            "\u001b[1m80/80\u001b[0m \u001b[32m━━━━━━━━━━━━━━━━━━━━\u001b[0m\u001b[37m\u001b[0m \u001b[1m383s\u001b[0m 5s/step - binary_accuracy: 0.9965 - loss: 0.0200 - val_binary_accuracy: 0.8688 - val_loss: 0.3313\n",
            "Epoch 4/50\n",
            "\u001b[1m80/80\u001b[0m \u001b[32m━━━━━━━━━━━━━━━━━━━━\u001b[0m\u001b[37m\u001b[0m \u001b[1m402s\u001b[0m 5s/step - binary_accuracy: 0.9974 - loss: 0.0176 - val_binary_accuracy: 0.8652 - val_loss: 0.3400\n",
            "Epoch 5/50\n",
            "\u001b[1m80/80\u001b[0m \u001b[32m━━━━━━━━━━━━━━━━━━━━\u001b[0m\u001b[37m\u001b[0m \u001b[1m411s\u001b[0m 5s/step - binary_accuracy: 0.9981 - loss: 0.0200 - val_binary_accuracy: 0.8688 - val_loss: 0.3669\n",
            "Epoch 6/50\n",
            "\u001b[1m80/80\u001b[0m \u001b[32m━━━━━━━━━━━━━━━━━━━━\u001b[0m\u001b[37m\u001b[0m \u001b[1m405s\u001b[0m 5s/step - binary_accuracy: 0.9965 - loss: 0.0193 - val_binary_accuracy: 0.8759 - val_loss: 0.3295\n",
            "Epoch 7/50\n",
            "\u001b[1m80/80\u001b[0m \u001b[32m━━━━━━━━━━━━━━━━━━━━\u001b[0m\u001b[37m\u001b[0m \u001b[1m370s\u001b[0m 5s/step - binary_accuracy: 0.9957 - loss: 0.0221 - val_binary_accuracy: 0.8794 - val_loss: 0.3389\n",
            "Epoch 8/50\n",
            "\u001b[1m80/80\u001b[0m \u001b[32m━━━━━━━━━━━━━━━━━━━━\u001b[0m\u001b[37m\u001b[0m \u001b[1m402s\u001b[0m 5s/step - binary_accuracy: 0.9979 - loss: 0.0202 - val_binary_accuracy: 0.8688 - val_loss: 0.3260\n",
            "Epoch 9/50\n",
            "\u001b[1m80/80\u001b[0m \u001b[32m━━━━━━━━━━━━━━━━━━━━\u001b[0m\u001b[37m\u001b[0m \u001b[1m364s\u001b[0m 5s/step - binary_accuracy: 0.9966 - loss: 0.0162 - val_binary_accuracy: 0.8759 - val_loss: 0.3226\n",
            "Epoch 10/50\n",
            "\u001b[1m80/80\u001b[0m \u001b[32m━━━━━━━━━━━━━━━━━━━━\u001b[0m\u001b[37m\u001b[0m \u001b[1m401s\u001b[0m 5s/step - binary_accuracy: 0.9964 - loss: 0.0161 - val_binary_accuracy: 0.8759 - val_loss: 0.3653\n",
            "Epoch 11/50\n",
            "\u001b[1m80/80\u001b[0m \u001b[32m━━━━━━━━━━━━━━━━━━━━\u001b[0m\u001b[37m\u001b[0m \u001b[1m395s\u001b[0m 5s/step - binary_accuracy: 0.9979 - loss: 0.0188 - val_binary_accuracy: 0.8617 - val_loss: 0.3592\n",
            "Epoch 12/50\n",
            "\u001b[1m80/80\u001b[0m \u001b[32m━━━━━━━━━━━━━━━━━━━━\u001b[0m\u001b[37m\u001b[0m \u001b[1m373s\u001b[0m 5s/step - binary_accuracy: 0.9975 - loss: 0.0160 - val_binary_accuracy: 0.8759 - val_loss: 0.3327\n",
            "Epoch 13/50\n",
            "\u001b[1m80/80\u001b[0m \u001b[32m━━━━━━━━━━━━━━━━━━━━\u001b[0m\u001b[37m\u001b[0m \u001b[1m408s\u001b[0m 5s/step - binary_accuracy: 0.9952 - loss: 0.0186 - val_binary_accuracy: 0.8652 - val_loss: 0.3477\n",
            "Epoch 14/50\n",
            "\u001b[1m80/80\u001b[0m \u001b[32m━━━━━━━━━━━━━━━━━━━━\u001b[0m\u001b[37m\u001b[0m \u001b[1m374s\u001b[0m 5s/step - binary_accuracy: 0.9998 - loss: 0.0142 - val_binary_accuracy: 0.8688 - val_loss: 0.3496\n",
            "Epoch 15/50\n",
            "\u001b[1m80/80\u001b[0m \u001b[32m━━━━━━━━━━━━━━━━━━━━\u001b[0m\u001b[37m\u001b[0m \u001b[1m404s\u001b[0m 5s/step - binary_accuracy: 0.9987 - loss: 0.0141 - val_binary_accuracy: 0.8759 - val_loss: 0.3630\n",
            "Epoch 16/50\n",
            "\u001b[1m80/80\u001b[0m \u001b[32m━━━━━━━━━━━━━━━━━━━━\u001b[0m\u001b[37m\u001b[0m \u001b[1m368s\u001b[0m 5s/step - binary_accuracy: 0.9983 - loss: 0.0147 - val_binary_accuracy: 0.8652 - val_loss: 0.3648\n",
            "Epoch 17/50\n",
            "\u001b[1m80/80\u001b[0m \u001b[32m━━━━━━━━━━━━━━━━━━━━\u001b[0m\u001b[37m\u001b[0m \u001b[1m411s\u001b[0m 5s/step - binary_accuracy: 0.9967 - loss: 0.0164 - val_binary_accuracy: 0.8652 - val_loss: 0.3609\n",
            "Epoch 18/50\n",
            "\u001b[1m80/80\u001b[0m \u001b[32m━━━━━━━━━━━━━━━━━━━━\u001b[0m\u001b[37m\u001b[0m \u001b[1m368s\u001b[0m 5s/step - binary_accuracy: 0.9963 - loss: 0.0203 - val_binary_accuracy: 0.8617 - val_loss: 0.3537\n",
            "Epoch 19/50\n",
            "\u001b[1m80/80\u001b[0m \u001b[32m━━━━━━━━━━━━━━━━━━━━\u001b[0m\u001b[37m\u001b[0m \u001b[1m403s\u001b[0m 5s/step - binary_accuracy: 0.9971 - loss: 0.0146 - val_binary_accuracy: 0.8688 - val_loss: 0.3538\n",
            "Epoch 20/50\n",
            "\u001b[1m80/80\u001b[0m \u001b[32m━━━━━━━━━━━━━━━━━━━━\u001b[0m\u001b[37m\u001b[0m \u001b[1m392s\u001b[0m 5s/step - binary_accuracy: 0.9980 - loss: 0.0160 - val_binary_accuracy: 0.8759 - val_loss: 0.3693\n",
            "Epoch 21/50\n",
            "\u001b[1m80/80\u001b[0m \u001b[32m━━━━━━━━━━━━━━━━━━━━\u001b[0m\u001b[37m\u001b[0m \u001b[1m384s\u001b[0m 5s/step - binary_accuracy: 0.9972 - loss: 0.0150 - val_binary_accuracy: 0.8723 - val_loss: 0.3688\n",
            "Epoch 22/50\n",
            "\u001b[1m80/80\u001b[0m \u001b[32m━━━━━━━━━━━━━━━━━━━━\u001b[0m\u001b[37m\u001b[0m \u001b[1m414s\u001b[0m 5s/step - binary_accuracy: 0.9953 - loss: 0.0198 - val_binary_accuracy: 0.8582 - val_loss: 0.3885\n",
            "Epoch 23/50\n",
            "\u001b[1m80/80\u001b[0m \u001b[32m━━━━━━━━━━━━━━━━━━━━\u001b[0m\u001b[37m\u001b[0m \u001b[1m406s\u001b[0m 5s/step - binary_accuracy: 0.9974 - loss: 0.0185 - val_binary_accuracy: 0.8688 - val_loss: 0.3595\n",
            "Epoch 24/50\n",
            "\u001b[1m48/80\u001b[0m \u001b[32m━━━━━━━━━━━━\u001b[0m\u001b[37m━━━━━━━━\u001b[0m \u001b[1m2:22\u001b[0m 4s/step - binary_accuracy: 0.9954 - loss: 0.0185"
          ]
        },
        {
          "output_type": "error",
          "ename": "KeyboardInterrupt",
          "evalue": "",
          "traceback": [
            "\u001b[0;31m---------------------------------------------------------------------------\u001b[0m",
            "\u001b[0;31mKeyboardInterrupt\u001b[0m                         Traceback (most recent call last)",
            "\u001b[0;32m<ipython-input-81-c97029187f39>\u001b[0m in \u001b[0;36m<cell line: 6>\u001b[0;34m()\u001b[0m\n\u001b[1;32m     19\u001b[0m \u001b[0;34m\u001b[0m\u001b[0m\n\u001b[1;32m     20\u001b[0m \u001b[0;34m\u001b[0m\u001b[0m\n\u001b[0;32m---> 21\u001b[0;31m     history = zindi_plastic_model.fit(train_generator, epochs=epocsd[i],\n\u001b[0m\u001b[1;32m     22\u001b[0m                               \u001b[0mvalidation_data\u001b[0m\u001b[0;34m=\u001b[0m\u001b[0mtest_generator\u001b[0m\u001b[0;34m,\u001b[0m\u001b[0;34m\u001b[0m\u001b[0;34m\u001b[0m\u001b[0m\n\u001b[1;32m     23\u001b[0m                               \u001b[0mbatch_size\u001b[0m\u001b[0;34m=\u001b[0m\u001b[0mbatchsd\u001b[0m\u001b[0;34m[\u001b[0m\u001b[0mi\u001b[0m\u001b[0;34m]\u001b[0m\u001b[0;34m,\u001b[0m\u001b[0;34m\u001b[0m\u001b[0;34m\u001b[0m\u001b[0m\n",
            "\u001b[0;32m/usr/local/lib/python3.10/dist-packages/keras/src/utils/traceback_utils.py\u001b[0m in \u001b[0;36merror_handler\u001b[0;34m(*args, **kwargs)\u001b[0m\n\u001b[1;32m    115\u001b[0m         \u001b[0mfiltered_tb\u001b[0m \u001b[0;34m=\u001b[0m \u001b[0;32mNone\u001b[0m\u001b[0;34m\u001b[0m\u001b[0;34m\u001b[0m\u001b[0m\n\u001b[1;32m    116\u001b[0m         \u001b[0;32mtry\u001b[0m\u001b[0;34m:\u001b[0m\u001b[0;34m\u001b[0m\u001b[0;34m\u001b[0m\u001b[0m\n\u001b[0;32m--> 117\u001b[0;31m             \u001b[0;32mreturn\u001b[0m \u001b[0mfn\u001b[0m\u001b[0;34m(\u001b[0m\u001b[0;34m*\u001b[0m\u001b[0margs\u001b[0m\u001b[0;34m,\u001b[0m \u001b[0;34m**\u001b[0m\u001b[0mkwargs\u001b[0m\u001b[0;34m)\u001b[0m\u001b[0;34m\u001b[0m\u001b[0;34m\u001b[0m\u001b[0m\n\u001b[0m\u001b[1;32m    118\u001b[0m         \u001b[0;32mexcept\u001b[0m \u001b[0mException\u001b[0m \u001b[0;32mas\u001b[0m \u001b[0me\u001b[0m\u001b[0;34m:\u001b[0m\u001b[0;34m\u001b[0m\u001b[0;34m\u001b[0m\u001b[0m\n\u001b[1;32m    119\u001b[0m             \u001b[0mfiltered_tb\u001b[0m \u001b[0;34m=\u001b[0m \u001b[0m_process_traceback_frames\u001b[0m\u001b[0;34m(\u001b[0m\u001b[0me\u001b[0m\u001b[0;34m.\u001b[0m\u001b[0m__traceback__\u001b[0m\u001b[0;34m)\u001b[0m\u001b[0;34m\u001b[0m\u001b[0;34m\u001b[0m\u001b[0m\n",
            "\u001b[0;32m/usr/local/lib/python3.10/dist-packages/keras/src/backend/tensorflow/trainer.py\u001b[0m in \u001b[0;36mfit\u001b[0;34m(self, x, y, batch_size, epochs, verbose, callbacks, validation_split, validation_data, shuffle, class_weight, sample_weight, initial_epoch, steps_per_epoch, validation_steps, validation_batch_size, validation_freq)\u001b[0m\n\u001b[1;32m    316\u001b[0m                 \u001b[0;32mfor\u001b[0m \u001b[0mstep\u001b[0m\u001b[0;34m,\u001b[0m \u001b[0miterator\u001b[0m \u001b[0;32min\u001b[0m \u001b[0mepoch_iterator\u001b[0m\u001b[0;34m.\u001b[0m\u001b[0menumerate_epoch\u001b[0m\u001b[0;34m(\u001b[0m\u001b[0;34m)\u001b[0m\u001b[0;34m:\u001b[0m\u001b[0;34m\u001b[0m\u001b[0;34m\u001b[0m\u001b[0m\n\u001b[1;32m    317\u001b[0m                     \u001b[0mcallbacks\u001b[0m\u001b[0;34m.\u001b[0m\u001b[0mon_train_batch_begin\u001b[0m\u001b[0;34m(\u001b[0m\u001b[0mstep\u001b[0m\u001b[0;34m)\u001b[0m\u001b[0;34m\u001b[0m\u001b[0;34m\u001b[0m\u001b[0m\n\u001b[0;32m--> 318\u001b[0;31m                     \u001b[0mlogs\u001b[0m \u001b[0;34m=\u001b[0m \u001b[0mself\u001b[0m\u001b[0;34m.\u001b[0m\u001b[0mtrain_function\u001b[0m\u001b[0;34m(\u001b[0m\u001b[0miterator\u001b[0m\u001b[0;34m)\u001b[0m\u001b[0;34m\u001b[0m\u001b[0;34m\u001b[0m\u001b[0m\n\u001b[0m\u001b[1;32m    319\u001b[0m                     \u001b[0mlogs\u001b[0m \u001b[0;34m=\u001b[0m \u001b[0mself\u001b[0m\u001b[0;34m.\u001b[0m\u001b[0m_pythonify_logs\u001b[0m\u001b[0;34m(\u001b[0m\u001b[0mlogs\u001b[0m\u001b[0;34m)\u001b[0m\u001b[0;34m\u001b[0m\u001b[0;34m\u001b[0m\u001b[0m\n\u001b[1;32m    320\u001b[0m                     \u001b[0mcallbacks\u001b[0m\u001b[0;34m.\u001b[0m\u001b[0mon_train_batch_end\u001b[0m\u001b[0;34m(\u001b[0m\u001b[0mstep\u001b[0m\u001b[0;34m,\u001b[0m \u001b[0mlogs\u001b[0m\u001b[0;34m)\u001b[0m\u001b[0;34m\u001b[0m\u001b[0;34m\u001b[0m\u001b[0m\n",
            "\u001b[0;32m/usr/local/lib/python3.10/dist-packages/tensorflow/python/util/traceback_utils.py\u001b[0m in \u001b[0;36merror_handler\u001b[0;34m(*args, **kwargs)\u001b[0m\n\u001b[1;32m    148\u001b[0m     \u001b[0mfiltered_tb\u001b[0m \u001b[0;34m=\u001b[0m \u001b[0;32mNone\u001b[0m\u001b[0;34m\u001b[0m\u001b[0;34m\u001b[0m\u001b[0m\n\u001b[1;32m    149\u001b[0m     \u001b[0;32mtry\u001b[0m\u001b[0;34m:\u001b[0m\u001b[0;34m\u001b[0m\u001b[0;34m\u001b[0m\u001b[0m\n\u001b[0;32m--> 150\u001b[0;31m       \u001b[0;32mreturn\u001b[0m \u001b[0mfn\u001b[0m\u001b[0;34m(\u001b[0m\u001b[0;34m*\u001b[0m\u001b[0margs\u001b[0m\u001b[0;34m,\u001b[0m \u001b[0;34m**\u001b[0m\u001b[0mkwargs\u001b[0m\u001b[0;34m)\u001b[0m\u001b[0;34m\u001b[0m\u001b[0;34m\u001b[0m\u001b[0m\n\u001b[0m\u001b[1;32m    151\u001b[0m     \u001b[0;32mexcept\u001b[0m \u001b[0mException\u001b[0m \u001b[0;32mas\u001b[0m \u001b[0me\u001b[0m\u001b[0;34m:\u001b[0m\u001b[0;34m\u001b[0m\u001b[0;34m\u001b[0m\u001b[0m\n\u001b[1;32m    152\u001b[0m       \u001b[0mfiltered_tb\u001b[0m \u001b[0;34m=\u001b[0m \u001b[0m_process_traceback_frames\u001b[0m\u001b[0;34m(\u001b[0m\u001b[0me\u001b[0m\u001b[0;34m.\u001b[0m\u001b[0m__traceback__\u001b[0m\u001b[0;34m)\u001b[0m\u001b[0;34m\u001b[0m\u001b[0;34m\u001b[0m\u001b[0m\n",
            "\u001b[0;32m/usr/local/lib/python3.10/dist-packages/tensorflow/python/eager/polymorphic_function/polymorphic_function.py\u001b[0m in \u001b[0;36m__call__\u001b[0;34m(self, *args, **kwds)\u001b[0m\n\u001b[1;32m    831\u001b[0m \u001b[0;34m\u001b[0m\u001b[0m\n\u001b[1;32m    832\u001b[0m       \u001b[0;32mwith\u001b[0m \u001b[0mOptionalXlaContext\u001b[0m\u001b[0;34m(\u001b[0m\u001b[0mself\u001b[0m\u001b[0;34m.\u001b[0m\u001b[0m_jit_compile\u001b[0m\u001b[0;34m)\u001b[0m\u001b[0;34m:\u001b[0m\u001b[0;34m\u001b[0m\u001b[0;34m\u001b[0m\u001b[0m\n\u001b[0;32m--> 833\u001b[0;31m         \u001b[0mresult\u001b[0m \u001b[0;34m=\u001b[0m \u001b[0mself\u001b[0m\u001b[0;34m.\u001b[0m\u001b[0m_call\u001b[0m\u001b[0;34m(\u001b[0m\u001b[0;34m*\u001b[0m\u001b[0margs\u001b[0m\u001b[0;34m,\u001b[0m \u001b[0;34m**\u001b[0m\u001b[0mkwds\u001b[0m\u001b[0;34m)\u001b[0m\u001b[0;34m\u001b[0m\u001b[0;34m\u001b[0m\u001b[0m\n\u001b[0m\u001b[1;32m    834\u001b[0m \u001b[0;34m\u001b[0m\u001b[0m\n\u001b[1;32m    835\u001b[0m       \u001b[0mnew_tracing_count\u001b[0m \u001b[0;34m=\u001b[0m \u001b[0mself\u001b[0m\u001b[0;34m.\u001b[0m\u001b[0mexperimental_get_tracing_count\u001b[0m\u001b[0;34m(\u001b[0m\u001b[0;34m)\u001b[0m\u001b[0;34m\u001b[0m\u001b[0;34m\u001b[0m\u001b[0m\n",
            "\u001b[0;32m/usr/local/lib/python3.10/dist-packages/tensorflow/python/eager/polymorphic_function/polymorphic_function.py\u001b[0m in \u001b[0;36m_call\u001b[0;34m(self, *args, **kwds)\u001b[0m\n\u001b[1;32m    876\u001b[0m       \u001b[0;31m# In this case we have not created variables on the first call. So we can\u001b[0m\u001b[0;34m\u001b[0m\u001b[0;34m\u001b[0m\u001b[0m\n\u001b[1;32m    877\u001b[0m       \u001b[0;31m# run the first trace but we should fail if variables are created.\u001b[0m\u001b[0;34m\u001b[0m\u001b[0;34m\u001b[0m\u001b[0m\n\u001b[0;32m--> 878\u001b[0;31m       results = tracing_compilation.call_function(\n\u001b[0m\u001b[1;32m    879\u001b[0m           \u001b[0margs\u001b[0m\u001b[0;34m,\u001b[0m \u001b[0mkwds\u001b[0m\u001b[0;34m,\u001b[0m \u001b[0mself\u001b[0m\u001b[0;34m.\u001b[0m\u001b[0m_variable_creation_config\u001b[0m\u001b[0;34m\u001b[0m\u001b[0;34m\u001b[0m\u001b[0m\n\u001b[1;32m    880\u001b[0m       )\n",
            "\u001b[0;32m/usr/local/lib/python3.10/dist-packages/tensorflow/python/eager/polymorphic_function/tracing_compilation.py\u001b[0m in \u001b[0;36mcall_function\u001b[0;34m(args, kwargs, tracing_options)\u001b[0m\n\u001b[1;32m    137\u001b[0m   \u001b[0mbound_args\u001b[0m \u001b[0;34m=\u001b[0m \u001b[0mfunction\u001b[0m\u001b[0;34m.\u001b[0m\u001b[0mfunction_type\u001b[0m\u001b[0;34m.\u001b[0m\u001b[0mbind\u001b[0m\u001b[0;34m(\u001b[0m\u001b[0;34m*\u001b[0m\u001b[0margs\u001b[0m\u001b[0;34m,\u001b[0m \u001b[0;34m**\u001b[0m\u001b[0mkwargs\u001b[0m\u001b[0;34m)\u001b[0m\u001b[0;34m\u001b[0m\u001b[0;34m\u001b[0m\u001b[0m\n\u001b[1;32m    138\u001b[0m   \u001b[0mflat_inputs\u001b[0m \u001b[0;34m=\u001b[0m \u001b[0mfunction\u001b[0m\u001b[0;34m.\u001b[0m\u001b[0mfunction_type\u001b[0m\u001b[0;34m.\u001b[0m\u001b[0munpack_inputs\u001b[0m\u001b[0;34m(\u001b[0m\u001b[0mbound_args\u001b[0m\u001b[0;34m)\u001b[0m\u001b[0;34m\u001b[0m\u001b[0;34m\u001b[0m\u001b[0m\n\u001b[0;32m--> 139\u001b[0;31m   return function._call_flat(  # pylint: disable=protected-access\n\u001b[0m\u001b[1;32m    140\u001b[0m       \u001b[0mflat_inputs\u001b[0m\u001b[0;34m,\u001b[0m \u001b[0mcaptured_inputs\u001b[0m\u001b[0;34m=\u001b[0m\u001b[0mfunction\u001b[0m\u001b[0;34m.\u001b[0m\u001b[0mcaptured_inputs\u001b[0m\u001b[0;34m\u001b[0m\u001b[0;34m\u001b[0m\u001b[0m\n\u001b[1;32m    141\u001b[0m   )\n",
            "\u001b[0;32m/usr/local/lib/python3.10/dist-packages/tensorflow/python/eager/polymorphic_function/concrete_function.py\u001b[0m in \u001b[0;36m_call_flat\u001b[0;34m(self, tensor_inputs, captured_inputs)\u001b[0m\n\u001b[1;32m   1320\u001b[0m         and executing_eagerly):\n\u001b[1;32m   1321\u001b[0m       \u001b[0;31m# No tape is watching; skip to running the function.\u001b[0m\u001b[0;34m\u001b[0m\u001b[0;34m\u001b[0m\u001b[0m\n\u001b[0;32m-> 1322\u001b[0;31m       \u001b[0;32mreturn\u001b[0m \u001b[0mself\u001b[0m\u001b[0;34m.\u001b[0m\u001b[0m_inference_function\u001b[0m\u001b[0;34m.\u001b[0m\u001b[0mcall_preflattened\u001b[0m\u001b[0;34m(\u001b[0m\u001b[0margs\u001b[0m\u001b[0;34m)\u001b[0m\u001b[0;34m\u001b[0m\u001b[0;34m\u001b[0m\u001b[0m\n\u001b[0m\u001b[1;32m   1323\u001b[0m     forward_backward = self._select_forward_and_backward_functions(\n\u001b[1;32m   1324\u001b[0m         \u001b[0margs\u001b[0m\u001b[0;34m,\u001b[0m\u001b[0;34m\u001b[0m\u001b[0;34m\u001b[0m\u001b[0m\n",
            "\u001b[0;32m/usr/local/lib/python3.10/dist-packages/tensorflow/python/eager/polymorphic_function/atomic_function.py\u001b[0m in \u001b[0;36mcall_preflattened\u001b[0;34m(self, args)\u001b[0m\n\u001b[1;32m    214\u001b[0m   \u001b[0;32mdef\u001b[0m \u001b[0mcall_preflattened\u001b[0m\u001b[0;34m(\u001b[0m\u001b[0mself\u001b[0m\u001b[0;34m,\u001b[0m \u001b[0margs\u001b[0m\u001b[0;34m:\u001b[0m \u001b[0mSequence\u001b[0m\u001b[0;34m[\u001b[0m\u001b[0mcore\u001b[0m\u001b[0;34m.\u001b[0m\u001b[0mTensor\u001b[0m\u001b[0;34m]\u001b[0m\u001b[0;34m)\u001b[0m \u001b[0;34m->\u001b[0m \u001b[0mAny\u001b[0m\u001b[0;34m:\u001b[0m\u001b[0;34m\u001b[0m\u001b[0;34m\u001b[0m\u001b[0m\n\u001b[1;32m    215\u001b[0m     \u001b[0;34m\"\"\"Calls with flattened tensor inputs and returns the structured output.\"\"\"\u001b[0m\u001b[0;34m\u001b[0m\u001b[0;34m\u001b[0m\u001b[0m\n\u001b[0;32m--> 216\u001b[0;31m     \u001b[0mflat_outputs\u001b[0m \u001b[0;34m=\u001b[0m \u001b[0mself\u001b[0m\u001b[0;34m.\u001b[0m\u001b[0mcall_flat\u001b[0m\u001b[0;34m(\u001b[0m\u001b[0;34m*\u001b[0m\u001b[0margs\u001b[0m\u001b[0;34m)\u001b[0m\u001b[0;34m\u001b[0m\u001b[0;34m\u001b[0m\u001b[0m\n\u001b[0m\u001b[1;32m    217\u001b[0m     \u001b[0;32mreturn\u001b[0m \u001b[0mself\u001b[0m\u001b[0;34m.\u001b[0m\u001b[0mfunction_type\u001b[0m\u001b[0;34m.\u001b[0m\u001b[0mpack_output\u001b[0m\u001b[0;34m(\u001b[0m\u001b[0mflat_outputs\u001b[0m\u001b[0;34m)\u001b[0m\u001b[0;34m\u001b[0m\u001b[0;34m\u001b[0m\u001b[0m\n\u001b[1;32m    218\u001b[0m \u001b[0;34m\u001b[0m\u001b[0m\n",
            "\u001b[0;32m/usr/local/lib/python3.10/dist-packages/tensorflow/python/eager/polymorphic_function/atomic_function.py\u001b[0m in \u001b[0;36mcall_flat\u001b[0;34m(self, *args)\u001b[0m\n\u001b[1;32m    249\u001b[0m         \u001b[0;32mwith\u001b[0m \u001b[0mrecord\u001b[0m\u001b[0;34m.\u001b[0m\u001b[0mstop_recording\u001b[0m\u001b[0;34m(\u001b[0m\u001b[0;34m)\u001b[0m\u001b[0;34m:\u001b[0m\u001b[0;34m\u001b[0m\u001b[0;34m\u001b[0m\u001b[0m\n\u001b[1;32m    250\u001b[0m           \u001b[0;32mif\u001b[0m \u001b[0mself\u001b[0m\u001b[0;34m.\u001b[0m\u001b[0m_bound_context\u001b[0m\u001b[0;34m.\u001b[0m\u001b[0mexecuting_eagerly\u001b[0m\u001b[0;34m(\u001b[0m\u001b[0;34m)\u001b[0m\u001b[0;34m:\u001b[0m\u001b[0;34m\u001b[0m\u001b[0;34m\u001b[0m\u001b[0m\n\u001b[0;32m--> 251\u001b[0;31m             outputs = self._bound_context.call_function(\n\u001b[0m\u001b[1;32m    252\u001b[0m                 \u001b[0mself\u001b[0m\u001b[0;34m.\u001b[0m\u001b[0mname\u001b[0m\u001b[0;34m,\u001b[0m\u001b[0;34m\u001b[0m\u001b[0;34m\u001b[0m\u001b[0m\n\u001b[1;32m    253\u001b[0m                 \u001b[0mlist\u001b[0m\u001b[0;34m(\u001b[0m\u001b[0margs\u001b[0m\u001b[0;34m)\u001b[0m\u001b[0;34m,\u001b[0m\u001b[0;34m\u001b[0m\u001b[0;34m\u001b[0m\u001b[0m\n",
            "\u001b[0;32m/usr/local/lib/python3.10/dist-packages/tensorflow/python/eager/context.py\u001b[0m in \u001b[0;36mcall_function\u001b[0;34m(self, name, tensor_inputs, num_outputs)\u001b[0m\n\u001b[1;32m   1550\u001b[0m     \u001b[0mcancellation_context\u001b[0m \u001b[0;34m=\u001b[0m \u001b[0mcancellation\u001b[0m\u001b[0;34m.\u001b[0m\u001b[0mcontext\u001b[0m\u001b[0;34m(\u001b[0m\u001b[0;34m)\u001b[0m\u001b[0;34m\u001b[0m\u001b[0;34m\u001b[0m\u001b[0m\n\u001b[1;32m   1551\u001b[0m     \u001b[0;32mif\u001b[0m \u001b[0mcancellation_context\u001b[0m \u001b[0;32mis\u001b[0m \u001b[0;32mNone\u001b[0m\u001b[0;34m:\u001b[0m\u001b[0;34m\u001b[0m\u001b[0;34m\u001b[0m\u001b[0m\n\u001b[0;32m-> 1552\u001b[0;31m       outputs = execute.execute(\n\u001b[0m\u001b[1;32m   1553\u001b[0m           \u001b[0mname\u001b[0m\u001b[0;34m.\u001b[0m\u001b[0mdecode\u001b[0m\u001b[0;34m(\u001b[0m\u001b[0;34m\"utf-8\"\u001b[0m\u001b[0;34m)\u001b[0m\u001b[0;34m,\u001b[0m\u001b[0;34m\u001b[0m\u001b[0;34m\u001b[0m\u001b[0m\n\u001b[1;32m   1554\u001b[0m           \u001b[0mnum_outputs\u001b[0m\u001b[0;34m=\u001b[0m\u001b[0mnum_outputs\u001b[0m\u001b[0;34m,\u001b[0m\u001b[0;34m\u001b[0m\u001b[0;34m\u001b[0m\u001b[0m\n",
            "\u001b[0;32m/usr/local/lib/python3.10/dist-packages/tensorflow/python/eager/execute.py\u001b[0m in \u001b[0;36mquick_execute\u001b[0;34m(op_name, num_outputs, inputs, attrs, ctx, name)\u001b[0m\n\u001b[1;32m     51\u001b[0m   \u001b[0;32mtry\u001b[0m\u001b[0;34m:\u001b[0m\u001b[0;34m\u001b[0m\u001b[0;34m\u001b[0m\u001b[0m\n\u001b[1;32m     52\u001b[0m     \u001b[0mctx\u001b[0m\u001b[0;34m.\u001b[0m\u001b[0mensure_initialized\u001b[0m\u001b[0;34m(\u001b[0m\u001b[0;34m)\u001b[0m\u001b[0;34m\u001b[0m\u001b[0;34m\u001b[0m\u001b[0m\n\u001b[0;32m---> 53\u001b[0;31m     tensors = pywrap_tfe.TFE_Py_Execute(ctx._handle, device_name, op_name,\n\u001b[0m\u001b[1;32m     54\u001b[0m                                         inputs, attrs, num_outputs)\n\u001b[1;32m     55\u001b[0m   \u001b[0;32mexcept\u001b[0m \u001b[0mcore\u001b[0m\u001b[0;34m.\u001b[0m\u001b[0m_NotOkStatusException\u001b[0m \u001b[0;32mas\u001b[0m \u001b[0me\u001b[0m\u001b[0;34m:\u001b[0m\u001b[0;34m\u001b[0m\u001b[0;34m\u001b[0m\u001b[0m\n",
            "\u001b[0;31mKeyboardInterrupt\u001b[0m: "
          ]
        }
      ],
      "source": [
        "\n",
        "# Train Model\n",
        "from IPython.display import clear_output\n",
        "\n",
        "\n",
        "\n",
        "for i in range(0,5):\n",
        "    ratex={0:0.0001,1:0.00005, 2:0.00001,3:0.000005,4:0.000005}  #ratex={0:0.000008,1:0.0000001} ez a jó az elején\n",
        "    epocsd={0:15,1:12,2:50, 3:50,4:50}\n",
        "    batchsd={0:32,1:32,2:32,3:32,4:32}\n",
        "    #clear_output(wait=True)\n",
        "    print(\"-\"*35)\n",
        "    print(f\"num:{i:4}, Learning Rate:{ratex[i]:9} epocs:{epocsd[i]:6}\")\n",
        "    print(\"-\"*35)\n",
        "\n",
        "    optimizer=RMSprop(ratex[i])\n",
        "\n",
        "    #zindi_plastic_model.summary()\n",
        "    zindi_plastic_model.compile(loss=bce, optimizer=optimizer, metrics=[\"binary_accuracy\"])\n",
        "\n",
        "\n",
        "    history = zindi_plastic_model.fit(train_generator, epochs=epocsd[i],\n",
        "                              validation_data=test_generator,\n",
        "                              batch_size=batchsd[i],\n",
        "                              callbacks=[model_checkpoint_callback],)"
      ]
    },
    {
      "cell_type": "code",
      "execution_count": null,
      "metadata": {
        "id": "8YIknXrTb2wB"
      },
      "outputs": [],
      "source": [
        "for i in range(1,2):\n",
        "    ratex={0:0.000001, 1:0.0000003,2:0.000001}  #ratex={0:0.000008,1:0.0000001} ez a jó az elején\n",
        "    epocsd={0:12,1:12}\n",
        "    batchsd={0:16,1:16}\n",
        "    #clear_output(wait=True)\n",
        "    print(\"-\"*35)\n",
        "    print(f\"num:{i:4}, Learning Rate:{ratex[i]:9} epocs:{epocsd[i]:6}\")\n",
        "    print(\"-\"*35)\n",
        "\n",
        "    optimizer=Adam(ratex[i])\n",
        "\n",
        "    #zindi_plastic_model.summary()\n",
        "    zindi_plastic_model.compile(loss=bce, optimizer=optimizer, metrics=[\"binary_accuracy\"])\n",
        "\n",
        "\n",
        "    history = zindi_plastic_model.fit(train_generator, epochs=epocsd[i],\n",
        "                              validation_data=test_generator,\n",
        "                              batch_size=batchsd[i],\n",
        "                              callbacks=[model_checkpoint_callback],)"
      ]
    },
    {
      "cell_type": "code",
      "execution_count": null,
      "metadata": {
        "id": "Lr46ivvX4mCc"
      },
      "outputs": [],
      "source": [
        " # if you need more trainig...\n",
        " history = zindi_plastic_model.fit(train_generator, epochs=epocsd[i],\n",
        "                              validation_data=test_generator,\n",
        "                              batch_size=batchsd[i],\n",
        "                              callbacks=[model_checkpoint_callback])"
      ]
    },
    {
      "cell_type": "code",
      "execution_count": null,
      "metadata": {
        "id": "caccJ5QjO-1v"
      },
      "outputs": [],
      "source": [
        "#save the models to the google drive\n",
        "model_path=\"/content/drive/MyDrive/zindi_plastic/models\"\n",
        "!cp *.keras {model_path}"
      ]
    },
    {
      "cell_type": "code",
      "execution_count": null,
      "metadata": {
        "id": "A8Gt499_Dqug"
      },
      "outputs": [],
      "source": [
        "Model Usage"
      ]
    },
    {
      "cell_type": "code",
      "execution_count": null,
      "metadata": {
        "id": "j-llh0r8Q-JX"
      },
      "outputs": [],
      "source": [
        "import os\n",
        "import matplotlib.pyplot as plt"
      ]
    },
    {
      "cell_type": "code",
      "execution_count": null,
      "metadata": {
        "id": "OPXvG_pVQdMh"
      },
      "outputs": [],
      "source": [
        "import tensorflow as tf\n",
        "import tensorflow.keras as keras\n",
        "from tensorflow.keras.callbacks import ModelCheckpoint\n",
        "from tensorflow.keras.layers import Conv2D, Flatten, MaxPooling2D,Dense,Dropout\n",
        "from tensorflow.keras.models  import Sequential\n",
        "from tensorflow.keras.preprocessing.image import ImageDataGenerator"
      ]
    },
    {
      "cell_type": "code",
      "execution_count": null,
      "metadata": {
        "id": "oreqlAd7OWTw"
      },
      "outputs": [],
      "source": [
        "_DEBUG_=False\n",
        "_PROJECT_BASE_='/content/drive/MyDrive/Zindi_Plastic_images/'\n",
        "_IMAGES_='images'\n",
        "_TEST_IMAGES_='test_images/'\n",
        "_MODELS_='models/'\n",
        "\n",
        "_ORIG_='orig'"
      ]
    },
    {
      "cell_type": "code",
      "execution_count": null,
      "metadata": {
        "id": "nsrXR2HQOWmr"
      },
      "outputs": [],
      "source": [
        "test_images_dir=_PROJECT_BASE_+_TEST_IMAGES_\n",
        "images_dir=_PROJECT_BASE_+_IMAGES_"
      ]
    },
    {
      "cell_type": "code",
      "execution_count": null,
      "metadata": {
        "id": "rTbVHrpsDVUJ"
      },
      "outputs": [],
      "source": [
        "model_path=_PROJECT_BASE_+_MODELS_"
      ]
    },
    {
      "cell_type": "code",
      "execution_count": null,
      "metadata": {
        "id": "Sx0eanF9C4sy"
      },
      "outputs": [],
      "source": [
        "from google.colab import drive\n",
        "drive.mount('/content/drive')"
      ]
    },
    {
      "cell_type": "code",
      "execution_count": null,
      "metadata": {
        "id": "WMTQFVxfOAjI"
      },
      "outputs": [],
      "source": [
        "!mkdir local"
      ]
    },
    {
      "cell_type": "code",
      "execution_count": null,
      "metadata": {
        "id": "hMD_NhJCOEDT"
      },
      "outputs": [],
      "source": [
        "!mkdir local/test_images/\n",
        "!mkdir local/models"
      ]
    },
    {
      "cell_type": "code",
      "execution_count": null,
      "metadata": {
        "id": "f90qo8IvzAsT"
      },
      "outputs": [],
      "source": [
        "model_name=\"Model_-0.2616-0.0771.keras\""
      ]
    },
    {
      "cell_type": "code",
      "execution_count": null,
      "metadata": {
        "id": "2UyIwF9F2ONl"
      },
      "outputs": [],
      "source": []
    },
    {
      "cell_type": "code",
      "execution_count": null,
      "metadata": {
        "id": "yigf1f8QzXc2"
      },
      "outputs": [],
      "source": [
        "!cp {_PROJECT_BASE_+_MODELS_+model_name} ./local/models"
      ]
    },
    {
      "cell_type": "code",
      "execution_count": null,
      "metadata": {
        "id": "cq06V3skOL1k"
      },
      "outputs": [],
      "source": [
        "!cp {_PROJECT_BASE_+_TEST_IMAGES_+'*.jpg'} ./local/test_images"
      ]
    },
    {
      "cell_type": "code",
      "execution_count": null,
      "metadata": {
        "id": "GeXqcIKqKt6a"
      },
      "outputs": [],
      "source": [
        "from tensorflow.keras.models import load_model\n",
        "\n",
        "\n",
        "model = load_model(\"./\"+model_name) # Load the best model"
      ]
    },
    {
      "cell_type": "code",
      "execution_count": null,
      "metadata": {
        "id": "b3C8ehQsZC2Q"
      },
      "outputs": [],
      "source": [
        "def format_image(image_dir,show_image=True):\n",
        "    image = tf.io.read_file(image_dir)\n",
        "    image = tf.image.decode_jpeg(image, channels=3)\n",
        "    image = tf.image.convert_image_dtype(image, tf.float32)\n",
        "    #image /= 255.0  # Skálázás 0 és 1 közé\n",
        "    image = tf.image.resize_with_pad(image, 224, 224)\n",
        "    #image = tf.keras.applications.vgg16.preprocess_input(image)\n",
        "    if show_image:\n",
        "        plt.imshow(image)\n",
        "        plt.show()\n",
        "    return image"
      ]
    },
    {
      "cell_type": "code",
      "execution_count": null,
      "metadata": {
        "id": "RKaqjeBrNUDK"
      },
      "outputs": [],
      "source": [
        "import numpy as np\n",
        "def predict_image(image_path, show_image=True):\n",
        "    image = format_image(image_path,show_image)\n",
        "    image = np.expand_dims(image, axis=0) # A modell bemenete egy batch, ezért kell a dimenzió bővítése\n",
        "    prediction = model.predict(image)\n",
        "    model_out=prediction\n",
        "    #print(model_out)\n",
        "\n",
        "    if model_out[0][0]<0.5:\n",
        "        prediction=0\n",
        "        #print(\"Non Plastic\")\n",
        "    else:\n",
        "        prediction=1\n",
        "        #print(\"Plastic\" )\n",
        "    return prediction"
      ]
    },
    {
      "cell_type": "code",
      "execution_count": null,
      "metadata": {
        "id": "Yc54_IDJRMcS"
      },
      "outputs": [],
      "source": [
        "file_name=_PROJECT_BASE_+\"images/plastic/150_1__kenya.jpg\""
      ]
    },
    {
      "cell_type": "code",
      "execution_count": null,
      "metadata": {
        "id": "hBdYMhhbRrrO"
      },
      "outputs": [],
      "source": [
        "#model_out=predict_image(file_name)"
      ]
    },
    {
      "cell_type": "code",
      "execution_count": null,
      "metadata": {
        "id": "Gtqdm5dmffwo"
      },
      "outputs": [],
      "source": [
        "def fname_converter(fname):\n",
        "    country_name={\"kenya\":\"Kenya\",\"spain\":\"Spain\",\"vnm\":\"VNM\"}\n",
        "    o1=fname.split('/')[-1].split(\"_\")\n",
        "    index=o1[0]\n",
        "    country=o1[-2]\n",
        "    return(country_name[country]+\"_\"+index)\n"
      ]
    },
    {
      "cell_type": "code",
      "execution_count": null,
      "metadata": {
        "id": "RCpkUa3-ua_t"
      },
      "outputs": [],
      "source": [
        "def predict_directory(directory,show_image=False):\n",
        "    #directory=\"./local/images/plastic/\"\n",
        "    jpg_list=[directory+f for f in os.listdir(directory) if f.lower().endswith('.jpg')]\n",
        "    null_counter=0\n",
        "    non_null_counter=0\n",
        "    out_list=[]\n",
        "    for jpg_list_element in jpg_list:\n",
        "        prediction=predict_image(jpg_list_element,show_image)\n",
        "\n",
        "        if prediction==0:\n",
        "            null_counter+=1\n",
        "        else:\n",
        "            non_null_counter+=1\n",
        "\n",
        "        print(f\"Null: {null_counter}, Non Null: {non_null_counter}\")\n",
        "        out_list.append((jpg_list_element,prediction,fname_converter(jpg_list_element)))\n",
        "    return out_list\n"
      ]
    },
    {
      "cell_type": "code",
      "execution_count": null,
      "metadata": {
        "id": "IItB7jTl2A8r"
      },
      "outputs": [],
      "source": [
        "predicted_list=predict_directory(test_images_dir,show_image=False)"
      ]
    },
    {
      "cell_type": "code",
      "execution_count": null,
      "metadata": {
        "id": "FUyxRbzXe2KJ"
      },
      "outputs": [],
      "source": [
        "predicted_list"
      ]
    },
    {
      "cell_type": "code",
      "execution_count": null,
      "metadata": {
        "id": "yWvpjyDGU7WP"
      },
      "outputs": [],
      "source": [
        "import pandas as pd"
      ]
    },
    {
      "cell_type": "code",
      "execution_count": null,
      "metadata": {
        "id": "rqG0GGg7gM0c"
      },
      "outputs": [],
      "source": [
        "submission_path=_PROJECT_BASE_+\"orig/SampleSubmission.csv\"\n",
        "test_df=pd.read_csv(submission_path)\n",
        "predicted_dict={predicted_list_element[-1]:predicted_list_element[-2] for predicted_list_element in predicted_list}"
      ]
    },
    {
      "cell_type": "code",
      "execution_count": null,
      "metadata": {
        "id": "g1OpFXZFnnY7"
      },
      "outputs": [],
      "source": [
        "test_df.set_index(\"ID\", inplace=True)"
      ]
    },
    {
      "cell_type": "code",
      "execution_count": null,
      "metadata": {
        "id": "a3m8ZDKaozRs"
      },
      "outputs": [],
      "source": [
        "for key in predicted_dict:\n",
        "    test_df.loc[key,\"TARGET\"]=predicted_dict[key] if predicted_dict[key]==1 else 2\n",
        "#test_df.loc[\"Kenya_1\",\"TARGET\"]=1"
      ]
    },
    {
      "cell_type": "code",
      "execution_count": null,
      "metadata": {
        "id": "UgVCYeBroaxY"
      },
      "outputs": [],
      "source": [
        "test_df.head()"
      ]
    },
    {
      "cell_type": "code",
      "execution_count": null,
      "metadata": {
        "id": "D7as5P1Bs_Eh"
      },
      "outputs": [],
      "source": [
        "test_df[\"TARGET\"]=test_df[\"TARGET\"].astype(int)\n"
      ]
    },
    {
      "cell_type": "code",
      "execution_count": null,
      "metadata": {
        "id": "jtJHkckQr47x"
      },
      "outputs": [],
      "source": [
        "test_df.to_csv(\"submission10.csv\",index=True)"
      ]
    }
  ],
  "metadata": {
    "colab": {
      "machine_shape": "hm",
      "provenance": [],
      "authorship_tag": "ABX9TyOZWi1dOywgaXVl+nbKD02j",
      "include_colab_link": true
    },
    "kernelspec": {
      "display_name": "Python 3",
      "name": "python3"
    },
    "language_info": {
      "name": "python"
    }
  },
  "nbformat": 4,
  "nbformat_minor": 0
}