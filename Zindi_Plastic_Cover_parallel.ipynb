{
  "cells": [
    {
      "cell_type": "markdown",
      "metadata": {
        "id": "view-in-github",
        "colab_type": "text"
      },
      "source": [
        "<a href=\"https://colab.research.google.com/github/sipocz/Zindi_plastic/blob/main/Zindi_Plastic_Cover_parallel.ipynb\" target=\"_parent\"><img src=\"https://colab.research.google.com/assets/colab-badge.svg\" alt=\"Open In Colab\"/></a>"
      ]
    },
    {
      "cell_type": "code",
      "execution_count": null,
      "metadata": {
        "colab": {
          "base_uri": "https://localhost:8080/",
          "height": 17
        },
        "id": "RvYh5dZOLEeQ",
        "outputId": "3c47d3b9-177e-40d0-cb30-ba445a96eb83"
      },
      "outputs": [
        {
          "data": {
            "text/html": [
              "\n",
              "            <style>\n",
              "                .geemap-dark {\n",
              "                    --jp-widgets-color: white;\n",
              "                    --jp-widgets-label-color: white;\n",
              "                    --jp-ui-font-color1: white;\n",
              "                    --jp-layout-color2: #454545;\n",
              "                    background-color: #383838;\n",
              "                }\n",
              "\n",
              "                .geemap-dark .jupyter-button {\n",
              "                    --jp-layout-color3: #383838;\n",
              "                }\n",
              "\n",
              "                .geemap-colab {\n",
              "                    background-color: var(--colab-primary-surface-color, white);\n",
              "                }\n",
              "\n",
              "                .geemap-colab .jupyter-button {\n",
              "                    --jp-layout-color3: var(--colab-primary-surface-color, white);\n",
              "                }\n",
              "            </style>\n",
              "            "
            ],
            "text/plain": [
              "<IPython.core.display.HTML object>"
            ]
          },
          "metadata": {},
          "output_type": "display_data"
        }
      ],
      "source": [
        "import ee\n",
        "import geemap\n",
        "import PIL\n",
        "import pandas\n",
        "from google.colab import drive"
      ]
    },
    {
      "cell_type": "code",
      "execution_count": null,
      "metadata": {
        "colab": {
          "base_uri": "https://localhost:8080/",
          "height": 17
        },
        "id": "4jD3OtPx1S2G",
        "outputId": "09727421-2116-4a0c-dda2-6b8f110b4a66"
      },
      "outputs": [
        {
          "data": {
            "text/html": [
              "\n",
              "            <style>\n",
              "                .geemap-dark {\n",
              "                    --jp-widgets-color: white;\n",
              "                    --jp-widgets-label-color: white;\n",
              "                    --jp-ui-font-color1: white;\n",
              "                    --jp-layout-color2: #454545;\n",
              "                    background-color: #383838;\n",
              "                }\n",
              "\n",
              "                .geemap-dark .jupyter-button {\n",
              "                    --jp-layout-color3: #383838;\n",
              "                }\n",
              "\n",
              "                .geemap-colab {\n",
              "                    background-color: var(--colab-primary-surface-color, white);\n",
              "                }\n",
              "\n",
              "                .geemap-colab .jupyter-button {\n",
              "                    --jp-layout-color3: var(--colab-primary-surface-color, white);\n",
              "                }\n",
              "            </style>\n",
              "            "
            ],
            "text/plain": [
              "<IPython.core.display.HTML object>"
            ]
          },
          "metadata": {},
          "output_type": "display_data"
        }
      ],
      "source": [
        "_DEBUG_=False\n",
        "_PROJECT_BASE_='/content/drive/MyDrive/Zindi_Plastic_images/'\n",
        "_IMAGES_='images'\n",
        "_TEST_IMAGES_='test_images'\n",
        "\n",
        "_ORIG_='orig'\n"
      ]
    },
    {
      "cell_type": "code",
      "execution_count": null,
      "metadata": {
        "colab": {
          "base_uri": "https://localhost:8080/",
          "height": 34
        },
        "id": "Cu87LL_rqqZv",
        "outputId": "753724f8-41dd-4e13-9465-0c6066c44d75"
      },
      "outputs": [
        {
          "data": {
            "text/html": [
              "\n",
              "            <style>\n",
              "                .geemap-dark {\n",
              "                    --jp-widgets-color: white;\n",
              "                    --jp-widgets-label-color: white;\n",
              "                    --jp-ui-font-color1: white;\n",
              "                    --jp-layout-color2: #454545;\n",
              "                    background-color: #383838;\n",
              "                }\n",
              "\n",
              "                .geemap-dark .jupyter-button {\n",
              "                    --jp-layout-color3: #383838;\n",
              "                }\n",
              "\n",
              "                .geemap-colab {\n",
              "                    background-color: var(--colab-primary-surface-color, white);\n",
              "                }\n",
              "\n",
              "                .geemap-colab .jupyter-button {\n",
              "                    --jp-layout-color3: var(--colab-primary-surface-color, white);\n",
              "                }\n",
              "            </style>\n",
              "            "
            ],
            "text/plain": [
              "<IPython.core.display.HTML object>"
            ]
          },
          "metadata": {},
          "output_type": "display_data"
        },
        {
          "name": "stdout",
          "output_type": "stream",
          "text": [
            "Drive already mounted at /content/drive; to attempt to forcibly remount, call drive.mount(\"/content/drive\", force_remount=True).\n"
          ]
        }
      ],
      "source": [
        "ee.Authenticate()\n",
        "ee.Initialize(project='zindiplasticproject')\n",
        "drive.mount('/content/drive')"
      ]
    },
    {
      "cell_type": "code",
      "execution_count": null,
      "metadata": {
        "colab": {
          "base_uri": "https://localhost:8080/",
          "height": 17
        },
        "id": "byHkxVztmmtG",
        "outputId": "6c62218a-1884-406b-8cc9-4b6c4c649696"
      },
      "outputs": [
        {
          "data": {
            "text/html": [
              "\n",
              "            <style>\n",
              "                .geemap-dark {\n",
              "                    --jp-widgets-color: white;\n",
              "                    --jp-widgets-label-color: white;\n",
              "                    --jp-ui-font-color1: white;\n",
              "                    --jp-layout-color2: #454545;\n",
              "                    background-color: #383838;\n",
              "                }\n",
              "\n",
              "                .geemap-dark .jupyter-button {\n",
              "                    --jp-layout-color3: #383838;\n",
              "                }\n",
              "\n",
              "                .geemap-colab {\n",
              "                    background-color: var(--colab-primary-surface-color, white);\n",
              "                }\n",
              "\n",
              "                .geemap-colab .jupyter-button {\n",
              "                    --jp-layout-color3: var(--colab-primary-surface-color, white);\n",
              "                }\n",
              "            </style>\n",
              "            "
            ],
            "text/plain": [
              "<IPython.core.display.HTML object>"
            ]
          },
          "metadata": {},
          "output_type": "display_data"
        }
      ],
      "source": [
        "def add_time(image):\n",
        "  return image.addBands(image.getNumber('system:time_start'))"
      ]
    },
    {
      "cell_type": "code",
      "execution_count": null,
      "metadata": {
        "colab": {
          "base_uri": "https://localhost:8080/",
          "height": 17
        },
        "id": "si4K6NmZpOSr",
        "outputId": "4725f125-138a-4955-9ddf-f61d1207f764"
      },
      "outputs": [
        {
          "data": {
            "text/html": [
              "\n",
              "            <style>\n",
              "                .geemap-dark {\n",
              "                    --jp-widgets-color: white;\n",
              "                    --jp-widgets-label-color: white;\n",
              "                    --jp-ui-font-color1: white;\n",
              "                    --jp-layout-color2: #454545;\n",
              "                    background-color: #383838;\n",
              "                }\n",
              "\n",
              "                .geemap-dark .jupyter-button {\n",
              "                    --jp-layout-color3: #383838;\n",
              "                }\n",
              "\n",
              "                .geemap-colab {\n",
              "                    background-color: var(--colab-primary-surface-color, white);\n",
              "                }\n",
              "\n",
              "                .geemap-colab .jupyter-button {\n",
              "                    --jp-layout-color3: var(--colab-primary-surface-color, white);\n",
              "                }\n",
              "            </style>\n",
              "            "
            ],
            "text/plain": [
              "<IPython.core.display.HTML object>"
            ]
          },
          "metadata": {},
          "output_type": "display_data"
        }
      ],
      "source": [
        "def conditional(image):\n",
        "  return ee.Algorithms.If(\n",
        "      ee.Number(image.get('SUN_ELEVATION')).gt(40), image, ee.Image(0)\n",
        "  )\n"
      ]
    },
    {
      "cell_type": "markdown",
      "metadata": {
        "id": "O4Q69aPvpvrd"
      },
      "source": []
    },
    {
      "cell_type": "code",
      "execution_count": null,
      "metadata": {
        "colab": {
          "base_uri": "https://localhost:8080/",
          "height": 17
        },
        "id": "jTM22ri_ctu6",
        "outputId": "9ede4075-c4fe-4a25-a0ee-e99d6b71ee90"
      },
      "outputs": [
        {
          "data": {
            "text/html": [
              "\n",
              "            <style>\n",
              "                .geemap-dark {\n",
              "                    --jp-widgets-color: white;\n",
              "                    --jp-widgets-label-color: white;\n",
              "                    --jp-ui-font-color1: white;\n",
              "                    --jp-layout-color2: #454545;\n",
              "                    background-color: #383838;\n",
              "                }\n",
              "\n",
              "                .geemap-dark .jupyter-button {\n",
              "                    --jp-layout-color3: #383838;\n",
              "                }\n",
              "\n",
              "                .geemap-colab {\n",
              "                    background-color: var(--colab-primary-surface-color, white);\n",
              "                }\n",
              "\n",
              "                .geemap-colab .jupyter-button {\n",
              "                    --jp-layout-color3: var(--colab-primary-surface-color, white);\n",
              "                }\n",
              "            </style>\n",
              "            "
            ],
            "text/plain": [
              "<IPython.core.display.HTML object>"
            ]
          },
          "metadata": {},
          "output_type": "display_data"
        }
      ],
      "source": [
        "def gamma_correct(gamma, path):\n",
        "    \"\"\"\n",
        "\n",
        "    Args:\n",
        "      gamma: selected gamma value\n",
        "      path: the path of the image\n",
        "\n",
        "    Returns: gamma corrected image\n",
        "\n",
        "    \"\"\"\n",
        "    im = PIL.Image.open(path)\n",
        "    gamma1 = gamma\n",
        "    row = im.size[0]\n",
        "    col = im.size[1]\n",
        "    result_img1 = PIL.Image.new(mode=\"RGB\", size=(row, col), color=0)\n",
        "    for x in range(row):\n",
        "        for y in range(col):\n",
        "            r = pow(im.getpixel((x, y))[0] / 255, (1 / gamma1)) * 255\n",
        "            g = pow(im.getpixel((x, y))[1] / 255, (1 / gamma1)) * 255\n",
        "            b = pow(im.getpixel((x, y))[2] / 255, (1 / gamma1)) * 255\n",
        "            # add\n",
        "            color = (int(r), int(g), int(b))\n",
        "            result_img1.putpixel((x, y), color)\n",
        "    #show\n",
        "    return result_img1"
      ]
    },
    {
      "cell_type": "code",
      "execution_count": null,
      "metadata": {
        "colab": {
          "base_uri": "https://localhost:8080/",
          "height": 17
        },
        "id": "8F2tFq3IevNF",
        "outputId": "c4cca491-42f0-4b60-f5ca-2091a6abaad6"
      },
      "outputs": [
        {
          "data": {
            "text/html": [
              "\n",
              "            <style>\n",
              "                .geemap-dark {\n",
              "                    --jp-widgets-color: white;\n",
              "                    --jp-widgets-label-color: white;\n",
              "                    --jp-ui-font-color1: white;\n",
              "                    --jp-layout-color2: #454545;\n",
              "                    background-color: #383838;\n",
              "                }\n",
              "\n",
              "                .geemap-dark .jupyter-button {\n",
              "                    --jp-layout-color3: #383838;\n",
              "                }\n",
              "\n",
              "                .geemap-colab {\n",
              "                    background-color: var(--colab-primary-surface-color, white);\n",
              "                }\n",
              "\n",
              "                .geemap-colab .jupyter-button {\n",
              "                    --jp-layout-color3: var(--colab-primary-surface-color, white);\n",
              "                }\n",
              "            </style>\n",
              "            "
            ],
            "text/plain": [
              "<IPython.core.display.HTML object>"
            ]
          },
          "metadata": {},
          "output_type": "display_data"
        }
      ],
      "source": [
        "def image_download(index=int,longitude=float,latitude=float,place=str,sat=None,band=None,sdate=\"2024-04-15\",edate=\"2024-04-17\"):\n",
        "    from math import gamma\n",
        "    import geemap\n",
        "    import ee\n",
        "\n",
        "    # Google Earth Engine inicializálása\n",
        "    ee.Initialize()\n",
        "\n",
        "    if sat==None:\n",
        "        sat='COPERNICUS/S2_HARMONIZED'\n",
        "    if band==None:\n",
        "        band=['B4','B3','B2']\n",
        "\n",
        "    # 1000 méteres körzet létrehozása Budapest középpontjában\n",
        "    point = ee.Geometry.Point([longitude, latitude])\n",
        "    buffer = point.buffer(10).bounds()  # 1000 méteres buffer\n",
        "\n",
        "    # Sentinel-2 műholdkép lekérése nappali időszakban\n",
        "    collection = ee.ImageCollection(sat) \\\n",
        "        .filterBounds(buffer) \\\n",
        "        .filterDate(sdate, edate) \\\n",
        "        .sort('CLOUDY_PIXEL_PERCENTAGE')  # Legkevésbé felhős kép kiválasztása\n",
        "    first_image = collection.first()  # Az első legkevésbé felhős kép\n",
        "\n",
        "    # Ellenőrizd, hogy az első kép érvényes\n",
        "    if first_image is None:\n",
        "        raise ValueError(\"Nem találtunk érvényes képet a megadott időszakban.\")\n",
        "\n",
        "    # Kép RGB sávok kiválasztása\n",
        "    image = first_image.select(band)  # Red, Green, Blue\n",
        "    import matplotlib.pyplot as plt\n",
        "\n",
        "    aoi=ee.Geometry.Rectangle(longitude-0.005,latitude-0.005,longitude+0.005,latitude+0.005 )\n",
        "\n",
        "\n",
        "    rgb_img = geemap.ee_to_numpy(image,region=aoi)\n",
        "    if _DEBUG_==True:\n",
        "        print(rgb_img.shape)\n",
        "\n",
        "    rgb_img_test = (255 * ((rgb_img[:, :, 0:3] ) / rgb_img[:,:,:].max())).astype(\"uint8\")\n",
        "    img=PIL.Image.fromarray(rgb_img_test)\n",
        "\n",
        "    img=img.resize((192,192))\n",
        "    return img\n"
      ]
    },
    {
      "cell_type": "code",
      "execution_count": null,
      "metadata": {
        "colab": {
          "base_uri": "https://localhost:8080/",
          "height": 17
        },
        "id": "0FzftTv-gvec",
        "outputId": "206c2c2a-f158-48c5-cded-f74500c484bd"
      },
      "outputs": [
        {
          "data": {
            "text/html": [
              "\n",
              "            <style>\n",
              "                .geemap-dark {\n",
              "                    --jp-widgets-color: white;\n",
              "                    --jp-widgets-label-color: white;\n",
              "                    --jp-ui-font-color1: white;\n",
              "                    --jp-layout-color2: #454545;\n",
              "                    background-color: #383838;\n",
              "                }\n",
              "\n",
              "                .geemap-dark .jupyter-button {\n",
              "                    --jp-layout-color3: #383838;\n",
              "                }\n",
              "\n",
              "                .geemap-colab {\n",
              "                    background-color: var(--colab-primary-surface-color, white);\n",
              "                }\n",
              "\n",
              "                .geemap-colab .jupyter-button {\n",
              "                    --jp-layout-color3: var(--colab-primary-surface-color, white);\n",
              "                }\n",
              "            </style>\n",
              "            "
            ],
            "text/plain": [
              "<IPython.core.display.HTML object>"
            ]
          },
          "metadata": {},
          "output_type": "display_data"
        }
      ],
      "source": [
        "pil_image=image_download(20,37.05635887,0.053674338,\"Kenya\",sat=\"COPERNICUS/S2_HARMONIZED\",band=['B4','B3','B2'],sdate=\"2024-04-14\",edate=\"2024-05-04\")"
      ]
    },
    {
      "cell_type": "code",
      "execution_count": null,
      "metadata": {
        "colab": {
          "base_uri": "https://localhost:8080/",
          "height": 209
        },
        "id": "P3DCtIJQz21B",
        "outputId": "129ca56c-db26-4cfb-f411-5a20515e1ac3"
      },
      "outputs": [
        {
          "data": {
            "text/html": [
              "\n",
              "            <style>\n",
              "                .geemap-dark {\n",
              "                    --jp-widgets-color: white;\n",
              "                    --jp-widgets-label-color: white;\n",
              "                    --jp-ui-font-color1: white;\n",
              "                    --jp-layout-color2: #454545;\n",
              "                    background-color: #383838;\n",
              "                }\n",
              "\n",
              "                .geemap-dark .jupyter-button {\n",
              "                    --jp-layout-color3: #383838;\n",
              "                }\n",
              "\n",
              "                .geemap-colab {\n",
              "                    background-color: var(--colab-primary-surface-color, white);\n",
              "                }\n",
              "\n",
              "                .geemap-colab .jupyter-button {\n",
              "                    --jp-layout-color3: var(--colab-primary-surface-color, white);\n",
              "                }\n",
              "            </style>\n",
              "            "
            ],
            "text/plain": [
              "<IPython.core.display.HTML object>"
            ]
          },
          "metadata": {},
          "output_type": "display_data"
        },
        {
          "data": {
            "image/jpeg": "[encoded data removed]",
            "image/png": "[encoded data removed]",
            "text/plain": [
              "<PIL.Image.Image image mode=RGB size=192x192>"
            ]
          },
          "execution_count": 82,
          "metadata": {},
          "output_type": "execute_result"
        }
      ],
      "source": [
        "pil_image"
      ]
    },
    {
      "cell_type": "code",
      "execution_count": null,
      "metadata": {
        "colab": {
          "base_uri": "https://localhost:8080/",
          "height": 198
        },
        "id": "ToaYYQH_yS89",
        "outputId": "3a0cff50-3bae-440d-af87-467ef7bc633a"
      },
      "outputs": [
        {
          "data": {
            "text/html": [
              "\n",
              "            <style>\n",
              "                .geemap-dark {\n",
              "                    --jp-widgets-color: white;\n",
              "                    --jp-widgets-label-color: white;\n",
              "                    --jp-ui-font-color1: white;\n",
              "                    --jp-layout-color2: #454545;\n",
              "                    background-color: #383838;\n",
              "                }\n",
              "\n",
              "                .geemap-dark .jupyter-button {\n",
              "                    --jp-layout-color3: #383838;\n",
              "                }\n",
              "\n",
              "                .geemap-colab {\n",
              "                    background-color: var(--colab-primary-surface-color, white);\n",
              "                }\n",
              "\n",
              "                .geemap-colab .jupyter-button {\n",
              "                    --jp-layout-color3: var(--colab-primary-surface-color, white);\n",
              "                }\n",
              "            </style>\n",
              "            "
            ],
            "text/plain": [
              "<IPython.core.display.HTML object>"
            ]
          },
          "metadata": {},
          "output_type": "display_data"
        },
        {
          "data": {
            "image/jpeg": "[encoded data removed]",
            "image/png": "[encoded data removed]",
            "text/plain": [
              "<PIL.Image.Image image mode=RGB size=181x181>"
            ]
          },
          "execution_count": 83,
          "metadata": {},
          "output_type": "execute_result"
        }
      ],
      "source": [
        "pil_image.crop((0,0,181,181))\n"
      ]
    },
    {
      "cell_type": "code",
      "execution_count": null,
      "metadata": {
        "colab": {
          "base_uri": "https://localhost:8080/",
          "height": 512
        },
        "id": "KeyhEEwXq7EJ",
        "outputId": "5177162a-e983-4927-86e8-331fa3bf5433"
      },
      "outputs": [
        {
          "data": {
            "text/html": [
              "\n",
              "            <style>\n",
              "                .geemap-dark {\n",
              "                    --jp-widgets-color: white;\n",
              "                    --jp-widgets-label-color: white;\n",
              "                    --jp-ui-font-color1: white;\n",
              "                    --jp-layout-color2: #454545;\n",
              "                    background-color: #383838;\n",
              "                }\n",
              "\n",
              "                .geemap-dark .jupyter-button {\n",
              "                    --jp-layout-color3: #383838;\n",
              "                }\n",
              "\n",
              "                .geemap-colab {\n",
              "                    background-color: var(--colab-primary-surface-color, white);\n",
              "                }\n",
              "\n",
              "                .geemap-colab .jupyter-button {\n",
              "                    --jp-layout-color3: var(--colab-primary-surface-color, white);\n",
              "                }\n",
              "            </style>\n",
              "            "
            ],
            "text/plain": [
              "<IPython.core.display.HTML object>"
            ]
          },
          "metadata": {},
          "output_type": "display_data"
        },
        {
          "ename": "Exception",
          "evalue": "Image.select: Parameter 'input' is required.",
          "output_type": "error",
          "traceback": [
            "\u001b[0;31m---------------------------------------------------------------------------\u001b[0m",
            "\u001b[0;31mHttpError\u001b[0m                                 Traceback (most recent call last)",
            "\u001b[0;32m/usr/local/lib/python3.10/dist-packages/ee/data.py\u001b[0m in \u001b[0;36m_execute_cloud_call\u001b[0;34m(call, num_retries)\u001b[0m\n\u001b[1;32m    405\u001b[0m   \u001b[0;32mtry\u001b[0m\u001b[0;34m:\u001b[0m\u001b[0;34m\u001b[0m\u001b[0;34m\u001b[0m\u001b[0m\n\u001b[0;32m--> 406\u001b[0;31m     \u001b[0;32mreturn\u001b[0m \u001b[0mcall\u001b[0m\u001b[0;34m.\u001b[0m\u001b[0mexecute\u001b[0m\u001b[0;34m(\u001b[0m\u001b[0mnum_retries\u001b[0m\u001b[0;34m=\u001b[0m\u001b[0mnum_retries\u001b[0m\u001b[0;34m)\u001b[0m\u001b[0;34m\u001b[0m\u001b[0;34m\u001b[0m\u001b[0m\n\u001b[0m\u001b[1;32m    407\u001b[0m   \u001b[0;32mexcept\u001b[0m \u001b[0mgoogleapiclient\u001b[0m\u001b[0;34m.\u001b[0m\u001b[0merrors\u001b[0m\u001b[0;34m.\u001b[0m\u001b[0mHttpError\u001b[0m \u001b[0;32mas\u001b[0m \u001b[0me\u001b[0m\u001b[0;34m:\u001b[0m\u001b[0;34m\u001b[0m\u001b[0;34m\u001b[0m\u001b[0m\n",
            "\u001b[0;32m/usr/local/lib/python3.10/dist-packages/googleapiclient/_helpers.py\u001b[0m in \u001b[0;36mpositional_wrapper\u001b[0;34m(*args, **kwargs)\u001b[0m\n\u001b[1;32m    129\u001b[0m                     \u001b[0mlogger\u001b[0m\u001b[0;34m.\u001b[0m\u001b[0mwarning\u001b[0m\u001b[0;34m(\u001b[0m\u001b[0mmessage\u001b[0m\u001b[0;34m)\u001b[0m\u001b[0;34m\u001b[0m\u001b[0;34m\u001b[0m\u001b[0m\n\u001b[0;32m--> 130\u001b[0;31m             \u001b[0;32mreturn\u001b[0m \u001b[0mwrapped\u001b[0m\u001b[0;34m(\u001b[0m\u001b[0;34m*\u001b[0m\u001b[0margs\u001b[0m\u001b[0;34m,\u001b[0m \u001b[0;34m**\u001b[0m\u001b[0mkwargs\u001b[0m\u001b[0;34m)\u001b[0m\u001b[0;34m\u001b[0m\u001b[0;34m\u001b[0m\u001b[0m\n\u001b[0m\u001b[1;32m    131\u001b[0m \u001b[0;34m\u001b[0m\u001b[0m\n",
            "\u001b[0;32m/usr/local/lib/python3.10/dist-packages/googleapiclient/http.py\u001b[0m in \u001b[0;36mexecute\u001b[0;34m(self, http, num_retries)\u001b[0m\n\u001b[1;32m    937\u001b[0m         \u001b[0;32mif\u001b[0m \u001b[0mresp\u001b[0m\u001b[0;34m.\u001b[0m\u001b[0mstatus\u001b[0m \u001b[0;34m>=\u001b[0m \u001b[0;36m300\u001b[0m\u001b[0;34m:\u001b[0m\u001b[0;34m\u001b[0m\u001b[0;34m\u001b[0m\u001b[0m\n\u001b[0;32m--> 938\u001b[0;31m             \u001b[0;32mraise\u001b[0m \u001b[0mHttpError\u001b[0m\u001b[0;34m(\u001b[0m\u001b[0mresp\u001b[0m\u001b[0;34m,\u001b[0m \u001b[0mcontent\u001b[0m\u001b[0;34m,\u001b[0m \u001b[0muri\u001b[0m\u001b[0;34m=\u001b[0m\u001b[0mself\u001b[0m\u001b[0;34m.\u001b[0m\u001b[0muri\u001b[0m\u001b[0;34m)\u001b[0m\u001b[0;34m\u001b[0m\u001b[0;34m\u001b[0m\u001b[0m\n\u001b[0m\u001b[1;32m    939\u001b[0m         \u001b[0;32mreturn\u001b[0m \u001b[0mself\u001b[0m\u001b[0;34m.\u001b[0m\u001b[0mpostproc\u001b[0m\u001b[0;34m(\u001b[0m\u001b[0mresp\u001b[0m\u001b[0;34m,\u001b[0m \u001b[0mcontent\u001b[0m\u001b[0;34m)\u001b[0m\u001b[0;34m\u001b[0m\u001b[0;34m\u001b[0m\u001b[0m\n",
            "\u001b[0;31mHttpError\u001b[0m: <HttpError 400 when requesting https://earthengine.googleapis.com/v1/projects/zindiplasticproject/image:computePixels? returned \"Image.select: Parameter 'input' is required.\". Details: \"Image.select: Parameter 'input' is required.\">",
            "\nDuring handling of the above exception, another exception occurred:\n",
            "\u001b[0;31mEEException\u001b[0m                               Traceback (most recent call last)",
            "\u001b[0;32m/usr/local/lib/python3.10/dist-packages/geemap/common.py\u001b[0m in \u001b[0;36mee_to_numpy\u001b[0;34m(ee_object, region, scale, bands, **kwargs)\u001b[0m\n\u001b[1;32m   3133\u001b[0m     \u001b[0;32mtry\u001b[0m\u001b[0;34m:\u001b[0m\u001b[0;34m\u001b[0m\u001b[0;34m\u001b[0m\u001b[0m\n\u001b[0;32m-> 3134\u001b[0;31m         \u001b[0mstruct_array\u001b[0m \u001b[0;34m=\u001b[0m \u001b[0mee\u001b[0m\u001b[0;34m.\u001b[0m\u001b[0mdata\u001b[0m\u001b[0;34m.\u001b[0m\u001b[0mcomputePixels\u001b[0m\u001b[0;34m(\u001b[0m\u001b[0mkwargs\u001b[0m\u001b[0;34m)\u001b[0m\u001b[0;34m\u001b[0m\u001b[0;34m\u001b[0m\u001b[0m\n\u001b[0m\u001b[1;32m   3135\u001b[0m         \u001b[0marray\u001b[0m \u001b[0;34m=\u001b[0m \u001b[0mnp\u001b[0m\u001b[0;34m.\u001b[0m\u001b[0mdstack\u001b[0m\u001b[0;34m(\u001b[0m\u001b[0;34m(\u001b[0m\u001b[0;34m[\u001b[0m\u001b[0mstruct_array\u001b[0m\u001b[0;34m[\u001b[0m\u001b[0mband\u001b[0m\u001b[0;34m]\u001b[0m \u001b[0;32mfor\u001b[0m \u001b[0mband\u001b[0m \u001b[0;32min\u001b[0m \u001b[0mstruct_array\u001b[0m\u001b[0;34m.\u001b[0m\u001b[0mdtype\u001b[0m\u001b[0;34m.\u001b[0m\u001b[0mnames\u001b[0m\u001b[0;34m]\u001b[0m\u001b[0;34m)\u001b[0m\u001b[0;34m)\u001b[0m\u001b[0;34m\u001b[0m\u001b[0;34m\u001b[0m\u001b[0m\n",
            "\u001b[0;32m/usr/local/lib/python3.10/dist-packages/ee/data.py\u001b[0m in \u001b[0;36mcomputePixels\u001b[0;34m(params)\u001b[0m\n\u001b[1;32m    951\u001b[0m   \u001b[0m_maybe_populate_workload_tag\u001b[0m\u001b[0;34m(\u001b[0m\u001b[0mparams\u001b[0m\u001b[0;34m)\u001b[0m\u001b[0;34m\u001b[0m\u001b[0;34m\u001b[0m\u001b[0m\n\u001b[0;32m--> 952\u001b[0;31m   data = _execute_cloud_call(\n\u001b[0m\u001b[1;32m    953\u001b[0m       \u001b[0m_get_cloud_projects_raw\u001b[0m\u001b[0;34m(\u001b[0m\u001b[0;34m)\u001b[0m\u001b[0;34m\u001b[0m\u001b[0;34m\u001b[0m\u001b[0m\n",
            "\u001b[0;32m/usr/local/lib/python3.10/dist-packages/ee/data.py\u001b[0m in \u001b[0;36m_execute_cloud_call\u001b[0;34m(call, num_retries)\u001b[0m\n\u001b[1;32m    407\u001b[0m   \u001b[0;32mexcept\u001b[0m \u001b[0mgoogleapiclient\u001b[0m\u001b[0;34m.\u001b[0m\u001b[0merrors\u001b[0m\u001b[0;34m.\u001b[0m\u001b[0mHttpError\u001b[0m \u001b[0;32mas\u001b[0m \u001b[0me\u001b[0m\u001b[0;34m:\u001b[0m\u001b[0;34m\u001b[0m\u001b[0;34m\u001b[0m\u001b[0m\n\u001b[0;32m--> 408\u001b[0;31m     \u001b[0;32mraise\u001b[0m \u001b[0m_translate_cloud_exception\u001b[0m\u001b[0;34m(\u001b[0m\u001b[0me\u001b[0m\u001b[0;34m)\u001b[0m  \u001b[0;31m# pylint: disable=raise-missing-from\u001b[0m\u001b[0;34m\u001b[0m\u001b[0;34m\u001b[0m\u001b[0m\n\u001b[0m\u001b[1;32m    409\u001b[0m \u001b[0;34m\u001b[0m\u001b[0m\n",
            "\u001b[0;31mEEException\u001b[0m: Image.select: Parameter 'input' is required.",
            "\nDuring handling of the above exception, another exception occurred:\n",
            "\u001b[0;31mException\u001b[0m                                 Traceback (most recent call last)",
            "\u001b[0;32m<ipython-input-84-6bc54cde75d2>\u001b[0m in \u001b[0;36m<cell line: 1>\u001b[0;34m()\u001b[0m\n\u001b[0;32m----> 1\u001b[0;31m \u001b[0mimage_download\u001b[0m\u001b[0;34m(\u001b[0m\u001b[0;36m20\u001b[0m\u001b[0;34m,\u001b[0m\u001b[0;36m37.05635887\u001b[0m\u001b[0;34m,\u001b[0m\u001b[0;36m0.053674338\u001b[0m\u001b[0;34m,\u001b[0m\u001b[0;34m\"Kenya\"\u001b[0m\u001b[0;34m)\u001b[0m\u001b[0;34m\u001b[0m\u001b[0;34m\u001b[0m\u001b[0m\n\u001b[0m",
            "\u001b[0;32m<ipython-input-80-a8ed6d05e026>\u001b[0m in \u001b[0;36mimage_download\u001b[0;34m(index, longitude, latitude, place, sat, band, sdate, edate)\u001b[0m\n\u001b[1;32m     34\u001b[0m \u001b[0;34m\u001b[0m\u001b[0m\n\u001b[1;32m     35\u001b[0m \u001b[0;34m\u001b[0m\u001b[0m\n\u001b[0;32m---> 36\u001b[0;31m     \u001b[0mrgb_img\u001b[0m \u001b[0;34m=\u001b[0m \u001b[0mgeemap\u001b[0m\u001b[0;34m.\u001b[0m\u001b[0mee_to_numpy\u001b[0m\u001b[0;34m(\u001b[0m\u001b[0mimage\u001b[0m\u001b[0;34m,\u001b[0m\u001b[0mregion\u001b[0m\u001b[0;34m=\u001b[0m\u001b[0maoi\u001b[0m\u001b[0;34m)\u001b[0m\u001b[0;34m\u001b[0m\u001b[0;34m\u001b[0m\u001b[0m\n\u001b[0m\u001b[1;32m     37\u001b[0m     \u001b[0;32mif\u001b[0m \u001b[0m_DEBUG_\u001b[0m\u001b[0;34m==\u001b[0m\u001b[0;32mTrue\u001b[0m\u001b[0;34m:\u001b[0m\u001b[0;34m\u001b[0m\u001b[0;34m\u001b[0m\u001b[0m\n\u001b[1;32m     38\u001b[0m         \u001b[0mprint\u001b[0m\u001b[0;34m(\u001b[0m\u001b[0mrgb_img\u001b[0m\u001b[0;34m.\u001b[0m\u001b[0mshape\u001b[0m\u001b[0;34m)\u001b[0m\u001b[0;34m\u001b[0m\u001b[0;34m\u001b[0m\u001b[0m\n",
            "\u001b[0;32m/usr/local/lib/python3.10/dist-packages/geemap/common.py\u001b[0m in \u001b[0;36mee_to_numpy\u001b[0;34m(ee_object, region, scale, bands, **kwargs)\u001b[0m\n\u001b[1;32m   3136\u001b[0m         \u001b[0;32mreturn\u001b[0m \u001b[0marray\u001b[0m\u001b[0;34m\u001b[0m\u001b[0;34m\u001b[0m\u001b[0m\n\u001b[1;32m   3137\u001b[0m     \u001b[0;32mexcept\u001b[0m \u001b[0mException\u001b[0m \u001b[0;32mas\u001b[0m \u001b[0me\u001b[0m\u001b[0;34m:\u001b[0m\u001b[0;34m\u001b[0m\u001b[0;34m\u001b[0m\u001b[0m\n\u001b[0;32m-> 3138\u001b[0;31m         \u001b[0;32mraise\u001b[0m \u001b[0mException\u001b[0m\u001b[0;34m(\u001b[0m\u001b[0me\u001b[0m\u001b[0;34m)\u001b[0m\u001b[0;34m\u001b[0m\u001b[0;34m\u001b[0m\u001b[0m\n\u001b[0m\u001b[1;32m   3139\u001b[0m \u001b[0;34m\u001b[0m\u001b[0m\n\u001b[1;32m   3140\u001b[0m \u001b[0;34m\u001b[0m\u001b[0m\n",
            "\u001b[0;31mException\u001b[0m: Image.select: Parameter 'input' is required."
          ]
        }
      ],
      "source": [
        "image_download(20,37.05635887,0.053674338,\"Kenya\")"
      ]
    },
    {
      "cell_type": "code",
      "execution_count": null,
      "metadata": {
        "colab": {
          "base_uri": "https://localhost:8080/",
          "height": 17
        },
        "id": "tmE8sddw5Zmb",
        "outputId": "9d965ae7-58f4-4c02-91fb-9ad0653bbaa1"
      },
      "outputs": [
        {
          "data": {
            "text/html": [
              "\n",
              "            <style>\n",
              "                .geemap-dark {\n",
              "                    --jp-widgets-color: white;\n",
              "                    --jp-widgets-label-color: white;\n",
              "                    --jp-ui-font-color1: white;\n",
              "                    --jp-layout-color2: #454545;\n",
              "                    background-color: #383838;\n",
              "                }\n",
              "\n",
              "                .geemap-dark .jupyter-button {\n",
              "                    --jp-layout-color3: #383838;\n",
              "                }\n",
              "\n",
              "                .geemap-colab {\n",
              "                    background-color: var(--colab-primary-surface-color, white);\n",
              "                }\n",
              "\n",
              "                .geemap-colab .jupyter-button {\n",
              "                    --jp-layout-color3: var(--colab-primary-surface-color, white);\n",
              "                }\n",
              "            </style>\n",
              "            "
            ],
            "text/plain": [
              "<IPython.core.display.HTML object>"
            ]
          },
          "metadata": {},
          "output_type": "display_data"
        }
      ],
      "source": [
        "\n",
        "df_kenya=pandas.read_csv(_PROJECT_BASE_+_ORIG_+\"/Kenya_training.csv\")\n"
      ]
    },
    {
      "cell_type": "code",
      "execution_count": null,
      "metadata": {
        "colab": {
          "base_uri": "https://localhost:8080/",
          "height": 206
        },
        "id": "TcFVu1Ry520_",
        "outputId": "20311e62-9d4d-48be-ec25-3f6af154d07a"
      },
      "outputs": [
        {
          "data": {
            "text/html": [
              "\n",
              "            <style>\n",
              "                .geemap-dark {\n",
              "                    --jp-widgets-color: white;\n",
              "                    --jp-widgets-label-color: white;\n",
              "                    --jp-ui-font-color1: white;\n",
              "                    --jp-layout-color2: #454545;\n",
              "                    background-color: #383838;\n",
              "                }\n",
              "\n",
              "                .geemap-dark .jupyter-button {\n",
              "                    --jp-layout-color3: #383838;\n",
              "                }\n",
              "\n",
              "                .geemap-colab {\n",
              "                    background-color: var(--colab-primary-surface-color, white);\n",
              "                }\n",
              "\n",
              "                .geemap-colab .jupyter-button {\n",
              "                    --jp-layout-color3: var(--colab-primary-surface-color, white);\n",
              "                }\n",
              "            </style>\n",
              "            "
            ],
            "text/plain": [
              "<IPython.core.display.HTML object>"
            ]
          },
          "metadata": {},
          "output_type": "display_data"
        },
        {
          "data": {
            "application/vnd.google.colaboratory.intrinsic+json": {
              "summary": "{\n  \"name\": \"df_kenya\",\n  \"rows\": 998,\n  \"fields\": [\n    {\n      \"column\": \"ID\",\n      \"properties\": {\n        \"dtype\": \"number\",\n        \"std\": 288,\n        \"min\": 1,\n        \"max\": 998,\n        \"num_unique_values\": 998,\n        \"samples\": [\n          454,\n          793,\n          210\n        ],\n        \"semantic_type\": \"\",\n        \"description\": \"\"\n      }\n    },\n    {\n      \"column\": \"lon\",\n      \"properties\": {\n        \"dtype\": \"number\",\n        \"std\": 0.11206765076160381,\n        \"min\": 37.02689413,\n        \"max\": 37.49806049,\n        \"num_unique_values\": 837,\n        \"samples\": [\n          37.29243613,\n          37.13981236,\n          37.18823155\n        ],\n        \"semantic_type\": \"\",\n        \"description\": \"\"\n      }\n    },\n    {\n      \"column\": \"lat\",\n      \"properties\": {\n        \"dtype\": \"number\",\n        \"std\": 0.03486646800897548,\n        \"min\": 0.005794134,\n        \"max\": 0.172880776,\n        \"num_unique_values\": 734,\n        \"samples\": [\n          0.079815313,\n          0.024568923,\n          0.084217058\n        ],\n        \"semantic_type\": \"\",\n        \"description\": \"\"\n      }\n    },\n    {\n      \"column\": \"blue_p50\",\n      \"properties\": {\n        \"dtype\": \"number\",\n        \"std\": 691.2459286751322,\n        \"min\": 1253.5,\n        \"max\": 6130.0,\n        \"num_unique_values\": 814,\n        \"samples\": [\n          2653.0,\n          2307.0,\n          2394.0\n        ],\n        \"semantic_type\": \"\",\n        \"description\": \"\"\n      }\n    },\n    {\n      \"column\": \"green_p50\",\n      \"properties\": {\n        \"dtype\": \"number\",\n        \"std\": 651.3999838880973,\n        \"min\": 1381.0,\n        \"max\": 6066.0,\n        \"num_unique_values\": 811,\n        \"samples\": [\n          3127.0,\n          1962.5,\n          2998.0\n        ],\n        \"semantic_type\": \"\",\n        \"description\": \"\"\n      }\n    },\n    {\n      \"column\": \"nir_p50\",\n      \"properties\": {\n        \"dtype\": \"number\",\n        \"std\": 880.8745865923812,\n        \"min\": 2061.0,\n        \"max\": 9248.0,\n        \"num_unique_values\": 887,\n        \"samples\": [\n          4708.0,\n          3697.5,\n          4099.0\n        ],\n        \"semantic_type\": \"\",\n        \"description\": \"\"\n      }\n    },\n    {\n      \"column\": \"nira_p50\",\n      \"properties\": {\n        \"dtype\": \"number\",\n        \"std\": 886.3298090559589,\n        \"min\": 2139.5,\n        \"max\": 9507.0,\n        \"num_unique_values\": 918,\n        \"samples\": [\n          4100.0,\n          4643.0,\n          5570.5\n        ],\n        \"semantic_type\": \"\",\n        \"description\": \"\"\n      }\n    },\n    {\n      \"column\": \"re1_p50\",\n      \"properties\": {\n        \"dtype\": \"number\",\n        \"std\": 622.3039049933311,\n        \"min\": 1617.5,\n        \"max\": 6839.0,\n        \"num_unique_values\": 850,\n        \"samples\": [\n          2468.0,\n          3029.5,\n          3079.0\n        ],\n        \"semantic_type\": \"\",\n        \"description\": \"\"\n      }\n    },\n    {\n      \"column\": \"re2_p50\",\n      \"properties\": {\n        \"dtype\": \"number\",\n        \"std\": 770.130321833918,\n        \"min\": 2083.5,\n        \"max\": 8542.0,\n        \"num_unique_values\": 918,\n        \"samples\": [\n          3496.0,\n          3326.0,\n          4669.0\n        ],\n        \"semantic_type\": \"\",\n        \"description\": \"\"\n      }\n    },\n    {\n      \"column\": \"re3_p50\",\n      \"properties\": {\n        \"dtype\": \"number\",\n        \"std\": 876.3657565072401,\n        \"min\": 2121.5,\n        \"max\": 9235.0,\n        \"num_unique_values\": 914,\n        \"samples\": [\n          5605.0,\n          3745.5,\n          4823.5\n        ],\n        \"semantic_type\": \"\",\n        \"description\": \"\"\n      }\n    },\n    {\n      \"column\": \"red_p50\",\n      \"properties\": {\n        \"dtype\": \"number\",\n        \"std\": 687.7014275103177,\n        \"min\": 1243.0,\n        \"max\": 6140.0,\n        \"num_unique_values\": 828,\n        \"samples\": [\n          1889.0,\n          1470.0,\n          2382.0\n        ],\n        \"semantic_type\": \"\",\n        \"description\": \"\"\n      }\n    },\n    {\n      \"column\": \"swir1_p50\",\n      \"properties\": {\n        \"dtype\": \"number\",\n        \"std\": 633.2483223462934,\n        \"min\": 1579.5,\n        \"max\": 10014.0,\n        \"num_unique_values\": 846,\n        \"samples\": [\n          3038.5,\n          3767.0,\n          3162.5\n        ],\n        \"semantic_type\": \"\",\n        \"description\": \"\"\n      }\n    },\n    {\n      \"column\": \"swir2_p50\",\n      \"properties\": {\n        \"dtype\": \"number\",\n        \"std\": 702.9692724495522,\n        \"min\": 1347.5,\n        \"max\": 10692.0,\n        \"num_unique_values\": 849,\n        \"samples\": [\n          2941.0,\n          3381.0,\n          2287.5\n        ],\n        \"semantic_type\": \"\",\n        \"description\": \"\"\n      }\n    },\n    {\n      \"column\": \"VV_p50\",\n      \"properties\": {\n        \"dtype\": \"number\",\n        \"std\": 2.2313588719655204,\n        \"min\": -14.470079,\n        \"max\": 10.258422,\n        \"num_unique_values\": 998,\n        \"samples\": [\n          -7.324046,\n          -8.037611,\n          -7.5932474\n        ],\n        \"semantic_type\": \"\",\n        \"description\": \"\"\n      }\n    },\n    {\n      \"column\": \"VH_p50\",\n      \"properties\": {\n        \"dtype\": \"number\",\n        \"std\": 2.22491054665548,\n        \"min\": -26.436514,\n        \"max\": -4.934835,\n        \"num_unique_values\": 998,\n        \"samples\": [\n          -13.990783,\n          -14.440332,\n          -14.221652\n        ],\n        \"semantic_type\": \"\",\n        \"description\": \"\"\n      }\n    },\n    {\n      \"column\": \"TARGET\",\n      \"properties\": {\n        \"dtype\": \"number\",\n        \"std\": 0,\n        \"min\": 1,\n        \"max\": 2,\n        \"num_unique_values\": 2,\n        \"samples\": [\n          2,\n          1\n        ],\n        \"semantic_type\": \"\",\n        \"description\": \"\"\n      }\n    }\n  ]\n}",
              "type": "dataframe",
              "variable_name": "df_kenya"
            },
            "text/html": [
              "\n",
              "  <div id=\"df-b50e1373-9e0e-4ee9-86b7-62db14b98a33\" class=\"colab-df-container\">\n",
              "    <div>\n",
              "<style scoped>\n",
              "    .dataframe tbody tr th:only-of-type {\n",
              "        vertical-align: middle;\n",
              "    }\n",
              "\n",
              "    .dataframe tbody tr th {\n",
              "        vertical-align: top;\n",
              "    }\n",
              "\n",
              "    .dataframe thead th {\n",
              "        text-align: right;\n",
              "    }\n",
              "</style>\n",
              "<table border=\"1\" class=\"dataframe\">\n",
              "  <thead>\n",
              "    <tr style=\"text-align: right;\">\n",
              "      <th></th>\n",
              "      <th>ID</th>\n",
              "      <th>lon</th>\n",
              "      <th>lat</th>\n",
              "      <th>blue_p50</th>\n",
              "      <th>green_p50</th>\n",
              "      <th>nir_p50</th>\n",
              "      <th>nira_p50</th>\n",
              "      <th>re1_p50</th>\n",
              "      <th>re2_p50</th>\n",
              "      <th>re3_p50</th>\n",
              "      <th>red_p50</th>\n",
              "      <th>swir1_p50</th>\n",
              "      <th>swir2_p50</th>\n",
              "      <th>VV_p50</th>\n",
              "      <th>VH_p50</th>\n",
              "      <th>TARGET</th>\n",
              "    </tr>\n",
              "  </thead>\n",
              "  <tbody>\n",
              "    <tr>\n",
              "      <th>0</th>\n",
              "      <td>1</td>\n",
              "      <td>37.059054</td>\n",
              "      <td>0.046039</td>\n",
              "      <td>2731.0</td>\n",
              "      <td>3035.0</td>\n",
              "      <td>5418.0</td>\n",
              "      <td>5306.5</td>\n",
              "      <td>2958.0</td>\n",
              "      <td>4610.5</td>\n",
              "      <td>5099.5</td>\n",
              "      <td>2994.0</td>\n",
              "      <td>4108.5</td>\n",
              "      <td>3187.5</td>\n",
              "      <td>-6.861458</td>\n",
              "      <td>-12.162713</td>\n",
              "      <td>1</td>\n",
              "    </tr>\n",
              "    <tr>\n",
              "      <th>1</th>\n",
              "      <td>2</td>\n",
              "      <td>37.059503</td>\n",
              "      <td>0.047296</td>\n",
              "      <td>2921.0</td>\n",
              "      <td>3329.0</td>\n",
              "      <td>5834.0</td>\n",
              "      <td>6472.0</td>\n",
              "      <td>4144.5</td>\n",
              "      <td>5782.0</td>\n",
              "      <td>6302.0</td>\n",
              "      <td>3344.0</td>\n",
              "      <td>5269.0</td>\n",
              "      <td>4471.5</td>\n",
              "      <td>-8.082717</td>\n",
              "      <td>-14.619608</td>\n",
              "      <td>1</td>\n",
              "    </tr>\n",
              "    <tr>\n",
              "      <th>2</th>\n",
              "      <td>3</td>\n",
              "      <td>37.057527</td>\n",
              "      <td>0.047656</td>\n",
              "      <td>3828.0</td>\n",
              "      <td>4163.0</td>\n",
              "      <td>6420.0</td>\n",
              "      <td>7890.5</td>\n",
              "      <td>5408.5</td>\n",
              "      <td>6695.5</td>\n",
              "      <td>7302.0</td>\n",
              "      <td>4380.0</td>\n",
              "      <td>6905.0</td>\n",
              "      <td>6905.5</td>\n",
              "      <td>-7.767043</td>\n",
              "      <td>-14.880353</td>\n",
              "      <td>1</td>\n",
              "    </tr>\n",
              "    <tr>\n",
              "      <th>3</th>\n",
              "      <td>4</td>\n",
              "      <td>37.057976</td>\n",
              "      <td>0.047925</td>\n",
              "      <td>2556.0</td>\n",
              "      <td>2839.0</td>\n",
              "      <td>4822.0</td>\n",
              "      <td>5276.5</td>\n",
              "      <td>3201.0</td>\n",
              "      <td>4643.0</td>\n",
              "      <td>5069.5</td>\n",
              "      <td>2787.0</td>\n",
              "      <td>3832.0</td>\n",
              "      <td>2867.5</td>\n",
              "      <td>-7.773118</td>\n",
              "      <td>-15.587653</td>\n",
              "      <td>1</td>\n",
              "    </tr>\n",
              "    <tr>\n",
              "      <th>4</th>\n",
              "      <td>5</td>\n",
              "      <td>37.056359</td>\n",
              "      <td>0.048554</td>\n",
              "      <td>3790.0</td>\n",
              "      <td>4009.0</td>\n",
              "      <td>6476.0</td>\n",
              "      <td>6199.5</td>\n",
              "      <td>4285.0</td>\n",
              "      <td>5711.0</td>\n",
              "      <td>6079.5</td>\n",
              "      <td>3939.0</td>\n",
              "      <td>4892.5</td>\n",
              "      <td>3702.5</td>\n",
              "      <td>-6.104467</td>\n",
              "      <td>-15.431915</td>\n",
              "      <td>1</td>\n",
              "    </tr>\n",
              "  </tbody>\n",
              "</table>\n",
              "</div>\n",
              "    <div class=\"colab-df-buttons\">\n",
              "\n",
              "  <div class=\"colab-df-container\">\n",
              "    <button class=\"colab-df-convert\" onclick=\"convertToInteractive('df-b50e1373-9e0e-4ee9-86b7-62db14b98a33')\"\n",
              "            title=\"Convert this dataframe to an interactive table.\"\n",
              "            style=\"display:none;\">\n",
              "\n",
              "  <svg xmlns=\"http://www.w3.org/2000/svg\" height=\"24px\" viewBox=\"0 -960 960 960\">\n",
              "    <path d=\"M120-120v-720h720v720H120Zm60-500h600v-160H180v160Zm220 220h160v-160H400v160Zm0 220h160v-160H400v160ZM180-400h160v-160H180v160Zm440 0h160v-160H620v160ZM180-180h160v-160H180v160Zm440 0h160v-160H620v160Z\"/>\n",
              "  </svg>\n",
              "    </button>\n",
              "\n",
              "  <style>\n",
              "    .colab-df-container {\n",
              "      display:flex;\n",
              "      gap: 12px;\n",
              "    }\n",
              "\n",
              "    .colab-df-convert {\n",
              "      background-color: #E8F0FE;\n",
              "      border: none;\n",
              "      border-radius: 50%;\n",
              "      cursor: pointer;\n",
              "      display: none;\n",
              "      fill: #1967D2;\n",
              "      height: 32px;\n",
              "      padding: 0 0 0 0;\n",
              "      width: 32px;\n",
              "    }\n",
              "\n",
              "    .colab-df-convert:hover {\n",
              "      background-color: #E2EBFA;\n",
              "      box-shadow: 0px 1px 2px rgba(60, 64, 67, 0.3), 0px 1px 3px 1px rgba(60, 64, 67, 0.15);\n",
              "      fill: #174EA6;\n",
              "    }\n",
              "\n",
              "    .colab-df-buttons div {\n",
              "      margin-bottom: 4px;\n",
              "    }\n",
              "\n",
              "    [theme=dark] .colab-df-convert {\n",
              "      background-color: #3B4455;\n",
              "      fill: #D2E3FC;\n",
              "    }\n",
              "\n",
              "    [theme=dark] .colab-df-convert:hover {\n",
              "      background-color: #434B5C;\n",
              "      box-shadow: 0px 1px 3px 1px rgba(0, 0, 0, 0.15);\n",
              "      filter: drop-shadow(0px 1px 2px rgba(0, 0, 0, 0.3));\n",
              "      fill: #FFFFFF;\n",
              "    }\n",
              "  </style>\n",
              "\n",
              "    <script>\n",
              "      const buttonEl =\n",
              "        document.querySelector('#df-b50e1373-9e0e-4ee9-86b7-62db14b98a33 button.colab-df-convert');\n",
              "      buttonEl.style.display =\n",
              "        google.colab.kernel.accessAllowed ? 'block' : 'none';\n",
              "\n",
              "      async function convertToInteractive(key) {\n",
              "        const element = document.querySelector('#df-b50e1373-9e0e-4ee9-86b7-62db14b98a33');\n",
              "        const dataTable =\n",
              "          await google.colab.kernel.invokeFunction('convertToInteractive',\n",
              "                                                    [key], {});\n",
              "        if (!dataTable) return;\n",
              "\n",
              "        const docLinkHtml = 'Like what you see? Visit the ' +\n",
              "          '<a target=\"_blank\" href=https://colab.research.google.com/notebooks/data_table.ipynb>data table notebook</a>'\n",
              "          + ' to learn more about interactive tables.';\n",
              "        element.innerHTML = '';\n",
              "        dataTable['output_type'] = 'display_data';\n",
              "        await google.colab.output.renderOutput(dataTable, element);\n",
              "        const docLink = document.createElement('div');\n",
              "        docLink.innerHTML = docLinkHtml;\n",
              "        element.appendChild(docLink);\n",
              "      }\n",
              "    </script>\n",
              "  </div>\n",
              "\n",
              "\n",
              "<div id=\"df-93e580b3-bcbe-45bb-902f-4bbd63017fa6\">\n",
              "  <button class=\"colab-df-quickchart\" onclick=\"quickchart('df-93e580b3-bcbe-45bb-902f-4bbd63017fa6')\"\n",
              "            title=\"Suggest charts\"\n",
              "            style=\"display:none;\">\n",
              "\n",
              "<svg xmlns=\"http://www.w3.org/2000/svg\" height=\"24px\"viewBox=\"0 0 24 24\"\n",
              "     width=\"24px\">\n",
              "    <g>\n",
              "        <path d=\"M19 3H5c-1.1 0-2 .9-2 2v14c0 1.1.9 2 2 2h14c1.1 0 2-.9 2-2V5c0-1.1-.9-2-2-2zM9 17H7v-7h2v7zm4 0h-2V7h2v10zm4 0h-2v-4h2v4z\"/>\n",
              "    </g>\n",
              "</svg>\n",
              "  </button>\n",
              "\n",
              "<style>\n",
              "  .colab-df-quickchart {\n",
              "      --bg-color: #E8F0FE;\n",
              "      --fill-color: #1967D2;\n",
              "      --hover-bg-color: #E2EBFA;\n",
              "      --hover-fill-color: #174EA6;\n",
              "      --disabled-fill-color: #AAA;\n",
              "      --disabled-bg-color: #DDD;\n",
              "  }\n",
              "\n",
              "  [theme=dark] .colab-df-quickchart {\n",
              "      --bg-color: #3B4455;\n",
              "      --fill-color: #D2E3FC;\n",
              "      --hover-bg-color: #434B5C;\n",
              "      --hover-fill-color: #FFFFFF;\n",
              "      --disabled-bg-color: #3B4455;\n",
              "      --disabled-fill-color: #666;\n",
              "  }\n",
              "\n",
              "  .colab-df-quickchart {\n",
              "    background-color: var(--bg-color);\n",
              "    border: none;\n",
              "    border-radius: 50%;\n",
              "    cursor: pointer;\n",
              "    display: none;\n",
              "    fill: var(--fill-color);\n",
              "    height: 32px;\n",
              "    padding: 0;\n",
              "    width: 32px;\n",
              "  }\n",
              "\n",
              "  .colab-df-quickchart:hover {\n",
              "    background-color: var(--hover-bg-color);\n",
              "    box-shadow: 0 1px 2px rgba(60, 64, 67, 0.3), 0 1px 3px 1px rgba(60, 64, 67, 0.15);\n",
              "    fill: var(--button-hover-fill-color);\n",
              "  }\n",
              "\n",
              "  .colab-df-quickchart-complete:disabled,\n",
              "  .colab-df-quickchart-complete:disabled:hover {\n",
              "    background-color: var(--disabled-bg-color);\n",
              "    fill: var(--disabled-fill-color);\n",
              "    box-shadow: none;\n",
              "  }\n",
              "\n",
              "  .colab-df-spinner {\n",
              "    border: 2px solid var(--fill-color);\n",
              "    border-color: transparent;\n",
              "    border-bottom-color: var(--fill-color);\n",
              "    animation:\n",
              "      spin 1s steps(1) infinite;\n",
              "  }\n",
              "\n",
              "  @keyframes spin {\n",
              "    0% {\n",
              "      border-color: transparent;\n",
              "      border-bottom-color: var(--fill-color);\n",
              "      border-left-color: var(--fill-color);\n",
              "    }\n",
              "    20% {\n",
              "      border-color: transparent;\n",
              "      border-left-color: var(--fill-color);\n",
              "      border-top-color: var(--fill-color);\n",
              "    }\n",
              "    30% {\n",
              "      border-color: transparent;\n",
              "      border-left-color: var(--fill-color);\n",
              "      border-top-color: var(--fill-color);\n",
              "      border-right-color: var(--fill-color);\n",
              "    }\n",
              "    40% {\n",
              "      border-color: transparent;\n",
              "      border-right-color: var(--fill-color);\n",
              "      border-top-color: var(--fill-color);\n",
              "    }\n",
              "    60% {\n",
              "      border-color: transparent;\n",
              "      border-right-color: var(--fill-color);\n",
              "    }\n",
              "    80% {\n",
              "      border-color: transparent;\n",
              "      border-right-color: var(--fill-color);\n",
              "      border-bottom-color: var(--fill-color);\n",
              "    }\n",
              "    90% {\n",
              "      border-color: transparent;\n",
              "      border-bottom-color: var(--fill-color);\n",
              "    }\n",
              "  }\n",
              "</style>\n",
              "\n",
              "  <script>\n",
              "    async function quickchart(key) {\n",
              "      const quickchartButtonEl =\n",
              "        document.querySelector('#' + key + ' button');\n",
              "      quickchartButtonEl.disabled = true;  // To prevent multiple clicks.\n",
              "      quickchartButtonEl.classList.add('colab-df-spinner');\n",
              "      try {\n",
              "        const charts = await google.colab.kernel.invokeFunction(\n",
              "            'suggestCharts', [key], {});\n",
              "      } catch (error) {\n",
              "        console.error('Error during call to suggestCharts:', error);\n",
              "      }\n",
              "      quickchartButtonEl.classList.remove('colab-df-spinner');\n",
              "      quickchartButtonEl.classList.add('colab-df-quickchart-complete');\n",
              "    }\n",
              "    (() => {\n",
              "      let quickchartButtonEl =\n",
              "        document.querySelector('#df-93e580b3-bcbe-45bb-902f-4bbd63017fa6 button');\n",
              "      quickchartButtonEl.style.display =\n",
              "        google.colab.kernel.accessAllowed ? 'block' : 'none';\n",
              "    })();\n",
              "  </script>\n",
              "</div>\n",
              "\n",
              "    </div>\n",
              "  </div>\n"
            ],
            "text/plain": [
              "   ID        lon       lat  blue_p50  green_p50  nir_p50  nira_p50  re1_p50  \\\n",
              "0   1  37.059054  0.046039    2731.0     3035.0   5418.0    5306.5   2958.0   \n",
              "1   2  37.059503  0.047296    2921.0     3329.0   5834.0    6472.0   4144.5   \n",
              "2   3  37.057527  0.047656    3828.0     4163.0   6420.0    7890.5   5408.5   \n",
              "3   4  37.057976  0.047925    2556.0     2839.0   4822.0    5276.5   3201.0   \n",
              "4   5  37.056359  0.048554    3790.0     4009.0   6476.0    6199.5   4285.0   \n",
              "\n",
              "   re2_p50  re3_p50  red_p50  swir1_p50  swir2_p50    VV_p50     VH_p50  \\\n",
              "0   4610.5   5099.5   2994.0     4108.5     3187.5 -6.861458 -12.162713   \n",
              "1   5782.0   6302.0   3344.0     5269.0     4471.5 -8.082717 -14.619608   \n",
              "2   6695.5   7302.0   4380.0     6905.0     6905.5 -7.767043 -14.880353   \n",
              "3   4643.0   5069.5   2787.0     3832.0     2867.5 -7.773118 -15.587653   \n",
              "4   5711.0   6079.5   3939.0     4892.5     3702.5 -6.104467 -15.431915   \n",
              "\n",
              "   TARGET  \n",
              "0       1  \n",
              "1       1  \n",
              "2       1  \n",
              "3       1  \n",
              "4       1  "
            ]
          },
          "execution_count": 86,
          "metadata": {},
          "output_type": "execute_result"
        }
      ],
      "source": [
        "df_kenya.head()"
      ]
    },
    {
      "cell_type": "code",
      "execution_count": null,
      "metadata": {
        "colab": {
          "base_uri": "https://localhost:8080/",
          "height": 17
        },
        "id": "NTEV4_2d6L14",
        "outputId": "8c89921f-bc9c-4dbc-d0a1-9709a3a091c1"
      },
      "outputs": [
        {
          "data": {
            "text/html": [
              "\n",
              "            <style>\n",
              "                .geemap-dark {\n",
              "                    --jp-widgets-color: white;\n",
              "                    --jp-widgets-label-color: white;\n",
              "                    --jp-ui-font-color1: white;\n",
              "                    --jp-layout-color2: #454545;\n",
              "                    background-color: #383838;\n",
              "                }\n",
              "\n",
              "                .geemap-dark .jupyter-button {\n",
              "                    --jp-layout-color3: #383838;\n",
              "                }\n",
              "\n",
              "                .geemap-colab {\n",
              "                    background-color: var(--colab-primary-surface-color, white);\n",
              "                }\n",
              "\n",
              "                .geemap-colab .jupyter-button {\n",
              "                    --jp-layout-color3: var(--colab-primary-surface-color, white);\n",
              "                }\n",
              "            </style>\n",
              "            "
            ],
            "text/plain": [
              "<IPython.core.display.HTML object>"
            ]
          },
          "metadata": {},
          "output_type": "display_data"
        }
      ],
      "source": [
        "def image_generation(df,image_id):\n",
        "    for i,row in df.iterrows():\n",
        "        image=image_download(row.ID,row.lon,row.lat,image_id,sat=_sat_,band=_band_,sdate=\"2024-04-14\",edate=\"2024-05-04\")\n",
        "        image.save(_PROJECT_BASE_+_IMAGES_+\"/\"+str(int(row.ID))+'_'+str(int(row.TARGET))+\"_\"+image_id+\".jpg\")\n",
        "        print(str(i).rjust(3,'0'),end=\".\")\n",
        "        if i % 20==0:\n",
        "            print(\"*\")"
      ]
    },
    {
      "cell_type": "code",
      "execution_count": null,
      "metadata": {
        "colab": {
          "base_uri": "https://localhost:8080/",
          "height": 17
        },
        "id": "KjuyREwoeo88",
        "outputId": "5d294f2c-13bc-40c3-feda-bb7648a7b96b"
      },
      "outputs": [
        {
          "data": {
            "text/html": [
              "\n",
              "            <style>\n",
              "                .geemap-dark {\n",
              "                    --jp-widgets-color: white;\n",
              "                    --jp-widgets-label-color: white;\n",
              "                    --jp-ui-font-color1: white;\n",
              "                    --jp-layout-color2: #454545;\n",
              "                    background-color: #383838;\n",
              "                }\n",
              "\n",
              "                .geemap-dark .jupyter-button {\n",
              "                    --jp-layout-color3: #383838;\n",
              "                }\n",
              "\n",
              "                .geemap-colab {\n",
              "                    background-color: var(--colab-primary-surface-color, white);\n",
              "                }\n",
              "\n",
              "                .geemap-colab .jupyter-button {\n",
              "                    --jp-layout-color3: var(--colab-primary-surface-color, white);\n",
              "                }\n",
              "            </style>\n",
              "            "
            ],
            "text/plain": [
              "<IPython.core.display.HTML object>"
            ]
          },
          "metadata": {},
          "output_type": "display_data"
        }
      ],
      "source": [
        "_sat_=None\n",
        "_band_=None\n",
        "_image_id_=\"kenya\""
      ]
    },
    {
      "cell_type": "code",
      "execution_count": null,
      "metadata": {
        "colab": {
          "base_uri": "https://localhost:8080/",
          "height": 902
        },
        "id": "lxMIU4aG66fM",
        "outputId": "14383d28-f69d-4861-809d-f770e2da6a5c"
      },
      "outputs": [
        {
          "data": {
            "text/html": [
              "\n",
              "            <style>\n",
              "                .geemap-dark {\n",
              "                    --jp-widgets-color: white;\n",
              "                    --jp-widgets-label-color: white;\n",
              "                    --jp-ui-font-color1: white;\n",
              "                    --jp-layout-color2: #454545;\n",
              "                    background-color: #383838;\n",
              "                }\n",
              "\n",
              "                .geemap-dark .jupyter-button {\n",
              "                    --jp-layout-color3: #383838;\n",
              "                }\n",
              "\n",
              "                .geemap-colab {\n",
              "                    background-color: var(--colab-primary-surface-color, white);\n",
              "                }\n",
              "\n",
              "                .geemap-colab .jupyter-button {\n",
              "                    --jp-layout-color3: var(--colab-primary-surface-color, white);\n",
              "                }\n",
              "            </style>\n",
              "            "
            ],
            "text/plain": [
              "<IPython.core.display.HTML object>"
            ]
          },
          "metadata": {},
          "output_type": "display_data"
        },
        {
          "name": "stdout",
          "output_type": "stream",
          "text": [
            "000.*\n",
            "001.002.003.004.005.006.007.008.009.010.011.012.013.014.015.016.017.018.019.020.*\n",
            "021.022.023.024.025.026.027.028.029.030.031.032.033.034.035.036.037.038.039.040.*\n",
            "041.042.043.044.045.046.047.048.049.050.051.052.053.054.055.056.057.058.059.060.*\n",
            "061.062.063.064.065.066.067.068.069.070.071.072.073.074.075.076.077.078.079.080.*\n",
            "081.082.083.084.085.086.087.088.089.090.091.092.093.094.095.096.097.098.099.100.*\n",
            "101.102.103.104.105.106.107.108.109.110.111.112.113.114.115.116.117.118.119.120.*\n",
            "121.122.123.124.125.126.127.128.129.130.131.132.133.134.135.136.137.138.139.140.*\n",
            "141.142.143.144.145.146.147.148.149.150.151.152.153.154.155.156.157.158.159.160.*\n",
            "161.162.163.164.165.166.167.168.169.170.171.172.173.174.175.176.177.178.179.180.*\n",
            "181.182.183.184.185.186.187.188.189.190.191.192.193.194.195.196.197.198.199.200.*\n",
            "201.202.203.204.205.206.207.208.209.210.211.212.213.214.215.216.217.218.219.220.*\n",
            "221.222.223.224.225.226.227.228.229.230.231.232.233.234.235.236.237.238.239.240.*\n",
            "241.242.243.244.245.246.247.248.249.250.251.252.253.254.255.256.257.258.259.260.*\n",
            "261.262.263.264.265.266.267.268.269.270.271.272.273.274.275.276.277.278.279.280.*\n",
            "281.282.283.284.285.286.287.288.289.290.291.292.293.294.295.296.297.298.299.300.*\n",
            "301.302.303.304.305.306.307.308.309.310.311.312.313.314.315.316.317.318.319.320.*\n",
            "321.322.323.324.325.326.327.328.329.330.331.332.333.334.335.336.337.338.339.340.*\n",
            "341.342.343.344.345.346.347.348.349.350.351.352.353.354.355.356.357.358.359.360.*\n",
            "361.362.363.364.365.366.367.368.369.370.371.372.373.374.375.376.377.378.379.380.*\n",
            "381.382.383.384.385.386.387.388.389.390.391.392.393.394.395.396.397.398.399.400.*\n",
            "401.402.403.404.405.406.407.408.409.410.411.412.413.414.415.416.417.418.419.420.*\n",
            "421.422.423.424.425.426.427.428.429.430.431.432.433.434.435.436.437.438.439.440.*\n",
            "441.442.443.444.445.446.447.448.449.450.451.452.453.454.455.456.457.458.459.460.*\n",
            "461.462.463.464.465.466.467.468.469.470.471.472.473.474.475.476.477.478.479.480.*\n",
            "481.482.483.484.485.486.487.488.489.490.491.492.493.494.495.496.497.498.499.500.*\n",
            "501.502.503.504.505.506.507.508.509.510.511.512.513.514.515.516.517.518.519.520.*\n",
            "521.522.523.524.525.526.527.528.529.530.531.532.533.534.535.536.537.538.539.540.*\n",
            "541.542.543.544.545.546.547.548.549.550.551.552.553.554.555.556.557.558.559.560.*\n",
            "561.562.563.564.565.566.567.568.569.570.571.572.573.574.575.576.577.578.579.580.*\n",
            "581.582.583.584.585.586.587.588.589.590.591.592.593.594.595.596.597.598.599.600.*\n",
            "601.602.603.604.605.606.607.608.609.610.611.612.613.614.615.616.617.618.619.620.*\n",
            "621.622.623.624.625.626.627.628.629.630.631.632.633.634.635.636.637.638.639.640.*\n",
            "641.642.643.644.645.646.647.648.649.650.651.652.653.654.655.656.657.658.659.660.*\n",
            "661.662.663.664.665.666.667.668.669.670.671.672.673.674.675.676.677.678.679.680.*\n",
            "681.682.683.684.685.686.687.688.689.690.691.692.693.694.695.696.697.698.699.700.*\n",
            "701.702.703.704.705.706.707.708.709.710.711.712.713.714.715.716.717.718.719.720.*\n",
            "721.722.723.724.725.726.727.728.729.730.731.732.733.734.735.736.737.738.739.740.*\n",
            "741.742.743.744.745.746.747.748.749.750.751.752.753.754.755.756.757.758.759.760.*\n",
            "761.762.763.764.765.766.767.768.769.770.771.772.773.774.775.776.777.778.779.780.*\n",
            "781.782.783.784.785.786.787.788.789.790.791.792.793.794.795.796.797.798.799.800.*\n",
            "801.802.803.804.805.806.807.808.809.810.811.812.813.814.815.816.817.818.819.820.*\n",
            "821.822.823.824.825.826.827.828.829.830.831.832.833.834.835.836.837.838.839.840.*\n",
            "841.842.843.844.845.846.847.848.849.850.851.852.853.854.855.856.857.858.859.860.*\n",
            "861.862.863.864.865.866.867.868.869.870.871.872.873.874.875.876.877.878.879.880.*\n",
            "881.882.883.884.885.886.887.888.889.890.891.892.893.894.895.896.897.898.899.900.*\n",
            "901.902.903.904.905.906.907.908.909.910.911.912.913.914.915.916.917.918.919.920.*\n",
            "921.922.923.924.925.926.927.928.929.930.931.932.933.934.935.936.937.938.939.940.*\n",
            "941.942.943.944.945.946.947.948.949.950.951.952.953.954.955.956.957.958.959.960.*\n",
            "961.962.963.964.965.966.967.968.969.970.971.972.973.974.975.976.977.978.979.980.*\n",
            "981.982.983.984.985.986.987.988.989.990.991.992.993.994.995.996.997."
          ]
        }
      ],
      "source": [
        "image_generation(df_kenya,_image_id_)"
      ]
    },
    {
      "cell_type": "code",
      "execution_count": 1,
      "metadata": {
        "colab": {
          "base_uri": "https://localhost:8080/",
          "height": 158
        },
        "id": "FH2KjYXIEb3f",
        "outputId": "04f8e351-0354-410c-975e-a0b96155ce7a"
      },
      "outputs": [
        {
          "output_type": "error",
          "ename": "NameError",
          "evalue": "name 'pandas' is not defined",
          "traceback": [
            "\u001b[0;31m---------------------------------------------------------------------------\u001b[0m",
            "\u001b[0;31mNameError\u001b[0m                                 Traceback (most recent call last)",
            "\u001b[0;32m<ipython-input-1-07d04b23f9d1>\u001b[0m in \u001b[0;36m<cell line: 1>\u001b[0;34m()\u001b[0m\n\u001b[0;32m----> 1\u001b[0;31m \u001b[0mdf_spain\u001b[0m\u001b[0;34m=\u001b[0m\u001b[0mpandas\u001b[0m\u001b[0;34m.\u001b[0m\u001b[0mread_csv\u001b[0m\u001b[0;34m(\u001b[0m\u001b[0m_PROJECT_BASE_\u001b[0m\u001b[0;34m+\u001b[0m\u001b[0m_ORIG_\u001b[0m\u001b[0;34m+\u001b[0m\u001b[0;34m\"/Spain_training.csv\"\u001b[0m\u001b[0;34m)\u001b[0m\u001b[0;34m\u001b[0m\u001b[0;34m\u001b[0m\u001b[0m\n\u001b[0m\u001b[1;32m      2\u001b[0m \u001b[0m_image_id_\u001b[0m\u001b[0;34m=\u001b[0m\u001b[0;34m\"spain\"\u001b[0m\u001b[0;34m\u001b[0m\u001b[0;34m\u001b[0m\u001b[0m\n",
            "\u001b[0;31mNameError\u001b[0m: name 'pandas' is not defined"
          ]
        }
      ],
      "source": [
        "df_spain=pandas.read_csv(_PROJECT_BASE_+_ORIG_+\"/Spain_training.csv\")\n",
        "_image_id_=\"spain\""
      ]
    },
    {
      "cell_type": "code",
      "execution_count": null,
      "metadata": {
        "colab": {
          "base_uri": "https://localhost:8080/",
          "height": 781
        },
        "id": "3fQ2gO2iEvnd",
        "outputId": "0c105dee-5725-4210-b0d1-6aa2b8c877b0"
      },
      "outputs": [
        {
          "data": {
            "text/html": [
              "\n",
              "            <style>\n",
              "                .geemap-dark {\n",
              "                    --jp-widgets-color: white;\n",
              "                    --jp-widgets-label-color: white;\n",
              "                    --jp-ui-font-color1: white;\n",
              "                    --jp-layout-color2: #454545;\n",
              "                    background-color: #383838;\n",
              "                }\n",
              "\n",
              "                .geemap-dark .jupyter-button {\n",
              "                    --jp-layout-color3: #383838;\n",
              "                }\n",
              "\n",
              "                .geemap-colab {\n",
              "                    background-color: var(--colab-primary-surface-color, white);\n",
              "                }\n",
              "\n",
              "                .geemap-colab .jupyter-button {\n",
              "                    --jp-layout-color3: var(--colab-primary-surface-color, white);\n",
              "                }\n",
              "            </style>\n",
              "            "
            ],
            "text/plain": [
              "<IPython.core.display.HTML object>"
            ]
          },
          "metadata": {},
          "output_type": "display_data"
        },
        {
          "name": "stdout",
          "output_type": "stream",
          "text": [
            "000.*\n",
            "001.002.003.004.005.006.007.008.009.010.011.012.013.014.015.016.017.018.019.020.*\n",
            "021.022.023.024.025.026.027.028.029.030.031.032.033.034.035.036.037.038.039.040.*\n",
            "041.042.043.044.045.046.047.048.049.050.051.052.053.054.055.056.057.058.059.060.*\n",
            "061.062.063.064.065.066.067.068.069.070.071.072.073.074.075.076.077.078.079.080.*\n",
            "081.082.083.084.085.086.087.088.089.090.091.092.093.094.095.096.097.098.099.100.*\n",
            "101.102.103.104.105.106.107.108.109.110.111.112.113.114.115.116.117.118.119.120.*\n",
            "121.122.123.124.125.126.127.128.129.130.131.132.133.134.135.136.137.138.139.140.*\n",
            "141.142.143.144.145.146.147.148.149.150.151.152.153.154.155.156.157.158.159.160.*\n",
            "161.162.163.164.165.166.167.168.169.170.171.172.173.174.175.176.177.178.179.180.*\n",
            "181.182.183.184.185.186.187.188.189.190.191.192.193.194.195.196.197.198.199.200.*\n",
            "201.202.203.204.205.206.207.208.209.210.211.212.213.214.215.216.217.218.219.220.*\n",
            "221.222.223.224.225.226.227.228.229.230.231.232.233.234.235.236.237.238.239.240.*\n",
            "241.242.243.244.245.246.247.248.249.250.251.252.253.254.255.256.257.258.259.260.*\n",
            "261.262.263.264.265.266.267.268.269.270.271.272.273.274.275.276.277.278.279.280.*\n",
            "281.282.283.284.285.286.287.288.289.290.291.292.293.294.295.296.297.298.299.300.*\n",
            "301.302.303.304.305.306.307.308.309.310.311.312.313.314.315.316.317.318.319.320.*\n",
            "321.322.323.324.325.326.327.328.329.330.331.332.333.334.335.336.337.338.339.340.*\n",
            "341.342.343.344.345.346.347.348.349.350.351.352.353.354.355.356.357.358.359.360.*\n",
            "361.362.363.364.365.366.367.368.369.370.371.372.373.374.375.376.377.378.379.380.*\n",
            "381.382.383.384.385.386.387.388.389.390.391.392.393.394.395.396.397.398.399.400.*\n",
            "401.402.403.404.405.406.407.408.409.410.411.412.413.414.415.416.417.418.419.420.*\n",
            "421.422.423.424.425.426.427.428.429.430.431.432.433.434.435.436.437.438.439.440.*\n",
            "441.442.443.444.445.446.447.448.449.450.451.452.453.454.455.456.457.458.459.460.*\n",
            "461.462.463.464.465.466.467.468.469.470.471.472.473.474.475.476.477.478.479.480.*\n",
            "481.482.483.484.485.486.487.488.489.490.491.492.493.494.495.496.497.498.499.500.*\n",
            "501.502.503.504.505.506.507.508.509.510.511.512.513.514.515.516.517.518.519.520.*\n",
            "521.522.523.524.525.526.527.528.529.530.531.532.533.534.535.536.537.538.539.540.*\n",
            "541.542.543.544.545.546.547.548.549.550.551.552.553.554.555.556.557.558.559.560.*\n",
            "561.562.563.564.565.566.567.568.569.570.571.572.573.574.575.576.577.578.579.580.*\n",
            "581.582.583.584.585.586.587.588.589.590.591.592.593.594.595.596.597.598.599.600.*\n",
            "601.602.603.604.605.606.607.608.609.610.611.612.613.614.615.616.617.618.619.620.*\n",
            "621.622.623.624.625.626.627.628.629.630.631.632.633.634.635.636.637.638.639.640.*\n",
            "641.642.643.644.645.646.647.648.649.650.651.652.653.654.655.656.657.658.659.660.*\n",
            "661.662.663.664.665.666.667.668.669.670.671.672.673.674.675.676.677.678.679.680.*\n",
            "681.682.683.684.685.686.687.688.689.690.691.692.693.694.695.696.697.698.699.700.*\n",
            "701.702.703.704.705.706.707.708.709.710.711.712.713.714.715.716.717.718.719.720.*\n",
            "721.722.723.724.725.726.727.728.729.730.731.732.733.734.735.736.737.738.739.740.*\n",
            "741.742.743.744.745.746.747.748.749.750.751.752.753.754.755.756.757.758.759.760.*\n",
            "761.762.763.764.765.766.767.768.769.770.771.772.773.774.775.776.777.778.779.780.*\n",
            "781.782.783.784.785.786.787.788.789.790.791.792.793.794.795.796.797.798.799.800.*\n",
            "801.802.803.804.805.806.807.808.809.810.811.812.813.814.815.816.817.818.819.820.*\n",
            "821.822.823.824.825.826.827.828.829.830.831.832.833.834.835.836.837.838.839.840.*\n",
            "841.842.843.844.845.846.847.848.849.850.851.852.853.854.855.856.857."
          ]
        }
      ],
      "source": [
        "image_generation(df_spain,_image_id_)"
      ]
    },
    {
      "cell_type": "code",
      "execution_count": null,
      "metadata": {
        "colab": {
          "base_uri": "https://localhost:8080/",
          "height": 17
        },
        "id": "UVo-1ZdEFKFb",
        "outputId": "79b0fa37-5a85-41db-f6c2-d28b043e393e"
      },
      "outputs": [
        {
          "data": {
            "text/html": [
              "\n",
              "            <style>\n",
              "                .geemap-dark {\n",
              "                    --jp-widgets-color: white;\n",
              "                    --jp-widgets-label-color: white;\n",
              "                    --jp-ui-font-color1: white;\n",
              "                    --jp-layout-color2: #454545;\n",
              "                    background-color: #383838;\n",
              "                }\n",
              "\n",
              "                .geemap-dark .jupyter-button {\n",
              "                    --jp-layout-color3: #383838;\n",
              "                }\n",
              "\n",
              "                .geemap-colab {\n",
              "                    background-color: var(--colab-primary-surface-color, white);\n",
              "                }\n",
              "\n",
              "                .geemap-colab .jupyter-button {\n",
              "                    --jp-layout-color3: var(--colab-primary-surface-color, white);\n",
              "                }\n",
              "            </style>\n",
              "            "
            ],
            "text/plain": [
              "<IPython.core.display.HTML object>"
            ]
          },
          "metadata": {},
          "output_type": "display_data"
        }
      ],
      "source": [
        "df_vnm=pandas.read_csv(_PROJECT_BASE_+_ORIG_+\"/VNM_training.csv\")\n",
        "_image_id_=\"vnm\""
      ]
    },
    {
      "cell_type": "code",
      "execution_count": null,
      "metadata": {
        "colab": {
          "base_uri": "https://localhost:8080/",
          "height": 206
        },
        "id": "0ACXS2X57fZN",
        "outputId": "62bddd24-de73-4529-a66a-ae203ca30ad1"
      },
      "outputs": [
        {
          "data": {
            "text/html": [
              "\n",
              "            <style>\n",
              "                .geemap-dark {\n",
              "                    --jp-widgets-color: white;\n",
              "                    --jp-widgets-label-color: white;\n",
              "                    --jp-ui-font-color1: white;\n",
              "                    --jp-layout-color2: #454545;\n",
              "                    background-color: #383838;\n",
              "                }\n",
              "\n",
              "                .geemap-dark .jupyter-button {\n",
              "                    --jp-layout-color3: #383838;\n",
              "                }\n",
              "\n",
              "                .geemap-colab {\n",
              "                    background-color: var(--colab-primary-surface-color, white);\n",
              "                }\n",
              "\n",
              "                .geemap-colab .jupyter-button {\n",
              "                    --jp-layout-color3: var(--colab-primary-surface-color, white);\n",
              "                }\n",
              "            </style>\n",
              "            "
            ],
            "text/plain": [
              "<IPython.core.display.HTML object>"
            ]
          },
          "metadata": {},
          "output_type": "display_data"
        },
        {
          "data": {
            "application/vnd.google.colaboratory.intrinsic+json": {
              "summary": "{\n  \"name\": \"df_vnm\",\n  \"rows\": 969,\n  \"fields\": [\n    {\n      \"column\": \"ID\",\n      \"properties\": {\n        \"dtype\": \"number\",\n        \"std\": 279,\n        \"min\": 1,\n        \"max\": 969,\n        \"num_unique_values\": 969,\n        \"samples\": [\n          576,\n          260,\n          389\n        ],\n        \"semantic_type\": \"\",\n        \"description\": \"\"\n      }\n    },\n    {\n      \"column\": \"Lon\",\n      \"properties\": {\n        \"dtype\": \"number\",\n        \"std\": 0.08213609259508034,\n        \"min\": 108.0610854,\n        \"max\": 108.4987446,\n        \"num_unique_values\": 793,\n        \"samples\": [\n          108.3967858,\n          108.3993011,\n          108.3724415\n        ],\n        \"semantic_type\": \"\",\n        \"description\": \"\"\n      }\n    },\n    {\n      \"column\": \"Lat\",\n      \"properties\": {\n        \"dtype\": \"number\",\n        \"std\": 0.19111250977997735,\n        \"min\": 11.30291732,\n        \"max\": 12.26636046,\n        \"num_unique_values\": 869,\n        \"samples\": [\n          12.01582032,\n          11.91251407,\n          11.96093326\n        ],\n        \"semantic_type\": \"\",\n        \"description\": \"\"\n      }\n    },\n    {\n      \"column\": \"blue_p50\",\n      \"properties\": {\n        \"dtype\": \"number\",\n        \"std\": 387.34485914284664,\n        \"min\": 1157.5,\n        \"max\": 4055.0,\n        \"num_unique_values\": 732,\n        \"samples\": [\n          2548.0,\n          2418.0,\n          1970.5\n        ],\n        \"semantic_type\": \"\",\n        \"description\": \"\"\n      }\n    },\n    {\n      \"column\": \"green_p50\",\n      \"properties\": {\n        \"dtype\": \"number\",\n        \"std\": 405.08481332468926,\n        \"min\": 1183.0,\n        \"max\": 4300.0,\n        \"num_unique_values\": 718,\n        \"samples\": [\n          2244.0,\n          2630.0,\n          2624.0\n        ],\n        \"semantic_type\": \"\",\n        \"description\": \"\"\n      }\n    },\n    {\n      \"column\": \"nir_p50\",\n      \"properties\": {\n        \"dtype\": \"number\",\n        \"std\": 654.4757240833961,\n        \"min\": 1441.0,\n        \"max\": 5988.0,\n        \"num_unique_values\": 871,\n        \"samples\": [\n          3980.0,\n          4799.0,\n          3334.0\n        ],\n        \"semantic_type\": \"\",\n        \"description\": \"\"\n      }\n    },\n    {\n      \"column\": \"nira_p50\",\n      \"properties\": {\n        \"dtype\": \"number\",\n        \"std\": 647.3543486051657,\n        \"min\": 1482.0,\n        \"max\": 6244.5,\n        \"num_unique_values\": 879,\n        \"samples\": [\n          3435.0,\n          3729.0,\n          3293.0\n        ],\n        \"semantic_type\": \"\",\n        \"description\": \"\"\n      }\n    },\n    {\n      \"column\": \"re1_p50\",\n      \"properties\": {\n        \"dtype\": \"number\",\n        \"std\": 445.6364522295456,\n        \"min\": 1357.5,\n        \"max\": 5027.0,\n        \"num_unique_values\": 813,\n        \"samples\": [\n          2589.5,\n          1962.5,\n          2069.0\n        ],\n        \"semantic_type\": \"\",\n        \"description\": \"\"\n      }\n    },\n    {\n      \"column\": \"re2_p50\",\n      \"properties\": {\n        \"dtype\": \"number\",\n        \"std\": 513.8783286469453,\n        \"min\": 1528.0,\n        \"max\": 5457.0,\n        \"num_unique_values\": 848,\n        \"samples\": [\n          3387.0,\n          4282.0,\n          3371.5\n        ],\n        \"semantic_type\": \"\",\n        \"description\": \"\"\n      }\n    },\n    {\n      \"column\": \"re3_p50\",\n      \"properties\": {\n        \"dtype\": \"number\",\n        \"std\": 617.5966411016938,\n        \"min\": 1506.5,\n        \"max\": 5981.0,\n        \"num_unique_values\": 873,\n        \"samples\": [\n          4037.5,\n          3015.5,\n          3049.0\n        ],\n        \"semantic_type\": \"\",\n        \"description\": \"\"\n      }\n    },\n    {\n      \"column\": \"red_p50\",\n      \"properties\": {\n        \"dtype\": \"number\",\n        \"std\": 488.4854390254277,\n        \"min\": 1118.0,\n        \"max\": 4720.0,\n        \"num_unique_values\": 755,\n        \"samples\": [\n          1886.0,\n          1781.5,\n          2654.0\n        ],\n        \"semantic_type\": \"\",\n        \"description\": \"\"\n      }\n    },\n    {\n      \"column\": \"swir1_p50\",\n      \"properties\": {\n        \"dtype\": \"number\",\n        \"std\": 666.9658204906906,\n        \"min\": 1345.0,\n        \"max\": 6909.5,\n        \"num_unique_values\": 865,\n        \"samples\": [\n          3459.5,\n          2675.0,\n          4142.5\n        ],\n        \"semantic_type\": \"\",\n        \"description\": \"\"\n      }\n    },\n    {\n      \"column\": \"swir2_p50\",\n      \"properties\": {\n        \"dtype\": \"number\",\n        \"std\": 692.1763781463993,\n        \"min\": 1216.0,\n        \"max\": 7017.0,\n        \"num_unique_values\": 867,\n        \"samples\": [\n          2255.0,\n          2431.0,\n          2499.0\n        ],\n        \"semantic_type\": \"\",\n        \"description\": \"\"\n      }\n    },\n    {\n      \"column\": \"VV_p50\",\n      \"properties\": {\n        \"dtype\": \"number\",\n        \"std\": 3.2060908864335267,\n        \"min\": -20.104712,\n        \"max\": 10.327686,\n        \"num_unique_values\": 969,\n        \"samples\": [\n          -10.789919,\n          -6.4684606,\n          -6.2459755\n        ],\n        \"semantic_type\": \"\",\n        \"description\": \"\"\n      }\n    },\n    {\n      \"column\": \"VH_p50\",\n      \"properties\": {\n        \"dtype\": \"number\",\n        \"std\": 2.847634868757892,\n        \"min\": -26.794939,\n        \"max\": -0.2638729,\n        \"num_unique_values\": 968,\n        \"samples\": [\n          -18.92373,\n          -13.335454,\n          -13.563985\n        ],\n        \"semantic_type\": \"\",\n        \"description\": \"\"\n      }\n    },\n    {\n      \"column\": \"TARGET\",\n      \"properties\": {\n        \"dtype\": \"number\",\n        \"std\": 0,\n        \"min\": 1,\n        \"max\": 2,\n        \"num_unique_values\": 2,\n        \"samples\": [\n          2,\n          1\n        ],\n        \"semantic_type\": \"\",\n        \"description\": \"\"\n      }\n    }\n  ]\n}",
              "type": "dataframe",
              "variable_name": "df_vnm"
            },
            "text/html": [
              "\n",
              "  <div id=\"df-c8cb1592-c00b-4554-9c6a-66a5519ed5db\" class=\"colab-df-container\">\n",
              "    <div>\n",
              "<style scoped>\n",
              "    .dataframe tbody tr th:only-of-type {\n",
              "        vertical-align: middle;\n",
              "    }\n",
              "\n",
              "    .dataframe tbody tr th {\n",
              "        vertical-align: top;\n",
              "    }\n",
              "\n",
              "    .dataframe thead th {\n",
              "        text-align: right;\n",
              "    }\n",
              "</style>\n",
              "<table border=\"1\" class=\"dataframe\">\n",
              "  <thead>\n",
              "    <tr style=\"text-align: right;\">\n",
              "      <th></th>\n",
              "      <th>ID</th>\n",
              "      <th>Lon</th>\n",
              "      <th>Lat</th>\n",
              "      <th>blue_p50</th>\n",
              "      <th>green_p50</th>\n",
              "      <th>nir_p50</th>\n",
              "      <th>nira_p50</th>\n",
              "      <th>re1_p50</th>\n",
              "      <th>re2_p50</th>\n",
              "      <th>re3_p50</th>\n",
              "      <th>red_p50</th>\n",
              "      <th>swir1_p50</th>\n",
              "      <th>swir2_p50</th>\n",
              "      <th>VV_p50</th>\n",
              "      <th>VH_p50</th>\n",
              "      <th>TARGET</th>\n",
              "    </tr>\n",
              "  </thead>\n",
              "  <tbody>\n",
              "    <tr>\n",
              "      <th>0</th>\n",
              "      <td>1</td>\n",
              "      <td>108.307403</td>\n",
              "      <td>11.706890</td>\n",
              "      <td>1772.5</td>\n",
              "      <td>2081.5</td>\n",
              "      <td>4393.0</td>\n",
              "      <td>4322.0</td>\n",
              "      <td>2542.0</td>\n",
              "      <td>3974.5</td>\n",
              "      <td>4315.0</td>\n",
              "      <td>1901.5</td>\n",
              "      <td>2929.5</td>\n",
              "      <td>2324.0</td>\n",
              "      <td>-5.506588</td>\n",
              "      <td>-16.577070</td>\n",
              "      <td>1</td>\n",
              "    </tr>\n",
              "    <tr>\n",
              "      <th>1</th>\n",
              "      <td>2</td>\n",
              "      <td>108.363279</td>\n",
              "      <td>11.778036</td>\n",
              "      <td>2178.0</td>\n",
              "      <td>2347.0</td>\n",
              "      <td>3427.0</td>\n",
              "      <td>3712.0</td>\n",
              "      <td>2658.5</td>\n",
              "      <td>3358.0</td>\n",
              "      <td>3628.5</td>\n",
              "      <td>2313.0</td>\n",
              "      <td>3122.0</td>\n",
              "      <td>2729.5</td>\n",
              "      <td>-7.798610</td>\n",
              "      <td>-14.007271</td>\n",
              "      <td>1</td>\n",
              "    </tr>\n",
              "    <tr>\n",
              "      <th>2</th>\n",
              "      <td>3</td>\n",
              "      <td>108.193946</td>\n",
              "      <td>11.689462</td>\n",
              "      <td>2927.0</td>\n",
              "      <td>3107.0</td>\n",
              "      <td>4365.0</td>\n",
              "      <td>4624.5</td>\n",
              "      <td>3378.0</td>\n",
              "      <td>4221.5</td>\n",
              "      <td>4508.5</td>\n",
              "      <td>3082.0</td>\n",
              "      <td>3921.0</td>\n",
              "      <td>3190.0</td>\n",
              "      <td>-7.652615</td>\n",
              "      <td>-14.319975</td>\n",
              "      <td>1</td>\n",
              "    </tr>\n",
              "    <tr>\n",
              "      <th>3</th>\n",
              "      <td>4</td>\n",
              "      <td>108.200324</td>\n",
              "      <td>11.691618</td>\n",
              "      <td>2175.0</td>\n",
              "      <td>2312.0</td>\n",
              "      <td>3472.5</td>\n",
              "      <td>3613.5</td>\n",
              "      <td>2569.5</td>\n",
              "      <td>3332.0</td>\n",
              "      <td>3558.5</td>\n",
              "      <td>2244.0</td>\n",
              "      <td>3132.5</td>\n",
              "      <td>2610.0</td>\n",
              "      <td>-9.530750</td>\n",
              "      <td>-16.471949</td>\n",
              "      <td>1</td>\n",
              "    </tr>\n",
              "    <tr>\n",
              "      <th>4</th>\n",
              "      <td>5</td>\n",
              "      <td>108.203109</td>\n",
              "      <td>11.694313</td>\n",
              "      <td>2125.0</td>\n",
              "      <td>2235.0</td>\n",
              "      <td>2612.0</td>\n",
              "      <td>2960.0</td>\n",
              "      <td>2548.5</td>\n",
              "      <td>2801.0</td>\n",
              "      <td>2908.0</td>\n",
              "      <td>2320.0</td>\n",
              "      <td>2915.0</td>\n",
              "      <td>2685.5</td>\n",
              "      <td>-9.733130</td>\n",
              "      <td>-18.106146</td>\n",
              "      <td>1</td>\n",
              "    </tr>\n",
              "  </tbody>\n",
              "</table>\n",
              "</div>\n",
              "    <div class=\"colab-df-buttons\">\n",
              "\n",
              "  <div class=\"colab-df-container\">\n",
              "    <button class=\"colab-df-convert\" onclick=\"convertToInteractive('df-c8cb1592-c00b-4554-9c6a-66a5519ed5db')\"\n",
              "            title=\"Convert this dataframe to an interactive table.\"\n",
              "            style=\"display:none;\">\n",
              "\n",
              "  <svg xmlns=\"http://www.w3.org/2000/svg\" height=\"24px\" viewBox=\"0 -960 960 960\">\n",
              "    <path d=\"M120-120v-720h720v720H120Zm60-500h600v-160H180v160Zm220 220h160v-160H400v160Zm0 220h160v-160H400v160ZM180-400h160v-160H180v160Zm440 0h160v-160H620v160ZM180-180h160v-160H180v160Zm440 0h160v-160H620v160Z\"/>\n",
              "  </svg>\n",
              "    </button>\n",
              "\n",
              "  <style>\n",
              "    .colab-df-container {\n",
              "      display:flex;\n",
              "      gap: 12px;\n",
              "    }\n",
              "\n",
              "    .colab-df-convert {\n",
              "      background-color: #E8F0FE;\n",
              "      border: none;\n",
              "      border-radius: 50%;\n",
              "      cursor: pointer;\n",
              "      display: none;\n",
              "      fill: #1967D2;\n",
              "      height: 32px;\n",
              "      padding: 0 0 0 0;\n",
              "      width: 32px;\n",
              "    }\n",
              "\n",
              "    .colab-df-convert:hover {\n",
              "      background-color: #E2EBFA;\n",
              "      box-shadow: 0px 1px 2px rgba(60, 64, 67, 0.3), 0px 1px 3px 1px rgba(60, 64, 67, 0.15);\n",
              "      fill: #174EA6;\n",
              "    }\n",
              "\n",
              "    .colab-df-buttons div {\n",
              "      margin-bottom: 4px;\n",
              "    }\n",
              "\n",
              "    [theme=dark] .colab-df-convert {\n",
              "      background-color: #3B4455;\n",
              "      fill: #D2E3FC;\n",
              "    }\n",
              "\n",
              "    [theme=dark] .colab-df-convert:hover {\n",
              "      background-color: #434B5C;\n",
              "      box-shadow: 0px 1px 3px 1px rgba(0, 0, 0, 0.15);\n",
              "      filter: drop-shadow(0px 1px 2px rgba(0, 0, 0, 0.3));\n",
              "      fill: #FFFFFF;\n",
              "    }\n",
              "  </style>\n",
              "\n",
              "    <script>\n",
              "      const buttonEl =\n",
              "        document.querySelector('#df-c8cb1592-c00b-4554-9c6a-66a5519ed5db button.colab-df-convert');\n",
              "      buttonEl.style.display =\n",
              "        google.colab.kernel.accessAllowed ? 'block' : 'none';\n",
              "\n",
              "      async function convertToInteractive(key) {\n",
              "        const element = document.querySelector('#df-c8cb1592-c00b-4554-9c6a-66a5519ed5db');\n",
              "        const dataTable =\n",
              "          await google.colab.kernel.invokeFunction('convertToInteractive',\n",
              "                                                    [key], {});\n",
              "        if (!dataTable) return;\n",
              "\n",
              "        const docLinkHtml = 'Like what you see? Visit the ' +\n",
              "          '<a target=\"_blank\" href=https://colab.research.google.com/notebooks/data_table.ipynb>data table notebook</a>'\n",
              "          + ' to learn more about interactive tables.';\n",
              "        element.innerHTML = '';\n",
              "        dataTable['output_type'] = 'display_data';\n",
              "        await google.colab.output.renderOutput(dataTable, element);\n",
              "        const docLink = document.createElement('div');\n",
              "        docLink.innerHTML = docLinkHtml;\n",
              "        element.appendChild(docLink);\n",
              "      }\n",
              "    </script>\n",
              "  </div>\n",
              "\n",
              "\n",
              "<div id=\"df-daeffd09-77c0-48fa-9eac-72e53742ecd5\">\n",
              "  <button class=\"colab-df-quickchart\" onclick=\"quickchart('df-daeffd09-77c0-48fa-9eac-72e53742ecd5')\"\n",
              "            title=\"Suggest charts\"\n",
              "            style=\"display:none;\">\n",
              "\n",
              "<svg xmlns=\"http://www.w3.org/2000/svg\" height=\"24px\"viewBox=\"0 0 24 24\"\n",
              "     width=\"24px\">\n",
              "    <g>\n",
              "        <path d=\"M19 3H5c-1.1 0-2 .9-2 2v14c0 1.1.9 2 2 2h14c1.1 0 2-.9 2-2V5c0-1.1-.9-2-2-2zM9 17H7v-7h2v7zm4 0h-2V7h2v10zm4 0h-2v-4h2v4z\"/>\n",
              "    </g>\n",
              "</svg>\n",
              "  </button>\n",
              "\n",
              "<style>\n",
              "  .colab-df-quickchart {\n",
              "      --bg-color: #E8F0FE;\n",
              "      --fill-color: #1967D2;\n",
              "      --hover-bg-color: #E2EBFA;\n",
              "      --hover-fill-color: #174EA6;\n",
              "      --disabled-fill-color: #AAA;\n",
              "      --disabled-bg-color: #DDD;\n",
              "  }\n",
              "\n",
              "  [theme=dark] .colab-df-quickchart {\n",
              "      --bg-color: #3B4455;\n",
              "      --fill-color: #D2E3FC;\n",
              "      --hover-bg-color: #434B5C;\n",
              "      --hover-fill-color: #FFFFFF;\n",
              "      --disabled-bg-color: #3B4455;\n",
              "      --disabled-fill-color: #666;\n",
              "  }\n",
              "\n",
              "  .colab-df-quickchart {\n",
              "    background-color: var(--bg-color);\n",
              "    border: none;\n",
              "    border-radius: 50%;\n",
              "    cursor: pointer;\n",
              "    display: none;\n",
              "    fill: var(--fill-color);\n",
              "    height: 32px;\n",
              "    padding: 0;\n",
              "    width: 32px;\n",
              "  }\n",
              "\n",
              "  .colab-df-quickchart:hover {\n",
              "    background-color: var(--hover-bg-color);\n",
              "    box-shadow: 0 1px 2px rgba(60, 64, 67, 0.3), 0 1px 3px 1px rgba(60, 64, 67, 0.15);\n",
              "    fill: var(--button-hover-fill-color);\n",
              "  }\n",
              "\n",
              "  .colab-df-quickchart-complete:disabled,\n",
              "  .colab-df-quickchart-complete:disabled:hover {\n",
              "    background-color: var(--disabled-bg-color);\n",
              "    fill: var(--disabled-fill-color);\n",
              "    box-shadow: none;\n",
              "  }\n",
              "\n",
              "  .colab-df-spinner {\n",
              "    border: 2px solid var(--fill-color);\n",
              "    border-color: transparent;\n",
              "    border-bottom-color: var(--fill-color);\n",
              "    animation:\n",
              "      spin 1s steps(1) infinite;\n",
              "  }\n",
              "\n",
              "  @keyframes spin {\n",
              "    0% {\n",
              "      border-color: transparent;\n",
              "      border-bottom-color: var(--fill-color);\n",
              "      border-left-color: var(--fill-color);\n",
              "    }\n",
              "    20% {\n",
              "      border-color: transparent;\n",
              "      border-left-color: var(--fill-color);\n",
              "      border-top-color: var(--fill-color);\n",
              "    }\n",
              "    30% {\n",
              "      border-color: transparent;\n",
              "      border-left-color: var(--fill-color);\n",
              "      border-top-color: var(--fill-color);\n",
              "      border-right-color: var(--fill-color);\n",
              "    }\n",
              "    40% {\n",
              "      border-color: transparent;\n",
              "      border-right-color: var(--fill-color);\n",
              "      border-top-color: var(--fill-color);\n",
              "    }\n",
              "    60% {\n",
              "      border-color: transparent;\n",
              "      border-right-color: var(--fill-color);\n",
              "    }\n",
              "    80% {\n",
              "      border-color: transparent;\n",
              "      border-right-color: var(--fill-color);\n",
              "      border-bottom-color: var(--fill-color);\n",
              "    }\n",
              "    90% {\n",
              "      border-color: transparent;\n",
              "      border-bottom-color: var(--fill-color);\n",
              "    }\n",
              "  }\n",
              "</style>\n",
              "\n",
              "  <script>\n",
              "    async function quickchart(key) {\n",
              "      const quickchartButtonEl =\n",
              "        document.querySelector('#' + key + ' button');\n",
              "      quickchartButtonEl.disabled = true;  // To prevent multiple clicks.\n",
              "      quickchartButtonEl.classList.add('colab-df-spinner');\n",
              "      try {\n",
              "        const charts = await google.colab.kernel.invokeFunction(\n",
              "            'suggestCharts', [key], {});\n",
              "      } catch (error) {\n",
              "        console.error('Error during call to suggestCharts:', error);\n",
              "      }\n",
              "      quickchartButtonEl.classList.remove('colab-df-spinner');\n",
              "      quickchartButtonEl.classList.add('colab-df-quickchart-complete');\n",
              "    }\n",
              "    (() => {\n",
              "      let quickchartButtonEl =\n",
              "        document.querySelector('#df-daeffd09-77c0-48fa-9eac-72e53742ecd5 button');\n",
              "      quickchartButtonEl.style.display =\n",
              "        google.colab.kernel.accessAllowed ? 'block' : 'none';\n",
              "    })();\n",
              "  </script>\n",
              "</div>\n",
              "\n",
              "    </div>\n",
              "  </div>\n"
            ],
            "text/plain": [
              "   ID         Lon        Lat  blue_p50  green_p50  nir_p50  nira_p50  re1_p50  \\\n",
              "0   1  108.307403  11.706890    1772.5     2081.5   4393.0    4322.0   2542.0   \n",
              "1   2  108.363279  11.778036    2178.0     2347.0   3427.0    3712.0   2658.5   \n",
              "2   3  108.193946  11.689462    2927.0     3107.0   4365.0    4624.5   3378.0   \n",
              "3   4  108.200324  11.691618    2175.0     2312.0   3472.5    3613.5   2569.5   \n",
              "4   5  108.203109  11.694313    2125.0     2235.0   2612.0    2960.0   2548.5   \n",
              "\n",
              "   re2_p50  re3_p50  red_p50  swir1_p50  swir2_p50    VV_p50     VH_p50  \\\n",
              "0   3974.5   4315.0   1901.5     2929.5     2324.0 -5.506588 -16.577070   \n",
              "1   3358.0   3628.5   2313.0     3122.0     2729.5 -7.798610 -14.007271   \n",
              "2   4221.5   4508.5   3082.0     3921.0     3190.0 -7.652615 -14.319975   \n",
              "3   3332.0   3558.5   2244.0     3132.5     2610.0 -9.530750 -16.471949   \n",
              "4   2801.0   2908.0   2320.0     2915.0     2685.5 -9.733130 -18.106146   \n",
              "\n",
              "   TARGET  \n",
              "0       1  \n",
              "1       1  \n",
              "2       1  \n",
              "3       1  \n",
              "4       1  "
            ]
          },
          "execution_count": 96,
          "metadata": {},
          "output_type": "execute_result"
        }
      ],
      "source": [
        "df_vnm.head()"
      ]
    },
    {
      "cell_type": "code",
      "execution_count": null,
      "metadata": {
        "colab": {
          "base_uri": "https://localhost:8080/",
          "height": 17
        },
        "id": "KzkS4flk7kd2",
        "outputId": "b92eec4b-c95c-48eb-b452-a21af962823b"
      },
      "outputs": [
        {
          "data": {
            "text/html": [
              "\n",
              "            <style>\n",
              "                .geemap-dark {\n",
              "                    --jp-widgets-color: white;\n",
              "                    --jp-widgets-label-color: white;\n",
              "                    --jp-ui-font-color1: white;\n",
              "                    --jp-layout-color2: #454545;\n",
              "                    background-color: #383838;\n",
              "                }\n",
              "\n",
              "                .geemap-dark .jupyter-button {\n",
              "                    --jp-layout-color3: #383838;\n",
              "                }\n",
              "\n",
              "                .geemap-colab {\n",
              "                    background-color: var(--colab-primary-surface-color, white);\n",
              "                }\n",
              "\n",
              "                .geemap-colab .jupyter-button {\n",
              "                    --jp-layout-color3: var(--colab-primary-surface-color, white);\n",
              "                }\n",
              "            </style>\n",
              "            "
            ],
            "text/plain": [
              "<IPython.core.display.HTML object>"
            ]
          },
          "metadata": {},
          "output_type": "display_data"
        }
      ],
      "source": [
        "df_vnm['lon']=df_vnm[\"Lon\"]\n",
        "df_vnm['lat']=df_vnm[\"Lat\"]"
      ]
    },
    {
      "cell_type": "code",
      "execution_count": null,
      "metadata": {
        "colab": {
          "base_uri": "https://localhost:8080/",
          "height": 939
        },
        "id": "EqFKlc5YHHUX",
        "outputId": "6895fd16-313f-4912-e2b2-bd4fd851b3d6"
      },
      "outputs": [
        {
          "data": {
            "text/html": [
              "\n",
              "            <style>\n",
              "                .geemap-dark {\n",
              "                    --jp-widgets-color: white;\n",
              "                    --jp-widgets-label-color: white;\n",
              "                    --jp-ui-font-color1: white;\n",
              "                    --jp-layout-color2: #454545;\n",
              "                    background-color: #383838;\n",
              "                }\n",
              "\n",
              "                .geemap-dark .jupyter-button {\n",
              "                    --jp-layout-color3: #383838;\n",
              "                }\n",
              "\n",
              "                .geemap-colab {\n",
              "                    background-color: var(--colab-primary-surface-color, white);\n",
              "                }\n",
              "\n",
              "                .geemap-colab .jupyter-button {\n",
              "                    --jp-layout-color3: var(--colab-primary-surface-color, white);\n",
              "                }\n",
              "            </style>\n",
              "            "
            ],
            "text/plain": [
              "<IPython.core.display.HTML object>"
            ]
          },
          "metadata": {},
          "output_type": "display_data"
        },
        {
          "name": "stdout",
          "output_type": "stream",
          "text": [
            "000.*\n",
            "001.002.003.004.005.006.007.008.009.010.011.012.013.014.015.016.017.018.019.020.*\n",
            "021.022.023.024.025.026.027.028.029.030.031.032.033.034.035.036.037.038.039.040.*\n",
            "041.042.043.044.045.046.047.048.049.050.051.052.053.054.055.056.057.058.059.060.*\n",
            "061.062.063.064.065.066.067.068.069.070.071.072.073.074.075.076.077.078.079.080.*\n",
            "081.082.083.084.085.086.087.088.089.090.091.092.093.094.095.096.097.098.099.100.*\n",
            "101.102.103.104.105.106.107.108.109.110.111.112.113.114.115.116.117.118.119.120.*\n",
            "121.122.123.124.125.126.127.128.129.130.131.132.133.134.135.136.137.138.139.140.*\n",
            "141.142.143.144.145.146.147.148.149.150.151.152.153.154.155.156.157.158.159.160.*\n",
            "161.162.163.164.165.166.167.168.169.170.171.172.173.174.175.176.177.178.179.180.*\n",
            "181.182.183.184.185.186.187.188.189.190.191.192.193.194.195.196.197.198.199.200.*\n",
            "201.202.203.204.205.206.207.208.209.210.211.212.213.214.215.216.217.218.219.220.*\n",
            "221.222.223.224.225.226.227.228.229.230.231.232.233.234.235.236.237.238.239.240.*\n",
            "241.242.243.244.245.246.247.248.249.250.251.252.253.254.255.256.257.258.259.260.*\n",
            "261.262.263.264.265.266.267.268.269.270.271.272.273.274.275.276.277.278.279.280.*\n",
            "281.282.283.284.285.286.287.288.289.290.291.292.293.294.295.296.297.298.299.300.*\n",
            "301.302.303.304.305.306.307.308.309.310.311.312.313.314.315.316.317.318.319.320.*\n",
            "321.322.323.324.325.326.327.328.329.330.331.332.333.334.335.336.337.338.339.340.*\n",
            "341.342.343.344.345.346.347.348.349.350.351.352.353.354.355.356.357.358.359.360.*\n",
            "361.362.363.364.365.366.367.368.369.370.371.372.373.374.375.376.377.378.379.380.*\n",
            "381.382.383.384.385.386.387.388.389.390.391.392.393.394.395.396.397.398.399.400.*\n",
            "401.402.403.404.405.406.407.408.409.410.411.412.413.414.415.416.417.418.419.420.*\n",
            "421.422.423.424.425.426.427.428.429.430.431.432.433.434.435.436.437.438.439.440.*\n",
            "441.442.443.444.445.446.447.448.449.450.451.452.453.454.455.456.457.458.459.460.*\n",
            "461.462.463.464.465.466.467.468.469.470.471.472.473.474.475.476.477.478.479.480.*\n",
            "481.482.483.484.485.486.487.488.489.490.491.492.493.494.495.496.497.498.499.500.*\n",
            "501.502.503.504.505.506.507.508.509.510.511.512.513.514.515.516.517.518.519.520.*\n",
            "521.522.523.524.525.526.527.528.529.530.531.532.533.534.535.536.537.538.539.540.*\n",
            "541.542.543.544.545.546.547.548.549.550.551.552.553.554.555.556.557.558.559.560.*\n",
            "561.562.563.564.565.566.567.568.569.570.571.572.573.574.575.576.577.578.579.580.*\n",
            "581.582.583.584.585.586.587.588.589.590.591.592.593.594.595.596.597.598.599.600.*\n",
            "601.602.603.604.605.606.607.608.609.610.611.612.613.614.615.616.617.618.619.620.*\n",
            "621.622.623.624.625.626.627.628.629.630.631.632.633.634.635.636.637.638.639.640.*\n",
            "641.642.643.644.645.646.647.648.649.650.651.652.653.654.655.656.657.658.659.660.*\n",
            "661.662.663.664.665.666.667.668.669.670.671.672.673.674.675.676.677.678.679.680.*\n",
            "681.682.683.684.685.686.687.688.689.690.691.692.693.694.695.696.697.698.699.700.*\n"
          ]
        },
        {
          "name": "stderr",
          "output_type": "stream",
          "text": [
            "WARNING:googleapiclient.http:Sleeping 1.43 seconds before retry 1 of 5 for request: POST https://earthengine.googleapis.com/v1/projects/zindiplasticproject/image:computePixels?, after 502\n"
          ]
        },
        {
          "name": "stdout",
          "output_type": "stream",
          "text": [
            "701.702.703.704.705.706.707.708.709.710.711.712.713.714.715.716.717.718.719.720.*\n",
            "721.722.723.724.725.726.727.728.729.730.731.732.733.734.735.736.737.738.739.740.*\n",
            "741.742.743.744.745.746.747.748.749.750.751.752.753.754.755.756.757.758.759.760.*\n",
            "761.762.763.764.765.766.767.768.769.770.771.772.773.774.775.776.777.778.779.780.*\n",
            "781.782.783.784.785.786.787.788.789.790.791.792.793.794."
          ]
        },
        {
          "name": "stderr",
          "output_type": "stream",
          "text": [
            "WARNING:googleapiclient.http:Sleeping 0.98 seconds before retry 1 of 5 for request: POST https://earthengine.googleapis.com/v1/projects/zindiplasticproject/image:computePixels?, after 502\n"
          ]
        },
        {
          "name": "stdout",
          "output_type": "stream",
          "text": [
            "795.796.797.798.799.800.*\n",
            "801.802.803.804.805.806.807.808.809.810.811.812.813.814.815.816.817.818.819.820.*\n",
            "821.822.823.824.825.826.827.828.829.830.831.832.833.834.835.836.837.838.839.840.*\n",
            "841.842.843.844.845.846.847.848.849.850.851.852.853.854.855.856.857.858.859.860.*\n",
            "861.862.863.864.865.866.867.868.869.870.871.872.873.874.875.876.877.878.879.880.*\n",
            "881.882.883.884.885.886.887.888.889.890.891.892.893.894.895.896.897.898.899.900.*\n",
            "901.902.903.904.905.906.907.908.909.910.911.912.913.914.915.916.917.918.919.920.*\n",
            "921.922.923.924.925.926.927.928.929.930.931.932.933.934.935.936.937.938.939.940.*\n",
            "941.942.943.944.945.946.947.948.949.950.951.952.953.954.955.956.957.958.959.960.*\n",
            "961.962.963.964.965.966.967.968."
          ]
        }
      ],
      "source": [
        "image_generation(df_vnm,_image_id_)"
      ]
    },
    {
      "cell_type": "code",
      "execution_count": null,
      "metadata": {
        "colab": {
          "base_uri": "https://localhost:8080/",
          "height": 226
        },
        "id": "pSkakdqlIDX5",
        "outputId": "b1954384-9ba2-425a-c9c2-a30acf6d0060"
      },
      "outputs": [
        {
          "data": {
            "text/html": [
              "\n",
              "            <style>\n",
              "                .geemap-dark {\n",
              "                    --jp-widgets-color: white;\n",
              "                    --jp-widgets-label-color: white;\n",
              "                    --jp-ui-font-color1: white;\n",
              "                    --jp-layout-color2: #454545;\n",
              "                    background-color: #383838;\n",
              "                }\n",
              "\n",
              "                .geemap-dark .jupyter-button {\n",
              "                    --jp-layout-color3: #383838;\n",
              "                }\n",
              "\n",
              "                .geemap-colab {\n",
              "                    background-color: var(--colab-primary-surface-color, white);\n",
              "                }\n",
              "\n",
              "                .geemap-colab .jupyter-button {\n",
              "                    --jp-layout-color3: var(--colab-primary-surface-color, white);\n",
              "                }\n",
              "            </style>\n",
              "            "
            ],
            "text/plain": [
              "<IPython.core.display.HTML object>"
            ]
          },
          "metadata": {},
          "output_type": "display_data"
        },
        {
          "data": {
            "application/vnd.google.colaboratory.intrinsic+json": {
              "summary": "{\n  \"name\": \"df_vnm\",\n  \"rows\": 969,\n  \"fields\": [\n    {\n      \"column\": \"ID\",\n      \"properties\": {\n        \"dtype\": \"number\",\n        \"std\": 279,\n        \"min\": 1,\n        \"max\": 969,\n        \"num_unique_values\": 969,\n        \"samples\": [\n          576,\n          260,\n          389\n        ],\n        \"semantic_type\": \"\",\n        \"description\": \"\"\n      }\n    },\n    {\n      \"column\": \"Lon\",\n      \"properties\": {\n        \"dtype\": \"number\",\n        \"std\": 0.08213609259508034,\n        \"min\": 108.0610854,\n        \"max\": 108.4987446,\n        \"num_unique_values\": 793,\n        \"samples\": [\n          108.3967858,\n          108.3993011,\n          108.3724415\n        ],\n        \"semantic_type\": \"\",\n        \"description\": \"\"\n      }\n    },\n    {\n      \"column\": \"Lat\",\n      \"properties\": {\n        \"dtype\": \"number\",\n        \"std\": 0.19111250977997735,\n        \"min\": 11.30291732,\n        \"max\": 12.26636046,\n        \"num_unique_values\": 869,\n        \"samples\": [\n          12.01582032,\n          11.91251407,\n          11.96093326\n        ],\n        \"semantic_type\": \"\",\n        \"description\": \"\"\n      }\n    },\n    {\n      \"column\": \"blue_p50\",\n      \"properties\": {\n        \"dtype\": \"number\",\n        \"std\": 387.34485914284664,\n        \"min\": 1157.5,\n        \"max\": 4055.0,\n        \"num_unique_values\": 732,\n        \"samples\": [\n          2548.0,\n          2418.0,\n          1970.5\n        ],\n        \"semantic_type\": \"\",\n        \"description\": \"\"\n      }\n    },\n    {\n      \"column\": \"green_p50\",\n      \"properties\": {\n        \"dtype\": \"number\",\n        \"std\": 405.08481332468926,\n        \"min\": 1183.0,\n        \"max\": 4300.0,\n        \"num_unique_values\": 718,\n        \"samples\": [\n          2244.0,\n          2630.0,\n          2624.0\n        ],\n        \"semantic_type\": \"\",\n        \"description\": \"\"\n      }\n    },\n    {\n      \"column\": \"nir_p50\",\n      \"properties\": {\n        \"dtype\": \"number\",\n        \"std\": 654.4757240833961,\n        \"min\": 1441.0,\n        \"max\": 5988.0,\n        \"num_unique_values\": 871,\n        \"samples\": [\n          3980.0,\n          4799.0,\n          3334.0\n        ],\n        \"semantic_type\": \"\",\n        \"description\": \"\"\n      }\n    },\n    {\n      \"column\": \"nira_p50\",\n      \"properties\": {\n        \"dtype\": \"number\",\n        \"std\": 647.3543486051657,\n        \"min\": 1482.0,\n        \"max\": 6244.5,\n        \"num_unique_values\": 879,\n        \"samples\": [\n          3435.0,\n          3729.0,\n          3293.0\n        ],\n        \"semantic_type\": \"\",\n        \"description\": \"\"\n      }\n    },\n    {\n      \"column\": \"re1_p50\",\n      \"properties\": {\n        \"dtype\": \"number\",\n        \"std\": 445.6364522295456,\n        \"min\": 1357.5,\n        \"max\": 5027.0,\n        \"num_unique_values\": 813,\n        \"samples\": [\n          2589.5,\n          1962.5,\n          2069.0\n        ],\n        \"semantic_type\": \"\",\n        \"description\": \"\"\n      }\n    },\n    {\n      \"column\": \"re2_p50\",\n      \"properties\": {\n        \"dtype\": \"number\",\n        \"std\": 513.8783286469453,\n        \"min\": 1528.0,\n        \"max\": 5457.0,\n        \"num_unique_values\": 848,\n        \"samples\": [\n          3387.0,\n          4282.0,\n          3371.5\n        ],\n        \"semantic_type\": \"\",\n        \"description\": \"\"\n      }\n    },\n    {\n      \"column\": \"re3_p50\",\n      \"properties\": {\n        \"dtype\": \"number\",\n        \"std\": 617.5966411016938,\n        \"min\": 1506.5,\n        \"max\": 5981.0,\n        \"num_unique_values\": 873,\n        \"samples\": [\n          4037.5,\n          3015.5,\n          3049.0\n        ],\n        \"semantic_type\": \"\",\n        \"description\": \"\"\n      }\n    },\n    {\n      \"column\": \"red_p50\",\n      \"properties\": {\n        \"dtype\": \"number\",\n        \"std\": 488.4854390254277,\n        \"min\": 1118.0,\n        \"max\": 4720.0,\n        \"num_unique_values\": 755,\n        \"samples\": [\n          1886.0,\n          1781.5,\n          2654.0\n        ],\n        \"semantic_type\": \"\",\n        \"description\": \"\"\n      }\n    },\n    {\n      \"column\": \"swir1_p50\",\n      \"properties\": {\n        \"dtype\": \"number\",\n        \"std\": 666.9658204906906,\n        \"min\": 1345.0,\n        \"max\": 6909.5,\n        \"num_unique_values\": 865,\n        \"samples\": [\n          3459.5,\n          2675.0,\n          4142.5\n        ],\n        \"semantic_type\": \"\",\n        \"description\": \"\"\n      }\n    },\n    {\n      \"column\": \"swir2_p50\",\n      \"properties\": {\n        \"dtype\": \"number\",\n        \"std\": 692.1763781463993,\n        \"min\": 1216.0,\n        \"max\": 7017.0,\n        \"num_unique_values\": 867,\n        \"samples\": [\n          2255.0,\n          2431.0,\n          2499.0\n        ],\n        \"semantic_type\": \"\",\n        \"description\": \"\"\n      }\n    },\n    {\n      \"column\": \"VV_p50\",\n      \"properties\": {\n        \"dtype\": \"number\",\n        \"std\": 3.2060908864335267,\n        \"min\": -20.104712,\n        \"max\": 10.327686,\n        \"num_unique_values\": 969,\n        \"samples\": [\n          -10.789919,\n          -6.4684606,\n          -6.2459755\n        ],\n        \"semantic_type\": \"\",\n        \"description\": \"\"\n      }\n    },\n    {\n      \"column\": \"VH_p50\",\n      \"properties\": {\n        \"dtype\": \"number\",\n        \"std\": 2.847634868757892,\n        \"min\": -26.794939,\n        \"max\": -0.2638729,\n        \"num_unique_values\": 968,\n        \"samples\": [\n          -18.92373,\n          -13.335454,\n          -13.563985\n        ],\n        \"semantic_type\": \"\",\n        \"description\": \"\"\n      }\n    },\n    {\n      \"column\": \"TARGET\",\n      \"properties\": {\n        \"dtype\": \"number\",\n        \"std\": 0,\n        \"min\": 1,\n        \"max\": 2,\n        \"num_unique_values\": 2,\n        \"samples\": [\n          2,\n          1\n        ],\n        \"semantic_type\": \"\",\n        \"description\": \"\"\n      }\n    },\n    {\n      \"column\": \"lon\",\n      \"properties\": {\n        \"dtype\": \"number\",\n        \"std\": 0.08213609259508034,\n        \"min\": 108.0610854,\n        \"max\": 108.4987446,\n        \"num_unique_values\": 793,\n        \"samples\": [\n          108.3967858,\n          108.3993011\n        ],\n        \"semantic_type\": \"\",\n        \"description\": \"\"\n      }\n    },\n    {\n      \"column\": \"lat\",\n      \"properties\": {\n        \"dtype\": \"number\",\n        \"std\": 0.19111250977997735,\n        \"min\": 11.30291732,\n        \"max\": 12.26636046,\n        \"num_unique_values\": 869,\n        \"samples\": [\n          12.01582032,\n          11.91251407\n        ],\n        \"semantic_type\": \"\",\n        \"description\": \"\"\n      }\n    }\n  ]\n}",
              "type": "dataframe",
              "variable_name": "df_vnm"
            },
            "text/html": [
              "\n",
              "  <div id=\"df-c9f0891c-106d-4fb9-b148-0c3e1d4ec616\" class=\"colab-df-container\">\n",
              "    <div>\n",
              "<style scoped>\n",
              "    .dataframe tbody tr th:only-of-type {\n",
              "        vertical-align: middle;\n",
              "    }\n",
              "\n",
              "    .dataframe tbody tr th {\n",
              "        vertical-align: top;\n",
              "    }\n",
              "\n",
              "    .dataframe thead th {\n",
              "        text-align: right;\n",
              "    }\n",
              "</style>\n",
              "<table border=\"1\" class=\"dataframe\">\n",
              "  <thead>\n",
              "    <tr style=\"text-align: right;\">\n",
              "      <th></th>\n",
              "      <th>ID</th>\n",
              "      <th>Lon</th>\n",
              "      <th>Lat</th>\n",
              "      <th>blue_p50</th>\n",
              "      <th>green_p50</th>\n",
              "      <th>nir_p50</th>\n",
              "      <th>nira_p50</th>\n",
              "      <th>re1_p50</th>\n",
              "      <th>re2_p50</th>\n",
              "      <th>re3_p50</th>\n",
              "      <th>red_p50</th>\n",
              "      <th>swir1_p50</th>\n",
              "      <th>swir2_p50</th>\n",
              "      <th>VV_p50</th>\n",
              "      <th>VH_p50</th>\n",
              "      <th>TARGET</th>\n",
              "      <th>lon</th>\n",
              "      <th>lat</th>\n",
              "    </tr>\n",
              "  </thead>\n",
              "  <tbody>\n",
              "    <tr>\n",
              "      <th>0</th>\n",
              "      <td>1</td>\n",
              "      <td>108.307403</td>\n",
              "      <td>11.706890</td>\n",
              "      <td>1772.5</td>\n",
              "      <td>2081.5</td>\n",
              "      <td>4393.0</td>\n",
              "      <td>4322.0</td>\n",
              "      <td>2542.0</td>\n",
              "      <td>3974.5</td>\n",
              "      <td>4315.0</td>\n",
              "      <td>1901.5</td>\n",
              "      <td>2929.5</td>\n",
              "      <td>2324.0</td>\n",
              "      <td>-5.506588</td>\n",
              "      <td>-16.577070</td>\n",
              "      <td>1</td>\n",
              "      <td>108.307403</td>\n",
              "      <td>11.706890</td>\n",
              "    </tr>\n",
              "    <tr>\n",
              "      <th>1</th>\n",
              "      <td>2</td>\n",
              "      <td>108.363279</td>\n",
              "      <td>11.778036</td>\n",
              "      <td>2178.0</td>\n",
              "      <td>2347.0</td>\n",
              "      <td>3427.0</td>\n",
              "      <td>3712.0</td>\n",
              "      <td>2658.5</td>\n",
              "      <td>3358.0</td>\n",
              "      <td>3628.5</td>\n",
              "      <td>2313.0</td>\n",
              "      <td>3122.0</td>\n",
              "      <td>2729.5</td>\n",
              "      <td>-7.798610</td>\n",
              "      <td>-14.007271</td>\n",
              "      <td>1</td>\n",
              "      <td>108.363279</td>\n",
              "      <td>11.778036</td>\n",
              "    </tr>\n",
              "    <tr>\n",
              "      <th>2</th>\n",
              "      <td>3</td>\n",
              "      <td>108.193946</td>\n",
              "      <td>11.689462</td>\n",
              "      <td>2927.0</td>\n",
              "      <td>3107.0</td>\n",
              "      <td>4365.0</td>\n",
              "      <td>4624.5</td>\n",
              "      <td>3378.0</td>\n",
              "      <td>4221.5</td>\n",
              "      <td>4508.5</td>\n",
              "      <td>3082.0</td>\n",
              "      <td>3921.0</td>\n",
              "      <td>3190.0</td>\n",
              "      <td>-7.652615</td>\n",
              "      <td>-14.319975</td>\n",
              "      <td>1</td>\n",
              "      <td>108.193946</td>\n",
              "      <td>11.689462</td>\n",
              "    </tr>\n",
              "    <tr>\n",
              "      <th>3</th>\n",
              "      <td>4</td>\n",
              "      <td>108.200324</td>\n",
              "      <td>11.691618</td>\n",
              "      <td>2175.0</td>\n",
              "      <td>2312.0</td>\n",
              "      <td>3472.5</td>\n",
              "      <td>3613.5</td>\n",
              "      <td>2569.5</td>\n",
              "      <td>3332.0</td>\n",
              "      <td>3558.5</td>\n",
              "      <td>2244.0</td>\n",
              "      <td>3132.5</td>\n",
              "      <td>2610.0</td>\n",
              "      <td>-9.530750</td>\n",
              "      <td>-16.471949</td>\n",
              "      <td>1</td>\n",
              "      <td>108.200324</td>\n",
              "      <td>11.691618</td>\n",
              "    </tr>\n",
              "    <tr>\n",
              "      <th>4</th>\n",
              "      <td>5</td>\n",
              "      <td>108.203109</td>\n",
              "      <td>11.694313</td>\n",
              "      <td>2125.0</td>\n",
              "      <td>2235.0</td>\n",
              "      <td>2612.0</td>\n",
              "      <td>2960.0</td>\n",
              "      <td>2548.5</td>\n",
              "      <td>2801.0</td>\n",
              "      <td>2908.0</td>\n",
              "      <td>2320.0</td>\n",
              "      <td>2915.0</td>\n",
              "      <td>2685.5</td>\n",
              "      <td>-9.733130</td>\n",
              "      <td>-18.106146</td>\n",
              "      <td>1</td>\n",
              "      <td>108.203109</td>\n",
              "      <td>11.694313</td>\n",
              "    </tr>\n",
              "  </tbody>\n",
              "</table>\n",
              "</div>\n",
              "    <div class=\"colab-df-buttons\">\n",
              "\n",
              "  <div class=\"colab-df-container\">\n",
              "    <button class=\"colab-df-convert\" onclick=\"convertToInteractive('df-c9f0891c-106d-4fb9-b148-0c3e1d4ec616')\"\n",
              "            title=\"Convert this dataframe to an interactive table.\"\n",
              "            style=\"display:none;\">\n",
              "\n",
              "  <svg xmlns=\"http://www.w3.org/2000/svg\" height=\"24px\" viewBox=\"0 -960 960 960\">\n",
              "    <path d=\"M120-120v-720h720v720H120Zm60-500h600v-160H180v160Zm220 220h160v-160H400v160Zm0 220h160v-160H400v160ZM180-400h160v-160H180v160Zm440 0h160v-160H620v160ZM180-180h160v-160H180v160Zm440 0h160v-160H620v160Z\"/>\n",
              "  </svg>\n",
              "    </button>\n",
              "\n",
              "  <style>\n",
              "    .colab-df-container {\n",
              "      display:flex;\n",
              "      gap: 12px;\n",
              "    }\n",
              "\n",
              "    .colab-df-convert {\n",
              "      background-color: #E8F0FE;\n",
              "      border: none;\n",
              "      border-radius: 50%;\n",
              "      cursor: pointer;\n",
              "      display: none;\n",
              "      fill: #1967D2;\n",
              "      height: 32px;\n",
              "      padding: 0 0 0 0;\n",
              "      width: 32px;\n",
              "    }\n",
              "\n",
              "    .colab-df-convert:hover {\n",
              "      background-color: #E2EBFA;\n",
              "      box-shadow: 0px 1px 2px rgba(60, 64, 67, 0.3), 0px 1px 3px 1px rgba(60, 64, 67, 0.15);\n",
              "      fill: #174EA6;\n",
              "    }\n",
              "\n",
              "    .colab-df-buttons div {\n",
              "      margin-bottom: 4px;\n",
              "    }\n",
              "\n",
              "    [theme=dark] .colab-df-convert {\n",
              "      background-color: #3B4455;\n",
              "      fill: #D2E3FC;\n",
              "    }\n",
              "\n",
              "    [theme=dark] .colab-df-convert:hover {\n",
              "      background-color: #434B5C;\n",
              "      box-shadow: 0px 1px 3px 1px rgba(0, 0, 0, 0.15);\n",
              "      filter: drop-shadow(0px 1px 2px rgba(0, 0, 0, 0.3));\n",
              "      fill: #FFFFFF;\n",
              "    }\n",
              "  </style>\n",
              "\n",
              "    <script>\n",
              "      const buttonEl =\n",
              "        document.querySelector('#df-c9f0891c-106d-4fb9-b148-0c3e1d4ec616 button.colab-df-convert');\n",
              "      buttonEl.style.display =\n",
              "        google.colab.kernel.accessAllowed ? 'block' : 'none';\n",
              "\n",
              "      async function convertToInteractive(key) {\n",
              "        const element = document.querySelector('#df-c9f0891c-106d-4fb9-b148-0c3e1d4ec616');\n",
              "        const dataTable =\n",
              "          await google.colab.kernel.invokeFunction('convertToInteractive',\n",
              "                                                    [key], {});\n",
              "        if (!dataTable) return;\n",
              "\n",
              "        const docLinkHtml = 'Like what you see? Visit the ' +\n",
              "          '<a target=\"_blank\" href=https://colab.research.google.com/notebooks/data_table.ipynb>data table notebook</a>'\n",
              "          + ' to learn more about interactive tables.';\n",
              "        element.innerHTML = '';\n",
              "        dataTable['output_type'] = 'display_data';\n",
              "        await google.colab.output.renderOutput(dataTable, element);\n",
              "        const docLink = document.createElement('div');\n",
              "        docLink.innerHTML = docLinkHtml;\n",
              "        element.appendChild(docLink);\n",
              "      }\n",
              "    </script>\n",
              "  </div>\n",
              "\n",
              "\n",
              "<div id=\"df-fed38955-7dbe-426a-8b43-89c44fa43257\">\n",
              "  <button class=\"colab-df-quickchart\" onclick=\"quickchart('df-fed38955-7dbe-426a-8b43-89c44fa43257')\"\n",
              "            title=\"Suggest charts\"\n",
              "            style=\"display:none;\">\n",
              "\n",
              "<svg xmlns=\"http://www.w3.org/2000/svg\" height=\"24px\"viewBox=\"0 0 24 24\"\n",
              "     width=\"24px\">\n",
              "    <g>\n",
              "        <path d=\"M19 3H5c-1.1 0-2 .9-2 2v14c0 1.1.9 2 2 2h14c1.1 0 2-.9 2-2V5c0-1.1-.9-2-2-2zM9 17H7v-7h2v7zm4 0h-2V7h2v10zm4 0h-2v-4h2v4z\"/>\n",
              "    </g>\n",
              "</svg>\n",
              "  </button>\n",
              "\n",
              "<style>\n",
              "  .colab-df-quickchart {\n",
              "      --bg-color: #E8F0FE;\n",
              "      --fill-color: #1967D2;\n",
              "      --hover-bg-color: #E2EBFA;\n",
              "      --hover-fill-color: #174EA6;\n",
              "      --disabled-fill-color: #AAA;\n",
              "      --disabled-bg-color: #DDD;\n",
              "  }\n",
              "\n",
              "  [theme=dark] .colab-df-quickchart {\n",
              "      --bg-color: #3B4455;\n",
              "      --fill-color: #D2E3FC;\n",
              "      --hover-bg-color: #434B5C;\n",
              "      --hover-fill-color: #FFFFFF;\n",
              "      --disabled-bg-color: #3B4455;\n",
              "      --disabled-fill-color: #666;\n",
              "  }\n",
              "\n",
              "  .colab-df-quickchart {\n",
              "    background-color: var(--bg-color);\n",
              "    border: none;\n",
              "    border-radius: 50%;\n",
              "    cursor: pointer;\n",
              "    display: none;\n",
              "    fill: var(--fill-color);\n",
              "    height: 32px;\n",
              "    padding: 0;\n",
              "    width: 32px;\n",
              "  }\n",
              "\n",
              "  .colab-df-quickchart:hover {\n",
              "    background-color: var(--hover-bg-color);\n",
              "    box-shadow: 0 1px 2px rgba(60, 64, 67, 0.3), 0 1px 3px 1px rgba(60, 64, 67, 0.15);\n",
              "    fill: var(--button-hover-fill-color);\n",
              "  }\n",
              "\n",
              "  .colab-df-quickchart-complete:disabled,\n",
              "  .colab-df-quickchart-complete:disabled:hover {\n",
              "    background-color: var(--disabled-bg-color);\n",
              "    fill: var(--disabled-fill-color);\n",
              "    box-shadow: none;\n",
              "  }\n",
              "\n",
              "  .colab-df-spinner {\n",
              "    border: 2px solid var(--fill-color);\n",
              "    border-color: transparent;\n",
              "    border-bottom-color: var(--fill-color);\n",
              "    animation:\n",
              "      spin 1s steps(1) infinite;\n",
              "  }\n",
              "\n",
              "  @keyframes spin {\n",
              "    0% {\n",
              "      border-color: transparent;\n",
              "      border-bottom-color: var(--fill-color);\n",
              "      border-left-color: var(--fill-color);\n",
              "    }\n",
              "    20% {\n",
              "      border-color: transparent;\n",
              "      border-left-color: var(--fill-color);\n",
              "      border-top-color: var(--fill-color);\n",
              "    }\n",
              "    30% {\n",
              "      border-color: transparent;\n",
              "      border-left-color: var(--fill-color);\n",
              "      border-top-color: var(--fill-color);\n",
              "      border-right-color: var(--fill-color);\n",
              "    }\n",
              "    40% {\n",
              "      border-color: transparent;\n",
              "      border-right-color: var(--fill-color);\n",
              "      border-top-color: var(--fill-color);\n",
              "    }\n",
              "    60% {\n",
              "      border-color: transparent;\n",
              "      border-right-color: var(--fill-color);\n",
              "    }\n",
              "    80% {\n",
              "      border-color: transparent;\n",
              "      border-right-color: var(--fill-color);\n",
              "      border-bottom-color: var(--fill-color);\n",
              "    }\n",
              "    90% {\n",
              "      border-color: transparent;\n",
              "      border-bottom-color: var(--fill-color);\n",
              "    }\n",
              "  }\n",
              "</style>\n",
              "\n",
              "  <script>\n",
              "    async function quickchart(key) {\n",
              "      const quickchartButtonEl =\n",
              "        document.querySelector('#' + key + ' button');\n",
              "      quickchartButtonEl.disabled = true;  // To prevent multiple clicks.\n",
              "      quickchartButtonEl.classList.add('colab-df-spinner');\n",
              "      try {\n",
              "        const charts = await google.colab.kernel.invokeFunction(\n",
              "            'suggestCharts', [key], {});\n",
              "      } catch (error) {\n",
              "        console.error('Error during call to suggestCharts:', error);\n",
              "      }\n",
              "      quickchartButtonEl.classList.remove('colab-df-spinner');\n",
              "      quickchartButtonEl.classList.add('colab-df-quickchart-complete');\n",
              "    }\n",
              "    (() => {\n",
              "      let quickchartButtonEl =\n",
              "        document.querySelector('#df-fed38955-7dbe-426a-8b43-89c44fa43257 button');\n",
              "      quickchartButtonEl.style.display =\n",
              "        google.colab.kernel.accessAllowed ? 'block' : 'none';\n",
              "    })();\n",
              "  </script>\n",
              "</div>\n",
              "\n",
              "    </div>\n",
              "  </div>\n"
            ],
            "text/plain": [
              "   ID         Lon        Lat  blue_p50  green_p50  nir_p50  nira_p50  re1_p50  \\\n",
              "0   1  108.307403  11.706890    1772.5     2081.5   4393.0    4322.0   2542.0   \n",
              "1   2  108.363279  11.778036    2178.0     2347.0   3427.0    3712.0   2658.5   \n",
              "2   3  108.193946  11.689462    2927.0     3107.0   4365.0    4624.5   3378.0   \n",
              "3   4  108.200324  11.691618    2175.0     2312.0   3472.5    3613.5   2569.5   \n",
              "4   5  108.203109  11.694313    2125.0     2235.0   2612.0    2960.0   2548.5   \n",
              "\n",
              "   re2_p50  re3_p50  red_p50  swir1_p50  swir2_p50    VV_p50     VH_p50  \\\n",
              "0   3974.5   4315.0   1901.5     2929.5     2324.0 -5.506588 -16.577070   \n",
              "1   3358.0   3628.5   2313.0     3122.0     2729.5 -7.798610 -14.007271   \n",
              "2   4221.5   4508.5   3082.0     3921.0     3190.0 -7.652615 -14.319975   \n",
              "3   3332.0   3558.5   2244.0     3132.5     2610.0 -9.530750 -16.471949   \n",
              "4   2801.0   2908.0   2320.0     2915.0     2685.5 -9.733130 -18.106146   \n",
              "\n",
              "   TARGET         lon        lat  \n",
              "0       1  108.307403  11.706890  \n",
              "1       1  108.363279  11.778036  \n",
              "2       1  108.193946  11.689462  \n",
              "3       1  108.200324  11.691618  \n",
              "4       1  108.203109  11.694313  "
            ]
          },
          "execution_count": 99,
          "metadata": {},
          "output_type": "execute_result"
        }
      ],
      "source": [
        "df_vnm.head()"
      ]
    },
    {
      "cell_type": "code",
      "execution_count": null,
      "metadata": {
        "colab": {
          "base_uri": "https://localhost:8080/",
          "height": 17
        },
        "id": "MAoFj6e7FoBW",
        "outputId": "2c046c77-1ecd-4269-91a4-4d555845acc9"
      },
      "outputs": [
        {
          "data": {
            "text/html": [
              "\n",
              "            <style>\n",
              "                .geemap-dark {\n",
              "                    --jp-widgets-color: white;\n",
              "                    --jp-widgets-label-color: white;\n",
              "                    --jp-ui-font-color1: white;\n",
              "                    --jp-layout-color2: #454545;\n",
              "                    background-color: #383838;\n",
              "                }\n",
              "\n",
              "                .geemap-dark .jupyter-button {\n",
              "                    --jp-layout-color3: #383838;\n",
              "                }\n",
              "\n",
              "                .geemap-colab {\n",
              "                    background-color: var(--colab-primary-surface-color, white);\n",
              "                }\n",
              "\n",
              "                .geemap-colab .jupyter-button {\n",
              "                    --jp-layout-color3: var(--colab-primary-surface-color, white);\n",
              "                }\n",
              "            </style>\n",
              "            "
            ],
            "text/plain": [
              "<IPython.core.display.HTML object>"
            ]
          },
          "metadata": {},
          "output_type": "display_data"
        }
      ],
      "source": [
        "df_spain_test=pandas.read_csv(_PROJECT_BASE_+_ORIG_+\"/Spain_validation.csv\")\n",
        "_image_id_=\"_spain_testing\"\n",
        "_sat_=None\n",
        "_band_=None\n",
        "df_spain_test[\"TARGET\"]=0"
      ]
    },
    {
      "cell_type": "code",
      "execution_count": null,
      "metadata": {
        "colab": {
          "base_uri": "https://localhost:8080/",
          "height": 781
        },
        "id": "iirSuhnevUmR",
        "outputId": "8eb0d869-ee60-45cb-ad55-21a21733dedf"
      },
      "outputs": [
        {
          "data": {
            "text/html": [
              "\n",
              "            <style>\n",
              "                .geemap-dark {\n",
              "                    --jp-widgets-color: white;\n",
              "                    --jp-widgets-label-color: white;\n",
              "                    --jp-ui-font-color1: white;\n",
              "                    --jp-layout-color2: #454545;\n",
              "                    background-color: #383838;\n",
              "                }\n",
              "\n",
              "                .geemap-dark .jupyter-button {\n",
              "                    --jp-layout-color3: #383838;\n",
              "                }\n",
              "\n",
              "                .geemap-colab {\n",
              "                    background-color: var(--colab-primary-surface-color, white);\n",
              "                }\n",
              "\n",
              "                .geemap-colab .jupyter-button {\n",
              "                    --jp-layout-color3: var(--colab-primary-surface-color, white);\n",
              "                }\n",
              "            </style>\n",
              "            "
            ],
            "text/plain": [
              "<IPython.core.display.HTML object>"
            ]
          },
          "metadata": {},
          "output_type": "display_data"
        },
        {
          "name": "stdout",
          "output_type": "stream",
          "text": [
            "000.*\n",
            "001.002.003.004.005.006.007.008.009.010.011.012.013.014.015.016.017.018.019.020.*\n",
            "021.022.023.024.025.026.027.028.029.030.031.032.033.034.035.036.037.038.039.040.*\n",
            "041.042.043.044.045.046.047.048.049.050.051.052.053.054.055.056.057.058.059.060.*\n",
            "061.062.063.064.065.066.067.068.069.070.071.072.073.074.075.076.077.078.079.080.*\n",
            "081.082.083.084.085.086.087.088.089.090.091.092.093.094.095.096.097.098.099.100.*\n",
            "101.102.103.104.105.106.107.108.109.110.111.112.113.114.115.116.117.118.119.120.*\n",
            "121.122.123.124.125.126.127.128.129.130.131.132.133.134.135.136.137.138.139.140.*\n",
            "141.142.143.144.145.146.147.148.149.150.151.152.153.154.155.156.157.158.159.160.*\n",
            "161.162.163.164.165.166.167.168.169.170.171.172.173.174.175.176.177.178.179.180.*\n",
            "181.182.183.184.185.186.187.188.189.190.191.192.193.194.195.196.197.198.199.200.*\n",
            "201.202.203.204.205.206.207.208.209.210.211.212.213.214.215.216.217.218.219.220.*\n",
            "221.222.223.224.225.226.227.228.229.230.231.232.233.234.235.236.237.238.239.240.*\n",
            "241.242.243.244.245.246.247.248.249.250.251.252.253.254.255.256.257.258.259.260.*\n",
            "261.262.263.264.265.266.267.268.269.270.271.272.273.274.275.276.277.278.279.280.*\n",
            "281.282.283.284.285.286.287.288.289.290.291.292.293.294.295.296.297.298.299.300.*\n",
            "301.302.303.304.305.306.307.308.309.310.311.312.313.314.315.316.317.318.319.320.*\n",
            "321.322.323.324.325.326.327.328.329.330.331.332.333.334.335.336.337.338.339.340.*\n",
            "341.342.343.344.345.346.347.348.349.350.351.352.353.354.355.356.357.358.359.360.*\n",
            "361.362.363.364.365.366.367.368.369.370.371.372.373.374.375.376.377.378.379.380.*\n",
            "381.382.383.384.385.386.387.388.389.390.391.392.393.394.395.396.397.398.399.400.*\n",
            "401.402.403.404.405.406.407.408.409.410.411.412.413.414.415.416.417.418.419.420.*\n",
            "421.422.423.424.425.426.427.428.429.430.431.432.433.434.435.436.437.438.439.440.*\n",
            "441.442.443.444.445.446.447.448.449.450.451.452.453.454.455.456.457.458.459.460.*\n",
            "461.462.463.464.465.466.467.468.469.470.471.472.473.474.475.476.477.478.479.480.*\n",
            "481.482.483.484.485.486.487.488.489.490.491.492.493.494.495.496.497.498.499.500.*\n",
            "501.502.503.504.505.506.507.508.509.510.511.512.513.514.515.516.517.518.519.520.*\n",
            "521.522.523.524.525.526.527.528.529.530.531.532.533.534.535.536.537.538.539.540.*\n",
            "541.542.543.544.545.546.547.548.549.550.551.552.553.554.555.556.557.558.559.560.*\n",
            "561.562.563.564.565.566.567.568.569.570.571.572.573.574.575.576.577.578.579.580.*\n",
            "581.582.583.584.585.586.587.588.589.590.591.592.593.594.595.596.597.598.599.600.*\n",
            "601.602.603.604.605.606.607.608.609.610.611.612.613.614.615.616.617.618.619.620.*\n",
            "621.622.623.624.625.626.627.628.629.630.631.632.633.634.635.636.637.638.639.640.*\n",
            "641.642.643.644.645.646.647.648.649.650.651.652.653.654.655.656.657.658.659.660.*\n",
            "661.662.663.664.665.666.667.668.669.670.671.672.673.674.675.676.677.678.679.680.*\n",
            "681.682.683.684.685.686.687.688.689.690.691.692.693.694.695.696.697.698.699.700.*\n",
            "701.702.703.704.705.706.707.708.709.710.711.712.713.714.715.716.717.718.719.720.*\n",
            "721.722.723.724.725.726.727.728.729.730.731.732.733.734.735.736.737.738.739.740.*\n",
            "741.742.743.744.745.746.747.748.749.750.751.752.753.754.755.756.757.758.759.760.*\n",
            "761.762.763.764.765.766.767.768.769.770.771.772.773.774.775.776.777.778.779.780.*\n",
            "781.782.783.784.785.786.787.788.789.790.791.792.793.794.795.796.797.798.799.800.*\n",
            "801.802.803.804.805.806.807.808.809.810.811.812.813.814.815.816.817.818.819.820.*\n",
            "821.822.823.824.825.826.827.828.829.830.831.832.833.834.835.836.837.838.839.840.*\n",
            "841.842.843.844.845.846.847."
          ]
        }
      ],
      "source": [
        "image_generation(df_spain_test,_image_id_)\n"
      ]
    },
    {
      "cell_type": "code",
      "execution_count": null,
      "metadata": {
        "colab": {
          "base_uri": "https://localhost:8080/",
          "height": 17
        },
        "id": "TiQx0ECpHl-C",
        "outputId": "9e9d18b0-8014-41e4-fdfd-34580f43f7ec"
      },
      "outputs": [
        {
          "data": {
            "text/html": [
              "\n",
              "            <style>\n",
              "                .geemap-dark {\n",
              "                    --jp-widgets-color: white;\n",
              "                    --jp-widgets-label-color: white;\n",
              "                    --jp-ui-font-color1: white;\n",
              "                    --jp-layout-color2: #454545;\n",
              "                    background-color: #383838;\n",
              "                }\n",
              "\n",
              "                .geemap-dark .jupyter-button {\n",
              "                    --jp-layout-color3: #383838;\n",
              "                }\n",
              "\n",
              "                .geemap-colab {\n",
              "                    background-color: var(--colab-primary-surface-color, white);\n",
              "                }\n",
              "\n",
              "                .geemap-colab .jupyter-button {\n",
              "                    --jp-layout-color3: var(--colab-primary-surface-color, white);\n",
              "                }\n",
              "            </style>\n",
              "            "
            ],
            "text/plain": [
              "<IPython.core.display.HTML object>"
            ]
          },
          "metadata": {},
          "output_type": "display_data"
        }
      ],
      "source": [
        "df_vnm_test=pandas.read_csv(_PROJECT_BASE_+_ORIG_+\"/VNM_testing.csv\")\n",
        "_image_id_=\"_vnm_testing\"\n",
        "_sat_=None\n",
        "_band_=None\n",
        "df_vnm_test[\"TARGET\"]=0\n",
        "df_vnm_test[\"lon\"]=df_vnm_test[\"Lon\"]\n",
        "df_vnm_test[\"lat\"]=df_vnm_test[\"Lat\"]"
      ]
    },
    {
      "cell_type": "code",
      "execution_count": null,
      "metadata": {
        "colab": {
          "base_uri": "https://localhost:8080/",
          "height": 226
        },
        "id": "icpqTZ3jTZOg",
        "outputId": "a6c76568-7025-4646-fb8f-92573fdeb9ea"
      },
      "outputs": [
        {
          "data": {
            "text/html": [
              "\n",
              "            <style>\n",
              "                .geemap-dark {\n",
              "                    --jp-widgets-color: white;\n",
              "                    --jp-widgets-label-color: white;\n",
              "                    --jp-ui-font-color1: white;\n",
              "                    --jp-layout-color2: #454545;\n",
              "                    background-color: #383838;\n",
              "                }\n",
              "\n",
              "                .geemap-dark .jupyter-button {\n",
              "                    --jp-layout-color3: #383838;\n",
              "                }\n",
              "\n",
              "                .geemap-colab {\n",
              "                    background-color: var(--colab-primary-surface-color, white);\n",
              "                }\n",
              "\n",
              "                .geemap-colab .jupyter-button {\n",
              "                    --jp-layout-color3: var(--colab-primary-surface-color, white);\n",
              "                }\n",
              "            </style>\n",
              "            "
            ],
            "text/plain": [
              "<IPython.core.display.HTML object>"
            ]
          },
          "metadata": {},
          "output_type": "display_data"
        },
        {
          "data": {
            "application/vnd.google.colaboratory.intrinsic+json": {
              "summary": "{\n  \"name\": \"df_vnm_test\",\n  \"rows\": 979,\n  \"fields\": [\n    {\n      \"column\": \"ID\",\n      \"properties\": {\n        \"dtype\": \"number\",\n        \"std\": 282,\n        \"min\": 1,\n        \"max\": 979,\n        \"num_unique_values\": 979,\n        \"samples\": [\n          200,\n          544,\n          175\n        ],\n        \"semantic_type\": \"\",\n        \"description\": \"\"\n      }\n    },\n    {\n      \"column\": \"Lon\",\n      \"properties\": {\n        \"dtype\": \"number\",\n        \"std\": 0.08240194649058045,\n        \"min\": 108.0243443,\n        \"max\": 108.4987446,\n        \"num_unique_values\": 769,\n        \"samples\": [\n          108.1458864,\n          108.451583,\n          108.3671414\n        ],\n        \"semantic_type\": \"\",\n        \"description\": \"\"\n      }\n    },\n    {\n      \"column\": \"Lat\",\n      \"properties\": {\n        \"dtype\": \"number\",\n        \"std\": 0.19172806839946618,\n        \"min\": 11.31190047,\n        \"max\": 12.24165679,\n        \"num_unique_values\": 888,\n        \"samples\": [\n          11.96686214,\n          12.02902556,\n          11.9587773\n        ],\n        \"semantic_type\": \"\",\n        \"description\": \"\"\n      }\n    },\n    {\n      \"column\": \"blue_p50\",\n      \"properties\": {\n        \"dtype\": \"number\",\n        \"std\": 394.0236412271276,\n        \"min\": 1211.0,\n        \"max\": 4416.0,\n        \"num_unique_values\": 744,\n        \"samples\": [\n          1642.0,\n          1636.5,\n          1810.0\n        ],\n        \"semantic_type\": \"\",\n        \"description\": \"\"\n      }\n    },\n    {\n      \"column\": \"green_p50\",\n      \"properties\": {\n        \"dtype\": \"number\",\n        \"std\": 408.661534497754,\n        \"min\": 1245.5,\n        \"max\": 4863.0,\n        \"num_unique_values\": 724,\n        \"samples\": [\n          1888.0,\n          2652.0,\n          2417.0\n        ],\n        \"semantic_type\": \"\",\n        \"description\": \"\"\n      }\n    },\n    {\n      \"column\": \"nir_p50\",\n      \"properties\": {\n        \"dtype\": \"number\",\n        \"std\": 693.5408444597963,\n        \"min\": 1589.5,\n        \"max\": 6100.0,\n        \"num_unique_values\": 876,\n        \"samples\": [\n          4244.0,\n          1899.5,\n          2340.0\n        ],\n        \"semantic_type\": \"\",\n        \"description\": \"\"\n      }\n    },\n    {\n      \"column\": \"nira_p50\",\n      \"properties\": {\n        \"dtype\": \"number\",\n        \"std\": 685.7164217772222,\n        \"min\": 1597.0,\n        \"max\": 7085.0,\n        \"num_unique_values\": 888,\n        \"samples\": [\n          3660.0,\n          3569.0,\n          3763.5\n        ],\n        \"semantic_type\": \"\",\n        \"description\": \"\"\n      }\n    },\n    {\n      \"column\": \"re1_p50\",\n      \"properties\": {\n        \"dtype\": \"number\",\n        \"std\": 461.8989475722929,\n        \"min\": 1351.5,\n        \"max\": 6158.0,\n        \"num_unique_values\": 839,\n        \"samples\": [\n          2392.5,\n          2818.5,\n          3914.5\n        ],\n        \"semantic_type\": \"\",\n        \"description\": \"\"\n      }\n    },\n    {\n      \"column\": \"re2_p50\",\n      \"properties\": {\n        \"dtype\": \"number\",\n        \"std\": 542.0562059801786,\n        \"min\": 1641.0,\n        \"max\": 6229.5,\n        \"num_unique_values\": 852,\n        \"samples\": [\n          3325.0,\n          3426.5,\n          3346.5\n        ],\n        \"semantic_type\": \"\",\n        \"description\": \"\"\n      }\n    },\n    {\n      \"column\": \"re3_p50\",\n      \"properties\": {\n        \"dtype\": \"number\",\n        \"std\": 656.9829287322036,\n        \"min\": 1630.5,\n        \"max\": 6716.0,\n        \"num_unique_values\": 872,\n        \"samples\": [\n          2025.5,\n          4142.0,\n          3400.5\n        ],\n        \"semantic_type\": \"\",\n        \"description\": \"\"\n      }\n    },\n    {\n      \"column\": \"red_p50\",\n      \"properties\": {\n        \"dtype\": \"number\",\n        \"std\": 494.4806400003661,\n        \"min\": 1124.0,\n        \"max\": 5632.0,\n        \"num_unique_values\": 747,\n        \"samples\": [\n          2340.0,\n          2277.0,\n          3103.0\n        ],\n        \"semantic_type\": \"\",\n        \"description\": \"\"\n      }\n    },\n    {\n      \"column\": \"swir1_p50\",\n      \"properties\": {\n        \"dtype\": \"number\",\n        \"std\": 720.9481304854787,\n        \"min\": 1283.0,\n        \"max\": 8102.0,\n        \"num_unique_values\": 894,\n        \"samples\": [\n          4505.5,\n          2979.0,\n          4302.5\n        ],\n        \"semantic_type\": \"\",\n        \"description\": \"\"\n      }\n    },\n    {\n      \"column\": \"swir2_p50\",\n      \"properties\": {\n        \"dtype\": \"number\",\n        \"std\": 764.8907919917284,\n        \"min\": 1209.0,\n        \"max\": 10175.5,\n        \"num_unique_values\": 883,\n        \"samples\": [\n          2851.0,\n          3761.5,\n          2512.5\n        ],\n        \"semantic_type\": \"\",\n        \"description\": \"\"\n      }\n    },\n    {\n      \"column\": \"VV_p50\",\n      \"properties\": {\n        \"dtype\": \"number\",\n        \"std\": 3.401931264438184,\n        \"min\": -16.480299,\n        \"max\": 13.707447,\n        \"num_unique_values\": 979,\n        \"samples\": [\n          -3.5630488,\n          -10.328889,\n          -7.3437953\n        ],\n        \"semantic_type\": \"\",\n        \"description\": \"\"\n      }\n    },\n    {\n      \"column\": \"VH_p50\",\n      \"properties\": {\n        \"dtype\": \"number\",\n        \"std\": 2.8081892225775205,\n        \"min\": -24.190271,\n        \"max\": 4.2393355,\n        \"num_unique_values\": 979,\n        \"samples\": [\n          -13.129563,\n          -15.830681,\n          -13.269544\n        ],\n        \"semantic_type\": \"\",\n        \"description\": \"\"\n      }\n    },\n    {\n      \"column\": \"TARGET\",\n      \"properties\": {\n        \"dtype\": \"number\",\n        \"std\": 0,\n        \"min\": 0,\n        \"max\": 0,\n        \"num_unique_values\": 1,\n        \"samples\": [\n          0\n        ],\n        \"semantic_type\": \"\",\n        \"description\": \"\"\n      }\n    },\n    {\n      \"column\": \"lon\",\n      \"properties\": {\n        \"dtype\": \"number\",\n        \"std\": 0.08240194649058045,\n        \"min\": 108.0243443,\n        \"max\": 108.4987446,\n        \"num_unique_values\": 769,\n        \"samples\": [\n          108.1458864\n        ],\n        \"semantic_type\": \"\",\n        \"description\": \"\"\n      }\n    },\n    {\n      \"column\": \"lat\",\n      \"properties\": {\n        \"dtype\": \"number\",\n        \"std\": 0.19172806839946618,\n        \"min\": 11.31190047,\n        \"max\": 12.24165679,\n        \"num_unique_values\": 888,\n        \"samples\": [\n          11.96686214\n        ],\n        \"semantic_type\": \"\",\n        \"description\": \"\"\n      }\n    }\n  ]\n}",
              "type": "dataframe",
              "variable_name": "df_vnm_test"
            },
            "text/html": [
              "\n",
              "  <div id=\"df-8840bc1c-1720-49d3-b2d4-5eaf8472e19a\" class=\"colab-df-container\">\n",
              "    <div>\n",
              "<style scoped>\n",
              "    .dataframe tbody tr th:only-of-type {\n",
              "        vertical-align: middle;\n",
              "    }\n",
              "\n",
              "    .dataframe tbody tr th {\n",
              "        vertical-align: top;\n",
              "    }\n",
              "\n",
              "    .dataframe thead th {\n",
              "        text-align: right;\n",
              "    }\n",
              "</style>\n",
              "<table border=\"1\" class=\"dataframe\">\n",
              "  <thead>\n",
              "    <tr style=\"text-align: right;\">\n",
              "      <th></th>\n",
              "      <th>ID</th>\n",
              "      <th>Lon</th>\n",
              "      <th>Lat</th>\n",
              "      <th>blue_p50</th>\n",
              "      <th>green_p50</th>\n",
              "      <th>nir_p50</th>\n",
              "      <th>nira_p50</th>\n",
              "      <th>re1_p50</th>\n",
              "      <th>re2_p50</th>\n",
              "      <th>re3_p50</th>\n",
              "      <th>red_p50</th>\n",
              "      <th>swir1_p50</th>\n",
              "      <th>swir2_p50</th>\n",
              "      <th>VV_p50</th>\n",
              "      <th>VH_p50</th>\n",
              "      <th>TARGET</th>\n",
              "      <th>lon</th>\n",
              "      <th>lat</th>\n",
              "    </tr>\n",
              "  </thead>\n",
              "  <tbody>\n",
              "    <tr>\n",
              "      <th>0</th>\n",
              "      <td>1</td>\n",
              "      <td>108.406667</td>\n",
              "      <td>11.699973</td>\n",
              "      <td>2284.0</td>\n",
              "      <td>2429.0</td>\n",
              "      <td>2857.0</td>\n",
              "      <td>3314.5</td>\n",
              "      <td>2690.5</td>\n",
              "      <td>3043.5</td>\n",
              "      <td>3165.0</td>\n",
              "      <td>2461.0</td>\n",
              "      <td>3385.5</td>\n",
              "      <td>2848.0</td>\n",
              "      <td>-9.688691</td>\n",
              "      <td>-17.492636</td>\n",
              "      <td>0</td>\n",
              "      <td>108.406667</td>\n",
              "      <td>11.699973</td>\n",
              "    </tr>\n",
              "    <tr>\n",
              "      <th>1</th>\n",
              "      <td>2</td>\n",
              "      <td>108.364087</td>\n",
              "      <td>11.780641</td>\n",
              "      <td>2606.0</td>\n",
              "      <td>2743.0</td>\n",
              "      <td>3708.0</td>\n",
              "      <td>4164.0</td>\n",
              "      <td>3226.5</td>\n",
              "      <td>3826.5</td>\n",
              "      <td>4080.5</td>\n",
              "      <td>2819.0</td>\n",
              "      <td>3978.5</td>\n",
              "      <td>3402.0</td>\n",
              "      <td>-8.679594</td>\n",
              "      <td>-16.148212</td>\n",
              "      <td>0</td>\n",
              "      <td>108.364087</td>\n",
              "      <td>11.780641</td>\n",
              "    </tr>\n",
              "    <tr>\n",
              "      <th>2</th>\n",
              "      <td>3</td>\n",
              "      <td>108.201133</td>\n",
              "      <td>11.690091</td>\n",
              "      <td>1965.0</td>\n",
              "      <td>2174.0</td>\n",
              "      <td>3713.0</td>\n",
              "      <td>3767.0</td>\n",
              "      <td>2475.5</td>\n",
              "      <td>3473.5</td>\n",
              "      <td>3750.5</td>\n",
              "      <td>2050.0</td>\n",
              "      <td>2870.5</td>\n",
              "      <td>2309.0</td>\n",
              "      <td>-7.793950</td>\n",
              "      <td>-14.815912</td>\n",
              "      <td>0</td>\n",
              "      <td>108.201133</td>\n",
              "      <td>11.690091</td>\n",
              "    </tr>\n",
              "    <tr>\n",
              "      <th>3</th>\n",
              "      <td>4</td>\n",
              "      <td>108.196731</td>\n",
              "      <td>11.692157</td>\n",
              "      <td>2010.0</td>\n",
              "      <td>2051.0</td>\n",
              "      <td>2401.0</td>\n",
              "      <td>2510.0</td>\n",
              "      <td>2234.0</td>\n",
              "      <td>2448.0</td>\n",
              "      <td>2532.0</td>\n",
              "      <td>2106.0</td>\n",
              "      <td>2476.5</td>\n",
              "      <td>2137.0</td>\n",
              "      <td>-9.485932</td>\n",
              "      <td>-15.773308</td>\n",
              "      <td>0</td>\n",
              "      <td>108.196731</td>\n",
              "      <td>11.692157</td>\n",
              "    </tr>\n",
              "    <tr>\n",
              "      <th>4</th>\n",
              "      <td>5</td>\n",
              "      <td>108.197809</td>\n",
              "      <td>11.695032</td>\n",
              "      <td>2084.0</td>\n",
              "      <td>2253.0</td>\n",
              "      <td>3148.0</td>\n",
              "      <td>3371.0</td>\n",
              "      <td>2628.0</td>\n",
              "      <td>3212.5</td>\n",
              "      <td>3369.0</td>\n",
              "      <td>2301.0</td>\n",
              "      <td>3226.0</td>\n",
              "      <td>2874.0</td>\n",
              "      <td>-7.751073</td>\n",
              "      <td>-16.848070</td>\n",
              "      <td>0</td>\n",
              "      <td>108.197809</td>\n",
              "      <td>11.695032</td>\n",
              "    </tr>\n",
              "  </tbody>\n",
              "</table>\n",
              "</div>\n",
              "    <div class=\"colab-df-buttons\">\n",
              "\n",
              "  <div class=\"colab-df-container\">\n",
              "    <button class=\"colab-df-convert\" onclick=\"convertToInteractive('df-8840bc1c-1720-49d3-b2d4-5eaf8472e19a')\"\n",
              "            title=\"Convert this dataframe to an interactive table.\"\n",
              "            style=\"display:none;\">\n",
              "\n",
              "  <svg xmlns=\"http://www.w3.org/2000/svg\" height=\"24px\" viewBox=\"0 -960 960 960\">\n",
              "    <path d=\"M120-120v-720h720v720H120Zm60-500h600v-160H180v160Zm220 220h160v-160H400v160Zm0 220h160v-160H400v160ZM180-400h160v-160H180v160Zm440 0h160v-160H620v160ZM180-180h160v-160H180v160Zm440 0h160v-160H620v160Z\"/>\n",
              "  </svg>\n",
              "    </button>\n",
              "\n",
              "  <style>\n",
              "    .colab-df-container {\n",
              "      display:flex;\n",
              "      gap: 12px;\n",
              "    }\n",
              "\n",
              "    .colab-df-convert {\n",
              "      background-color: #E8F0FE;\n",
              "      border: none;\n",
              "      border-radius: 50%;\n",
              "      cursor: pointer;\n",
              "      display: none;\n",
              "      fill: #1967D2;\n",
              "      height: 32px;\n",
              "      padding: 0 0 0 0;\n",
              "      width: 32px;\n",
              "    }\n",
              "\n",
              "    .colab-df-convert:hover {\n",
              "      background-color: #E2EBFA;\n",
              "      box-shadow: 0px 1px 2px rgba(60, 64, 67, 0.3), 0px 1px 3px 1px rgba(60, 64, 67, 0.15);\n",
              "      fill: #174EA6;\n",
              "    }\n",
              "\n",
              "    .colab-df-buttons div {\n",
              "      margin-bottom: 4px;\n",
              "    }\n",
              "\n",
              "    [theme=dark] .colab-df-convert {\n",
              "      background-color: #3B4455;\n",
              "      fill: #D2E3FC;\n",
              "    }\n",
              "\n",
              "    [theme=dark] .colab-df-convert:hover {\n",
              "      background-color: #434B5C;\n",
              "      box-shadow: 0px 1px 3px 1px rgba(0, 0, 0, 0.15);\n",
              "      filter: drop-shadow(0px 1px 2px rgba(0, 0, 0, 0.3));\n",
              "      fill: #FFFFFF;\n",
              "    }\n",
              "  </style>\n",
              "\n",
              "    <script>\n",
              "      const buttonEl =\n",
              "        document.querySelector('#df-8840bc1c-1720-49d3-b2d4-5eaf8472e19a button.colab-df-convert');\n",
              "      buttonEl.style.display =\n",
              "        google.colab.kernel.accessAllowed ? 'block' : 'none';\n",
              "\n",
              "      async function convertToInteractive(key) {\n",
              "        const element = document.querySelector('#df-8840bc1c-1720-49d3-b2d4-5eaf8472e19a');\n",
              "        const dataTable =\n",
              "          await google.colab.kernel.invokeFunction('convertToInteractive',\n",
              "                                                    [key], {});\n",
              "        if (!dataTable) return;\n",
              "\n",
              "        const docLinkHtml = 'Like what you see? Visit the ' +\n",
              "          '<a target=\"_blank\" href=https://colab.research.google.com/notebooks/data_table.ipynb>data table notebook</a>'\n",
              "          + ' to learn more about interactive tables.';\n",
              "        element.innerHTML = '';\n",
              "        dataTable['output_type'] = 'display_data';\n",
              "        await google.colab.output.renderOutput(dataTable, element);\n",
              "        const docLink = document.createElement('div');\n",
              "        docLink.innerHTML = docLinkHtml;\n",
              "        element.appendChild(docLink);\n",
              "      }\n",
              "    </script>\n",
              "  </div>\n",
              "\n",
              "\n",
              "<div id=\"df-d51c731b-0ff0-4fcb-be90-02a9e4f43ffc\">\n",
              "  <button class=\"colab-df-quickchart\" onclick=\"quickchart('df-d51c731b-0ff0-4fcb-be90-02a9e4f43ffc')\"\n",
              "            title=\"Suggest charts\"\n",
              "            style=\"display:none;\">\n",
              "\n",
              "<svg xmlns=\"http://www.w3.org/2000/svg\" height=\"24px\"viewBox=\"0 0 24 24\"\n",
              "     width=\"24px\">\n",
              "    <g>\n",
              "        <path d=\"M19 3H5c-1.1 0-2 .9-2 2v14c0 1.1.9 2 2 2h14c1.1 0 2-.9 2-2V5c0-1.1-.9-2-2-2zM9 17H7v-7h2v7zm4 0h-2V7h2v10zm4 0h-2v-4h2v4z\"/>\n",
              "    </g>\n",
              "</svg>\n",
              "  </button>\n",
              "\n",
              "<style>\n",
              "  .colab-df-quickchart {\n",
              "      --bg-color: #E8F0FE;\n",
              "      --fill-color: #1967D2;\n",
              "      --hover-bg-color: #E2EBFA;\n",
              "      --hover-fill-color: #174EA6;\n",
              "      --disabled-fill-color: #AAA;\n",
              "      --disabled-bg-color: #DDD;\n",
              "  }\n",
              "\n",
              "  [theme=dark] .colab-df-quickchart {\n",
              "      --bg-color: #3B4455;\n",
              "      --fill-color: #D2E3FC;\n",
              "      --hover-bg-color: #434B5C;\n",
              "      --hover-fill-color: #FFFFFF;\n",
              "      --disabled-bg-color: #3B4455;\n",
              "      --disabled-fill-color: #666;\n",
              "  }\n",
              "\n",
              "  .colab-df-quickchart {\n",
              "    background-color: var(--bg-color);\n",
              "    border: none;\n",
              "    border-radius: 50%;\n",
              "    cursor: pointer;\n",
              "    display: none;\n",
              "    fill: var(--fill-color);\n",
              "    height: 32px;\n",
              "    padding: 0;\n",
              "    width: 32px;\n",
              "  }\n",
              "\n",
              "  .colab-df-quickchart:hover {\n",
              "    background-color: var(--hover-bg-color);\n",
              "    box-shadow: 0 1px 2px rgba(60, 64, 67, 0.3), 0 1px 3px 1px rgba(60, 64, 67, 0.15);\n",
              "    fill: var(--button-hover-fill-color);\n",
              "  }\n",
              "\n",
              "  .colab-df-quickchart-complete:disabled,\n",
              "  .colab-df-quickchart-complete:disabled:hover {\n",
              "    background-color: var(--disabled-bg-color);\n",
              "    fill: var(--disabled-fill-color);\n",
              "    box-shadow: none;\n",
              "  }\n",
              "\n",
              "  .colab-df-spinner {\n",
              "    border: 2px solid var(--fill-color);\n",
              "    border-color: transparent;\n",
              "    border-bottom-color: var(--fill-color);\n",
              "    animation:\n",
              "      spin 1s steps(1) infinite;\n",
              "  }\n",
              "\n",
              "  @keyframes spin {\n",
              "    0% {\n",
              "      border-color: transparent;\n",
              "      border-bottom-color: var(--fill-color);\n",
              "      border-left-color: var(--fill-color);\n",
              "    }\n",
              "    20% {\n",
              "      border-color: transparent;\n",
              "      border-left-color: var(--fill-color);\n",
              "      border-top-color: var(--fill-color);\n",
              "    }\n",
              "    30% {\n",
              "      border-color: transparent;\n",
              "      border-left-color: var(--fill-color);\n",
              "      border-top-color: var(--fill-color);\n",
              "      border-right-color: var(--fill-color);\n",
              "    }\n",
              "    40% {\n",
              "      border-color: transparent;\n",
              "      border-right-color: var(--fill-color);\n",
              "      border-top-color: var(--fill-color);\n",
              "    }\n",
              "    60% {\n",
              "      border-color: transparent;\n",
              "      border-right-color: var(--fill-color);\n",
              "    }\n",
              "    80% {\n",
              "      border-color: transparent;\n",
              "      border-right-color: var(--fill-color);\n",
              "      border-bottom-color: var(--fill-color);\n",
              "    }\n",
              "    90% {\n",
              "      border-color: transparent;\n",
              "      border-bottom-color: var(--fill-color);\n",
              "    }\n",
              "  }\n",
              "</style>\n",
              "\n",
              "  <script>\n",
              "    async function quickchart(key) {\n",
              "      const quickchartButtonEl =\n",
              "        document.querySelector('#' + key + ' button');\n",
              "      quickchartButtonEl.disabled = true;  // To prevent multiple clicks.\n",
              "      quickchartButtonEl.classList.add('colab-df-spinner');\n",
              "      try {\n",
              "        const charts = await google.colab.kernel.invokeFunction(\n",
              "            'suggestCharts', [key], {});\n",
              "      } catch (error) {\n",
              "        console.error('Error during call to suggestCharts:', error);\n",
              "      }\n",
              "      quickchartButtonEl.classList.remove('colab-df-spinner');\n",
              "      quickchartButtonEl.classList.add('colab-df-quickchart-complete');\n",
              "    }\n",
              "    (() => {\n",
              "      let quickchartButtonEl =\n",
              "        document.querySelector('#df-d51c731b-0ff0-4fcb-be90-02a9e4f43ffc button');\n",
              "      quickchartButtonEl.style.display =\n",
              "        google.colab.kernel.accessAllowed ? 'block' : 'none';\n",
              "    })();\n",
              "  </script>\n",
              "</div>\n",
              "\n",
              "    </div>\n",
              "  </div>\n"
            ],
            "text/plain": [
              "   ID         Lon        Lat  blue_p50  green_p50  nir_p50  nira_p50  re1_p50  \\\n",
              "0   1  108.406667  11.699973    2284.0     2429.0   2857.0    3314.5   2690.5   \n",
              "1   2  108.364087  11.780641    2606.0     2743.0   3708.0    4164.0   3226.5   \n",
              "2   3  108.201133  11.690091    1965.0     2174.0   3713.0    3767.0   2475.5   \n",
              "3   4  108.196731  11.692157    2010.0     2051.0   2401.0    2510.0   2234.0   \n",
              "4   5  108.197809  11.695032    2084.0     2253.0   3148.0    3371.0   2628.0   \n",
              "\n",
              "   re2_p50  re3_p50  red_p50  swir1_p50  swir2_p50    VV_p50     VH_p50  \\\n",
              "0   3043.5   3165.0   2461.0     3385.5     2848.0 -9.688691 -17.492636   \n",
              "1   3826.5   4080.5   2819.0     3978.5     3402.0 -8.679594 -16.148212   \n",
              "2   3473.5   3750.5   2050.0     2870.5     2309.0 -7.793950 -14.815912   \n",
              "3   2448.0   2532.0   2106.0     2476.5     2137.0 -9.485932 -15.773308   \n",
              "4   3212.5   3369.0   2301.0     3226.0     2874.0 -7.751073 -16.848070   \n",
              "\n",
              "   TARGET         lon        lat  \n",
              "0       0  108.406667  11.699973  \n",
              "1       0  108.364087  11.780641  \n",
              "2       0  108.201133  11.690091  \n",
              "3       0  108.196731  11.692157  \n",
              "4       0  108.197809  11.695032  "
            ]
          },
          "execution_count": 103,
          "metadata": {},
          "output_type": "execute_result"
        }
      ],
      "source": [
        "df_vnm_test.head()\n"
      ]
    },
    {
      "cell_type": "code",
      "execution_count": null,
      "metadata": {
        "colab": {
          "base_uri": "https://localhost:8080/",
          "height": 885
        },
        "id": "wvTQsNqMFgXJ",
        "outputId": "766ccadd-9574-4ea3-853e-4524d8c74b7b"
      },
      "outputs": [
        {
          "data": {
            "text/html": [
              "\n",
              "            <style>\n",
              "                .geemap-dark {\n",
              "                    --jp-widgets-color: white;\n",
              "                    --jp-widgets-label-color: white;\n",
              "                    --jp-ui-font-color1: white;\n",
              "                    --jp-layout-color2: #454545;\n",
              "                    background-color: #383838;\n",
              "                }\n",
              "\n",
              "                .geemap-dark .jupyter-button {\n",
              "                    --jp-layout-color3: #383838;\n",
              "                }\n",
              "\n",
              "                .geemap-colab {\n",
              "                    background-color: var(--colab-primary-surface-color, white);\n",
              "                }\n",
              "\n",
              "                .geemap-colab .jupyter-button {\n",
              "                    --jp-layout-color3: var(--colab-primary-surface-color, white);\n",
              "                }\n",
              "            </style>\n",
              "            "
            ],
            "text/plain": [
              "<IPython.core.display.HTML object>"
            ]
          },
          "metadata": {},
          "output_type": "display_data"
        },
        {
          "name": "stdout",
          "output_type": "stream",
          "text": [
            "000.*\n",
            "001.002.003.004.005.006.007.008.009.010.011.012.013.014.015.016.017.018.019.020.*\n",
            "021.022.023.024.025.026.027.028.029.030.031.032.033.034.035.036.037.038.039.040.*\n",
            "041.042.043.044.045.046.047.048.049.050.051.052.053.054.055.056.057.058.059.060.*\n",
            "061.062.063.064.065.066.067.068.069.070.071.072.073.074.075.076.077.078.079.080.*\n",
            "081.082.083.084.085.086.087.088.089.090.091.092.093.094.095.096.097.098.099.100.*\n",
            "101.102.103.104.105.106.107.108.109.110.111.112.113.114.115.116.117.118.119.120.*\n",
            "121.122.123.124.125.126.127.128.129.130.131.132.133.134.135.136.137.138.139.140.*\n",
            "141.142.143.144.145.146.147.148.149.150.151.152.153.154.155.156.157.158.159.160.*\n",
            "161.162.163.164.165.166.167.168.169.170.171.172.173.174.175.176.177.178.179.180.*\n",
            "181.182.183.184.185.186.187.188.189.190.191.192.193.194.195.196.197.198.199.200.*\n",
            "201.202.203.204.205.206.207.208.209.210.211.212.213.214.215.216.217.218.219.220.*\n",
            "221.222.223.224.225.226.227.228.229.230.231.232.233.234.235.236.237.238.239.240.*\n",
            "241.242.243.244.245.246.247.248.249.250.251.252.253.254.255.256.257.258.259.260.*\n",
            "261.262.263.264.265.266.267.268.269.270.271.272.273.274.275.276.277.278.279.280.*\n",
            "281.282.283.284.285.286.287.288.289.290.291.292.293.294.295.296.297.298.299.300.*\n",
            "301.302.303.304.305.306.307.308.309.310.311.312.313.314.315.316.317.318.319.320.*\n",
            "321.322.323.324.325.326.327.328.329.330.331.332.333.334.335.336.337.338.339.340.*\n",
            "341.342.343.344.345.346.347.348.349.350.351.352.353.354.355.356.357.358.359.360.*\n",
            "361.362.363.364.365.366.367.368.369.370.371.372.373.374.375.376.377.378.379.380.*\n",
            "381.382.383.384.385.386.387.388.389.390.391.392.393.394.395.396.397.398.399.400.*\n",
            "401.402.403.404.405.406.407.408.409.410.411.412.413.414.415.416.417.418.419.420.*\n",
            "421.422.423.424.425.426.427.428.429.430.431.432.433.434.435.436.437.438.439.440.*\n",
            "441.442.443.444.445.446.447.448.449.450.451.452.453.454.455.456.457.458.459.460.*\n",
            "461.462.463.464.465.466.467.468.469.470.471.472.473.474.475.476.477.478.479.480.*\n",
            "481.482.483.484.485.486.487.488.489.490.491.492.493.494.495.496.497.498.499.500.*\n",
            "501.502.503.504.505.506.507.508.509.510.511.512.513.514.515.516.517.518.519.520.*\n",
            "521.522.523.524.525.526.527.528.529.530.531.532.533.534.535.536.537.538.539.540.*\n",
            "541.542.543.544.545.546.547.548.549.550.551.552.553.554.555.556.557.558.559.560.*\n",
            "561.562.563.564.565.566.567.568.569.570.571.572.573.574.575.576.577.578.579.580.*\n",
            "581.582.583.584.585.586.587.588.589.590.591.592.593.594.595.596.597.598.599.600.*\n",
            "601.602.603.604.605.606.607.608.609.610.611.612.613.614.615.616.617.618.619.620.*\n",
            "621.622.623.624.625.626.627.628.629.630.631.632.633.634.635.636.637.638.639.640.*\n",
            "641.642.643.644.645.646.647.648.649.650.651.652.653.654.655.656.657.658.659.660.*\n",
            "661.662.663.664.665.666.667.668.669.670.671.672.673.674.675.676.677.678.679.680.*\n",
            "681.682.683.684.685.686.687.688.689.690.691.692.693.694.695.696.697.698.699.700.*\n",
            "701.702.703.704.705.706.707.708.709.710.711.712.713.714.715.716.717.718.719.720.*\n",
            "721.722.723.724.725.726.727.728.729.730.731.732.733.734.735.736.737.738.739.740.*\n",
            "741.742.743.744.745.746.747.748.749.750.751.752.753.754.755.756.757.758.759.760.*\n",
            "761.762.763.764.765.766.767.768.769.770.771.772.773.774.775.776.777.778.779.780.*\n",
            "781.782.783.784.785.786.787.788.789.790.791.792.793.794.795.796.797.798.799.800.*\n",
            "801.802.803.804.805.806.807.808.809.810.811.812.813.814.815.816.817.818.819.820.*\n",
            "821.822.823.824.825.826.827.828.829.830.831.832.833.834.835.836.837.838.839.840.*\n",
            "841.842.843.844.845.846.847.848.849.850.851.852.853.854.855.856.857.858.859.860.*\n",
            "861.862.863.864.865.866.867.868.869.870.871.872.873.874.875.876.877.878.879.880.*\n",
            "881.882.883.884.885.886.887.888.889.890.891.892.893.894.895.896.897.898.899.900.*\n",
            "901.902.903.904.905.906.907.908.909.910.911.912.913.914.915.916.917.918.919.920.*\n",
            "921.922.923.924.925.926.927.928.929.930.931.932.933.934.935.936.937.938.939.940.*\n",
            "941.942.943.944.945.946.947.948.949.950.951.952.953.954.955.956.957.958.959.960.*\n",
            "961.962.963.964.965.966.967.968.969.970.971.972.973.974.975.976.977.978."
          ]
        }
      ],
      "source": [
        "image_generation(df_vnm_test,_image_id_)"
      ]
    },
    {
      "cell_type": "code",
      "execution_count": null,
      "metadata": {
        "colab": {
          "base_uri": "https://localhost:8080/",
          "height": 17
        },
        "id": "LSGU-KBTT69j",
        "outputId": "dd43d1b0-311e-473c-b050-b44e97fc30ec"
      },
      "outputs": [
        {
          "data": {
            "text/html": [
              "\n",
              "            <style>\n",
              "                .geemap-dark {\n",
              "                    --jp-widgets-color: white;\n",
              "                    --jp-widgets-label-color: white;\n",
              "                    --jp-ui-font-color1: white;\n",
              "                    --jp-layout-color2: #454545;\n",
              "                    background-color: #383838;\n",
              "                }\n",
              "\n",
              "                .geemap-dark .jupyter-button {\n",
              "                    --jp-layout-color3: #383838;\n",
              "                }\n",
              "\n",
              "                .geemap-colab {\n",
              "                    background-color: var(--colab-primary-surface-color, white);\n",
              "                }\n",
              "\n",
              "                .geemap-colab .jupyter-button {\n",
              "                    --jp-layout-color3: var(--colab-primary-surface-color, white);\n",
              "                }\n",
              "            </style>\n",
              "            "
            ],
            "text/plain": [
              "<IPython.core.display.HTML object>"
            ]
          },
          "metadata": {},
          "output_type": "display_data"
        }
      ],
      "source": [
        "df_kenya_test=pandas.read_csv(_PROJECT_BASE_+_ORIG_+\"/Kenya_testing.csv\")\n",
        "_image_id_=\"_kenya_testing\"\n",
        "_sat_=None\n",
        "_band_=None\n",
        "df_kenya_test[\"TARGET\"]=0\n"
      ]
    },
    {
      "cell_type": "code",
      "execution_count": null,
      "metadata": {
        "colab": {
          "base_uri": "https://localhost:8080/",
          "height": 902
        },
        "id": "cvyyfQNuFgNZ",
        "outputId": "bf791f43-2572-474e-af39-cb790dd5d989"
      },
      "outputs": [
        {
          "data": {
            "text/html": [
              "\n",
              "            <style>\n",
              "                .geemap-dark {\n",
              "                    --jp-widgets-color: white;\n",
              "                    --jp-widgets-label-color: white;\n",
              "                    --jp-ui-font-color1: white;\n",
              "                    --jp-layout-color2: #454545;\n",
              "                    background-color: #383838;\n",
              "                }\n",
              "\n",
              "                .geemap-dark .jupyter-button {\n",
              "                    --jp-layout-color3: #383838;\n",
              "                }\n",
              "\n",
              "                .geemap-colab {\n",
              "                    background-color: var(--colab-primary-surface-color, white);\n",
              "                }\n",
              "\n",
              "                .geemap-colab .jupyter-button {\n",
              "                    --jp-layout-color3: var(--colab-primary-surface-color, white);\n",
              "                }\n",
              "            </style>\n",
              "            "
            ],
            "text/plain": [
              "<IPython.core.display.HTML object>"
            ]
          },
          "metadata": {},
          "output_type": "display_data"
        },
        {
          "name": "stdout",
          "output_type": "stream",
          "text": [
            "000.*\n",
            "001.002.003.004.005.006.007.008.009.010.011.012.013.014.015.016.017.018.019.020.*\n",
            "021.022.023.024.025.026.027.028.029.030.031.032.033.034.035.036.037.038.039.040.*\n",
            "041.042.043.044.045.046.047.048.049.050.051.052.053.054.055.056.057.058.059.060.*\n",
            "061.062.063.064.065.066.067.068.069.070.071.072.073.074.075.076.077.078.079.080.*\n",
            "081.082.083.084.085.086.087.088.089.090.091.092.093.094.095.096.097.098.099.100.*\n",
            "101.102.103.104.105.106.107.108.109.110.111.112.113.114.115.116.117.118.119.120.*\n",
            "121.122.123.124.125.126.127.128.129.130.131.132.133.134.135.136.137.138.139.140.*\n",
            "141.142.143.144.145.146.147.148.149.150.151.152.153.154.155.156.157.158.159.160.*\n",
            "161.162.163.164.165.166.167.168.169.170.171.172.173.174.175.176.177.178.179.180.*\n",
            "181.182.183.184.185.186.187.188.189.190.191.192.193.194.195.196.197.198.199.200.*\n",
            "201.202.203.204.205.206.207.208.209.210.211.212.213.214.215.216.217.218.219.220.*\n",
            "221.222.223.224.225.226.227.228.229.230.231.232.233.234.235.236.237.238.239.240.*\n",
            "241.242.243.244.245.246.247.248.249.250.251.252.253.254.255.256.257.258.259.260.*\n",
            "261.262.263.264.265.266.267.268.269.270.271.272.273.274.275.276.277.278.279.280.*\n",
            "281.282.283.284.285.286.287.288.289.290.291.292.293.294.295.296.297.298.299.300.*\n",
            "301.302.303.304.305.306.307.308.309.310.311.312.313.314.315.316.317.318.319.320.*\n",
            "321.322.323.324.325.326.327.328.329.330.331.332.333.334.335.336.337.338.339.340.*\n",
            "341.342.343.344.345.346.347.348.349.350.351.352.353.354.355.356.357.358.359.360.*\n",
            "361.362.363.364.365.366.367.368.369.370.371.372.373.374.375.376.377.378.379.380.*\n",
            "381.382.383.384.385.386.387.388.389.390.391.392.393.394.395.396.397.398.399.400.*\n",
            "401.402.403.404.405.406.407.408.409.410.411.412.413.414.415.416.417.418.419.420.*\n",
            "421.422.423.424.425.426.427.428.429.430.431.432.433.434.435.436.437.438.439.440.*\n",
            "441.442.443.444.445.446.447.448.449.450.451.452.453.454.455.456.457.458.459.460.*\n",
            "461.462.463.464.465.466.467.468.469.470.471.472.473.474.475.476.477.478.479.480.*\n",
            "481.482.483.484.485.486.487.488.489.490.491.492.493.494.495.496.497.498.499.500.*\n",
            "501.502.503.504.505.506.507.508.509.510.511.512.513.514.515.516.517.518.519.520.*\n",
            "521.522.523.524.525.526.527.528.529.530.531.532.533.534.535.536.537.538.539.540.*\n",
            "541.542.543.544.545.546.547.548.549.550.551.552.553.554.555.556.557.558.559.560.*\n",
            "561.562.563.564.565.566.567.568.569.570.571.572.573.574.575.576.577.578.579.580.*\n",
            "581.582.583.584.585.586.587.588.589.590.591.592.593.594.595.596.597.598.599.600.*\n",
            "601.602.603.604.605.606.607.608.609.610.611.612.613.614.615.616.617.618.619.620.*\n",
            "621.622.623.624.625.626.627.628.629.630.631.632.633.634.635.636.637.638.639.640.*\n",
            "641.642.643.644.645.646.647.648.649.650.651.652.653.654.655.656.657.658.659.660.*\n",
            "661.662.663.664.665.666.667.668.669.670.671.672.673.674.675.676.677.678.679.680.*\n",
            "681.682.683.684.685.686.687.688.689.690.691.692.693.694.695.696.697.698.699.700.*\n",
            "701.702.703.704.705.706.707.708.709.710.711.712.713.714.715.716.717.718.719.720.*\n",
            "721.722.723.724.725.726.727.728.729.730.731.732.733.734.735.736.737.738.739.740.*\n",
            "741.742.743.744.745.746.747.748.749.750.751.752.753.754.755.756.757.758.759.760.*\n",
            "761.762.763.764.765.766.767.768.769.770.771.772.773.774.775.776.777.778.779.780.*\n",
            "781.782.783.784.785.786.787.788.789.790.791.792.793.794.795.796.797.798.799.800.*\n",
            "801.802.803.804.805.806.807.808.809.810.811.812.813.814.815.816.817.818.819.820.*\n",
            "821.822.823.824.825.826.827.828.829.830.831.832.833.834.835.836.837.838.839.840.*\n",
            "841.842.843.844.845.846.847.848.849.850.851.852.853.854.855.856.857.858.859.860.*\n",
            "861.862.863.864.865.866.867.868.869.870.871.872.873.874.875.876.877.878.879.880.*\n",
            "881.882.883.884.885.886.887.888.889.890.891.892.893.894.895.896.897.898.899.900.*\n",
            "901.902.903.904.905.906.907.908.909.910.911.912.913.914.915.916.917.918.919.920.*\n",
            "921.922.923.924.925.926.927.928.929.930.931.932.933.934.935.936.937.938.939.940.*\n",
            "941.942.943.944.945.946.947.948.949.950.951.952.953.954.955.956.957.958.959.960.*\n",
            "961.962.963.964.965.966.967.968.969.970.971.972.973.974.975.976.977.978.979.980.*\n",
            "981.982.983.984.985.986.987.988.989.990.991.992.993.994.995.996.997.998.999.1000.*\n"
          ]
        }
      ],
      "source": [
        "image_generation(df_kenya_test,_image_id_)"
      ]
    },
    {
      "cell_type": "code",
      "execution_count": null,
      "metadata": {
        "colab": {
          "base_uri": "https://localhost:8080/",
          "height": 17
        },
        "id": "leNkZzRKvU2G",
        "outputId": "ab684320-24f7-430d-eba1-fae1f0011399"
      },
      "outputs": [
        {
          "data": {
            "text/html": [
              "\n",
              "            <style>\n",
              "                .geemap-dark {\n",
              "                    --jp-widgets-color: white;\n",
              "                    --jp-widgets-label-color: white;\n",
              "                    --jp-ui-font-color1: white;\n",
              "                    --jp-layout-color2: #454545;\n",
              "                    background-color: #383838;\n",
              "                }\n",
              "\n",
              "                .geemap-dark .jupyter-button {\n",
              "                    --jp-layout-color3: #383838;\n",
              "                }\n",
              "\n",
              "                .geemap-colab {\n",
              "                    background-color: var(--colab-primary-surface-color, white);\n",
              "                }\n",
              "\n",
              "                .geemap-colab .jupyter-button {\n",
              "                    --jp-layout-color3: var(--colab-primary-surface-color, white);\n",
              "                }\n",
              "            </style>\n",
              "            "
            ],
            "text/plain": [
              "<IPython.core.display.HTML object>"
            ]
          },
          "metadata": {},
          "output_type": "display_data"
        }
      ],
      "source": [
        "\n",
        "# _sat_=\"LANDSAT/LC08/C02/T1_L2\"\n",
        "# _band_=['SR_B7','SR_B3','SR_B2']\n",
        "# _image_id_=\"_kenya_landsat\""
      ]
    },
    {
      "cell_type": "code",
      "execution_count": null,
      "metadata": {
        "colab": {
          "base_uri": "https://localhost:8080/",
          "height": 17
        },
        "id": "Xh0DUqj_vU2G",
        "outputId": "842e6a2d-ba43-4778-f174-55c6a8d8df47"
      },
      "outputs": [
        {
          "data": {
            "text/html": [
              "\n",
              "            <style>\n",
              "                .geemap-dark {\n",
              "                    --jp-widgets-color: white;\n",
              "                    --jp-widgets-label-color: white;\n",
              "                    --jp-ui-font-color1: white;\n",
              "                    --jp-layout-color2: #454545;\n",
              "                    background-color: #383838;\n",
              "                }\n",
              "\n",
              "                .geemap-dark .jupyter-button {\n",
              "                    --jp-layout-color3: #383838;\n",
              "                }\n",
              "\n",
              "                .geemap-colab {\n",
              "                    background-color: var(--colab-primary-surface-color, white);\n",
              "                }\n",
              "\n",
              "                .geemap-colab .jupyter-button {\n",
              "                    --jp-layout-color3: var(--colab-primary-surface-color, white);\n",
              "                }\n",
              "            </style>\n",
              "            "
            ],
            "text/plain": [
              "<IPython.core.display.HTML object>"
            ]
          },
          "metadata": {},
          "output_type": "display_data"
        }
      ],
      "source": [
        "# image_generation(df_kenya,_image_id_)"
      ]
    },
    {
      "cell_type": "code",
      "execution_count": null,
      "metadata": {
        "colab": {
          "base_uri": "https://localhost:8080/",
          "height": 17
        },
        "id": "mhlHHrggtUl2",
        "outputId": "7d115b77-ac2c-4987-f6af-03b35ba786bf"
      },
      "outputs": [
        {
          "data": {
            "text/html": [
              "\n",
              "            <style>\n",
              "                .geemap-dark {\n",
              "                    --jp-widgets-color: white;\n",
              "                    --jp-widgets-label-color: white;\n",
              "                    --jp-ui-font-color1: white;\n",
              "                    --jp-layout-color2: #454545;\n",
              "                    background-color: #383838;\n",
              "                }\n",
              "\n",
              "                .geemap-dark .jupyter-button {\n",
              "                    --jp-layout-color3: #383838;\n",
              "                }\n",
              "\n",
              "                .geemap-colab {\n",
              "                    background-color: var(--colab-primary-surface-color, white);\n",
              "                }\n",
              "\n",
              "                .geemap-colab .jupyter-button {\n",
              "                    --jp-layout-color3: var(--colab-primary-surface-color, white);\n",
              "                }\n",
              "            </style>\n",
              "            "
            ],
            "text/plain": [
              "<IPython.core.display.HTML object>"
            ]
          },
          "metadata": {},
          "output_type": "display_data"
        }
      ],
      "source": [
        "def format_image(image_dir):\n",
        "    image = tf.read_file(image_dir)\n",
        "    image = tf.image.decode_jpeg(image, channels=3)\n",
        "    image = tf.image.convert_image_dtype(image, tf.float32)\n",
        "    image = tf.image.resize_image_with_pad(image, 256, 256, align_corners=True)\n",
        "    return image"
      ]
    },
    {
      "cell_type": "code",
      "execution_count": null,
      "metadata": {
        "colab": {
          "base_uri": "https://localhost:8080/",
          "height": 17
        },
        "id": "4VUem8xMstSo",
        "outputId": "f469ac9b-7103-44df-b8e5-91ff0093b839"
      },
      "outputs": [
        {
          "data": {
            "text/html": [
              "\n",
              "            <style>\n",
              "                .geemap-dark {\n",
              "                    --jp-widgets-color: white;\n",
              "                    --jp-widgets-label-color: white;\n",
              "                    --jp-ui-font-color1: white;\n",
              "                    --jp-layout-color2: #454545;\n",
              "                    background-color: #383838;\n",
              "                }\n",
              "\n",
              "                .geemap-dark .jupyter-button {\n",
              "                    --jp-layout-color3: #383838;\n",
              "                }\n",
              "\n",
              "                .geemap-colab {\n",
              "                    background-color: var(--colab-primary-surface-color, white);\n",
              "                }\n",
              "\n",
              "                .geemap-colab .jupyter-button {\n",
              "                    --jp-layout-color3: var(--colab-primary-surface-color, white);\n",
              "                }\n",
              "            </style>\n",
              "            "
            ],
            "text/plain": [
              "<IPython.core.display.HTML object>"
            ]
          },
          "metadata": {},
          "output_type": "display_data"
        }
      ],
      "source": [
        "test_images_dir=_PROJECT_BASE_+_TEST_IMAGES_\n",
        "images_dir=_PROJECT_BASE_+_IMAGES_"
      ]
    },
    {
      "cell_type": "code",
      "execution_count": null,
      "metadata": {
        "colab": {
          "base_uri": "https://localhost:8080/",
          "height": 17
        },
        "id": "D0yqcFNCslqX",
        "outputId": "cde968b2-4be0-43d4-deda-0e87f7309014"
      },
      "outputs": [
        {
          "data": {
            "text/html": [
              "\n",
              "            <style>\n",
              "                .geemap-dark {\n",
              "                    --jp-widgets-color: white;\n",
              "                    --jp-widgets-label-color: white;\n",
              "                    --jp-ui-font-color1: white;\n",
              "                    --jp-layout-color2: #454545;\n",
              "                    background-color: #383838;\n",
              "                }\n",
              "\n",
              "                .geemap-dark .jupyter-button {\n",
              "                    --jp-layout-color3: #383838;\n",
              "                }\n",
              "\n",
              "                .geemap-colab {\n",
              "                    background-color: var(--colab-primary-surface-color, white);\n",
              "                }\n",
              "\n",
              "                .geemap-colab .jupyter-button {\n",
              "                    --jp-layout-color3: var(--colab-primary-surface-color, white);\n",
              "                }\n",
              "            </style>\n",
              "            "
            ],
            "text/plain": [
              "<IPython.core.display.HTML object>"
            ]
          },
          "metadata": {},
          "output_type": "display_data"
        }
      ],
      "source": [
        "!mv {images_dir+'/*_1_*.jpg'} {images_dir+'/plastic'}\n",
        "!mv {images_dir+'/*_2_*.jpg'} {images_dir+'/non_plastic'}"
      ]
    },
    {
      "cell_type": "code",
      "execution_count": null,
      "metadata": {
        "colab": {
          "base_uri": "https://localhost:8080/",
          "height": 17
        },
        "id": "gbSLtBqptD1C",
        "outputId": "4418f688-862f-418c-b863-4089da131eef"
      },
      "outputs": [
        {
          "data": {
            "text/html": [
              "\n",
              "            <style>\n",
              "                .geemap-dark {\n",
              "                    --jp-widgets-color: white;\n",
              "                    --jp-widgets-label-color: white;\n",
              "                    --jp-ui-font-color1: white;\n",
              "                    --jp-layout-color2: #454545;\n",
              "                    background-color: #383838;\n",
              "                }\n",
              "\n",
              "                .geemap-dark .jupyter-button {\n",
              "                    --jp-layout-color3: #383838;\n",
              "                }\n",
              "\n",
              "                .geemap-colab {\n",
              "                    background-color: var(--colab-primary-surface-color, white);\n",
              "                }\n",
              "\n",
              "                .geemap-colab .jupyter-button {\n",
              "                    --jp-layout-color3: var(--colab-primary-surface-color, white);\n",
              "                }\n",
              "            </style>\n",
              "            "
            ],
            "text/plain": [
              "<IPython.core.display.HTML object>"
            ]
          },
          "metadata": {},
          "output_type": "display_data"
        }
      ],
      "source": [
        "!mv {images_dir+'/*_0_*.jpg'} {test_images_dir}"
      ]
    },
    {
      "cell_type": "code",
      "execution_count": null,
      "metadata": {
        "id": "uiVYrzUHtngp"
      },
      "outputs": [],
      "source": [
        "# END of Image generation"
      ]
    },
    {
      "cell_type": "code",
      "execution_count": null,
      "metadata": {
        "id": "qgKBKekF2rgh"
      },
      "outputs": [],
      "source": [
        "stop here the map download"
      ]
    },
    {
      "cell_type": "code",
      "execution_count": 2,
      "metadata": {
        "colab": {
          "base_uri": "https://localhost:8080/"
        },
        "id": "bYPNj2qGtr6b",
        "outputId": "09ea1348-ae4b-4553-8e9c-19edda5388d0"
      },
      "outputs": [
        {
          "output_type": "stream",
          "name": "stdout",
          "text": [
            "Mounted at /content/drive\n"
          ]
        }
      ],
      "source": [
        "from google.colab import drive\n",
        "drive.mount('/content/drive')"
      ]
    },
    {
      "cell_type": "code",
      "execution_count": 3,
      "metadata": {
        "id": "Kj-uVNqa4E1K"
      },
      "outputs": [],
      "source": [
        "!mkdir local\n",
        "!mkdir images"
      ]
    },
    {
      "cell_type": "code",
      "execution_count": 4,
      "metadata": {
        "id": "qAIueV-y5FB7"
      },
      "outputs": [],
      "source": [
        "_PROJECT_BASE_='/content/drive/MyDrive/Zindi_Plastic_images/'\n",
        "_IMAGES_='images'"
      ]
    },
    {
      "cell_type": "code",
      "execution_count": 5,
      "metadata": {
        "id": "bduU2gKD5JMH"
      },
      "outputs": [],
      "source": [
        "!cp -r {_PROJECT_BASE_+_IMAGES_} ./local"
      ]
    },
    {
      "cell_type": "code",
      "execution_count": 6,
      "metadata": {
        "id": "QD9eEfIA396p"
      },
      "outputs": [],
      "source": [
        "#!rm {_PROJECT_BASE_+_IMAGES_+'/*.jpg'}"
      ]
    },
    {
      "cell_type": "code",
      "execution_count": 7,
      "metadata": {
        "id": "qPOorZ84uS_3"
      },
      "outputs": [],
      "source": [
        "\n",
        "import pandas as pd"
      ]
    },
    {
      "cell_type": "markdown",
      "metadata": {
        "id": "_gbWo_U25YDX"
      },
      "source": []
    },
    {
      "cell_type": "code",
      "execution_count": 8,
      "metadata": {
        "colab": {
          "base_uri": "https://localhost:8080/"
        },
        "id": "42Q8GZgK4BhZ",
        "outputId": "7a966547-cd19-4853-b9ea-f407eda96116"
      },
      "outputs": [
        {
          "output_type": "stream",
          "name": "stdout",
          "text": [
            "rm: cannot remove '/content/local/images/plastic/*__*.jpg': No such file or directory\n"
          ]
        }
      ],
      "source": [
        "!rm /content/local/images/plastic/*__*.jpg"
      ]
    },
    {
      "cell_type": "code",
      "execution_count": 9,
      "metadata": {
        "id": "7OveDfFZ8Twj"
      },
      "outputs": [],
      "source": [
        "_DEBUG_=False\n",
        "_PROJECT_BASE_='./local/'\n",
        "_IMAGES_='images'\n",
        "_TEST_IMAGES_='test_images'\n",
        "\n",
        "_ORIG_='orig'\n"
      ]
    },
    {
      "cell_type": "code",
      "execution_count": 10,
      "metadata": {
        "id": "I_K14X-quWlq"
      },
      "outputs": [],
      "source": [
        "train_path=_PROJECT_BASE_+_IMAGES_\n",
        "\n",
        "\n",
        "test_path=_PROJECT_BASE_+_IMAGES_\n",
        "valid_path=_PROJECT_BASE_+_IMAGES_"
      ]
    },
    {
      "cell_type": "code",
      "execution_count": 11,
      "metadata": {
        "id": "pQ2jy0IfuchD"
      },
      "outputs": [],
      "source": [
        "import tensorflow as tf\n",
        "import tensorflow.keras as keras\n",
        "from tensorflow.keras.callbacks import ModelCheckpoint\n",
        "from tensorflow.keras.layers import Conv2D, Flatten, MaxPooling2D,Dense,Dropout\n",
        "from tensorflow.keras.models  import Sequential\n",
        "from tensorflow.keras.preprocessing.image import ImageDataGenerator"
      ]
    },
    {
      "cell_type": "code",
      "execution_count": 12,
      "metadata": {
        "colab": {
          "base_uri": "https://localhost:8080/"
        },
        "id": "kV94dzOyyVgJ",
        "outputId": "71341d80-9f82-4902-b0e0-23564dacd2d6"
      },
      "outputs": [
        {
          "output_type": "stream",
          "name": "stdout",
          "text": [
            "Found 2261 images belonging to 2 classes.\n",
            "Found 564 images belonging to 2 classes.\n"
          ]
        }
      ],
      "source": [
        "# extract images to training set by applying data preprocessing and data augmentation\n",
        "random_seed = 26\n",
        "train_batches = ImageDataGenerator(\n",
        "    preprocessing_function=tf.keras.applications.vgg16.preprocess_input,\n",
        "    validation_split=0.2,).flow_from_directory(\n",
        "    directory=train_path, target_size=(224,224), classes=['plastic', 'non_plastic'], batch_size=1, subset='training',seed=random_seed)\n",
        "\n",
        "\n",
        "# extract images to validation set\n",
        "valid_batches = ImageDataGenerator(\n",
        "    preprocessing_function=tf.keras.applications.vgg16.preprocess_input,\n",
        "    validation_split=0.2).flow_from_directory(\n",
        "    directory=valid_path, target_size=(224,224), classes=['plastic', 'non_plastic'], batch_size=1, subset='validation',seed=random_seed)\n",
        "\n"
      ]
    },
    {
      "cell_type": "markdown",
      "metadata": {
        "id": "CA7Qd1GmRICq"
      },
      "source": []
    },
    {
      "cell_type": "code",
      "execution_count": 13,
      "metadata": {
        "id": "is_HNlgRyh_r"
      },
      "outputs": [],
      "source": [
        "import matplotlib.pyplot as plt\n",
        "def plot_imgs(item_dir, top=100):\n",
        "    all_item_dirs = os.listdir(item_dir)\n",
        "    item_files = [os.path.join(item_dir, file) for file in all_item_dirs][:5]\n",
        "\n",
        "    plt.figure(figsize=(10, 10))\n",
        "\n",
        "    for idx, img_path in enumerate(item_files):\n",
        "        plt.subplot(2, 5, idx+1)\n",
        "\n",
        "        img = plt.imread(img_path)\n",
        "        plt.tight_layout()\n",
        "        plt.imshow(img, cmap='gray')\n",
        "\n"
      ]
    },
    {
      "cell_type": "code",
      "execution_count": 14,
      "metadata": {
        "colab": {
          "base_uri": "https://localhost:8080/",
          "height": 414
        },
        "id": "GXZXTLqdyu99",
        "outputId": "2c12d4a1-24c9-4a28-e36f-75fe160b0e19"
      },
      "outputs": [
        {
          "output_type": "stream",
          "name": "stdout",
          "text": [
            "['non_plastic', 'plastic']\n"
          ]
        },
        {
          "output_type": "display_data",
          "data": {
            "text/plain": [
              "<Figure size 1000x1000 with 5 Axes>"
            ],
            "image/png": "[encoded data removed]"
          },
          "metadata": {}
        },
        {
          "output_type": "display_data",
          "data": {
            "text/plain": [
              "<Figure size 1000x1000 with 5 Axes>"
            ],
            "image/png": "[encoded data removed]"
          },
          "metadata": {}
        }
      ],
      "source": [
        "import os\n",
        "print(os.listdir(train_path))\n",
        "\n",
        "data_path = train_path\n",
        "\n",
        "plot_imgs(data_path+'/plastic')\n",
        "\n",
        "plot_imgs(data_path+'/non_plastic')\n"
      ]
    },
    {
      "cell_type": "code",
      "execution_count": 15,
      "metadata": {
        "colab": {
          "base_uri": "https://localhost:8080/"
        },
        "id": "d_kxIEbNznpt",
        "outputId": "230f5d46-fe1f-4180-c322-4821cad26c38"
      },
      "outputs": [
        {
          "output_type": "stream",
          "name": "stdout",
          "text": [
            "X: 224, Y: 224\n",
            "Found 2543 images belonging to 2 classes.\n",
            "Found 282 images belonging to 2 classes.\n",
            "binary\n"
          ]
        }
      ],
      "source": [
        "batch_size = 32\n",
        "random_seed = 32 #26\n",
        "\n",
        "x_pxm=224\n",
        "y_pxm=224\n",
        "divider=1\n",
        "bpc=3\n",
        "images_path=_PROJECT_BASE_+_IMAGES_\n",
        "\n",
        "# Data Generator\n",
        "train=ImageDataGenerator(horizontal_flip=True, vertical_flip=True,validation_split=0.1,rescale=1./255,\n",
        "                         shear_range = 0.0,zoom_range = 0.0,\n",
        "                         width_shift_range = 0.0,\n",
        "                         height_shift_range = 0.0,)\n",
        "\n",
        "test=ImageDataGenerator(rescale=1./255,validation_split=0.1)\n",
        "\n",
        "\n",
        "x_px=int(x_pxm/divider)\n",
        "y_px=int(y_pxm/divider)\n",
        "\n",
        "print(f\"X: {x_px}, Y: {y_px}\")\n",
        "train_generator=train.flow_from_directory(images_path,target_size=(x_px,y_px),batch_size=batch_size,class_mode='binary',\n",
        "                                          subset='training',\n",
        "                                          color_mode=\"rgb\",\n",
        "                                          seed=random_seed,\n",
        "                                          shuffle=True)\n",
        "test_generator=test.flow_from_directory(images_path,target_size=(x_px,y_px),batch_size=batch_size,class_mode='binary',\n",
        "                                        subset='validation',\n",
        "                                        color_mode=\"rgb\",\n",
        "                                        seed=random_seed,\n",
        "                                        shuffle=True)\n",
        "\n",
        "\n",
        "\n",
        "print(train_generator.class_mode)"
      ]
    },
    {
      "cell_type": "code",
      "execution_count": 16,
      "metadata": {
        "colab": {
          "base_uri": "https://localhost:8080/"
        },
        "id": "pmKaAxScz-B_",
        "outputId": "521da154-c480-4829-c06b-ee6082e51bc0"
      },
      "outputs": [
        {
          "output_type": "stream",
          "name": "stdout",
          "text": [
            "{0: 'non_plastic', 1: 'plastic'}\n"
          ]
        }
      ],
      "source": [
        "\n",
        "labels = (train_generator.class_indices)\n",
        "labels = dict((v,k) for k,v in labels.items())\n",
        "print(labels)"
      ]
    },
    {
      "cell_type": "code",
      "execution_count": 17,
      "metadata": {
        "id": "3Oewg2m40X95"
      },
      "outputs": [],
      "source": [
        "from tensorflow.keras.layers import Input,Dense,Embedding,LSTM,TimeDistributed, Flatten, Bidirectional, Conv2D,Conv3D, Dropout,Convolution2D, Conv2DTranspose, Input\n",
        "from tensorflow.keras.layers import MaxPool2D, Rescaling,RandomFlip,RandomRotation, Reshape,BatchNormalization,AveragePooling2D\n",
        "from tensorflow.keras.layers import Concatenate\n",
        "from tensorflow.keras.models import Model\n",
        "from tensorflow.keras.optimizers import Adadelta,Adam,SGD,Adamax,Nadam,Adagrad,RMSprop\n",
        "from tensorflow.keras.losses import sparse_categorical_crossentropy,categorical_crossentropy, MeanSquaredError\n",
        "from tensorflow.keras import backend as K\n",
        "from keras.regularizers import l1\n",
        "from keras.initializers import RandomNormal,Zeros,GlorotUniform\n",
        "\n",
        "K.clear_session()\n",
        "\n"
      ]
    },
    {
      "cell_type": "code",
      "execution_count": 18,
      "metadata": {
        "id": "gO3SjT4c1TWa"
      },
      "outputs": [],
      "source": [
        "inputs= Input(shape=(224,224,3))\n",
        "\n",
        "\n",
        "e = Conv2D(32, (3, 3), activation='relu',padding='same',)(inputs)\n",
        "e=BatchNormalization()(e)\n",
        "o1 = Conv2D(32, (3, 3), activation='relu',padding='same',)(e)\n",
        "\n",
        "\n",
        "e = AveragePooling2D((2, 2),strides=(2, 2))(o1)\n",
        "mp= MaxPool2D((2, 2),strides=(2, 2))(o1)\n",
        "#e = Dropout(0.01)(e)\n",
        "\n",
        "e = Conv2D(64, (3, 3), activation='relu',padding='same',)(e)\n",
        "e=BatchNormalization()(e)\n",
        "e = Conv2D(64, (3, 3), activation='relu',padding='same',)(e)\n",
        "e=BatchNormalization()(e)\n",
        "e = AveragePooling2D((2, 2),strides=(2, 2))(e)\n",
        "\n",
        "mp = Conv2D(64, (3, 3), activation='relu',padding='same',)(mp)\n",
        "mp=BatchNormalization()(mp)\n",
        "mp = Conv2D(64, (3, 3), activation='relu',padding='same',)(mp)\n",
        "mp=BatchNormalization()(mp)\n",
        "mp= MaxPool2D((2, 2),strides=(2, 2))(mp)\n",
        "\n",
        "#e = Dropout(0.01)(e)\n",
        "\n",
        "e = Conv2D(64, (3, 3), activation='relu',padding='same',)(e)\n",
        "e=BatchNormalization()(e)\n",
        "e = Conv2D(64, (3, 3), activation='relu',padding='same',)(e)\n",
        "e=BatchNormalization()(e)\n",
        "e = Conv2D(64, (3, 3), activation='relu',padding='same',)(e)\n",
        "e=BatchNormalization()(e)\n",
        "\n",
        "e = AveragePooling2D((2, 2), strides=(2, 2))(e)\n",
        "\n",
        "mp = Conv2D(64, (3, 3), activation='relu',padding='same',)(mp)\n",
        "mp=BatchNormalization()(mp)\n",
        "mp = Conv2D(64, (3, 3), activation='relu',padding='same',)(mp)\n",
        "mp=BatchNormalization()(mp)\n",
        "mp = Conv2D(64, (3, 3), activation='relu',padding='same',)(mp)\n",
        "mp=BatchNormalization()(mp)\n",
        "\n",
        "mp = MaxPool2D((2, 2), strides=(2, 2))(mp)\n",
        "\n",
        "\n",
        "\n",
        "\n",
        "#e = Dropout(0.01)(e)\n",
        "\n",
        "e = Conv2D(128, (3, 3), activation='relu',padding='same',)(e)\n",
        "e=BatchNormalization()(e)\n",
        "e = Conv2D(128, (3, 3), activation='relu',padding='same',)(e)\n",
        "e=BatchNormalization()(e)\n",
        "e = Conv2D(128, (3, 3), activation='relu',padding='same',)(e)\n",
        "e=BatchNormalization()(e)\n",
        "\n",
        "e = AveragePooling2D((2, 2), strides=(2,2))(e)\n",
        "\n",
        "\n",
        "mp = Conv2D(128, (3, 3), activation='relu',padding='same',)(mp)\n",
        "mp=BatchNormalization()(mp)\n",
        "mp = Conv2D(128, (3, 3), activation='relu',padding='same',)(mp)\n",
        "mp=BatchNormalization()(mp)\n",
        "mp = Conv2D(128, (3, 3), activation='relu',padding='same',)(mp)\n",
        "mp=BatchNormalization()(mp)\n",
        "\n",
        "mp = MaxPool2D((2, 2), strides=(2, 2))(mp)\n",
        "\n",
        "\n",
        "\n",
        "#e = Dropout(0.1)(e)\n",
        "\n",
        "e = Conv2D(128, (3, 3), activation='relu',padding='same',)(e)\n",
        "e=BatchNormalization()(e)\n",
        "e = Conv2D(128, (3, 3), activation='relu',padding='same',)(e)\n",
        "e=BatchNormalization()(e)\n",
        "e = Conv2D(128, (3, 3), activation='relu',padding='same',)(e)\n",
        "e=BatchNormalization()(e)\n",
        "\n",
        "e = AveragePooling2D((2, 2), strides=(2,2))(e)\n",
        "\n",
        "mp = Conv2D(128, (3, 3), activation='relu',padding='same',)(mp)\n",
        "mp=BatchNormalization()(mp)\n",
        "mp = Conv2D(128, (3, 3), activation='relu',padding='same',)(mp)\n",
        "mp=BatchNormalization()(mp)\n",
        "mp = Conv2D(128, (3, 3), activation='relu',padding='same',)(mp)\n",
        "mp=BatchNormalization()(mp)\n",
        "\n",
        "mp = MaxPool2D((2, 2), strides=(2, 2))(mp)\n",
        "\n",
        "\n",
        "\n",
        "#e = Dropout(0.1)(e)\n",
        "m= Flatten()(mp)\n",
        "l = Flatten()(e)\n",
        "\n",
        "\n",
        "m = Dense(800, activation='sigmoid', )(m)\n",
        "m = Dropout(0.1)(m)\n",
        "m = Dense(200, activation='sigmoid',)(m)\n",
        "\n",
        "m = Dense(20, activation='sigmoid', )(m)\n",
        "\n",
        "l = Dense(800, activation='sigmoid', )(l)\n",
        "l = Dropout(0.1)(l)\n",
        "l = Dense(200, activation='sigmoid', )(l)\n",
        "l = Dense(20, activation='sigmoid', )(l)\n",
        "\n",
        "\n",
        "\n",
        "o= Concatenate()([m,l])\n",
        "\n",
        "decoded = Dense(1, activation='sigmoid')(o)\n",
        "\n",
        "\n",
        "zindi_plastic_model = Model(inputs, decoded)\n",
        "\n",
        "\n"
      ]
    },
    {
      "cell_type": "code",
      "execution_count": 19,
      "metadata": {
        "id": "YFLRiGVE1Koq"
      },
      "outputs": [],
      "source": [
        "\n",
        "from keras.callbacks import ModelCheckpoint\n",
        "\n",
        "model_checkpoint_callback = ModelCheckpoint(\n",
        "    filepath='Model_-{val_loss:.4f}-{loss:.4f}.keras',\n",
        "    save_weights_only=False,\n",
        "    monitor='loss',\n",
        "    mode='min',\n",
        "    save_best_only=True)"
      ]
    },
    {
      "cell_type": "code",
      "execution_count": 20,
      "metadata": {
        "colab": {
          "base_uri": "https://localhost:8080/",
          "height": 1000
        },
        "id": "FjnMwE3y1g_5",
        "outputId": "b1ac2abf-2b32-42d2-ff20-eb5ca34126db"
      },
      "outputs": [
        {
          "output_type": "display_data",
          "data": {
            "text/plain": [
              "\u001b[1mModel: \"functional\"\u001b[0m\n"
            ],
            "text/html": [
              "<pre style=\"white-space:pre;overflow-x:auto;line-height:normal;font-family:Menlo,'DejaVu Sans Mono',consolas,'Courier New',monospace\"><span style=\"font-weight: bold\">Model: \"functional\"</span>\n",
              "</pre>\n"
            ]
          },
          "metadata": {}
        },
        {
          "output_type": "display_data",
          "data": {
            "text/plain": [
              "┏━━━━━━━━━━━━━━━━━━━━━━━━━━━┳━━━━━━━━━━━━━━━━━━━━━━━━┳━━━━━━━━━━━━━━━━┳━━━━━━━━━━━━━━━━━━━━━━━━┓\n",
              "┃\u001b[1m \u001b[0m\u001b[1mLayer (type)             \u001b[0m\u001b[1m \u001b[0m┃\u001b[1m \u001b[0m\u001b[1mOutput Shape          \u001b[0m\u001b[1m \u001b[0m┃\u001b[1m \u001b[0m\u001b[1m       Param #\u001b[0m\u001b[1m \u001b[0m┃\u001b[1m \u001b[0m\u001b[1mConnected to          \u001b[0m\u001b[1m \u001b[0m┃\n",
              "┡━━━━━━━━━━━━━━━━━━━━━━━━━━━╇━━━━━━━━━━━━━━━━━━━━━━━━╇━━━━━━━━━━━━━━━━╇━━━━━━━━━━━━━━━━━━━━━━━━┩\n",
              "│ input_layer (\u001b[38;5;33mInputLayer\u001b[0m)  │ (\u001b[38;5;45mNone\u001b[0m, \u001b[38;5;34m224\u001b[0m, \u001b[38;5;34m224\u001b[0m, \u001b[38;5;34m3\u001b[0m)    │              \u001b[38;5;34m0\u001b[0m │ -                      │\n",
              "├───────────────────────────┼────────────────────────┼────────────────┼────────────────────────┤\n",
              "│ conv2d (\u001b[38;5;33mConv2D\u001b[0m)           │ (\u001b[38;5;45mNone\u001b[0m, \u001b[38;5;34m224\u001b[0m, \u001b[38;5;34m224\u001b[0m, \u001b[38;5;34m32\u001b[0m)   │            \u001b[38;5;34m896\u001b[0m │ input_layer[\u001b[38;5;34m0\u001b[0m][\u001b[38;5;34m0\u001b[0m]      │\n",
              "├───────────────────────────┼────────────────────────┼────────────────┼────────────────────────┤\n",
              "│ batch_normalization       │ (\u001b[38;5;45mNone\u001b[0m, \u001b[38;5;34m224\u001b[0m, \u001b[38;5;34m224\u001b[0m, \u001b[38;5;34m32\u001b[0m)   │            \u001b[38;5;34m128\u001b[0m │ conv2d[\u001b[38;5;34m0\u001b[0m][\u001b[38;5;34m0\u001b[0m]           │\n",
              "│ (\u001b[38;5;33mBatchNormalization\u001b[0m)      │                        │                │                        │\n",
              "├───────────────────────────┼────────────────────────┼────────────────┼────────────────────────┤\n",
              "│ conv2d_1 (\u001b[38;5;33mConv2D\u001b[0m)         │ (\u001b[38;5;45mNone\u001b[0m, \u001b[38;5;34m224\u001b[0m, \u001b[38;5;34m224\u001b[0m, \u001b[38;5;34m32\u001b[0m)   │          \u001b[38;5;34m9,248\u001b[0m │ batch_normalization[\u001b[38;5;34m0\u001b[0m… │\n",
              "├───────────────────────────┼────────────────────────┼────────────────┼────────────────────────┤\n",
              "│ max_pooling2d             │ (\u001b[38;5;45mNone\u001b[0m, \u001b[38;5;34m112\u001b[0m, \u001b[38;5;34m112\u001b[0m, \u001b[38;5;34m32\u001b[0m)   │              \u001b[38;5;34m0\u001b[0m │ conv2d_1[\u001b[38;5;34m0\u001b[0m][\u001b[38;5;34m0\u001b[0m]         │\n",
              "│ (\u001b[38;5;33mMaxPooling2D\u001b[0m)            │                        │                │                        │\n",
              "├───────────────────────────┼────────────────────────┼────────────────┼────────────────────────┤\n",
              "│ average_pooling2d         │ (\u001b[38;5;45mNone\u001b[0m, \u001b[38;5;34m112\u001b[0m, \u001b[38;5;34m112\u001b[0m, \u001b[38;5;34m32\u001b[0m)   │              \u001b[38;5;34m0\u001b[0m │ conv2d_1[\u001b[38;5;34m0\u001b[0m][\u001b[38;5;34m0\u001b[0m]         │\n",
              "│ (\u001b[38;5;33mAveragePooling2D\u001b[0m)        │                        │                │                        │\n",
              "├───────────────────────────┼────────────────────────┼────────────────┼────────────────────────┤\n",
              "│ conv2d_4 (\u001b[38;5;33mConv2D\u001b[0m)         │ (\u001b[38;5;45mNone\u001b[0m, \u001b[38;5;34m112\u001b[0m, \u001b[38;5;34m112\u001b[0m, \u001b[38;5;34m64\u001b[0m)   │         \u001b[38;5;34m18,496\u001b[0m │ max_pooling2d[\u001b[38;5;34m0\u001b[0m][\u001b[38;5;34m0\u001b[0m]    │\n",
              "├───────────────────────────┼────────────────────────┼────────────────┼────────────────────────┤\n",
              "│ conv2d_2 (\u001b[38;5;33mConv2D\u001b[0m)         │ (\u001b[38;5;45mNone\u001b[0m, \u001b[38;5;34m112\u001b[0m, \u001b[38;5;34m112\u001b[0m, \u001b[38;5;34m64\u001b[0m)   │         \u001b[38;5;34m18,496\u001b[0m │ average_pooling2d[\u001b[38;5;34m0\u001b[0m][\u001b[38;5;34m…\u001b[0m │\n",
              "├───────────────────────────┼────────────────────────┼────────────────┼────────────────────────┤\n",
              "│ batch_normalization_3     │ (\u001b[38;5;45mNone\u001b[0m, \u001b[38;5;34m112\u001b[0m, \u001b[38;5;34m112\u001b[0m, \u001b[38;5;34m64\u001b[0m)   │            \u001b[38;5;34m256\u001b[0m │ conv2d_4[\u001b[38;5;34m0\u001b[0m][\u001b[38;5;34m0\u001b[0m]         │\n",
              "│ (\u001b[38;5;33mBatchNormalization\u001b[0m)      │                        │                │                        │\n",
              "├───────────────────────────┼────────────────────────┼────────────────┼────────────────────────┤\n",
              "│ batch_normalization_1     │ (\u001b[38;5;45mNone\u001b[0m, \u001b[38;5;34m112\u001b[0m, \u001b[38;5;34m112\u001b[0m, \u001b[38;5;34m64\u001b[0m)   │            \u001b[38;5;34m256\u001b[0m │ conv2d_2[\u001b[38;5;34m0\u001b[0m][\u001b[38;5;34m0\u001b[0m]         │\n",
              "│ (\u001b[38;5;33mBatchNormalization\u001b[0m)      │                        │                │                        │\n",
              "├───────────────────────────┼────────────────────────┼────────────────┼────────────────────────┤\n",
              "│ conv2d_5 (\u001b[38;5;33mConv2D\u001b[0m)         │ (\u001b[38;5;45mNone\u001b[0m, \u001b[38;5;34m112\u001b[0m, \u001b[38;5;34m112\u001b[0m, \u001b[38;5;34m64\u001b[0m)   │         \u001b[38;5;34m36,928\u001b[0m │ batch_normalization_3… │\n",
              "├───────────────────────────┼────────────────────────┼────────────────┼────────────────────────┤\n",
              "│ conv2d_3 (\u001b[38;5;33mConv2D\u001b[0m)         │ (\u001b[38;5;45mNone\u001b[0m, \u001b[38;5;34m112\u001b[0m, \u001b[38;5;34m112\u001b[0m, \u001b[38;5;34m64\u001b[0m)   │         \u001b[38;5;34m36,928\u001b[0m │ batch_normalization_1… │\n",
              "├───────────────────────────┼────────────────────────┼────────────────┼────────────────────────┤\n",
              "│ batch_normalization_4     │ (\u001b[38;5;45mNone\u001b[0m, \u001b[38;5;34m112\u001b[0m, \u001b[38;5;34m112\u001b[0m, \u001b[38;5;34m64\u001b[0m)   │            \u001b[38;5;34m256\u001b[0m │ conv2d_5[\u001b[38;5;34m0\u001b[0m][\u001b[38;5;34m0\u001b[0m]         │\n",
              "│ (\u001b[38;5;33mBatchNormalization\u001b[0m)      │                        │                │                        │\n",
              "├───────────────────────────┼────────────────────────┼────────────────┼────────────────────────┤\n",
              "│ batch_normalization_2     │ (\u001b[38;5;45mNone\u001b[0m, \u001b[38;5;34m112\u001b[0m, \u001b[38;5;34m112\u001b[0m, \u001b[38;5;34m64\u001b[0m)   │            \u001b[38;5;34m256\u001b[0m │ conv2d_3[\u001b[38;5;34m0\u001b[0m][\u001b[38;5;34m0\u001b[0m]         │\n",
              "│ (\u001b[38;5;33mBatchNormalization\u001b[0m)      │                        │                │                        │\n",
              "├───────────────────────────┼────────────────────────┼────────────────┼────────────────────────┤\n",
              "│ max_pooling2d_1           │ (\u001b[38;5;45mNone\u001b[0m, \u001b[38;5;34m56\u001b[0m, \u001b[38;5;34m56\u001b[0m, \u001b[38;5;34m64\u001b[0m)     │              \u001b[38;5;34m0\u001b[0m │ batch_normalization_4… │\n",
              "│ (\u001b[38;5;33mMaxPooling2D\u001b[0m)            │                        │                │                        │\n",
              "├───────────────────────────┼────────────────────────┼────────────────┼────────────────────────┤\n",
              "│ average_pooling2d_1       │ (\u001b[38;5;45mNone\u001b[0m, \u001b[38;5;34m56\u001b[0m, \u001b[38;5;34m56\u001b[0m, \u001b[38;5;34m64\u001b[0m)     │              \u001b[38;5;34m0\u001b[0m │ batch_normalization_2… │\n",
              "│ (\u001b[38;5;33mAveragePooling2D\u001b[0m)        │                        │                │                        │\n",
              "├───────────────────────────┼────────────────────────┼────────────────┼────────────────────────┤\n",
              "│ conv2d_9 (\u001b[38;5;33mConv2D\u001b[0m)         │ (\u001b[38;5;45mNone\u001b[0m, \u001b[38;5;34m56\u001b[0m, \u001b[38;5;34m56\u001b[0m, \u001b[38;5;34m64\u001b[0m)     │         \u001b[38;5;34m36,928\u001b[0m │ max_pooling2d_1[\u001b[38;5;34m0\u001b[0m][\u001b[38;5;34m0\u001b[0m]  │\n",
              "├───────────────────────────┼────────────────────────┼────────────────┼────────────────────────┤\n",
              "│ conv2d_6 (\u001b[38;5;33mConv2D\u001b[0m)         │ (\u001b[38;5;45mNone\u001b[0m, \u001b[38;5;34m56\u001b[0m, \u001b[38;5;34m56\u001b[0m, \u001b[38;5;34m64\u001b[0m)     │         \u001b[38;5;34m36,928\u001b[0m │ average_pooling2d_1[\u001b[38;5;34m0\u001b[0m… │\n",
              "├───────────────────────────┼────────────────────────┼────────────────┼────────────────────────┤\n",
              "│ batch_normalization_8     │ (\u001b[38;5;45mNone\u001b[0m, \u001b[38;5;34m56\u001b[0m, \u001b[38;5;34m56\u001b[0m, \u001b[38;5;34m64\u001b[0m)     │            \u001b[38;5;34m256\u001b[0m │ conv2d_9[\u001b[38;5;34m0\u001b[0m][\u001b[38;5;34m0\u001b[0m]         │\n",
              "│ (\u001b[38;5;33mBatchNormalization\u001b[0m)      │                        │                │                        │\n",
              "├───────────────────────────┼────────────────────────┼────────────────┼────────────────────────┤\n",
              "│ batch_normalization_5     │ (\u001b[38;5;45mNone\u001b[0m, \u001b[38;5;34m56\u001b[0m, \u001b[38;5;34m56\u001b[0m, \u001b[38;5;34m64\u001b[0m)     │            \u001b[38;5;34m256\u001b[0m │ conv2d_6[\u001b[38;5;34m0\u001b[0m][\u001b[38;5;34m0\u001b[0m]         │\n",
              "│ (\u001b[38;5;33mBatchNormalization\u001b[0m)      │                        │                │                        │\n",
              "├───────────────────────────┼────────────────────────┼────────────────┼────────────────────────┤\n",
              "│ conv2d_10 (\u001b[38;5;33mConv2D\u001b[0m)        │ (\u001b[38;5;45mNone\u001b[0m, \u001b[38;5;34m56\u001b[0m, \u001b[38;5;34m56\u001b[0m, \u001b[38;5;34m64\u001b[0m)     │         \u001b[38;5;34m36,928\u001b[0m │ batch_normalization_8… │\n",
              "├───────────────────────────┼────────────────────────┼────────────────┼────────────────────────┤\n",
              "│ conv2d_7 (\u001b[38;5;33mConv2D\u001b[0m)         │ (\u001b[38;5;45mNone\u001b[0m, \u001b[38;5;34m56\u001b[0m, \u001b[38;5;34m56\u001b[0m, \u001b[38;5;34m64\u001b[0m)     │         \u001b[38;5;34m36,928\u001b[0m │ batch_normalization_5… │\n",
              "├───────────────────────────┼────────────────────────┼────────────────┼────────────────────────┤\n",
              "│ batch_normalization_9     │ (\u001b[38;5;45mNone\u001b[0m, \u001b[38;5;34m56\u001b[0m, \u001b[38;5;34m56\u001b[0m, \u001b[38;5;34m64\u001b[0m)     │            \u001b[38;5;34m256\u001b[0m │ conv2d_10[\u001b[38;5;34m0\u001b[0m][\u001b[38;5;34m0\u001b[0m]        │\n",
              "│ (\u001b[38;5;33mBatchNormalization\u001b[0m)      │                        │                │                        │\n",
              "├───────────────────────────┼────────────────────────┼────────────────┼────────────────────────┤\n",
              "│ batch_normalization_6     │ (\u001b[38;5;45mNone\u001b[0m, \u001b[38;5;34m56\u001b[0m, \u001b[38;5;34m56\u001b[0m, \u001b[38;5;34m64\u001b[0m)     │            \u001b[38;5;34m256\u001b[0m │ conv2d_7[\u001b[38;5;34m0\u001b[0m][\u001b[38;5;34m0\u001b[0m]         │\n",
              "│ (\u001b[38;5;33mBatchNormalization\u001b[0m)      │                        │                │                        │\n",
              "├───────────────────────────┼────────────────────────┼────────────────┼────────────────────────┤\n",
              "│ conv2d_11 (\u001b[38;5;33mConv2D\u001b[0m)        │ (\u001b[38;5;45mNone\u001b[0m, \u001b[38;5;34m56\u001b[0m, \u001b[38;5;34m56\u001b[0m, \u001b[38;5;34m64\u001b[0m)     │         \u001b[38;5;34m36,928\u001b[0m │ batch_normalization_9… │\n",
              "├───────────────────────────┼────────────────────────┼────────────────┼────────────────────────┤\n",
              "│ conv2d_8 (\u001b[38;5;33mConv2D\u001b[0m)         │ (\u001b[38;5;45mNone\u001b[0m, \u001b[38;5;34m56\u001b[0m, \u001b[38;5;34m56\u001b[0m, \u001b[38;5;34m64\u001b[0m)     │         \u001b[38;5;34m36,928\u001b[0m │ batch_normalization_6… │\n",
              "├───────────────────────────┼────────────────────────┼────────────────┼────────────────────────┤\n",
              "│ batch_normalization_10    │ (\u001b[38;5;45mNone\u001b[0m, \u001b[38;5;34m56\u001b[0m, \u001b[38;5;34m56\u001b[0m, \u001b[38;5;34m64\u001b[0m)     │            \u001b[38;5;34m256\u001b[0m │ conv2d_11[\u001b[38;5;34m0\u001b[0m][\u001b[38;5;34m0\u001b[0m]        │\n",
              "│ (\u001b[38;5;33mBatchNormalization\u001b[0m)      │                        │                │                        │\n",
              "├───────────────────────────┼────────────────────────┼────────────────┼────────────────────────┤\n",
              "│ batch_normalization_7     │ (\u001b[38;5;45mNone\u001b[0m, \u001b[38;5;34m56\u001b[0m, \u001b[38;5;34m56\u001b[0m, \u001b[38;5;34m64\u001b[0m)     │            \u001b[38;5;34m256\u001b[0m │ conv2d_8[\u001b[38;5;34m0\u001b[0m][\u001b[38;5;34m0\u001b[0m]         │\n",
              "│ (\u001b[38;5;33mBatchNormalization\u001b[0m)      │                        │                │                        │\n",
              "├───────────────────────────┼────────────────────────┼────────────────┼────────────────────────┤\n",
              "│ max_pooling2d_2           │ (\u001b[38;5;45mNone\u001b[0m, \u001b[38;5;34m28\u001b[0m, \u001b[38;5;34m28\u001b[0m, \u001b[38;5;34m64\u001b[0m)     │              \u001b[38;5;34m0\u001b[0m │ batch_normalization_1… │\n",
              "│ (\u001b[38;5;33mMaxPooling2D\u001b[0m)            │                        │                │                        │\n",
              "├───────────────────────────┼────────────────────────┼────────────────┼────────────────────────┤\n",
              "│ average_pooling2d_2       │ (\u001b[38;5;45mNone\u001b[0m, \u001b[38;5;34m28\u001b[0m, \u001b[38;5;34m28\u001b[0m, \u001b[38;5;34m64\u001b[0m)     │              \u001b[38;5;34m0\u001b[0m │ batch_normalization_7… │\n",
              "│ (\u001b[38;5;33mAveragePooling2D\u001b[0m)        │                        │                │                        │\n",
              "├───────────────────────────┼────────────────────────┼────────────────┼────────────────────────┤\n",
              "│ conv2d_15 (\u001b[38;5;33mConv2D\u001b[0m)        │ (\u001b[38;5;45mNone\u001b[0m, \u001b[38;5;34m28\u001b[0m, \u001b[38;5;34m28\u001b[0m, \u001b[38;5;34m128\u001b[0m)    │         \u001b[38;5;34m73,856\u001b[0m │ max_pooling2d_2[\u001b[38;5;34m0\u001b[0m][\u001b[38;5;34m0\u001b[0m]  │\n",
              "├───────────────────────────┼────────────────────────┼────────────────┼────────────────────────┤\n",
              "│ conv2d_12 (\u001b[38;5;33mConv2D\u001b[0m)        │ (\u001b[38;5;45mNone\u001b[0m, \u001b[38;5;34m28\u001b[0m, \u001b[38;5;34m28\u001b[0m, \u001b[38;5;34m128\u001b[0m)    │         \u001b[38;5;34m73,856\u001b[0m │ average_pooling2d_2[\u001b[38;5;34m0\u001b[0m… │\n",
              "├───────────────────────────┼────────────────────────┼────────────────┼────────────────────────┤\n",
              "│ batch_normalization_14    │ (\u001b[38;5;45mNone\u001b[0m, \u001b[38;5;34m28\u001b[0m, \u001b[38;5;34m28\u001b[0m, \u001b[38;5;34m128\u001b[0m)    │            \u001b[38;5;34m512\u001b[0m │ conv2d_15[\u001b[38;5;34m0\u001b[0m][\u001b[38;5;34m0\u001b[0m]        │\n",
              "│ (\u001b[38;5;33mBatchNormalization\u001b[0m)      │                        │                │                        │\n",
              "├───────────────────────────┼────────────────────────┼────────────────┼────────────────────────┤\n",
              "│ batch_normalization_11    │ (\u001b[38;5;45mNone\u001b[0m, \u001b[38;5;34m28\u001b[0m, \u001b[38;5;34m28\u001b[0m, \u001b[38;5;34m128\u001b[0m)    │            \u001b[38;5;34m512\u001b[0m │ conv2d_12[\u001b[38;5;34m0\u001b[0m][\u001b[38;5;34m0\u001b[0m]        │\n",
              "│ (\u001b[38;5;33mBatchNormalization\u001b[0m)      │                        │                │                        │\n",
              "├───────────────────────────┼────────────────────────┼────────────────┼────────────────────────┤\n",
              "│ conv2d_16 (\u001b[38;5;33mConv2D\u001b[0m)        │ (\u001b[38;5;45mNone\u001b[0m, \u001b[38;5;34m28\u001b[0m, \u001b[38;5;34m28\u001b[0m, \u001b[38;5;34m128\u001b[0m)    │        \u001b[38;5;34m147,584\u001b[0m │ batch_normalization_1… │\n",
              "├───────────────────────────┼────────────────────────┼────────────────┼────────────────────────┤\n",
              "│ conv2d_13 (\u001b[38;5;33mConv2D\u001b[0m)        │ (\u001b[38;5;45mNone\u001b[0m, \u001b[38;5;34m28\u001b[0m, \u001b[38;5;34m28\u001b[0m, \u001b[38;5;34m128\u001b[0m)    │        \u001b[38;5;34m147,584\u001b[0m │ batch_normalization_1… │\n",
              "├───────────────────────────┼────────────────────────┼────────────────┼────────────────────────┤\n",
              "│ batch_normalization_15    │ (\u001b[38;5;45mNone\u001b[0m, \u001b[38;5;34m28\u001b[0m, \u001b[38;5;34m28\u001b[0m, \u001b[38;5;34m128\u001b[0m)    │            \u001b[38;5;34m512\u001b[0m │ conv2d_16[\u001b[38;5;34m0\u001b[0m][\u001b[38;5;34m0\u001b[0m]        │\n",
              "│ (\u001b[38;5;33mBatchNormalization\u001b[0m)      │                        │                │                        │\n",
              "├───────────────────────────┼────────────────────────┼────────────────┼────────────────────────┤\n",
              "│ batch_normalization_12    │ (\u001b[38;5;45mNone\u001b[0m, \u001b[38;5;34m28\u001b[0m, \u001b[38;5;34m28\u001b[0m, \u001b[38;5;34m128\u001b[0m)    │            \u001b[38;5;34m512\u001b[0m │ conv2d_13[\u001b[38;5;34m0\u001b[0m][\u001b[38;5;34m0\u001b[0m]        │\n",
              "│ (\u001b[38;5;33mBatchNormalization\u001b[0m)      │                        │                │                        │\n",
              "├───────────────────────────┼────────────────────────┼────────────────┼────────────────────────┤\n",
              "│ conv2d_17 (\u001b[38;5;33mConv2D\u001b[0m)        │ (\u001b[38;5;45mNone\u001b[0m, \u001b[38;5;34m28\u001b[0m, \u001b[38;5;34m28\u001b[0m, \u001b[38;5;34m128\u001b[0m)    │        \u001b[38;5;34m147,584\u001b[0m │ batch_normalization_1… │\n",
              "├───────────────────────────┼────────────────────────┼────────────────┼────────────────────────┤\n",
              "│ conv2d_14 (\u001b[38;5;33mConv2D\u001b[0m)        │ (\u001b[38;5;45mNone\u001b[0m, \u001b[38;5;34m28\u001b[0m, \u001b[38;5;34m28\u001b[0m, \u001b[38;5;34m128\u001b[0m)    │        \u001b[38;5;34m147,584\u001b[0m │ batch_normalization_1… │\n",
              "├───────────────────────────┼────────────────────────┼────────────────┼────────────────────────┤\n",
              "│ batch_normalization_16    │ (\u001b[38;5;45mNone\u001b[0m, \u001b[38;5;34m28\u001b[0m, \u001b[38;5;34m28\u001b[0m, \u001b[38;5;34m128\u001b[0m)    │            \u001b[38;5;34m512\u001b[0m │ conv2d_17[\u001b[38;5;34m0\u001b[0m][\u001b[38;5;34m0\u001b[0m]        │\n",
              "│ (\u001b[38;5;33mBatchNormalization\u001b[0m)      │                        │                │                        │\n",
              "├───────────────────────────┼────────────────────────┼────────────────┼────────────────────────┤\n",
              "│ batch_normalization_13    │ (\u001b[38;5;45mNone\u001b[0m, \u001b[38;5;34m28\u001b[0m, \u001b[38;5;34m28\u001b[0m, \u001b[38;5;34m128\u001b[0m)    │            \u001b[38;5;34m512\u001b[0m │ conv2d_14[\u001b[38;5;34m0\u001b[0m][\u001b[38;5;34m0\u001b[0m]        │\n",
              "│ (\u001b[38;5;33mBatchNormalization\u001b[0m)      │                        │                │                        │\n",
              "├───────────────────────────┼────────────────────────┼────────────────┼────────────────────────┤\n",
              "│ max_pooling2d_3           │ (\u001b[38;5;45mNone\u001b[0m, \u001b[38;5;34m14\u001b[0m, \u001b[38;5;34m14\u001b[0m, \u001b[38;5;34m128\u001b[0m)    │              \u001b[38;5;34m0\u001b[0m │ batch_normalization_1… │\n",
              "│ (\u001b[38;5;33mMaxPooling2D\u001b[0m)            │                        │                │                        │\n",
              "├───────────────────────────┼────────────────────────┼────────────────┼────────────────────────┤\n",
              "│ average_pooling2d_3       │ (\u001b[38;5;45mNone\u001b[0m, \u001b[38;5;34m14\u001b[0m, \u001b[38;5;34m14\u001b[0m, \u001b[38;5;34m128\u001b[0m)    │              \u001b[38;5;34m0\u001b[0m │ batch_normalization_1… │\n",
              "│ (\u001b[38;5;33mAveragePooling2D\u001b[0m)        │                        │                │                        │\n",
              "├───────────────────────────┼────────────────────────┼────────────────┼────────────────────────┤\n",
              "│ conv2d_21 (\u001b[38;5;33mConv2D\u001b[0m)        │ (\u001b[38;5;45mNone\u001b[0m, \u001b[38;5;34m14\u001b[0m, \u001b[38;5;34m14\u001b[0m, \u001b[38;5;34m128\u001b[0m)    │        \u001b[38;5;34m147,584\u001b[0m │ max_pooling2d_3[\u001b[38;5;34m0\u001b[0m][\u001b[38;5;34m0\u001b[0m]  │\n",
              "├───────────────────────────┼────────────────────────┼────────────────┼────────────────────────┤\n",
              "│ conv2d_18 (\u001b[38;5;33mConv2D\u001b[0m)        │ (\u001b[38;5;45mNone\u001b[0m, \u001b[38;5;34m14\u001b[0m, \u001b[38;5;34m14\u001b[0m, \u001b[38;5;34m128\u001b[0m)    │        \u001b[38;5;34m147,584\u001b[0m │ average_pooling2d_3[\u001b[38;5;34m0\u001b[0m… │\n",
              "├───────────────────────────┼────────────────────────┼────────────────┼────────────────────────┤\n",
              "│ batch_normalization_20    │ (\u001b[38;5;45mNone\u001b[0m, \u001b[38;5;34m14\u001b[0m, \u001b[38;5;34m14\u001b[0m, \u001b[38;5;34m128\u001b[0m)    │            \u001b[38;5;34m512\u001b[0m │ conv2d_21[\u001b[38;5;34m0\u001b[0m][\u001b[38;5;34m0\u001b[0m]        │\n",
              "│ (\u001b[38;5;33mBatchNormalization\u001b[0m)      │                        │                │                        │\n",
              "├───────────────────────────┼────────────────────────┼────────────────┼────────────────────────┤\n",
              "│ batch_normalization_17    │ (\u001b[38;5;45mNone\u001b[0m, \u001b[38;5;34m14\u001b[0m, \u001b[38;5;34m14\u001b[0m, \u001b[38;5;34m128\u001b[0m)    │            \u001b[38;5;34m512\u001b[0m │ conv2d_18[\u001b[38;5;34m0\u001b[0m][\u001b[38;5;34m0\u001b[0m]        │\n",
              "│ (\u001b[38;5;33mBatchNormalization\u001b[0m)      │                        │                │                        │\n",
              "├───────────────────────────┼────────────────────────┼────────────────┼────────────────────────┤\n",
              "│ conv2d_22 (\u001b[38;5;33mConv2D\u001b[0m)        │ (\u001b[38;5;45mNone\u001b[0m, \u001b[38;5;34m14\u001b[0m, \u001b[38;5;34m14\u001b[0m, \u001b[38;5;34m128\u001b[0m)    │        \u001b[38;5;34m147,584\u001b[0m │ batch_normalization_2… │\n",
              "├───────────────────────────┼────────────────────────┼────────────────┼────────────────────────┤\n",
              "│ conv2d_19 (\u001b[38;5;33mConv2D\u001b[0m)        │ (\u001b[38;5;45mNone\u001b[0m, \u001b[38;5;34m14\u001b[0m, \u001b[38;5;34m14\u001b[0m, \u001b[38;5;34m128\u001b[0m)    │        \u001b[38;5;34m147,584\u001b[0m │ batch_normalization_1… │\n",
              "├───────────────────────────┼────────────────────────┼────────────────┼────────────────────────┤\n",
              "│ batch_normalization_21    │ (\u001b[38;5;45mNone\u001b[0m, \u001b[38;5;34m14\u001b[0m, \u001b[38;5;34m14\u001b[0m, \u001b[38;5;34m128\u001b[0m)    │            \u001b[38;5;34m512\u001b[0m │ conv2d_22[\u001b[38;5;34m0\u001b[0m][\u001b[38;5;34m0\u001b[0m]        │\n",
              "│ (\u001b[38;5;33mBatchNormalization\u001b[0m)      │                        │                │                        │\n",
              "├───────────────────────────┼────────────────────────┼────────────────┼────────────────────────┤\n",
              "│ batch_normalization_18    │ (\u001b[38;5;45mNone\u001b[0m, \u001b[38;5;34m14\u001b[0m, \u001b[38;5;34m14\u001b[0m, \u001b[38;5;34m128\u001b[0m)    │            \u001b[38;5;34m512\u001b[0m │ conv2d_19[\u001b[38;5;34m0\u001b[0m][\u001b[38;5;34m0\u001b[0m]        │\n",
              "│ (\u001b[38;5;33mBatchNormalization\u001b[0m)      │                        │                │                        │\n",
              "├───────────────────────────┼────────────────────────┼────────────────┼────────────────────────┤\n",
              "│ conv2d_23 (\u001b[38;5;33mConv2D\u001b[0m)        │ (\u001b[38;5;45mNone\u001b[0m, \u001b[38;5;34m14\u001b[0m, \u001b[38;5;34m14\u001b[0m, \u001b[38;5;34m128\u001b[0m)    │        \u001b[38;5;34m147,584\u001b[0m │ batch_normalization_2… │\n",
              "├───────────────────────────┼────────────────────────┼────────────────┼────────────────────────┤\n",
              "│ conv2d_20 (\u001b[38;5;33mConv2D\u001b[0m)        │ (\u001b[38;5;45mNone\u001b[0m, \u001b[38;5;34m14\u001b[0m, \u001b[38;5;34m14\u001b[0m, \u001b[38;5;34m128\u001b[0m)    │        \u001b[38;5;34m147,584\u001b[0m │ batch_normalization_1… │\n",
              "├───────────────────────────┼────────────────────────┼────────────────┼────────────────────────┤\n",
              "│ batch_normalization_22    │ (\u001b[38;5;45mNone\u001b[0m, \u001b[38;5;34m14\u001b[0m, \u001b[38;5;34m14\u001b[0m, \u001b[38;5;34m128\u001b[0m)    │            \u001b[38;5;34m512\u001b[0m │ conv2d_23[\u001b[38;5;34m0\u001b[0m][\u001b[38;5;34m0\u001b[0m]        │\n",
              "│ (\u001b[38;5;33mBatchNormalization\u001b[0m)      │                        │                │                        │\n",
              "├───────────────────────────┼────────────────────────┼────────────────┼────────────────────────┤\n",
              "│ batch_normalization_19    │ (\u001b[38;5;45mNone\u001b[0m, \u001b[38;5;34m14\u001b[0m, \u001b[38;5;34m14\u001b[0m, \u001b[38;5;34m128\u001b[0m)    │            \u001b[38;5;34m512\u001b[0m │ conv2d_20[\u001b[38;5;34m0\u001b[0m][\u001b[38;5;34m0\u001b[0m]        │\n",
              "│ (\u001b[38;5;33mBatchNormalization\u001b[0m)      │                        │                │                        │\n",
              "├───────────────────────────┼────────────────────────┼────────────────┼────────────────────────┤\n",
              "│ max_pooling2d_4           │ (\u001b[38;5;45mNone\u001b[0m, \u001b[38;5;34m7\u001b[0m, \u001b[38;5;34m7\u001b[0m, \u001b[38;5;34m128\u001b[0m)      │              \u001b[38;5;34m0\u001b[0m │ batch_normalization_2… │\n",
              "│ (\u001b[38;5;33mMaxPooling2D\u001b[0m)            │                        │                │                        │\n",
              "├───────────────────────────┼────────────────────────┼────────────────┼────────────────────────┤\n",
              "│ average_pooling2d_4       │ (\u001b[38;5;45mNone\u001b[0m, \u001b[38;5;34m7\u001b[0m, \u001b[38;5;34m7\u001b[0m, \u001b[38;5;34m128\u001b[0m)      │              \u001b[38;5;34m0\u001b[0m │ batch_normalization_1… │\n",
              "│ (\u001b[38;5;33mAveragePooling2D\u001b[0m)        │                        │                │                        │\n",
              "├───────────────────────────┼────────────────────────┼────────────────┼────────────────────────┤\n",
              "│ flatten (\u001b[38;5;33mFlatten\u001b[0m)         │ (\u001b[38;5;45mNone\u001b[0m, \u001b[38;5;34m6272\u001b[0m)           │              \u001b[38;5;34m0\u001b[0m │ max_pooling2d_4[\u001b[38;5;34m0\u001b[0m][\u001b[38;5;34m0\u001b[0m]  │\n",
              "├───────────────────────────┼────────────────────────┼────────────────┼────────────────────────┤\n",
              "│ flatten_1 (\u001b[38;5;33mFlatten\u001b[0m)       │ (\u001b[38;5;45mNone\u001b[0m, \u001b[38;5;34m6272\u001b[0m)           │              \u001b[38;5;34m0\u001b[0m │ average_pooling2d_4[\u001b[38;5;34m0\u001b[0m… │\n",
              "├───────────────────────────┼────────────────────────┼────────────────┼────────────────────────┤\n",
              "│ dense (\u001b[38;5;33mDense\u001b[0m)             │ (\u001b[38;5;45mNone\u001b[0m, \u001b[38;5;34m800\u001b[0m)            │      \u001b[38;5;34m5,018,400\u001b[0m │ flatten[\u001b[38;5;34m0\u001b[0m][\u001b[38;5;34m0\u001b[0m]          │\n",
              "├───────────────────────────┼────────────────────────┼────────────────┼────────────────────────┤\n",
              "│ dense_3 (\u001b[38;5;33mDense\u001b[0m)           │ (\u001b[38;5;45mNone\u001b[0m, \u001b[38;5;34m800\u001b[0m)            │      \u001b[38;5;34m5,018,400\u001b[0m │ flatten_1[\u001b[38;5;34m0\u001b[0m][\u001b[38;5;34m0\u001b[0m]        │\n",
              "├───────────────────────────┼────────────────────────┼────────────────┼────────────────────────┤\n",
              "│ dropout (\u001b[38;5;33mDropout\u001b[0m)         │ (\u001b[38;5;45mNone\u001b[0m, \u001b[38;5;34m800\u001b[0m)            │              \u001b[38;5;34m0\u001b[0m │ dense[\u001b[38;5;34m0\u001b[0m][\u001b[38;5;34m0\u001b[0m]            │\n",
              "├───────────────────────────┼────────────────────────┼────────────────┼────────────────────────┤\n",
              "│ dropout_1 (\u001b[38;5;33mDropout\u001b[0m)       │ (\u001b[38;5;45mNone\u001b[0m, \u001b[38;5;34m800\u001b[0m)            │              \u001b[38;5;34m0\u001b[0m │ dense_3[\u001b[38;5;34m0\u001b[0m][\u001b[38;5;34m0\u001b[0m]          │\n",
              "├───────────────────────────┼────────────────────────┼────────────────┼────────────────────────┤\n",
              "│ dense_1 (\u001b[38;5;33mDense\u001b[0m)           │ (\u001b[38;5;45mNone\u001b[0m, \u001b[38;5;34m200\u001b[0m)            │        \u001b[38;5;34m160,200\u001b[0m │ dropout[\u001b[38;5;34m0\u001b[0m][\u001b[38;5;34m0\u001b[0m]          │\n",
              "├───────────────────────────┼────────────────────────┼────────────────┼────────────────────────┤\n",
              "│ dense_4 (\u001b[38;5;33mDense\u001b[0m)           │ (\u001b[38;5;45mNone\u001b[0m, \u001b[38;5;34m200\u001b[0m)            │        \u001b[38;5;34m160,200\u001b[0m │ dropout_1[\u001b[38;5;34m0\u001b[0m][\u001b[38;5;34m0\u001b[0m]        │\n",
              "├───────────────────────────┼────────────────────────┼────────────────┼────────────────────────┤\n",
              "│ dense_2 (\u001b[38;5;33mDense\u001b[0m)           │ (\u001b[38;5;45mNone\u001b[0m, \u001b[38;5;34m20\u001b[0m)             │          \u001b[38;5;34m4,020\u001b[0m │ dense_1[\u001b[38;5;34m0\u001b[0m][\u001b[38;5;34m0\u001b[0m]          │\n",
              "├───────────────────────────┼────────────────────────┼────────────────┼────────────────────────┤\n",
              "│ dense_5 (\u001b[38;5;33mDense\u001b[0m)           │ (\u001b[38;5;45mNone\u001b[0m, \u001b[38;5;34m20\u001b[0m)             │          \u001b[38;5;34m4,020\u001b[0m │ dense_4[\u001b[38;5;34m0\u001b[0m][\u001b[38;5;34m0\u001b[0m]          │\n",
              "├───────────────────────────┼────────────────────────┼────────────────┼────────────────────────┤\n",
              "│ concatenate (\u001b[38;5;33mConcatenate\u001b[0m) │ (\u001b[38;5;45mNone\u001b[0m, \u001b[38;5;34m40\u001b[0m)             │              \u001b[38;5;34m0\u001b[0m │ dense_2[\u001b[38;5;34m0\u001b[0m][\u001b[38;5;34m0\u001b[0m],         │\n",
              "│                           │                        │                │ dense_5[\u001b[38;5;34m0\u001b[0m][\u001b[38;5;34m0\u001b[0m]          │\n",
              "├───────────────────────────┼────────────────────────┼────────────────┼────────────────────────┤\n",
              "│ dense_6 (\u001b[38;5;33mDense\u001b[0m)           │ (\u001b[38;5;45mNone\u001b[0m, \u001b[38;5;34m1\u001b[0m)              │             \u001b[38;5;34m41\u001b[0m │ concatenate[\u001b[38;5;34m0\u001b[0m][\u001b[38;5;34m0\u001b[0m]      │\n",
              "└───────────────────────────┴────────────────────────┴────────────────┴────────────────────────┘\n"
            ],
            "text/html": [
              "<pre style=\"white-space:pre;overflow-x:auto;line-height:normal;font-family:Menlo,'DejaVu Sans Mono',consolas,'Courier New',monospace\">┏━━━━━━━━━━━━━━━━━━━━━━━━━━━┳━━━━━━━━━━━━━━━━━━━━━━━━┳━━━━━━━━━━━━━━━━┳━━━━━━━━━━━━━━━━━━━━━━━━┓\n",
              "┃<span style=\"font-weight: bold\"> Layer (type)              </span>┃<span style=\"font-weight: bold\"> Output Shape           </span>┃<span style=\"font-weight: bold\">        Param # </span>┃<span style=\"font-weight: bold\"> Connected to           </span>┃\n",
              "┡━━━━━━━━━━━━━━━━━━━━━━━━━━━╇━━━━━━━━━━━━━━━━━━━━━━━━╇━━━━━━━━━━━━━━━━╇━━━━━━━━━━━━━━━━━━━━━━━━┩\n",
              "│ input_layer (<span style=\"color: #0087ff; text-decoration-color: #0087ff\">InputLayer</span>)  │ (<span style=\"color: #00d7ff; text-decoration-color: #00d7ff\">None</span>, <span style=\"color: #00af00; text-decoration-color: #00af00\">224</span>, <span style=\"color: #00af00; text-decoration-color: #00af00\">224</span>, <span style=\"color: #00af00; text-decoration-color: #00af00\">3</span>)    │              <span style=\"color: #00af00; text-decoration-color: #00af00\">0</span> │ -                      │\n",
              "├───────────────────────────┼────────────────────────┼────────────────┼────────────────────────┤\n",
              "│ conv2d (<span style=\"color: #0087ff; text-decoration-color: #0087ff\">Conv2D</span>)           │ (<span style=\"color: #00d7ff; text-decoration-color: #00d7ff\">None</span>, <span style=\"color: #00af00; text-decoration-color: #00af00\">224</span>, <span style=\"color: #00af00; text-decoration-color: #00af00\">224</span>, <span style=\"color: #00af00; text-decoration-color: #00af00\">32</span>)   │            <span style=\"color: #00af00; text-decoration-color: #00af00\">896</span> │ input_layer[<span style=\"color: #00af00; text-decoration-color: #00af00\">0</span>][<span style=\"color: #00af00; text-decoration-color: #00af00\">0</span>]      │\n",
              "├───────────────────────────┼────────────────────────┼────────────────┼────────────────────────┤\n",
              "│ batch_normalization       │ (<span style=\"color: #00d7ff; text-decoration-color: #00d7ff\">None</span>, <span style=\"color: #00af00; text-decoration-color: #00af00\">224</span>, <span style=\"color: #00af00; text-decoration-color: #00af00\">224</span>, <span style=\"color: #00af00; text-decoration-color: #00af00\">32</span>)   │            <span style=\"color: #00af00; text-decoration-color: #00af00\">128</span> │ conv2d[<span style=\"color: #00af00; text-decoration-color: #00af00\">0</span>][<span style=\"color: #00af00; text-decoration-color: #00af00\">0</span>]           │\n",
              "│ (<span style=\"color: #0087ff; text-decoration-color: #0087ff\">BatchNormalization</span>)      │                        │                │                        │\n",
              "├───────────────────────────┼────────────────────────┼────────────────┼────────────────────────┤\n",
              "│ conv2d_1 (<span style=\"color: #0087ff; text-decoration-color: #0087ff\">Conv2D</span>)         │ (<span style=\"color: #00d7ff; text-decoration-color: #00d7ff\">None</span>, <span style=\"color: #00af00; text-decoration-color: #00af00\">224</span>, <span style=\"color: #00af00; text-decoration-color: #00af00\">224</span>, <span style=\"color: #00af00; text-decoration-color: #00af00\">32</span>)   │          <span style=\"color: #00af00; text-decoration-color: #00af00\">9,248</span> │ batch_normalization[<span style=\"color: #00af00; text-decoration-color: #00af00\">0</span>… │\n",
              "├───────────────────────────┼────────────────────────┼────────────────┼────────────────────────┤\n",
              "│ max_pooling2d             │ (<span style=\"color: #00d7ff; text-decoration-color: #00d7ff\">None</span>, <span style=\"color: #00af00; text-decoration-color: #00af00\">112</span>, <span style=\"color: #00af00; text-decoration-color: #00af00\">112</span>, <span style=\"color: #00af00; text-decoration-color: #00af00\">32</span>)   │              <span style=\"color: #00af00; text-decoration-color: #00af00\">0</span> │ conv2d_1[<span style=\"color: #00af00; text-decoration-color: #00af00\">0</span>][<span style=\"color: #00af00; text-decoration-color: #00af00\">0</span>]         │\n",
              "│ (<span style=\"color: #0087ff; text-decoration-color: #0087ff\">MaxPooling2D</span>)            │                        │                │                        │\n",
              "├───────────────────────────┼────────────────────────┼────────────────┼────────────────────────┤\n",
              "│ average_pooling2d         │ (<span style=\"color: #00d7ff; text-decoration-color: #00d7ff\">None</span>, <span style=\"color: #00af00; text-decoration-color: #00af00\">112</span>, <span style=\"color: #00af00; text-decoration-color: #00af00\">112</span>, <span style=\"color: #00af00; text-decoration-color: #00af00\">32</span>)   │              <span style=\"color: #00af00; text-decoration-color: #00af00\">0</span> │ conv2d_1[<span style=\"color: #00af00; text-decoration-color: #00af00\">0</span>][<span style=\"color: #00af00; text-decoration-color: #00af00\">0</span>]         │\n",
              "│ (<span style=\"color: #0087ff; text-decoration-color: #0087ff\">AveragePooling2D</span>)        │                        │                │                        │\n",
              "├───────────────────────────┼────────────────────────┼────────────────┼────────────────────────┤\n",
              "│ conv2d_4 (<span style=\"color: #0087ff; text-decoration-color: #0087ff\">Conv2D</span>)         │ (<span style=\"color: #00d7ff; text-decoration-color: #00d7ff\">None</span>, <span style=\"color: #00af00; text-decoration-color: #00af00\">112</span>, <span style=\"color: #00af00; text-decoration-color: #00af00\">112</span>, <span style=\"color: #00af00; text-decoration-color: #00af00\">64</span>)   │         <span style=\"color: #00af00; text-decoration-color: #00af00\">18,496</span> │ max_pooling2d[<span style=\"color: #00af00; text-decoration-color: #00af00\">0</span>][<span style=\"color: #00af00; text-decoration-color: #00af00\">0</span>]    │\n",
              "├───────────────────────────┼────────────────────────┼────────────────┼────────────────────────┤\n",
              "│ conv2d_2 (<span style=\"color: #0087ff; text-decoration-color: #0087ff\">Conv2D</span>)         │ (<span style=\"color: #00d7ff; text-decoration-color: #00d7ff\">None</span>, <span style=\"color: #00af00; text-decoration-color: #00af00\">112</span>, <span style=\"color: #00af00; text-decoration-color: #00af00\">112</span>, <span style=\"color: #00af00; text-decoration-color: #00af00\">64</span>)   │         <span style=\"color: #00af00; text-decoration-color: #00af00\">18,496</span> │ average_pooling2d[<span style=\"color: #00af00; text-decoration-color: #00af00\">0</span>][<span style=\"color: #00af00; text-decoration-color: #00af00\">…</span> │\n",
              "├───────────────────────────┼────────────────────────┼────────────────┼────────────────────────┤\n",
              "│ batch_normalization_3     │ (<span style=\"color: #00d7ff; text-decoration-color: #00d7ff\">None</span>, <span style=\"color: #00af00; text-decoration-color: #00af00\">112</span>, <span style=\"color: #00af00; text-decoration-color: #00af00\">112</span>, <span style=\"color: #00af00; text-decoration-color: #00af00\">64</span>)   │            <span style=\"color: #00af00; text-decoration-color: #00af00\">256</span> │ conv2d_4[<span style=\"color: #00af00; text-decoration-color: #00af00\">0</span>][<span style=\"color: #00af00; text-decoration-color: #00af00\">0</span>]         │\n",
              "│ (<span style=\"color: #0087ff; text-decoration-color: #0087ff\">BatchNormalization</span>)      │                        │                │                        │\n",
              "├───────────────────────────┼────────────────────────┼────────────────┼────────────────────────┤\n",
              "│ batch_normalization_1     │ (<span style=\"color: #00d7ff; text-decoration-color: #00d7ff\">None</span>, <span style=\"color: #00af00; text-decoration-color: #00af00\">112</span>, <span style=\"color: #00af00; text-decoration-color: #00af00\">112</span>, <span style=\"color: #00af00; text-decoration-color: #00af00\">64</span>)   │            <span style=\"color: #00af00; text-decoration-color: #00af00\">256</span> │ conv2d_2[<span style=\"color: #00af00; text-decoration-color: #00af00\">0</span>][<span style=\"color: #00af00; text-decoration-color: #00af00\">0</span>]         │\n",
              "│ (<span style=\"color: #0087ff; text-decoration-color: #0087ff\">BatchNormalization</span>)      │                        │                │                        │\n",
              "├───────────────────────────┼────────────────────────┼────────────────┼────────────────────────┤\n",
              "│ conv2d_5 (<span style=\"color: #0087ff; text-decoration-color: #0087ff\">Conv2D</span>)         │ (<span style=\"color: #00d7ff; text-decoration-color: #00d7ff\">None</span>, <span style=\"color: #00af00; text-decoration-color: #00af00\">112</span>, <span style=\"color: #00af00; text-decoration-color: #00af00\">112</span>, <span style=\"color: #00af00; text-decoration-color: #00af00\">64</span>)   │         <span style=\"color: #00af00; text-decoration-color: #00af00\">36,928</span> │ batch_normalization_3… │\n",
              "├───────────────────────────┼────────────────────────┼────────────────┼────────────────────────┤\n",
              "│ conv2d_3 (<span style=\"color: #0087ff; text-decoration-color: #0087ff\">Conv2D</span>)         │ (<span style=\"color: #00d7ff; text-decoration-color: #00d7ff\">None</span>, <span style=\"color: #00af00; text-decoration-color: #00af00\">112</span>, <span style=\"color: #00af00; text-decoration-color: #00af00\">112</span>, <span style=\"color: #00af00; text-decoration-color: #00af00\">64</span>)   │         <span style=\"color: #00af00; text-decoration-color: #00af00\">36,928</span> │ batch_normalization_1… │\n",
              "├───────────────────────────┼────────────────────────┼────────────────┼────────────────────────┤\n",
              "│ batch_normalization_4     │ (<span style=\"color: #00d7ff; text-decoration-color: #00d7ff\">None</span>, <span style=\"color: #00af00; text-decoration-color: #00af00\">112</span>, <span style=\"color: #00af00; text-decoration-color: #00af00\">112</span>, <span style=\"color: #00af00; text-decoration-color: #00af00\">64</span>)   │            <span style=\"color: #00af00; text-decoration-color: #00af00\">256</span> │ conv2d_5[<span style=\"color: #00af00; text-decoration-color: #00af00\">0</span>][<span style=\"color: #00af00; text-decoration-color: #00af00\">0</span>]         │\n",
              "│ (<span style=\"color: #0087ff; text-decoration-color: #0087ff\">BatchNormalization</span>)      │                        │                │                        │\n",
              "├───────────────────────────┼────────────────────────┼────────────────┼────────────────────────┤\n",
              "│ batch_normalization_2     │ (<span style=\"color: #00d7ff; text-decoration-color: #00d7ff\">None</span>, <span style=\"color: #00af00; text-decoration-color: #00af00\">112</span>, <span style=\"color: #00af00; text-decoration-color: #00af00\">112</span>, <span style=\"color: #00af00; text-decoration-color: #00af00\">64</span>)   │            <span style=\"color: #00af00; text-decoration-color: #00af00\">256</span> │ conv2d_3[<span style=\"color: #00af00; text-decoration-color: #00af00\">0</span>][<span style=\"color: #00af00; text-decoration-color: #00af00\">0</span>]         │\n",
              "│ (<span style=\"color: #0087ff; text-decoration-color: #0087ff\">BatchNormalization</span>)      │                        │                │                        │\n",
              "├───────────────────────────┼────────────────────────┼────────────────┼────────────────────────┤\n",
              "│ max_pooling2d_1           │ (<span style=\"color: #00d7ff; text-decoration-color: #00d7ff\">None</span>, <span style=\"color: #00af00; text-decoration-color: #00af00\">56</span>, <span style=\"color: #00af00; text-decoration-color: #00af00\">56</span>, <span style=\"color: #00af00; text-decoration-color: #00af00\">64</span>)     │              <span style=\"color: #00af00; text-decoration-color: #00af00\">0</span> │ batch_normalization_4… │\n",
              "│ (<span style=\"color: #0087ff; text-decoration-color: #0087ff\">MaxPooling2D</span>)            │                        │                │                        │\n",
              "├───────────────────────────┼────────────────────────┼────────────────┼────────────────────────┤\n",
              "│ average_pooling2d_1       │ (<span style=\"color: #00d7ff; text-decoration-color: #00d7ff\">None</span>, <span style=\"color: #00af00; text-decoration-color: #00af00\">56</span>, <span style=\"color: #00af00; text-decoration-color: #00af00\">56</span>, <span style=\"color: #00af00; text-decoration-color: #00af00\">64</span>)     │              <span style=\"color: #00af00; text-decoration-color: #00af00\">0</span> │ batch_normalization_2… │\n",
              "│ (<span style=\"color: #0087ff; text-decoration-color: #0087ff\">AveragePooling2D</span>)        │                        │                │                        │\n",
              "├───────────────────────────┼────────────────────────┼────────────────┼────────────────────────┤\n",
              "│ conv2d_9 (<span style=\"color: #0087ff; text-decoration-color: #0087ff\">Conv2D</span>)         │ (<span style=\"color: #00d7ff; text-decoration-color: #00d7ff\">None</span>, <span style=\"color: #00af00; text-decoration-color: #00af00\">56</span>, <span style=\"color: #00af00; text-decoration-color: #00af00\">56</span>, <span style=\"color: #00af00; text-decoration-color: #00af00\">64</span>)     │         <span style=\"color: #00af00; text-decoration-color: #00af00\">36,928</span> │ max_pooling2d_1[<span style=\"color: #00af00; text-decoration-color: #00af00\">0</span>][<span style=\"color: #00af00; text-decoration-color: #00af00\">0</span>]  │\n",
              "├───────────────────────────┼────────────────────────┼────────────────┼────────────────────────┤\n",
              "│ conv2d_6 (<span style=\"color: #0087ff; text-decoration-color: #0087ff\">Conv2D</span>)         │ (<span style=\"color: #00d7ff; text-decoration-color: #00d7ff\">None</span>, <span style=\"color: #00af00; text-decoration-color: #00af00\">56</span>, <span style=\"color: #00af00; text-decoration-color: #00af00\">56</span>, <span style=\"color: #00af00; text-decoration-color: #00af00\">64</span>)     │         <span style=\"color: #00af00; text-decoration-color: #00af00\">36,928</span> │ average_pooling2d_1[<span style=\"color: #00af00; text-decoration-color: #00af00\">0</span>… │\n",
              "├───────────────────────────┼────────────────────────┼────────────────┼────────────────────────┤\n",
              "│ batch_normalization_8     │ (<span style=\"color: #00d7ff; text-decoration-color: #00d7ff\">None</span>, <span style=\"color: #00af00; text-decoration-color: #00af00\">56</span>, <span style=\"color: #00af00; text-decoration-color: #00af00\">56</span>, <span style=\"color: #00af00; text-decoration-color: #00af00\">64</span>)     │            <span style=\"color: #00af00; text-decoration-color: #00af00\">256</span> │ conv2d_9[<span style=\"color: #00af00; text-decoration-color: #00af00\">0</span>][<span style=\"color: #00af00; text-decoration-color: #00af00\">0</span>]         │\n",
              "│ (<span style=\"color: #0087ff; text-decoration-color: #0087ff\">BatchNormalization</span>)      │                        │                │                        │\n",
              "├───────────────────────────┼────────────────────────┼────────────────┼────────────────────────┤\n",
              "│ batch_normalization_5     │ (<span style=\"color: #00d7ff; text-decoration-color: #00d7ff\">None</span>, <span style=\"color: #00af00; text-decoration-color: #00af00\">56</span>, <span style=\"color: #00af00; text-decoration-color: #00af00\">56</span>, <span style=\"color: #00af00; text-decoration-color: #00af00\">64</span>)     │            <span style=\"color: #00af00; text-decoration-color: #00af00\">256</span> │ conv2d_6[<span style=\"color: #00af00; text-decoration-color: #00af00\">0</span>][<span style=\"color: #00af00; text-decoration-color: #00af00\">0</span>]         │\n",
              "│ (<span style=\"color: #0087ff; text-decoration-color: #0087ff\">BatchNormalization</span>)      │                        │                │                        │\n",
              "├───────────────────────────┼────────────────────────┼────────────────┼────────────────────────┤\n",
              "│ conv2d_10 (<span style=\"color: #0087ff; text-decoration-color: #0087ff\">Conv2D</span>)        │ (<span style=\"color: #00d7ff; text-decoration-color: #00d7ff\">None</span>, <span style=\"color: #00af00; text-decoration-color: #00af00\">56</span>, <span style=\"color: #00af00; text-decoration-color: #00af00\">56</span>, <span style=\"color: #00af00; text-decoration-color: #00af00\">64</span>)     │         <span style=\"color: #00af00; text-decoration-color: #00af00\">36,928</span> │ batch_normalization_8… │\n",
              "├───────────────────────────┼────────────────────────┼────────────────┼────────────────────────┤\n",
              "│ conv2d_7 (<span style=\"color: #0087ff; text-decoration-color: #0087ff\">Conv2D</span>)         │ (<span style=\"color: #00d7ff; text-decoration-color: #00d7ff\">None</span>, <span style=\"color: #00af00; text-decoration-color: #00af00\">56</span>, <span style=\"color: #00af00; text-decoration-color: #00af00\">56</span>, <span style=\"color: #00af00; text-decoration-color: #00af00\">64</span>)     │         <span style=\"color: #00af00; text-decoration-color: #00af00\">36,928</span> │ batch_normalization_5… │\n",
              "├───────────────────────────┼────────────────────────┼────────────────┼────────────────────────┤\n",
              "│ batch_normalization_9     │ (<span style=\"color: #00d7ff; text-decoration-color: #00d7ff\">None</span>, <span style=\"color: #00af00; text-decoration-color: #00af00\">56</span>, <span style=\"color: #00af00; text-decoration-color: #00af00\">56</span>, <span style=\"color: #00af00; text-decoration-color: #00af00\">64</span>)     │            <span style=\"color: #00af00; text-decoration-color: #00af00\">256</span> │ conv2d_10[<span style=\"color: #00af00; text-decoration-color: #00af00\">0</span>][<span style=\"color: #00af00; text-decoration-color: #00af00\">0</span>]        │\n",
              "│ (<span style=\"color: #0087ff; text-decoration-color: #0087ff\">BatchNormalization</span>)      │                        │                │                        │\n",
              "├───────────────────────────┼────────────────────────┼────────────────┼────────────────────────┤\n",
              "│ batch_normalization_6     │ (<span style=\"color: #00d7ff; text-decoration-color: #00d7ff\">None</span>, <span style=\"color: #00af00; text-decoration-color: #00af00\">56</span>, <span style=\"color: #00af00; text-decoration-color: #00af00\">56</span>, <span style=\"color: #00af00; text-decoration-color: #00af00\">64</span>)     │            <span style=\"color: #00af00; text-decoration-color: #00af00\">256</span> │ conv2d_7[<span style=\"color: #00af00; text-decoration-color: #00af00\">0</span>][<span style=\"color: #00af00; text-decoration-color: #00af00\">0</span>]         │\n",
              "│ (<span style=\"color: #0087ff; text-decoration-color: #0087ff\">BatchNormalization</span>)      │                        │                │                        │\n",
              "├───────────────────────────┼────────────────────────┼────────────────┼────────────────────────┤\n",
              "│ conv2d_11 (<span style=\"color: #0087ff; text-decoration-color: #0087ff\">Conv2D</span>)        │ (<span style=\"color: #00d7ff; text-decoration-color: #00d7ff\">None</span>, <span style=\"color: #00af00; text-decoration-color: #00af00\">56</span>, <span style=\"color: #00af00; text-decoration-color: #00af00\">56</span>, <span style=\"color: #00af00; text-decoration-color: #00af00\">64</span>)     │         <span style=\"color: #00af00; text-decoration-color: #00af00\">36,928</span> │ batch_normalization_9… │\n",
              "├───────────────────────────┼────────────────────────┼────────────────┼────────────────────────┤\n",
              "│ conv2d_8 (<span style=\"color: #0087ff; text-decoration-color: #0087ff\">Conv2D</span>)         │ (<span style=\"color: #00d7ff; text-decoration-color: #00d7ff\">None</span>, <span style=\"color: #00af00; text-decoration-color: #00af00\">56</span>, <span style=\"color: #00af00; text-decoration-color: #00af00\">56</span>, <span style=\"color: #00af00; text-decoration-color: #00af00\">64</span>)     │         <span style=\"color: #00af00; text-decoration-color: #00af00\">36,928</span> │ batch_normalization_6… │\n",
              "├───────────────────────────┼────────────────────────┼────────────────┼────────────────────────┤\n",
              "│ batch_normalization_10    │ (<span style=\"color: #00d7ff; text-decoration-color: #00d7ff\">None</span>, <span style=\"color: #00af00; text-decoration-color: #00af00\">56</span>, <span style=\"color: #00af00; text-decoration-color: #00af00\">56</span>, <span style=\"color: #00af00; text-decoration-color: #00af00\">64</span>)     │            <span style=\"color: #00af00; text-decoration-color: #00af00\">256</span> │ conv2d_11[<span style=\"color: #00af00; text-decoration-color: #00af00\">0</span>][<span style=\"color: #00af00; text-decoration-color: #00af00\">0</span>]        │\n",
              "│ (<span style=\"color: #0087ff; text-decoration-color: #0087ff\">BatchNormalization</span>)      │                        │                │                        │\n",
              "├───────────────────────────┼────────────────────────┼────────────────┼────────────────────────┤\n",
              "│ batch_normalization_7     │ (<span style=\"color: #00d7ff; text-decoration-color: #00d7ff\">None</span>, <span style=\"color: #00af00; text-decoration-color: #00af00\">56</span>, <span style=\"color: #00af00; text-decoration-color: #00af00\">56</span>, <span style=\"color: #00af00; text-decoration-color: #00af00\">64</span>)     │            <span style=\"color: #00af00; text-decoration-color: #00af00\">256</span> │ conv2d_8[<span style=\"color: #00af00; text-decoration-color: #00af00\">0</span>][<span style=\"color: #00af00; text-decoration-color: #00af00\">0</span>]         │\n",
              "│ (<span style=\"color: #0087ff; text-decoration-color: #0087ff\">BatchNormalization</span>)      │                        │                │                        │\n",
              "├───────────────────────────┼────────────────────────┼────────────────┼────────────────────────┤\n",
              "│ max_pooling2d_2           │ (<span style=\"color: #00d7ff; text-decoration-color: #00d7ff\">None</span>, <span style=\"color: #00af00; text-decoration-color: #00af00\">28</span>, <span style=\"color: #00af00; text-decoration-color: #00af00\">28</span>, <span style=\"color: #00af00; text-decoration-color: #00af00\">64</span>)     │              <span style=\"color: #00af00; text-decoration-color: #00af00\">0</span> │ batch_normalization_1… │\n",
              "│ (<span style=\"color: #0087ff; text-decoration-color: #0087ff\">MaxPooling2D</span>)            │                        │                │                        │\n",
              "├───────────────────────────┼────────────────────────┼────────────────┼────────────────────────┤\n",
              "│ average_pooling2d_2       │ (<span style=\"color: #00d7ff; text-decoration-color: #00d7ff\">None</span>, <span style=\"color: #00af00; text-decoration-color: #00af00\">28</span>, <span style=\"color: #00af00; text-decoration-color: #00af00\">28</span>, <span style=\"color: #00af00; text-decoration-color: #00af00\">64</span>)     │              <span style=\"color: #00af00; text-decoration-color: #00af00\">0</span> │ batch_normalization_7… │\n",
              "│ (<span style=\"color: #0087ff; text-decoration-color: #0087ff\">AveragePooling2D</span>)        │                        │                │                        │\n",
              "├───────────────────────────┼────────────────────────┼────────────────┼────────────────────────┤\n",
              "│ conv2d_15 (<span style=\"color: #0087ff; text-decoration-color: #0087ff\">Conv2D</span>)        │ (<span style=\"color: #00d7ff; text-decoration-color: #00d7ff\">None</span>, <span style=\"color: #00af00; text-decoration-color: #00af00\">28</span>, <span style=\"color: #00af00; text-decoration-color: #00af00\">28</span>, <span style=\"color: #00af00; text-decoration-color: #00af00\">128</span>)    │         <span style=\"color: #00af00; text-decoration-color: #00af00\">73,856</span> │ max_pooling2d_2[<span style=\"color: #00af00; text-decoration-color: #00af00\">0</span>][<span style=\"color: #00af00; text-decoration-color: #00af00\">0</span>]  │\n",
              "├───────────────────────────┼────────────────────────┼────────────────┼────────────────────────┤\n",
              "│ conv2d_12 (<span style=\"color: #0087ff; text-decoration-color: #0087ff\">Conv2D</span>)        │ (<span style=\"color: #00d7ff; text-decoration-color: #00d7ff\">None</span>, <span style=\"color: #00af00; text-decoration-color: #00af00\">28</span>, <span style=\"color: #00af00; text-decoration-color: #00af00\">28</span>, <span style=\"color: #00af00; text-decoration-color: #00af00\">128</span>)    │         <span style=\"color: #00af00; text-decoration-color: #00af00\">73,856</span> │ average_pooling2d_2[<span style=\"color: #00af00; text-decoration-color: #00af00\">0</span>… │\n",
              "├───────────────────────────┼────────────────────────┼────────────────┼────────────────────────┤\n",
              "│ batch_normalization_14    │ (<span style=\"color: #00d7ff; text-decoration-color: #00d7ff\">None</span>, <span style=\"color: #00af00; text-decoration-color: #00af00\">28</span>, <span style=\"color: #00af00; text-decoration-color: #00af00\">28</span>, <span style=\"color: #00af00; text-decoration-color: #00af00\">128</span>)    │            <span style=\"color: #00af00; text-decoration-color: #00af00\">512</span> │ conv2d_15[<span style=\"color: #00af00; text-decoration-color: #00af00\">0</span>][<span style=\"color: #00af00; text-decoration-color: #00af00\">0</span>]        │\n",
              "│ (<span style=\"color: #0087ff; text-decoration-color: #0087ff\">BatchNormalization</span>)      │                        │                │                        │\n",
              "├───────────────────────────┼────────────────────────┼────────────────┼────────────────────────┤\n",
              "│ batch_normalization_11    │ (<span style=\"color: #00d7ff; text-decoration-color: #00d7ff\">None</span>, <span style=\"color: #00af00; text-decoration-color: #00af00\">28</span>, <span style=\"color: #00af00; text-decoration-color: #00af00\">28</span>, <span style=\"color: #00af00; text-decoration-color: #00af00\">128</span>)    │            <span style=\"color: #00af00; text-decoration-color: #00af00\">512</span> │ conv2d_12[<span style=\"color: #00af00; text-decoration-color: #00af00\">0</span>][<span style=\"color: #00af00; text-decoration-color: #00af00\">0</span>]        │\n",
              "│ (<span style=\"color: #0087ff; text-decoration-color: #0087ff\">BatchNormalization</span>)      │                        │                │                        │\n",
              "├───────────────────────────┼────────────────────────┼────────────────┼────────────────────────┤\n",
              "│ conv2d_16 (<span style=\"color: #0087ff; text-decoration-color: #0087ff\">Conv2D</span>)        │ (<span style=\"color: #00d7ff; text-decoration-color: #00d7ff\">None</span>, <span style=\"color: #00af00; text-decoration-color: #00af00\">28</span>, <span style=\"color: #00af00; text-decoration-color: #00af00\">28</span>, <span style=\"color: #00af00; text-decoration-color: #00af00\">128</span>)    │        <span style=\"color: #00af00; text-decoration-color: #00af00\">147,584</span> │ batch_normalization_1… │\n",
              "├───────────────────────────┼────────────────────────┼────────────────┼────────────────────────┤\n",
              "│ conv2d_13 (<span style=\"color: #0087ff; text-decoration-color: #0087ff\">Conv2D</span>)        │ (<span style=\"color: #00d7ff; text-decoration-color: #00d7ff\">None</span>, <span style=\"color: #00af00; text-decoration-color: #00af00\">28</span>, <span style=\"color: #00af00; text-decoration-color: #00af00\">28</span>, <span style=\"color: #00af00; text-decoration-color: #00af00\">128</span>)    │        <span style=\"color: #00af00; text-decoration-color: #00af00\">147,584</span> │ batch_normalization_1… │\n",
              "├───────────────────────────┼────────────────────────┼────────────────┼────────────────────────┤\n",
              "│ batch_normalization_15    │ (<span style=\"color: #00d7ff; text-decoration-color: #00d7ff\">None</span>, <span style=\"color: #00af00; text-decoration-color: #00af00\">28</span>, <span style=\"color: #00af00; text-decoration-color: #00af00\">28</span>, <span style=\"color: #00af00; text-decoration-color: #00af00\">128</span>)    │            <span style=\"color: #00af00; text-decoration-color: #00af00\">512</span> │ conv2d_16[<span style=\"color: #00af00; text-decoration-color: #00af00\">0</span>][<span style=\"color: #00af00; text-decoration-color: #00af00\">0</span>]        │\n",
              "│ (<span style=\"color: #0087ff; text-decoration-color: #0087ff\">BatchNormalization</span>)      │                        │                │                        │\n",
              "├───────────────────────────┼────────────────────────┼────────────────┼────────────────────────┤\n",
              "│ batch_normalization_12    │ (<span style=\"color: #00d7ff; text-decoration-color: #00d7ff\">None</span>, <span style=\"color: #00af00; text-decoration-color: #00af00\">28</span>, <span style=\"color: #00af00; text-decoration-color: #00af00\">28</span>, <span style=\"color: #00af00; text-decoration-color: #00af00\">128</span>)    │            <span style=\"color: #00af00; text-decoration-color: #00af00\">512</span> │ conv2d_13[<span style=\"color: #00af00; text-decoration-color: #00af00\">0</span>][<span style=\"color: #00af00; text-decoration-color: #00af00\">0</span>]        │\n",
              "│ (<span style=\"color: #0087ff; text-decoration-color: #0087ff\">BatchNormalization</span>)      │                        │                │                        │\n",
              "├───────────────────────────┼────────────────────────┼────────────────┼────────────────────────┤\n",
              "│ conv2d_17 (<span style=\"color: #0087ff; text-decoration-color: #0087ff\">Conv2D</span>)        │ (<span style=\"color: #00d7ff; text-decoration-color: #00d7ff\">None</span>, <span style=\"color: #00af00; text-decoration-color: #00af00\">28</span>, <span style=\"color: #00af00; text-decoration-color: #00af00\">28</span>, <span style=\"color: #00af00; text-decoration-color: #00af00\">128</span>)    │        <span style=\"color: #00af00; text-decoration-color: #00af00\">147,584</span> │ batch_normalization_1… │\n",
              "├───────────────────────────┼────────────────────────┼────────────────┼────────────────────────┤\n",
              "│ conv2d_14 (<span style=\"color: #0087ff; text-decoration-color: #0087ff\">Conv2D</span>)        │ (<span style=\"color: #00d7ff; text-decoration-color: #00d7ff\">None</span>, <span style=\"color: #00af00; text-decoration-color: #00af00\">28</span>, <span style=\"color: #00af00; text-decoration-color: #00af00\">28</span>, <span style=\"color: #00af00; text-decoration-color: #00af00\">128</span>)    │        <span style=\"color: #00af00; text-decoration-color: #00af00\">147,584</span> │ batch_normalization_1… │\n",
              "├───────────────────────────┼────────────────────────┼────────────────┼────────────────────────┤\n",
              "│ batch_normalization_16    │ (<span style=\"color: #00d7ff; text-decoration-color: #00d7ff\">None</span>, <span style=\"color: #00af00; text-decoration-color: #00af00\">28</span>, <span style=\"color: #00af00; text-decoration-color: #00af00\">28</span>, <span style=\"color: #00af00; text-decoration-color: #00af00\">128</span>)    │            <span style=\"color: #00af00; text-decoration-color: #00af00\">512</span> │ conv2d_17[<span style=\"color: #00af00; text-decoration-color: #00af00\">0</span>][<span style=\"color: #00af00; text-decoration-color: #00af00\">0</span>]        │\n",
              "│ (<span style=\"color: #0087ff; text-decoration-color: #0087ff\">BatchNormalization</span>)      │                        │                │                        │\n",
              "├───────────────────────────┼────────────────────────┼────────────────┼────────────────────────┤\n",
              "│ batch_normalization_13    │ (<span style=\"color: #00d7ff; text-decoration-color: #00d7ff\">None</span>, <span style=\"color: #00af00; text-decoration-color: #00af00\">28</span>, <span style=\"color: #00af00; text-decoration-color: #00af00\">28</span>, <span style=\"color: #00af00; text-decoration-color: #00af00\">128</span>)    │            <span style=\"color: #00af00; text-decoration-color: #00af00\">512</span> │ conv2d_14[<span style=\"color: #00af00; text-decoration-color: #00af00\">0</span>][<span style=\"color: #00af00; text-decoration-color: #00af00\">0</span>]        │\n",
              "│ (<span style=\"color: #0087ff; text-decoration-color: #0087ff\">BatchNormalization</span>)      │                        │                │                        │\n",
              "├───────────────────────────┼────────────────────────┼────────────────┼────────────────────────┤\n",
              "│ max_pooling2d_3           │ (<span style=\"color: #00d7ff; text-decoration-color: #00d7ff\">None</span>, <span style=\"color: #00af00; text-decoration-color: #00af00\">14</span>, <span style=\"color: #00af00; text-decoration-color: #00af00\">14</span>, <span style=\"color: #00af00; text-decoration-color: #00af00\">128</span>)    │              <span style=\"color: #00af00; text-decoration-color: #00af00\">0</span> │ batch_normalization_1… │\n",
              "│ (<span style=\"color: #0087ff; text-decoration-color: #0087ff\">MaxPooling2D</span>)            │                        │                │                        │\n",
              "├───────────────────────────┼────────────────────────┼────────────────┼────────────────────────┤\n",
              "│ average_pooling2d_3       │ (<span style=\"color: #00d7ff; text-decoration-color: #00d7ff\">None</span>, <span style=\"color: #00af00; text-decoration-color: #00af00\">14</span>, <span style=\"color: #00af00; text-decoration-color: #00af00\">14</span>, <span style=\"color: #00af00; text-decoration-color: #00af00\">128</span>)    │              <span style=\"color: #00af00; text-decoration-color: #00af00\">0</span> │ batch_normalization_1… │\n",
              "│ (<span style=\"color: #0087ff; text-decoration-color: #0087ff\">AveragePooling2D</span>)        │                        │                │                        │\n",
              "├───────────────────────────┼────────────────────────┼────────────────┼────────────────────────┤\n",
              "│ conv2d_21 (<span style=\"color: #0087ff; text-decoration-color: #0087ff\">Conv2D</span>)        │ (<span style=\"color: #00d7ff; text-decoration-color: #00d7ff\">None</span>, <span style=\"color: #00af00; text-decoration-color: #00af00\">14</span>, <span style=\"color: #00af00; text-decoration-color: #00af00\">14</span>, <span style=\"color: #00af00; text-decoration-color: #00af00\">128</span>)    │        <span style=\"color: #00af00; text-decoration-color: #00af00\">147,584</span> │ max_pooling2d_3[<span style=\"color: #00af00; text-decoration-color: #00af00\">0</span>][<span style=\"color: #00af00; text-decoration-color: #00af00\">0</span>]  │\n",
              "├───────────────────────────┼────────────────────────┼────────────────┼────────────────────────┤\n",
              "│ conv2d_18 (<span style=\"color: #0087ff; text-decoration-color: #0087ff\">Conv2D</span>)        │ (<span style=\"color: #00d7ff; text-decoration-color: #00d7ff\">None</span>, <span style=\"color: #00af00; text-decoration-color: #00af00\">14</span>, <span style=\"color: #00af00; text-decoration-color: #00af00\">14</span>, <span style=\"color: #00af00; text-decoration-color: #00af00\">128</span>)    │        <span style=\"color: #00af00; text-decoration-color: #00af00\">147,584</span> │ average_pooling2d_3[<span style=\"color: #00af00; text-decoration-color: #00af00\">0</span>… │\n",
              "├───────────────────────────┼────────────────────────┼────────────────┼────────────────────────┤\n",
              "│ batch_normalization_20    │ (<span style=\"color: #00d7ff; text-decoration-color: #00d7ff\">None</span>, <span style=\"color: #00af00; text-decoration-color: #00af00\">14</span>, <span style=\"color: #00af00; text-decoration-color: #00af00\">14</span>, <span style=\"color: #00af00; text-decoration-color: #00af00\">128</span>)    │            <span style=\"color: #00af00; text-decoration-color: #00af00\">512</span> │ conv2d_21[<span style=\"color: #00af00; text-decoration-color: #00af00\">0</span>][<span style=\"color: #00af00; text-decoration-color: #00af00\">0</span>]        │\n",
              "│ (<span style=\"color: #0087ff; text-decoration-color: #0087ff\">BatchNormalization</span>)      │                        │                │                        │\n",
              "├───────────────────────────┼────────────────────────┼────────────────┼────────────────────────┤\n",
              "│ batch_normalization_17    │ (<span style=\"color: #00d7ff; text-decoration-color: #00d7ff\">None</span>, <span style=\"color: #00af00; text-decoration-color: #00af00\">14</span>, <span style=\"color: #00af00; text-decoration-color: #00af00\">14</span>, <span style=\"color: #00af00; text-decoration-color: #00af00\">128</span>)    │            <span style=\"color: #00af00; text-decoration-color: #00af00\">512</span> │ conv2d_18[<span style=\"color: #00af00; text-decoration-color: #00af00\">0</span>][<span style=\"color: #00af00; text-decoration-color: #00af00\">0</span>]        │\n",
              "│ (<span style=\"color: #0087ff; text-decoration-color: #0087ff\">BatchNormalization</span>)      │                        │                │                        │\n",
              "├───────────────────────────┼────────────────────────┼────────────────┼────────────────────────┤\n",
              "│ conv2d_22 (<span style=\"color: #0087ff; text-decoration-color: #0087ff\">Conv2D</span>)        │ (<span style=\"color: #00d7ff; text-decoration-color: #00d7ff\">None</span>, <span style=\"color: #00af00; text-decoration-color: #00af00\">14</span>, <span style=\"color: #00af00; text-decoration-color: #00af00\">14</span>, <span style=\"color: #00af00; text-decoration-color: #00af00\">128</span>)    │        <span style=\"color: #00af00; text-decoration-color: #00af00\">147,584</span> │ batch_normalization_2… │\n",
              "├───────────────────────────┼────────────────────────┼────────────────┼────────────────────────┤\n",
              "│ conv2d_19 (<span style=\"color: #0087ff; text-decoration-color: #0087ff\">Conv2D</span>)        │ (<span style=\"color: #00d7ff; text-decoration-color: #00d7ff\">None</span>, <span style=\"color: #00af00; text-decoration-color: #00af00\">14</span>, <span style=\"color: #00af00; text-decoration-color: #00af00\">14</span>, <span style=\"color: #00af00; text-decoration-color: #00af00\">128</span>)    │        <span style=\"color: #00af00; text-decoration-color: #00af00\">147,584</span> │ batch_normalization_1… │\n",
              "├───────────────────────────┼────────────────────────┼────────────────┼────────────────────────┤\n",
              "│ batch_normalization_21    │ (<span style=\"color: #00d7ff; text-decoration-color: #00d7ff\">None</span>, <span style=\"color: #00af00; text-decoration-color: #00af00\">14</span>, <span style=\"color: #00af00; text-decoration-color: #00af00\">14</span>, <span style=\"color: #00af00; text-decoration-color: #00af00\">128</span>)    │            <span style=\"color: #00af00; text-decoration-color: #00af00\">512</span> │ conv2d_22[<span style=\"color: #00af00; text-decoration-color: #00af00\">0</span>][<span style=\"color: #00af00; text-decoration-color: #00af00\">0</span>]        │\n",
              "│ (<span style=\"color: #0087ff; text-decoration-color: #0087ff\">BatchNormalization</span>)      │                        │                │                        │\n",
              "├───────────────────────────┼────────────────────────┼────────────────┼────────────────────────┤\n",
              "│ batch_normalization_18    │ (<span style=\"color: #00d7ff; text-decoration-color: #00d7ff\">None</span>, <span style=\"color: #00af00; text-decoration-color: #00af00\">14</span>, <span style=\"color: #00af00; text-decoration-color: #00af00\">14</span>, <span style=\"color: #00af00; text-decoration-color: #00af00\">128</span>)    │            <span style=\"color: #00af00; text-decoration-color: #00af00\">512</span> │ conv2d_19[<span style=\"color: #00af00; text-decoration-color: #00af00\">0</span>][<span style=\"color: #00af00; text-decoration-color: #00af00\">0</span>]        │\n",
              "│ (<span style=\"color: #0087ff; text-decoration-color: #0087ff\">BatchNormalization</span>)      │                        │                │                        │\n",
              "├───────────────────────────┼────────────────────────┼────────────────┼────────────────────────┤\n",
              "│ conv2d_23 (<span style=\"color: #0087ff; text-decoration-color: #0087ff\">Conv2D</span>)        │ (<span style=\"color: #00d7ff; text-decoration-color: #00d7ff\">None</span>, <span style=\"color: #00af00; text-decoration-color: #00af00\">14</span>, <span style=\"color: #00af00; text-decoration-color: #00af00\">14</span>, <span style=\"color: #00af00; text-decoration-color: #00af00\">128</span>)    │        <span style=\"color: #00af00; text-decoration-color: #00af00\">147,584</span> │ batch_normalization_2… │\n",
              "├───────────────────────────┼────────────────────────┼────────────────┼────────────────────────┤\n",
              "│ conv2d_20 (<span style=\"color: #0087ff; text-decoration-color: #0087ff\">Conv2D</span>)        │ (<span style=\"color: #00d7ff; text-decoration-color: #00d7ff\">None</span>, <span style=\"color: #00af00; text-decoration-color: #00af00\">14</span>, <span style=\"color: #00af00; text-decoration-color: #00af00\">14</span>, <span style=\"color: #00af00; text-decoration-color: #00af00\">128</span>)    │        <span style=\"color: #00af00; text-decoration-color: #00af00\">147,584</span> │ batch_normalization_1… │\n",
              "├───────────────────────────┼────────────────────────┼────────────────┼────────────────────────┤\n",
              "│ batch_normalization_22    │ (<span style=\"color: #00d7ff; text-decoration-color: #00d7ff\">None</span>, <span style=\"color: #00af00; text-decoration-color: #00af00\">14</span>, <span style=\"color: #00af00; text-decoration-color: #00af00\">14</span>, <span style=\"color: #00af00; text-decoration-color: #00af00\">128</span>)    │            <span style=\"color: #00af00; text-decoration-color: #00af00\">512</span> │ conv2d_23[<span style=\"color: #00af00; text-decoration-color: #00af00\">0</span>][<span style=\"color: #00af00; text-decoration-color: #00af00\">0</span>]        │\n",
              "│ (<span style=\"color: #0087ff; text-decoration-color: #0087ff\">BatchNormalization</span>)      │                        │                │                        │\n",
              "├───────────────────────────┼────────────────────────┼────────────────┼────────────────────────┤\n",
              "│ batch_normalization_19    │ (<span style=\"color: #00d7ff; text-decoration-color: #00d7ff\">None</span>, <span style=\"color: #00af00; text-decoration-color: #00af00\">14</span>, <span style=\"color: #00af00; text-decoration-color: #00af00\">14</span>, <span style=\"color: #00af00; text-decoration-color: #00af00\">128</span>)    │            <span style=\"color: #00af00; text-decoration-color: #00af00\">512</span> │ conv2d_20[<span style=\"color: #00af00; text-decoration-color: #00af00\">0</span>][<span style=\"color: #00af00; text-decoration-color: #00af00\">0</span>]        │\n",
              "│ (<span style=\"color: #0087ff; text-decoration-color: #0087ff\">BatchNormalization</span>)      │                        │                │                        │\n",
              "├───────────────────────────┼────────────────────────┼────────────────┼────────────────────────┤\n",
              "│ max_pooling2d_4           │ (<span style=\"color: #00d7ff; text-decoration-color: #00d7ff\">None</span>, <span style=\"color: #00af00; text-decoration-color: #00af00\">7</span>, <span style=\"color: #00af00; text-decoration-color: #00af00\">7</span>, <span style=\"color: #00af00; text-decoration-color: #00af00\">128</span>)      │              <span style=\"color: #00af00; text-decoration-color: #00af00\">0</span> │ batch_normalization_2… │\n",
              "│ (<span style=\"color: #0087ff; text-decoration-color: #0087ff\">MaxPooling2D</span>)            │                        │                │                        │\n",
              "├───────────────────────────┼────────────────────────┼────────────────┼────────────────────────┤\n",
              "│ average_pooling2d_4       │ (<span style=\"color: #00d7ff; text-decoration-color: #00d7ff\">None</span>, <span style=\"color: #00af00; text-decoration-color: #00af00\">7</span>, <span style=\"color: #00af00; text-decoration-color: #00af00\">7</span>, <span style=\"color: #00af00; text-decoration-color: #00af00\">128</span>)      │              <span style=\"color: #00af00; text-decoration-color: #00af00\">0</span> │ batch_normalization_1… │\n",
              "│ (<span style=\"color: #0087ff; text-decoration-color: #0087ff\">AveragePooling2D</span>)        │                        │                │                        │\n",
              "├───────────────────────────┼────────────────────────┼────────────────┼────────────────────────┤\n",
              "│ flatten (<span style=\"color: #0087ff; text-decoration-color: #0087ff\">Flatten</span>)         │ (<span style=\"color: #00d7ff; text-decoration-color: #00d7ff\">None</span>, <span style=\"color: #00af00; text-decoration-color: #00af00\">6272</span>)           │              <span style=\"color: #00af00; text-decoration-color: #00af00\">0</span> │ max_pooling2d_4[<span style=\"color: #00af00; text-decoration-color: #00af00\">0</span>][<span style=\"color: #00af00; text-decoration-color: #00af00\">0</span>]  │\n",
              "├───────────────────────────┼────────────────────────┼────────────────┼────────────────────────┤\n",
              "│ flatten_1 (<span style=\"color: #0087ff; text-decoration-color: #0087ff\">Flatten</span>)       │ (<span style=\"color: #00d7ff; text-decoration-color: #00d7ff\">None</span>, <span style=\"color: #00af00; text-decoration-color: #00af00\">6272</span>)           │              <span style=\"color: #00af00; text-decoration-color: #00af00\">0</span> │ average_pooling2d_4[<span style=\"color: #00af00; text-decoration-color: #00af00\">0</span>… │\n",
              "├───────────────────────────┼────────────────────────┼────────────────┼────────────────────────┤\n",
              "│ dense (<span style=\"color: #0087ff; text-decoration-color: #0087ff\">Dense</span>)             │ (<span style=\"color: #00d7ff; text-decoration-color: #00d7ff\">None</span>, <span style=\"color: #00af00; text-decoration-color: #00af00\">800</span>)            │      <span style=\"color: #00af00; text-decoration-color: #00af00\">5,018,400</span> │ flatten[<span style=\"color: #00af00; text-decoration-color: #00af00\">0</span>][<span style=\"color: #00af00; text-decoration-color: #00af00\">0</span>]          │\n",
              "├───────────────────────────┼────────────────────────┼────────────────┼────────────────────────┤\n",
              "│ dense_3 (<span style=\"color: #0087ff; text-decoration-color: #0087ff\">Dense</span>)           │ (<span style=\"color: #00d7ff; text-decoration-color: #00d7ff\">None</span>, <span style=\"color: #00af00; text-decoration-color: #00af00\">800</span>)            │      <span style=\"color: #00af00; text-decoration-color: #00af00\">5,018,400</span> │ flatten_1[<span style=\"color: #00af00; text-decoration-color: #00af00\">0</span>][<span style=\"color: #00af00; text-decoration-color: #00af00\">0</span>]        │\n",
              "├───────────────────────────┼────────────────────────┼────────────────┼────────────────────────┤\n",
              "│ dropout (<span style=\"color: #0087ff; text-decoration-color: #0087ff\">Dropout</span>)         │ (<span style=\"color: #00d7ff; text-decoration-color: #00d7ff\">None</span>, <span style=\"color: #00af00; text-decoration-color: #00af00\">800</span>)            │              <span style=\"color: #00af00; text-decoration-color: #00af00\">0</span> │ dense[<span style=\"color: #00af00; text-decoration-color: #00af00\">0</span>][<span style=\"color: #00af00; text-decoration-color: #00af00\">0</span>]            │\n",
              "├───────────────────────────┼────────────────────────┼────────────────┼────────────────────────┤\n",
              "│ dropout_1 (<span style=\"color: #0087ff; text-decoration-color: #0087ff\">Dropout</span>)       │ (<span style=\"color: #00d7ff; text-decoration-color: #00d7ff\">None</span>, <span style=\"color: #00af00; text-decoration-color: #00af00\">800</span>)            │              <span style=\"color: #00af00; text-decoration-color: #00af00\">0</span> │ dense_3[<span style=\"color: #00af00; text-decoration-color: #00af00\">0</span>][<span style=\"color: #00af00; text-decoration-color: #00af00\">0</span>]          │\n",
              "├───────────────────────────┼────────────────────────┼────────────────┼────────────────────────┤\n",
              "│ dense_1 (<span style=\"color: #0087ff; text-decoration-color: #0087ff\">Dense</span>)           │ (<span style=\"color: #00d7ff; text-decoration-color: #00d7ff\">None</span>, <span style=\"color: #00af00; text-decoration-color: #00af00\">200</span>)            │        <span style=\"color: #00af00; text-decoration-color: #00af00\">160,200</span> │ dropout[<span style=\"color: #00af00; text-decoration-color: #00af00\">0</span>][<span style=\"color: #00af00; text-decoration-color: #00af00\">0</span>]          │\n",
              "├───────────────────────────┼────────────────────────┼────────────────┼────────────────────────┤\n",
              "│ dense_4 (<span style=\"color: #0087ff; text-decoration-color: #0087ff\">Dense</span>)           │ (<span style=\"color: #00d7ff; text-decoration-color: #00d7ff\">None</span>, <span style=\"color: #00af00; text-decoration-color: #00af00\">200</span>)            │        <span style=\"color: #00af00; text-decoration-color: #00af00\">160,200</span> │ dropout_1[<span style=\"color: #00af00; text-decoration-color: #00af00\">0</span>][<span style=\"color: #00af00; text-decoration-color: #00af00\">0</span>]        │\n",
              "├───────────────────────────┼────────────────────────┼────────────────┼────────────────────────┤\n",
              "│ dense_2 (<span style=\"color: #0087ff; text-decoration-color: #0087ff\">Dense</span>)           │ (<span style=\"color: #00d7ff; text-decoration-color: #00d7ff\">None</span>, <span style=\"color: #00af00; text-decoration-color: #00af00\">20</span>)             │          <span style=\"color: #00af00; text-decoration-color: #00af00\">4,020</span> │ dense_1[<span style=\"color: #00af00; text-decoration-color: #00af00\">0</span>][<span style=\"color: #00af00; text-decoration-color: #00af00\">0</span>]          │\n",
              "├───────────────────────────┼────────────────────────┼────────────────┼────────────────────────┤\n",
              "│ dense_5 (<span style=\"color: #0087ff; text-decoration-color: #0087ff\">Dense</span>)           │ (<span style=\"color: #00d7ff; text-decoration-color: #00d7ff\">None</span>, <span style=\"color: #00af00; text-decoration-color: #00af00\">20</span>)             │          <span style=\"color: #00af00; text-decoration-color: #00af00\">4,020</span> │ dense_4[<span style=\"color: #00af00; text-decoration-color: #00af00\">0</span>][<span style=\"color: #00af00; text-decoration-color: #00af00\">0</span>]          │\n",
              "├───────────────────────────┼────────────────────────┼────────────────┼────────────────────────┤\n",
              "│ concatenate (<span style=\"color: #0087ff; text-decoration-color: #0087ff\">Concatenate</span>) │ (<span style=\"color: #00d7ff; text-decoration-color: #00d7ff\">None</span>, <span style=\"color: #00af00; text-decoration-color: #00af00\">40</span>)             │              <span style=\"color: #00af00; text-decoration-color: #00af00\">0</span> │ dense_2[<span style=\"color: #00af00; text-decoration-color: #00af00\">0</span>][<span style=\"color: #00af00; text-decoration-color: #00af00\">0</span>],         │\n",
              "│                           │                        │                │ dense_5[<span style=\"color: #00af00; text-decoration-color: #00af00\">0</span>][<span style=\"color: #00af00; text-decoration-color: #00af00\">0</span>]          │\n",
              "├───────────────────────────┼────────────────────────┼────────────────┼────────────────────────┤\n",
              "│ dense_6 (<span style=\"color: #0087ff; text-decoration-color: #0087ff\">Dense</span>)           │ (<span style=\"color: #00d7ff; text-decoration-color: #00d7ff\">None</span>, <span style=\"color: #00af00; text-decoration-color: #00af00\">1</span>)              │             <span style=\"color: #00af00; text-decoration-color: #00af00\">41</span> │ concatenate[<span style=\"color: #00af00; text-decoration-color: #00af00\">0</span>][<span style=\"color: #00af00; text-decoration-color: #00af00\">0</span>]      │\n",
              "└───────────────────────────┴────────────────────────┴────────────────┴────────────────────────┘\n",
              "</pre>\n"
            ]
          },
          "metadata": {}
        },
        {
          "output_type": "display_data",
          "data": {
            "text/plain": [
              "\u001b[1m Total params: \u001b[0m\u001b[38;5;34m12,340,225\u001b[0m (47.07 MB)\n"
            ],
            "text/html": [
              "<pre style=\"white-space:pre;overflow-x:auto;line-height:normal;font-family:Menlo,'DejaVu Sans Mono',consolas,'Courier New',monospace\"><span style=\"font-weight: bold\"> Total params: </span><span style=\"color: #00af00; text-decoration-color: #00af00\">12,340,225</span> (47.07 MB)\n",
              "</pre>\n"
            ]
          },
          "metadata": {}
        },
        {
          "output_type": "display_data",
          "data": {
            "text/plain": [
              "\u001b[1m Trainable params: \u001b[0m\u001b[38;5;34m12,335,809\u001b[0m (47.06 MB)\n"
            ],
            "text/html": [
              "<pre style=\"white-space:pre;overflow-x:auto;line-height:normal;font-family:Menlo,'DejaVu Sans Mono',consolas,'Courier New',monospace\"><span style=\"font-weight: bold\"> Trainable params: </span><span style=\"color: #00af00; text-decoration-color: #00af00\">12,335,809</span> (47.06 MB)\n",
              "</pre>\n"
            ]
          },
          "metadata": {}
        },
        {
          "output_type": "display_data",
          "data": {
            "text/plain": [
              "\u001b[1m Non-trainable params: \u001b[0m\u001b[38;5;34m4,416\u001b[0m (17.25 KB)\n"
            ],
            "text/html": [
              "<pre style=\"white-space:pre;overflow-x:auto;line-height:normal;font-family:Menlo,'DejaVu Sans Mono',consolas,'Courier New',monospace\"><span style=\"font-weight: bold\"> Non-trainable params: </span><span style=\"color: #00af00; text-decoration-color: #00af00\">4,416</span> (17.25 KB)\n",
              "</pre>\n"
            ]
          },
          "metadata": {}
        }
      ],
      "source": [
        "\n",
        "paths=data_path\n",
        "XSize=224\n",
        "YSize=224\n",
        "\n",
        "\n",
        "\n",
        "\n",
        "from keras.models import load_model\n",
        "\n",
        "# load model if you have one\n",
        "#model=load_model(modelfname)\n",
        "\n",
        "def lr_scheduler(epoch, lr):\n",
        "  # not used currently\n",
        "  # defined for later usage\n",
        "  return 0.01\n",
        "\n",
        "LR_callback = tf.keras.callbacks.LearningRateScheduler(lr_scheduler)\n",
        "\n",
        "\n",
        "#cce = tf.keras.losses.SparseCategoricalCrossentropy()\n",
        "\n",
        "bce=tf.keras.losses.BinaryCrossentropy()\n",
        "acc = tf.keras.metrics.SparseCategoricalAccuracy()\n",
        "\n",
        "\n",
        "zindi_plastic_model.summary()"
      ]
    },
    {
      "cell_type": "code",
      "execution_count": 21,
      "metadata": {
        "id": "bPuArbzZNeMK"
      },
      "outputs": [],
      "source": [
        "#!rm *.keras"
      ]
    },
    {
      "cell_type": "code",
      "execution_count": 21,
      "metadata": {
        "id": "VRuyB9_6YUam"
      },
      "outputs": [],
      "source": [
        "\n"
      ]
    },
    {
      "cell_type": "code",
      "execution_count": 22,
      "metadata": {
        "id": "2C_mQtVb0spM"
      },
      "outputs": [],
      "source": [
        "model_name=\"Model_-0.1410-0.0537.keras\"\n",
        "#282/282 ━━━━━━━━━━━━━━━━━━━━ 319s 1s/step - binary_accuracy: 0.9695 - loss: 0.0893 - val_binary_accuracy: 0.9645 - val_loss: 0.1057"
      ]
    },
    {
      "cell_type": "code",
      "execution_count": 23,
      "metadata": {
        "id": "B4m8ulLsNOUs"
      },
      "outputs": [],
      "source": [
        "model_mounted_path=\"./\""
      ]
    },
    {
      "cell_type": "code",
      "execution_count": 24,
      "metadata": {
        "id": "iloyJS_m0bh2"
      },
      "outputs": [],
      "source": [
        "#start from here if you have a trained model\n",
        "_LOAD_MODEL_=False\n",
        "\n",
        "if _LOAD_MODEL_:\n",
        "    from tensorflow.keras.models import load_model\n",
        "\n",
        "\n",
        "    zindi_plastic_model = load_model(model_mounted_path+model_name) # Load the best model"
      ]
    },
    {
      "cell_type": "code",
      "execution_count": 24,
      "metadata": {
        "id": "ULdyR71nYSp7"
      },
      "outputs": [],
      "source": []
    },
    {
      "cell_type": "code",
      "execution_count": null,
      "metadata": {
        "colab": {
          "base_uri": "https://localhost:8080/"
        },
        "id": "eeWpSBXD2prP",
        "outputId": "164ec337-3bda-4070-8900-c0fe8b67e8bc"
      },
      "outputs": [
        {
          "output_type": "stream",
          "name": "stdout",
          "text": [
            "-----------------------------------\n",
            "num:   2, Learning Rate:    1e-05 epocs:    50\n",
            "-----------------------------------\n",
            "Epoch 1/50\n",
            "\u001b[1m44/80\u001b[0m \u001b[32m━━━━━━━━━━━\u001b[0m\u001b[37m━━━━━━━━━\u001b[0m \u001b[1m14:15\u001b[0m 24s/step - binary_accuracy: 0.9972 - loss: 0.0172"
          ]
        }
      ],
      "source": [
        "\n",
        "# Train Model\n",
        "from IPython.display import clear_output\n",
        "\n",
        "\n",
        "\n",
        "for i in range(2,5):\n",
        "    ratex={0:0.0001,1:0.00005, 2:0.00001,3:0.000005,4:0.000005}  #ratex={0:0.000008,1:0.0000001} ez a jó az elején\n",
        "    epocsd={0:15,1:12,2:50, 3:50,4:50}\n",
        "    batchsd={0:32,1:32,2:32,3:32,4:32}\n",
        "    #clear_output(wait=True)\n",
        "    print(\"-\"*35)\n",
        "    print(f\"num:{i:4}, Learning Rate:{ratex[i]:9} epocs:{epocsd[i]:6}\")\n",
        "    print(\"-\"*35)\n",
        "\n",
        "    optimizer=RMSprop(ratex[i])\n",
        "\n",
        "    #zindi_plastic_model.summary()\n",
        "    zindi_plastic_model.compile(loss=bce, optimizer=optimizer, metrics=[\"binary_accuracy\"])\n",
        "\n",
        "\n",
        "    history = zindi_plastic_model.fit(train_generator, epochs=epocsd[i],\n",
        "                              validation_data=test_generator,\n",
        "                              batch_size=batchsd[i],\n",
        "                              callbacks=[model_checkpoint_callback],)"
      ]
    },
    {
      "cell_type": "code",
      "execution_count": null,
      "metadata": {
        "id": "8YIknXrTb2wB"
      },
      "outputs": [],
      "source": [
        "for i in range(1,2):\n",
        "    ratex={0:0.000001, 1:0.0000003,2:0.000001}  #ratex={0:0.000008,1:0.0000001} ez a jó az elején\n",
        "    epocsd={0:12,1:12}\n",
        "    batchsd={0:16,1:16}\n",
        "    #clear_output(wait=True)\n",
        "    print(\"-\"*35)\n",
        "    print(f\"num:{i:4}, Learning Rate:{ratex[i]:9} epocs:{epocsd[i]:6}\")\n",
        "    print(\"-\"*35)\n",
        "\n",
        "    optimizer=Adam(ratex[i])\n",
        "\n",
        "    #zindi_plastic_model.summary()\n",
        "    zindi_plastic_model.compile(loss=bce, optimizer=optimizer, metrics=[\"binary_accuracy\"])\n",
        "\n",
        "\n",
        "    history = zindi_plastic_model.fit(train_generator, epochs=epocsd[i],\n",
        "                              validation_data=test_generator,\n",
        "                              batch_size=batchsd[i],\n",
        "                              callbacks=[model_checkpoint_callback],)"
      ]
    },
    {
      "cell_type": "code",
      "execution_count": null,
      "metadata": {
        "id": "Lr46ivvX4mCc"
      },
      "outputs": [],
      "source": [
        " # if you need more trainig...\n",
        " history = zindi_plastic_model.fit(train_generator, epochs=epocsd[i],\n",
        "                              validation_data=test_generator,\n",
        "                              batch_size=batchsd[i],\n",
        "                              callbacks=[model_checkpoint_callback])"
      ]
    },
    {
      "cell_type": "code",
      "execution_count": null,
      "metadata": {
        "id": "caccJ5QjO-1v"
      },
      "outputs": [],
      "source": [
        "#save the models to the google drive\n",
        "model_path=\"/content/drive/MyDrive/zindi_plastic/models\"\n",
        "!cp *.keras {model_path}"
      ]
    },
    {
      "cell_type": "code",
      "execution_count": null,
      "metadata": {
        "id": "A8Gt499_Dqug"
      },
      "outputs": [],
      "source": [
        "Model Usage"
      ]
    },
    {
      "cell_type": "code",
      "execution_count": null,
      "metadata": {
        "id": "j-llh0r8Q-JX"
      },
      "outputs": [],
      "source": [
        "import os\n",
        "import matplotlib.pyplot as plt"
      ]
    },
    {
      "cell_type": "code",
      "execution_count": null,
      "metadata": {
        "id": "OPXvG_pVQdMh"
      },
      "outputs": [],
      "source": [
        "import tensorflow as tf\n",
        "import tensorflow.keras as keras\n",
        "from tensorflow.keras.callbacks import ModelCheckpoint\n",
        "from tensorflow.keras.layers import Conv2D, Flatten, MaxPooling2D,Dense,Dropout\n",
        "from tensorflow.keras.models  import Sequential\n",
        "from tensorflow.keras.preprocessing.image import ImageDataGenerator"
      ]
    },
    {
      "cell_type": "code",
      "execution_count": null,
      "metadata": {
        "id": "oreqlAd7OWTw"
      },
      "outputs": [],
      "source": [
        "_DEBUG_=False\n",
        "_PROJECT_BASE_='/content/drive/MyDrive/Zindi_Plastic_images/'\n",
        "_IMAGES_='images'\n",
        "_TEST_IMAGES_='test_images/'\n",
        "_MODELS_='models/'\n",
        "\n",
        "_ORIG_='orig'"
      ]
    },
    {
      "cell_type": "code",
      "execution_count": null,
      "metadata": {
        "id": "nsrXR2HQOWmr"
      },
      "outputs": [],
      "source": [
        "test_images_dir=_PROJECT_BASE_+_TEST_IMAGES_\n",
        "images_dir=_PROJECT_BASE_+_IMAGES_"
      ]
    },
    {
      "cell_type": "code",
      "execution_count": null,
      "metadata": {
        "id": "rTbVHrpsDVUJ"
      },
      "outputs": [],
      "source": [
        "model_path=_PROJECT_BASE_+_MODELS_"
      ]
    },
    {
      "cell_type": "code",
      "execution_count": null,
      "metadata": {
        "id": "Sx0eanF9C4sy"
      },
      "outputs": [],
      "source": [
        "from google.colab import drive\n",
        "drive.mount('/content/drive')"
      ]
    },
    {
      "cell_type": "code",
      "execution_count": null,
      "metadata": {
        "id": "WMTQFVxfOAjI"
      },
      "outputs": [],
      "source": [
        "!mkdir local"
      ]
    },
    {
      "cell_type": "code",
      "execution_count": null,
      "metadata": {
        "id": "hMD_NhJCOEDT"
      },
      "outputs": [],
      "source": [
        "!mkdir local/test_images/\n",
        "!mkdir local/models"
      ]
    },
    {
      "cell_type": "code",
      "execution_count": null,
      "metadata": {
        "id": "f90qo8IvzAsT"
      },
      "outputs": [],
      "source": [
        "model_name=\"Model_-0.1410-0.0537.keras\""
      ]
    },
    {
      "cell_type": "code",
      "execution_count": null,
      "metadata": {
        "id": "yigf1f8QzXc2"
      },
      "outputs": [],
      "source": [
        "!cp {_PROJECT_BASE_+_MODELS_+model_name} ./local/models"
      ]
    },
    {
      "cell_type": "code",
      "execution_count": null,
      "metadata": {
        "id": "cq06V3skOL1k"
      },
      "outputs": [],
      "source": [
        "!cp {_PROJECT_BASE_+_TEST_IMAGES_+'*.jpg'} ./local/test_images"
      ]
    },
    {
      "cell_type": "code",
      "execution_count": null,
      "metadata": {
        "id": "GeXqcIKqKt6a"
      },
      "outputs": [],
      "source": [
        "from tensorflow.keras.models import load_model\n",
        "\n",
        "\n",
        "model = load_model(\"./\"+model_name) # Load the best model"
      ]
    },
    {
      "cell_type": "code",
      "execution_count": null,
      "metadata": {
        "id": "b3C8ehQsZC2Q"
      },
      "outputs": [],
      "source": [
        "def format_image(image_dir,show_image=True):\n",
        "    image = tf.io.read_file(image_dir)\n",
        "    image = tf.image.decode_jpeg(image, channels=3)\n",
        "    image = tf.image.convert_image_dtype(image, tf.float32)\n",
        "    #image /= 255.0  # Skálázás 0 és 1 közé\n",
        "    image = tf.image.resize_with_pad(image, 224, 224)\n",
        "    #image = tf.keras.applications.vgg16.preprocess_input(image)\n",
        "    if show_image:\n",
        "        plt.imshow(image)\n",
        "        plt.show()\n",
        "    return image"
      ]
    },
    {
      "cell_type": "code",
      "execution_count": null,
      "metadata": {
        "id": "RKaqjeBrNUDK"
      },
      "outputs": [],
      "source": [
        "import numpy as np\n",
        "def predict_image(image_path, show_image=True):\n",
        "    image = format_image(image_path,show_image)\n",
        "    image = np.expand_dims(image, axis=0) # A modell bemenete egy batch, ezért kell a dimenzió bővítése\n",
        "    prediction = model.predict(image)\n",
        "    model_out=prediction\n",
        "    #print(model_out)\n",
        "\n",
        "    if model_out[0][0]<0.5:\n",
        "        prediction=0\n",
        "        #print(\"Non Plastic\")\n",
        "    else:\n",
        "        prediction=1\n",
        "        #print(\"Plastic\" )\n",
        "    return prediction"
      ]
    },
    {
      "cell_type": "code",
      "execution_count": null,
      "metadata": {
        "id": "Yc54_IDJRMcS"
      },
      "outputs": [],
      "source": [
        "file_name=_PROJECT_BASE_+\"images/plastic/150_1__kenya.jpg\""
      ]
    },
    {
      "cell_type": "code",
      "execution_count": null,
      "metadata": {
        "id": "hBdYMhhbRrrO"
      },
      "outputs": [],
      "source": [
        "#model_out=predict_image(file_name)"
      ]
    },
    {
      "cell_type": "code",
      "execution_count": null,
      "metadata": {
        "id": "Gtqdm5dmffwo"
      },
      "outputs": [],
      "source": [
        "def fname_converter(fname):\n",
        "    country_name={\"kenya\":\"Kenya\",\"spain\":\"Spain\",\"vnm\":\"VNM\"}\n",
        "    o1=fname.split('/')[-1].split(\"_\")\n",
        "    index=o1[0]\n",
        "    country=o1[-2]\n",
        "    return(country_name[country]+\"_\"+index)\n"
      ]
    },
    {
      "cell_type": "code",
      "execution_count": null,
      "metadata": {
        "id": "RCpkUa3-ua_t"
      },
      "outputs": [],
      "source": [
        "def predict_directory(directory,show_image=False):\n",
        "    #directory=\"./local/images/plastic/\"\n",
        "    jpg_list=[directory+f for f in os.listdir(directory) if f.lower().endswith('.jpg')]\n",
        "    null_counter=0\n",
        "    non_null_counter=0\n",
        "    out_list=[]\n",
        "    for jpg_list_element in jpg_list:\n",
        "        prediction=predict_image(jpg_list_element,show_image)\n",
        "\n",
        "        if prediction==0:\n",
        "            null_counter+=1\n",
        "        else:\n",
        "            non_null_counter+=1\n",
        "\n",
        "        print(f\"Null: {null_counter}, Non Null: {non_null_counter}\")\n",
        "        out_list.append((jpg_list_element,prediction,fname_converter(jpg_list_element)))\n",
        "    return out_list\n"
      ]
    },
    {
      "cell_type": "code",
      "execution_count": null,
      "metadata": {
        "id": "IItB7jTl2A8r"
      },
      "outputs": [],
      "source": [
        "predicted_list=predict_directory(test_images_dir,show_image=False)"
      ]
    },
    {
      "cell_type": "code",
      "execution_count": null,
      "metadata": {
        "id": "FUyxRbzXe2KJ"
      },
      "outputs": [],
      "source": [
        "predicted_list"
      ]
    },
    {
      "cell_type": "code",
      "execution_count": null,
      "metadata": {
        "id": "yWvpjyDGU7WP"
      },
      "outputs": [],
      "source": [
        "import pandas as pd"
      ]
    },
    {
      "cell_type": "code",
      "execution_count": null,
      "metadata": {
        "id": "rqG0GGg7gM0c"
      },
      "outputs": [],
      "source": [
        "submission_path=_PROJECT_BASE_+\"orig/SampleSubmission.csv\"\n",
        "test_df=pd.read_csv(submission_path)\n",
        "predicted_dict={predicted_list_element[-1]:predicted_list_element[-2] for predicted_list_element in predicted_list}"
      ]
    },
    {
      "cell_type": "code",
      "execution_count": null,
      "metadata": {
        "id": "g1OpFXZFnnY7"
      },
      "outputs": [],
      "source": [
        "test_df.set_index(\"ID\", inplace=True)"
      ]
    },
    {
      "cell_type": "code",
      "execution_count": null,
      "metadata": {
        "id": "a3m8ZDKaozRs"
      },
      "outputs": [],
      "source": [
        "for key in predicted_dict:\n",
        "    test_df.loc[key,\"TARGET\"]=predicted_dict[key] if predicted_dict[key]==1 else 2\n",
        "#test_df.loc[\"Kenya_1\",\"TARGET\"]=1"
      ]
    },
    {
      "cell_type": "code",
      "execution_count": null,
      "metadata": {
        "id": "UgVCYeBroaxY"
      },
      "outputs": [],
      "source": [
        "test_df.head()"
      ]
    },
    {
      "cell_type": "code",
      "execution_count": null,
      "metadata": {
        "id": "D7as5P1Bs_Eh"
      },
      "outputs": [],
      "source": [
        "test_df[\"TARGET\"]=test_df[\"TARGET\"].astype(int)\n"
      ]
    },
    {
      "cell_type": "code",
      "execution_count": null,
      "metadata": {
        "id": "jtJHkckQr47x"
      },
      "outputs": [],
      "source": [
        "test_df.to_csv(\"submission10.csv\",index=True)"
      ]
    }
  ],
  "metadata": {
    "colab": {
      "provenance": [],
      "authorship_tag": "ABX9TyOs6sfjtS7uDjzVXoVH42FI",
      "include_colab_link": true
    },
    "kernelspec": {
      "display_name": "Python 3",
      "name": "python3"
    },
    "language_info": {
      "name": "python"
    }
  },
  "nbformat": 4,
  "nbformat_minor": 0
}